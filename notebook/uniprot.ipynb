{
 "cells": [
  {
   "cell_type": "code",
   "execution_count": 23,
   "metadata": {},
   "outputs": [],
   "source": [
    "import pandas as pd\n",
    "from py2neo import Graph, GraphService\n",
    "from neo4j import GraphDatabase\n",
    "import sys, os\n"
   ]
  },
  {
   "cell_type": "code",
   "execution_count": 24,
   "metadata": {},
   "outputs": [],
   "source": [
    "module_dir = os.getcwd().replace(\"notebook\", \"src\")\n",
    "if module_dir not in sys.path:\n",
    "    sys.path.append(module_dir)\n",
    "from common import utils"
   ]
  },
  {
   "cell_type": "code",
   "execution_count": 20,
   "metadata": {},
   "outputs": [],
   "source": [
    "# graph_staging = Graph('bolt://34.67.212.125:7687', auth=('neo4j', 'Lifelike0.9staging'))\n",
    "# graph_dtu = Graph('bolt+s://kg.biosustain.dtu.dk:7687', auth=('robin', 'kTxu$drJ%3C3^cHk'))\n",
    "graph = Graph('bolt://localhost:7687', auth=('neo4j', 'rcai'))"
   ]
  },
  {
   "cell_type": "markdown",
   "metadata": {},
   "source": [
    "# Create new protein LMDB file - LL-3056"
   ]
  },
  {
   "cell_type": "code",
   "execution_count": 3,
   "metadata": {},
   "outputs": [
    {
     "name": "stdout",
     "output_type": "stream",
     "text": [
      "2073659\n"
     ]
    }
   ],
   "source": [
    "query = \"\"\"\n",
    "match(n:db_UniProt)-[:HAS_SYNONYM]-(s) return n.id as ID, n.name as Name, s.name as Synonym\n",
    "\"\"\"\n",
    "df = graph.run(query).to_data_frame()\n",
    "print(len(df))\n",
    "df.to_csv('/Users/rcai/data/notebook/uniprot/ProteinForLMDB_04062020.tsv', sep='\\t', index=False)"
   ]
  },
  {
   "cell_type": "code",
   "execution_count": 26,
   "metadata": {},
   "outputs": [],
   "source": [
    "df.to_csv('/Users/rcai/data/notebook/uniprot/ProteinForLMDB_04062020.tsv.gz', sep='\\t', index=False, compression='gzip')"
   ]
  },
  {
   "cell_type": "code",
   "execution_count": null,
   "metadata": {},
   "outputs": [],
   "source": []
  }
 ],
 "metadata": {
  "kernelspec": {
   "display_name": "Python 3",
   "language": "python",
   "name": "python3"
  },
  "language_info": {
   "codemirror_mode": {
    "name": "ipython",
    "version": 3
   },
   "file_extension": ".py",
   "mimetype": "text/x-python",
   "name": "python",
   "nbconvert_exporter": "python",
   "pygments_lexer": "ipython3",
   "version": "3.8.5"
  }
 },
 "nbformat": 4,
 "nbformat_minor": 4
}
