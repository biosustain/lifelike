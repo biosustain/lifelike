{
 "cells": [
  {
   "cell_type": "code",
   "execution_count": 1,
   "metadata": {},
   "outputs": [],
   "source": [
    "import pandas as pd\n",
    "from py2neo import Graph, GraphService\n",
    "from neo4j import GraphDatabase"
   ]
  },
  {
   "cell_type": "code",
   "execution_count": 2,
   "metadata": {},
   "outputs": [],
   "source": [
    "# graph_staging = Graph('bolt://34.67.212.125:7687', auth=('neo4j', 'Lifelike0.9staging'))\n",
    "# graph_dtu = Graph('bolt+s://kg.biosustain.dtu.dk:7687', auth=('robin', 'kTxu$drJ%3C3^cHk'))\n",
    "graph = Graph('bolt://localhost:7687', auth=('neo4j', 'rcai'))"
   ]
  },
  {
   "cell_type": "markdown",
   "metadata": {},
   "source": [
    "# Delete Mesh Synonyms with comma, excluding chemicals (LL-2974)"
   ]
  },
  {
   "cell_type": "code",
   "execution_count": null,
   "metadata": {},
   "outputs": [],
   "source": [
    "query = \"\"\"\n",
    "match(n:TopicalDescriptor)-[:HAS_TREENUMBER]-(t) where left(t.id, 1) in ['A', 'C', 'F', 'G'] \n",
    "with distinct n optional match (n)-[:HAS_SYNONYM]-(s) where not s.name contains ',' \n",
    "with n, collect(s.name) as syns\n",
    "return n.id, n.name, syns\n",
    "\"\"\"\n",
    "df = graph.run(query).to_data_frame()\n",
    "df.to_excel('/Users/rcai/data/notebook/mesh/meshACFG_synons.xlsx', index=False)"
   ]
  },
  {
   "cell_type": "markdown",
   "metadata": {},
   "source": [
    "There are 30 terms in the above category (A, C, F, G) that don't have a synonym without ','.  None of them were involved in the LMDB search.\n",
    "\n",
    "For diseases, 1679/4970 has no terms without ','.  1562/1679 mapped to a topicaldescription with treenumber starts with 'C' (disease category).  \n",
    "\n",
    "To Keep the synonyms in Mesh and LMDB consistent, remove all synonyms contain ',' in the following category:\n",
    "1. Tree number starts with letter in ['A', 'C', 'F', 'G']: all ',' containing synonyms were only linked to mesh nodes\n",
    "2. is Mesh disease: there are 18 synonyms with ',' that linked to a gene fullname.  Since gene fullname search is never used, it is ok to remove the synonyms\n"
   ]
  },
  {
   "cell_type": "markdown",
   "metadata": {},
   "source": [
    "### Run the following query\n",
    "```\n",
    "match(n:TopicalDescriptor)-[:HAS_TREENUMBER]-(t) where left(t.id, 1) in ['A', 'C', 'F', 'G'] \n",
    "with distinct n match (n)-[:HAS_SYNONYM]-(s) where s.name contains ',' \n",
    "detach delete s; \n",
    "```\n",
    "Result: Deleted 43678 nodes, deleted 43995 relationships\n",
    "    \n",
    "    \n",
    "```\n",
    "match (n:Disease)-[:HAS_SYNONYM]-(s) where s.name contains ',' \n",
    "detach delete s\n",
    "```\n",
    "Deleted 6054 nodes, deleted 6150 relationships"
   ]
  },
  {
   "cell_type": "code",
   "execution_count": null,
   "metadata": {},
   "outputs": [],
   "source": []
  }
 ],
 "metadata": {
  "kernelspec": {
   "display_name": "Python 3",
   "language": "python",
   "name": "python3"
  },
  "language_info": {
   "codemirror_mode": {
    "name": "ipython",
    "version": 3
   },
   "file_extension": ".py",
   "mimetype": "text/x-python",
   "name": "python",
   "nbconvert_exporter": "python",
   "pygments_lexer": "ipython3",
   "version": "3.8.5"
  }
 },
 "nbformat": 4,
 "nbformat_minor": 4
}
