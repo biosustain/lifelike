{
 "cells": [
  {
   "cell_type": "markdown",
   "id": "6fda1acd-9514-4db5-ba8e-68255beb4c51",
   "metadata": {},
   "source": [
    "# Init"
   ]
  },
  {
   "cell_type": "code",
   "execution_count": null,
   "id": "98bb8a3a-1acb-4fab-a8dd-c7671b684fab",
   "metadata": {},
   "outputs": [],
   "source": [
    "from app import app\n",
    "context = app.app_context()\n",
    "context.push()"
   ]
  },
  {
   "cell_type": "markdown",
   "id": "77a6dda5-ebc3-4d0a-8c22-62295460d871",
   "metadata": {},
   "source": [
    "## Imports"
   ]
  },
  {
   "cell_type": "code",
   "execution_count": 2,
   "id": "603eded2-cac8-4cf6-9a7f-9294369e96cd",
   "metadata": {},
   "outputs": [],
   "source": [
    "import yaml"
   ]
  },
  {
   "cell_type": "markdown",
   "id": "17bb2ffb-4d13-4df4-9e1b-6622cb2eeac1",
   "metadata": {},
   "source": [
    "## Utils"
   ]
  },
  {
   "cell_type": "code",
   "execution_count": 3,
   "id": "fb7181da-62d1-48c5-8a27-a6d930f370f0",
   "metadata": {
    "editable": true,
    "slideshow": {
     "slide_type": ""
    },
    "tags": []
   },
   "outputs": [],
   "source": [
    "def show(*objs):\n",
    "    for obj in objs:\n",
    "        if not isinstance(obj, str):            \n",
    "            try:\n",
    "                obj = yaml.dump(obj)\n",
    "            except Exception as e:\n",
    "                import logging\n",
    "                logging.warning(e)\n",
    "                pass\n",
    "        print(obj)\n",
    "\n",
    "def show_response(obj):\n",
    "    for choice in response.choices:\n",
    "        show(choice.message.content)"
   ]
  },
  {
   "cell_type": "markdown",
   "id": "bd918ef6-ec05-420f-8dc4-3a84e50de805",
   "metadata": {},
   "source": [
    "## Inputs"
   ]
  },
  {
   "cell_type": "code",
   "execution_count": 4,
   "id": "d0ad8eda-d372-4002-b609-42899582eb2a",
   "metadata": {},
   "outputs": [],
   "source": [
    "query=\"What is the relationship between Zn2+ and glycolate?\""
   ]
  },
  {
   "cell_type": "markdown",
   "id": "877af485-bd94-4352-a511-d25d3e561b87",
   "metadata": {},
   "source": [
    "## Initial check\n",
    "\n",
    "Current response:"
   ]
  },
  {
   "cell_type": "code",
   "execution_count": 5,
   "id": "2f791641-1009-4fb6-b1ea-26521b8dddd2",
   "metadata": {
    "scrolled": true
   },
   "outputs": [
    {
     "name": "stdout",
     "output_type": "stream",
     "text": [
      "The relationship between Zn2+ and glycolate is that Zn2+ can form a complex with glycolate. In this complex, the Zn2+ ion binds to the oxygen atoms in the glycolate molecule, forming coordination bonds. This interaction between Zn2+ and glycolate allows for the stabilization and transport of glycolate in biological systems.\n"
     ]
    }
   ],
   "source": [
    "import openai\n",
    "response = openai.ChatCompletion.create(\n",
    "    messages=[\n",
    "        { \"role\": \"user\", \"content\": query }\n",
    "    ],\n",
    "    model=\"gpt-3.5-turbo\",\n",
    "    temperature=0\n",
    ")\n",
    "show_response(response)"
   ]
  },
  {
   "cell_type": "markdown",
   "id": "2c0298d0-b147-4971-9606-d871307ebe56",
   "metadata": {},
   "source": [
    "# Extract core terms"
   ]
  },
  {
   "cell_type": "markdown",
   "id": "9ac517bb-5e7c-4562-9e49-25dbd2658122",
   "metadata": {},
   "source": [
    "## Init model"
   ]
  },
  {
   "cell_type": "code",
   "execution_count": 6,
   "id": "a7c93291-a342-485f-950e-97d12e528bfc",
   "metadata": {
    "editable": true,
    "slideshow": {
     "slide_type": ""
    },
    "tags": []
   },
   "outputs": [],
   "source": [
    "from langchain.chat_models import ChatOpenAI\n",
    "llm = ChatOpenAI(temperature=0)"
   ]
  },
  {
   "cell_type": "markdown",
   "id": "b3d667ea-96aa-48e6-8d36-4da4e6157069",
   "metadata": {
    "editable": true,
    "slideshow": {
     "slide_type": ""
    },
    "tags": []
   },
   "source": [
    "## Pepare prompts"
   ]
  },
  {
   "cell_type": "code",
   "execution_count": 7,
   "id": "aa15f752-9d1f-4f29-9b56-14d4e6224dcf",
   "metadata": {
    "editable": true,
    "scrolled": true,
    "slideshow": {
     "slide_type": ""
    },
    "tags": []
   },
   "outputs": [
    {
     "name": "stdout",
     "output_type": "stream",
     "text": [
      "!!python/object:langchain.prompts.chat.ChatPromptTemplate\n",
      "__dict__:\n",
      "  input_variables:\n",
      "  - query\n",
      "  messages:\n",
      "  - !!python/object:langchain.prompts.chat.SystemMessagePromptTemplate\n",
      "    __dict__: &id007\n",
      "      additional_kwargs: {}\n",
      "      prompt: !!python/object:langchain.prompts.prompt.PromptTemplate\n",
      "        __dict__: &id001\n",
      "          input_variables: []\n",
      "          output_parser: null\n",
      "          partial_variables: {}\n",
      "          template: Always response with comma separated list of chemical or biological\n",
      "            terms identified in prompt.\n",
      "          template_format: f-string\n",
      "          validate_template: true\n",
      "        __fields_set__: &id002 !!set\n",
      "          input_variables: null\n",
      "          template: null\n",
      "        __private_attribute_values__:\n",
      "          _lc_kwargs: &id003\n",
      "            input_variables: []\n",
      "            template: Always response with comma separated list of chemical or biological\n",
      "              terms identified in prompt.\n",
      "    __fields_set__: &id008 !!set\n",
      "      prompt: null\n",
      "    __private_attribute_values__:\n",
      "      _lc_kwargs: &id009\n",
      "        prompt: !!python/object:langchain.prompts.prompt.PromptTemplate\n",
      "          __dict__: *id001\n",
      "          __fields_set__: *id002\n",
      "          __private_attribute_values__:\n",
      "            _lc_kwargs: *id003\n",
      "  - !!python/object:langchain.prompts.chat.HumanMessagePromptTemplate\n",
      "    __dict__: &id010\n",
      "      additional_kwargs: {}\n",
      "      prompt: !!python/object:langchain.prompts.prompt.PromptTemplate\n",
      "        __dict__: &id004\n",
      "          input_variables:\n",
      "          - query\n",
      "          output_parser: null\n",
      "          partial_variables: {}\n",
      "          template: '{query}'\n",
      "          template_format: f-string\n",
      "          validate_template: true\n",
      "        __fields_set__: &id005 !!set\n",
      "          input_variables: null\n",
      "          template: null\n",
      "        __private_attribute_values__:\n",
      "          _lc_kwargs: &id006\n",
      "            input_variables:\n",
      "            - query\n",
      "            template: '{query}'\n",
      "    __fields_set__: &id011 !!set\n",
      "      prompt: null\n",
      "    __private_attribute_values__:\n",
      "      _lc_kwargs: &id012\n",
      "        prompt: !!python/object:langchain.prompts.prompt.PromptTemplate\n",
      "          __dict__: *id004\n",
      "          __fields_set__: *id005\n",
      "          __private_attribute_values__:\n",
      "            _lc_kwargs: *id006\n",
      "  output_parser: null\n",
      "  partial_variables: {}\n",
      "__fields_set__: !!set\n",
      "  input_variables: null\n",
      "  messages: null\n",
      "__private_attribute_values__:\n",
      "  _lc_kwargs:\n",
      "    input_variables:\n",
      "    - query\n",
      "    messages:\n",
      "    - !!python/object:langchain.prompts.chat.SystemMessagePromptTemplate\n",
      "      __dict__: *id007\n",
      "      __fields_set__: *id008\n",
      "      __private_attribute_values__:\n",
      "        _lc_kwargs: *id009\n",
      "    - !!python/object:langchain.prompts.chat.HumanMessagePromptTemplate\n",
      "      __dict__: *id010\n",
      "      __fields_set__: *id011\n",
      "      __private_attribute_values__:\n",
      "        _lc_kwargs: *id012\n",
      "\n"
     ]
    }
   ],
   "source": [
    "from langchain.prompts import PromptTemplate\n",
    "from langchain.prompts.chat import (\n",
    "    ChatPromptTemplate,\n",
    "    SystemMessagePromptTemplate,\n",
    "    HumanMessagePromptTemplate,\n",
    ")\n",
    "QUERY_KEY = 'query'\n",
    "\n",
    "core_terms_prompt_template = ChatPromptTemplate.from_messages([\n",
    "    SystemMessagePromptTemplate(\n",
    "        prompt=PromptTemplate(\n",
    "            template=\"Always response with comma separated list of chemical or biological terms identified in prompt.\",\n",
    "            input_variables=[]\n",
    "        )\n",
    "    ),\n",
    "    HumanMessagePromptTemplate(\n",
    "        prompt=PromptTemplate(\n",
    "            template=f\"{{{QUERY_KEY}}}\",\n",
    "            input_variables=[QUERY_KEY],\n",
    "        )\n",
    "    )\n",
    "])\n",
    "show(core_terms_prompt_template)"
   ]
  },
  {
   "cell_type": "markdown",
   "id": "ee248fb0-b606-46e4-8989-948a41ca0be7",
   "metadata": {
    "editable": true,
    "slideshow": {
     "slide_type": ""
    },
    "tags": []
   },
   "source": [
    "## Create output parser"
   ]
  },
  {
   "cell_type": "code",
   "execution_count": 8,
   "id": "08883978-6bf6-401d-a26f-29eca24e761d",
   "metadata": {
    "editable": true,
    "slideshow": {
     "slide_type": ""
    },
    "tags": []
   },
   "outputs": [],
   "source": [
    "from langchain.output_parsers import CommaSeparatedListOutputParser\n",
    "output_parser = CommaSeparatedListOutputParser()"
   ]
  },
  {
   "cell_type": "markdown",
   "id": "4204b681-7b63-4f06-8076-e1cde25a7261",
   "metadata": {
    "editable": true,
    "slideshow": {
     "slide_type": ""
    },
    "tags": []
   },
   "source": [
    "## Create chain"
   ]
  },
  {
   "cell_type": "code",
   "execution_count": 9,
   "id": "3fe60f84-e54c-4903-84e3-05e2a9864cb8",
   "metadata": {
    "editable": true,
    "scrolled": true,
    "slideshow": {
     "slide_type": ""
    },
    "tags": []
   },
   "outputs": [
    {
     "name": "stdout",
     "output_type": "stream",
     "text": [
      "!!python/object:langchain.chains.llm.LLMChain\n",
      "__dict__:\n",
      "  callback_manager: null\n",
      "  callbacks: null\n",
      "  llm: !!python/object:langchain.chat_models.openai.ChatOpenAI\n",
      "    __dict__: &id013\n",
      "      cache: null\n",
      "      callback_manager: null\n",
      "      callbacks: null\n",
      "      client: !!python/name:openai.api_resources.chat_completion.ChatCompletion ''\n",
      "      max_retries: 6\n",
      "      max_tokens: null\n",
      "      metadata: null\n",
      "      model_kwargs: {}\n",
      "      model_name: gpt-3.5-turbo\n",
      "      n: 1\n",
      "      openai_api_base: ''\n",
      "      openai_api_key: ***OPENAI_API_KEY***\n",
      "      openai_organization: ''\n",
      "      openai_proxy: ''\n",
      "      request_timeout: null\n",
      "      streaming: false\n",
      "      tags: null\n",
      "      temperature: 0.0\n",
      "      tiktoken_model_name: null\n",
      "      verbose: false\n",
      "    __fields_set__: &id014 !!set\n",
      "      model_kwargs: null\n",
      "      temperature: null\n",
      "    __private_attribute_values__:\n",
      "      _lc_kwargs: &id015\n",
      "        temperature: 0\n",
      "  llm_kwargs: {}\n",
      "  memory: null\n",
      "  metadata: null\n",
      "  output_key: core_terms\n",
      "  output_parser: !!python/object:langchain.output_parsers.list.CommaSeparatedListOutputParser\n",
      "    __dict__: &id016 {}\n",
      "    __fields_set__: &id017 !!set {}\n",
      "    __private_attribute_values__:\n",
      "      _lc_kwargs: &id018 {}\n",
      "  prompt: !!python/object:langchain.prompts.chat.ChatPromptTemplate\n",
      "    __dict__: &id019\n",
      "      input_variables:\n",
      "      - query\n",
      "      messages:\n",
      "      - !!python/object:langchain.prompts.chat.SystemMessagePromptTemplate\n",
      "        __dict__: &id007\n",
      "          additional_kwargs: {}\n",
      "          prompt: !!python/object:langchain.prompts.prompt.PromptTemplate\n",
      "            __dict__: &id001\n",
      "              input_variables: []\n",
      "              output_parser: null\n",
      "              partial_variables: {}\n",
      "              template: Always response with comma separated list of chemical or biological\n",
      "                terms identified in prompt.\n",
      "              template_format: f-string\n",
      "              validate_template: true\n",
      "            __fields_set__: &id002 !!set\n",
      "              input_variables: null\n",
      "              template: null\n",
      "            __private_attribute_values__:\n",
      "              _lc_kwargs: &id003\n",
      "                input_variables: []\n",
      "                template: Always response with comma separated list of chemical or\n",
      "                  biological terms identified in prompt.\n",
      "        __fields_set__: &id008 !!set\n",
      "          prompt: null\n",
      "        __private_attribute_values__:\n",
      "          _lc_kwargs: &id009\n",
      "            prompt: !!python/object:langchain.prompts.prompt.PromptTemplate\n",
      "              __dict__: *id001\n",
      "              __fields_set__: *id002\n",
      "              __private_attribute_values__:\n",
      "                _lc_kwargs: *id003\n",
      "      - !!python/object:langchain.prompts.chat.HumanMessagePromptTemplate\n",
      "        __dict__: &id010\n",
      "          additional_kwargs: {}\n",
      "          prompt: !!python/object:langchain.prompts.prompt.PromptTemplate\n",
      "            __dict__: &id004\n",
      "              input_variables:\n",
      "              - query\n",
      "              output_parser: null\n",
      "              partial_variables: {}\n",
      "              template: '{query}'\n",
      "              template_format: f-string\n",
      "              validate_template: true\n",
      "            __fields_set__: &id005 !!set\n",
      "              input_variables: null\n",
      "              template: null\n",
      "            __private_attribute_values__:\n",
      "              _lc_kwargs: &id006\n",
      "                input_variables:\n",
      "                - query\n",
      "                template: '{query}'\n",
      "        __fields_set__: &id011 !!set\n",
      "          prompt: null\n",
      "        __private_attribute_values__:\n",
      "          _lc_kwargs: &id012\n",
      "            prompt: !!python/object:langchain.prompts.prompt.PromptTemplate\n",
      "              __dict__: *id004\n",
      "              __fields_set__: *id005\n",
      "              __private_attribute_values__:\n",
      "                _lc_kwargs: *id006\n",
      "      output_parser: null\n",
      "      partial_variables: {}\n",
      "    __fields_set__: &id020 !!set\n",
      "      input_variables: null\n",
      "      messages: null\n",
      "    __private_attribute_values__:\n",
      "      _lc_kwargs: &id021\n",
      "        input_variables:\n",
      "        - query\n",
      "        messages:\n",
      "        - !!python/object:langchain.prompts.chat.SystemMessagePromptTemplate\n",
      "          __dict__: *id007\n",
      "          __fields_set__: *id008\n",
      "          __private_attribute_values__:\n",
      "            _lc_kwargs: *id009\n",
      "        - !!python/object:langchain.prompts.chat.HumanMessagePromptTemplate\n",
      "          __dict__: *id010\n",
      "          __fields_set__: *id011\n",
      "          __private_attribute_values__:\n",
      "            _lc_kwargs: *id012\n",
      "  return_final_only: true\n",
      "  tags: null\n",
      "  verbose: true\n",
      "__fields_set__: !!set\n",
      "  llm: null\n",
      "  output_key: null\n",
      "  output_parser: null\n",
      "  prompt: null\n",
      "  verbose: null\n",
      "__private_attribute_values__:\n",
      "  _lc_kwargs:\n",
      "    llm: !!python/object:langchain.chat_models.openai.ChatOpenAI\n",
      "      __dict__: *id013\n",
      "      __fields_set__: *id014\n",
      "      __private_attribute_values__:\n",
      "        _lc_kwargs: *id015\n",
      "    output_key: core_terms\n",
      "    output_parser: !!python/object:langchain.output_parsers.list.CommaSeparatedListOutputParser\n",
      "      __dict__: *id016\n",
      "      __fields_set__: *id017\n",
      "      __private_attribute_values__:\n",
      "        _lc_kwargs: *id018\n",
      "    prompt: !!python/object:langchain.prompts.chat.ChatPromptTemplate\n",
      "      __dict__: *id019\n",
      "      __fields_set__: *id020\n",
      "      __private_attribute_values__:\n",
      "        _lc_kwargs: *id021\n",
      "    verbose: true\n",
      "\n"
     ]
    }
   ],
   "source": [
    "from langchain import LLMChain\n",
    "CORE_TERMS_KEY = 'core_terms'\n",
    "core_terms_chain = LLMChain(\n",
    "    llm=llm,\n",
    "    prompt=core_terms_prompt_template,\n",
    "    output_parser=output_parser,\n",
    "    output_key=CORE_TERMS_KEY,\n",
    "    verbose=True\n",
    ")\n",
    "show(core_terms_chain)"
   ]
  },
  {
   "cell_type": "markdown",
   "id": "e0179e2f-146a-4d28-97f3-abdfa79713b6",
   "metadata": {
    "editable": true,
    "slideshow": {
     "slide_type": ""
    },
    "tags": []
   },
   "source": [
    "## Run"
   ]
  },
  {
   "cell_type": "code",
   "execution_count": 10,
   "id": "161651c8-d245-43a9-b8a7-18aa0e1a48d2",
   "metadata": {
    "editable": true,
    "slideshow": {
     "slide_type": ""
    },
    "tags": []
   },
   "outputs": [
    {
     "name": "stdout",
     "output_type": "stream",
     "text": [
      "\n",
      "\n",
      "\u001b[1m> Entering new LLMChain chain...\u001b[0m\n",
      "Prompt after formatting:\n",
      "\u001b[32;1m\u001b[1;3mSystem: Always response with comma separated list of chemical or biological terms identified in prompt.\n",
      "Human: What is the relationship between Zn2+ and glycolate?\u001b[0m\n",
      "\n",
      "\u001b[1m> Finished chain.\u001b[0m\n",
      "- Zn2+\n",
      "- glycolate\n",
      "\n"
     ]
    }
   ],
   "source": [
    "core_terms = core_terms_chain.run(query)\n",
    "show(core_terms)"
   ]
  },
  {
   "cell_type": "markdown",
   "id": "24f4dca0-4c03-41bf-a916-817443a1850b",
   "metadata": {
    "editable": true,
    "slideshow": {
     "slide_type": ""
    },
    "tags": []
   },
   "source": [
    "# Find core terms eids"
   ]
  },
  {
   "cell_type": "markdown",
   "id": "5248bd24-f3ef-4316-95a1-dccb8a99862d",
   "metadata": {
    "editable": true,
    "slideshow": {
     "slide_type": ""
    },
    "tags": []
   },
   "source": [
    "## Create chain construct to query db"
   ]
  },
  {
   "cell_type": "markdown",
   "id": "ae4445d6-22a6-4178-a5f7-0dc4cc1f2674",
   "metadata": {
    "editable": true,
    "slideshow": {
     "slide_type": ""
    },
    "tags": []
   },
   "source": [
    "### Prepare graph results output parser\n",
    "Unwraps query output"
   ]
  },
  {
   "cell_type": "code",
   "execution_count": 11,
   "id": "99d1e485-fa7d-456e-a66a-34433fa3ec9e",
   "metadata": {
    "editable": true,
    "slideshow": {
     "slide_type": ""
    },
    "tags": []
   },
   "outputs": [],
   "source": [
    "from langchain.output_parsers.list import ListOutputParser\n",
    "from typing import List, Dict, Any\n",
    "\n",
    "class GraphResultsOutputParser(ListOutputParser):\n",
    "    \"\"\"Parse the output of a graph query to a list.\"\"\"\n",
    "\n",
    "    key: str = 'output'\n",
    "    separator: str = '\\n'\n",
    "\n",
    "    def get_format_instructions(self) -> str:\n",
    "        return (\n",
    "            \"Your response should be a list of results, \"\n",
    "            \"eg: `[{key:<result1>}, {key:<result2>}]`\"\n",
    "        )\n",
    "    \n",
    "    @property\n",
    "    def _type(self) -> str:\n",
    "        return \"graph-result-list\"\n",
    "\n",
    "    def parse_result(self, result: List[Dict[str, Any]]) -> List[str]:\n",
    "        \"\"\"Parse the output of a graph query.\"\"\"\n",
    "        return self.parse(\n",
    "            self.separator.join(\n",
    "                map(\n",
    "                    lambda row: row[self.key],\n",
    "                    result\n",
    "                )\n",
    "            )\n",
    "        )\n",
    "\n",
    "    def parse(self, text: str) -> str:\n",
    "        return text"
   ]
  },
  {
   "cell_type": "markdown",
   "id": "66a53296-7b73-48bb-b02f-12e56d30000e",
   "metadata": {},
   "source": [
    "### Prepare chain construct with output parser"
   ]
  },
  {
   "cell_type": "code",
   "execution_count": 12,
   "id": "1b3acd93-57da-4d93-8204-aeed3862cb25",
   "metadata": {
    "editable": true,
    "slideshow": {
     "slide_type": ""
    },
    "tags": []
   },
   "outputs": [],
   "source": [
    "from typing import Any, Dict, List, Optional, TypeVar, Generic\n",
    "\n",
    "from langchain.schema.language_model import BaseLanguageModel\n",
    "from langchain.callbacks.manager import CallbackManagerForChainRun\n",
    "from langchain.pydantic_v1 import Field\n",
    "from langchain.chains.base import Chain\n",
    "from langchain.prompts.base import BasePromptTemplate\n",
    "from langchain.schema import BaseOutputParser\n",
    "\n",
    "Graph = TypeVar(\"Graph\")\n",
    "\n",
    "class GraphQueryChain(Chain, Generic[Graph]):\n",
    "    \"\"\"Chain for converting terms to eid mappings\"\"\"\n",
    "\n",
    "    graph: Graph = Field(exclude=True)\n",
    "    graph_exception: Exception = Field(exclude=True, default=Exception)\n",
    "    aliased_input_keys: List[str] = Field(alias='input_keys', default_factory=lambda: [])\n",
    "    output_key: str = \"results\"  #: :meta private:\n",
    "    output_parser: BaseOutputParser = Field(default_factory=GraphResultsOutputParser)\n",
    "\n",
    "    # Query to get term eids, input_keys are avaliable as query params\n",
    "    query: str\n",
    "        \n",
    "    @property\n",
    "    def input_keys(self) -> List[str]:\n",
    "        return self.aliased_input_keys\n",
    "        \n",
    "    @property\n",
    "    def output_keys(self) -> List[str]:\n",
    "        return [self.output_key]\n",
    "\n",
    "    def create_outputs(self, result: List[dict]) -> List[Dict[str, Any]]:\n",
    "        \"\"\"Create outputs from response.\"\"\"\n",
    "        return {self.output_key: self.output_parser.parse_result(result)}\n",
    "        \n",
    "    def _call(\n",
    "        self,\n",
    "        inputs: Dict[str, Any],\n",
    "        run_manager: Optional[CallbackManagerForChainRun] = None,\n",
    "    ) -> Dict[str, Any]:\n",
    "        \"\"\"\n",
    "        Users can modify the following FindEidsChain Class Variables:\n",
    "\n",
    "        :var top_k: The maximum number of AQL Query Results to return\n",
    "        :type top_k: int\n",
    "        \"\"\"\n",
    "        _run_manager = run_manager or CallbackManagerForChainRun.get_noop_manager()\n",
    "\n",
    "        graph_result = []\n",
    "\n",
    "        #####################\n",
    "        # Execute Query #\n",
    "\n",
    "        try:\n",
    "            graph_result = self.graph.query(self.query, inputs)\n",
    "        except self.graph_exception as e:\n",
    "            _run_manager.on_text(\n",
    "                \"Graph Query Execution Error: \", end=\"\\n\", verbose=self.verbose\n",
    "            )\n",
    "            _run_manager.on_text(\n",
    "                e, color=\"yellow\", end=\"\\n\\n\", verbose=self.verbose\n",
    "            )\n",
    "        else:   \n",
    "            _run_manager.on_text(\"Graph Result:\", end=\"\\n\", verbose=self.verbose)\n",
    "            _run_manager.on_text(\n",
    "                str(graph_result), color=\"green\", end=\"\\n\", verbose=self.verbose\n",
    "            )\n",
    "        #####################\n",
    "\n",
    "        # Return results #\n",
    "        return self.create_outputs(graph_result)\n",
    "\n",
    "    @property\n",
    "    def _chain_type(self) -> str:\n",
    "        return \"graph_query_chain\""
   ]
  },
  {
   "cell_type": "markdown",
   "id": "546e6ec9-4de6-4931-a1b2-690701c752bb",
   "metadata": {
    "editable": true,
    "slideshow": {
     "slide_type": ""
    },
    "tags": []
   },
   "source": [
    "## Get graph reference"
   ]
  },
  {
   "cell_type": "code",
   "execution_count": 13,
   "id": "a4a43b53-a0df-4c5c-adf4-18a7e60d32e3",
   "metadata": {
    "editable": true,
    "slideshow": {
     "slide_type": ""
    },
    "tags": []
   },
   "outputs": [],
   "source": [
    "from llmlib.database import Neo4j"
   ]
  },
  {
   "cell_type": "code",
   "execution_count": 14,
   "id": "f2bf3d50-25b5-42fd-88ae-4d6fe3aec03e",
   "metadata": {
    "editable": true,
    "slideshow": {
     "slide_type": ""
    },
    "tags": []
   },
   "outputs": [],
   "source": [
    "graph = Neo4j().graph()"
   ]
  },
  {
   "cell_type": "markdown",
   "id": "619cfbef-3d3a-4319-b515-bcddabd85655",
   "metadata": {
    "editable": true,
    "slideshow": {
     "slide_type": ""
    },
    "tags": []
   },
   "source": [
    "## Create chain"
   ]
  },
  {
   "cell_type": "code",
   "execution_count": 15,
   "id": "0831a9c4-32d0-419a-af0e-ee740bf24011",
   "metadata": {
    "editable": true,
    "scrolled": true,
    "slideshow": {
     "slide_type": ""
    },
    "tags": []
   },
   "outputs": [
    {
     "name": "stderr",
     "output_type": "stream",
     "text": [
      "WARNING:***ARANGO_USERNAME***:cannot pickle '_thread.RLock' object\n"
     ]
    },
    {
     "name": "stdout",
     "output_type": "stream",
     "text": [
      "memory=None callbacks=None callback_manager=None verbose=True tags=None metadata=None graph=<langchain.graphs.neo4j_graph.Neo4jGraph object at 0x7f4e46640250> graph_exception=<class 'Exception'> aliased_input_keys=['core_terms'] output_key='eid_mapping' output_parser=GraphResultsOutputParser(key='output', separator='\\n') query='\\n        UNWIND $core_terms AS term\\n        MATCH (s:Synonym {lowercase_name: toLower(term)})<-[:HAS_SYNONYM]-(n)\\n        WHERE n.eid IS NOT NULL\\n        WITH DISTINCT s.name as term, collect(n.eid) as eids\\n        RETURN apoc.text.format(\\n            \"{term: %s, eid: [%s]}\",\\n            [term, apoc.text.join(eids, \\',\\')]\\n        ) as output\\n    '\n"
     ]
    }
   ],
   "source": [
    "query_output_key = 'output'\n",
    "EID_MAPPING_KEY = 'eid_mapping'\n",
    "find_eids_chain = GraphQueryChain(\n",
    "    query=f\"\"\"\n",
    "        UNWIND ${CORE_TERMS_KEY} AS term\n",
    "        MATCH (s:Synonym {{lowercase_name: toLower(term)}})<-[:HAS_SYNONYM]-(n)\n",
    "        WHERE n.eid IS NOT NULL\n",
    "        WITH DISTINCT s.name as term, collect(n.eid) as eids\n",
    "        RETURN apoc.text.format(\n",
    "            \"{{term: %s, eid: [%s]}}\",\n",
    "            [term, apoc.text.join(eids, ',')]\n",
    "        ) as {query_output_key}\n",
    "    \"\"\",\n",
    "    input_keys=[CORE_TERMS_KEY],\n",
    "    output_key=EID_MAPPING_KEY,\n",
    "    graph=graph,\n",
    "    output_parser=GraphResultsOutputParser(key=query_output_key),\n",
    "    verbose=True\n",
    ")\n",
    "show(find_eids_chain)"
   ]
  },
  {
   "cell_type": "markdown",
   "id": "3917447a-cff1-48db-a935-bafbd16f866d",
   "metadata": {},
   "source": [
    "### Run"
   ]
  },
  {
   "cell_type": "code",
   "execution_count": 16,
   "id": "589b9106-c144-48ec-b139-69a512151f1c",
   "metadata": {
    "editable": true,
    "slideshow": {
     "slide_type": ""
    },
    "tags": []
   },
   "outputs": [
    {
     "name": "stdout",
     "output_type": "stream",
     "text": [
      "\n",
      "\n",
      "\u001b[1m> Entering new GraphQueryChain chain...\u001b[0m\n",
      "Graph Result:\n",
      "\u001b[32;1m\u001b[1;3m[{'output': '{term: Zn2+, eid: [ZN+2,27363,29105]}'}, {'output': '{term: glycolate, eid: [GLYCOLLATE,C031149,29805]}'}]\u001b[0m\n",
      "\n",
      "\u001b[1m> Finished chain.\u001b[0m\n",
      "{term: Zn2+, eid: [ZN+2,27363,29105]}\n",
      "{term: glycolate, eid: [GLYCOLLATE,C031149,29805]}\n"
     ]
    }
   ],
   "source": [
    "eid_mapping = find_eids_chain.run(core_terms)\n",
    "show(eid_mapping)"
   ]
  },
  {
   "cell_type": "markdown",
   "id": "c9a04cf2-19a3-4bf6-b8c3-5a996820c9ac",
   "metadata": {},
   "source": [
    "## Combine chains test"
   ]
  },
  {
   "cell_type": "markdown",
   "id": "b3d3e753-dd60-4d11-9be5-4ae546e51994",
   "metadata": {},
   "source": [
    "### Combine chains"
   ]
  },
  {
   "cell_type": "code",
   "execution_count": 17,
   "id": "762a5ba9-8e42-4867-ad76-3e82eabb6d50",
   "metadata": {},
   "outputs": [],
   "source": [
    "from langchain.chains import SimpleSequentialChain\n",
    "chain = SimpleSequentialChain(\n",
    "    chains=[\n",
    "        core_terms_chain,\n",
    "        find_eids_chain\n",
    "    ],\n",
    "    verbose=True\n",
    ")"
   ]
  },
  {
   "cell_type": "markdown",
   "id": "d72f2714-571a-4747-b9b4-3ec8db36a9be",
   "metadata": {},
   "source": [
    "### Test"
   ]
  },
  {
   "cell_type": "code",
   "execution_count": 18,
   "id": "6f78e535-790b-42c2-aba7-57490e49257f",
   "metadata": {},
   "outputs": [
    {
     "name": "stdout",
     "output_type": "stream",
     "text": [
      "\n",
      "\n",
      "\u001b[1m> Entering new SimpleSequentialChain chain...\u001b[0m\n",
      "\n",
      "\n",
      "\u001b[1m> Entering new LLMChain chain...\u001b[0m\n",
      "Prompt after formatting:\n",
      "\u001b[32;1m\u001b[1;3mSystem: Always response with comma separated list of chemical or biological terms identified in prompt.\n",
      "Human: What is the relationship between Zn2+ and glycolate?\u001b[0m\n",
      "\n",
      "\u001b[1m> Finished chain.\u001b[0m\n",
      "\u001b[36;1m\u001b[1;3m['Zn2+', 'glycolate']\u001b[0m\n",
      "\n",
      "\n",
      "\u001b[1m> Entering new GraphQueryChain chain...\u001b[0m\n",
      "Graph Result:\n",
      "\u001b[32;1m\u001b[1;3m[{'output': '{term: Zn2+, eid: [ZN+2,27363,29105]}'}, {'output': '{term: glycolate, eid: [GLYCOLLATE,C031149,29805]}'}]\u001b[0m\n",
      "\n",
      "\u001b[1m> Finished chain.\u001b[0m\n",
      "\u001b[33;1m\u001b[1;3m{term: Zn2+, eid: [ZN+2,27363,29105]}\n",
      "{term: glycolate, eid: [GLYCOLLATE,C031149,29805]}\u001b[0m\n",
      "\n",
      "\u001b[1m> Finished chain.\u001b[0m\n"
     ]
    }
   ],
   "source": [
    "output = chain.run(query)"
   ]
  },
  {
   "cell_type": "markdown",
   "id": "e6214fa0-f74d-40b6-9c7f-2519568db3fe",
   "metadata": {},
   "source": [
    "# Respond to inquiry given database context"
   ]
  },
  {
   "cell_type": "markdown",
   "id": "da63ae13-c0b2-4ef6-8b5b-a3842b9e80c3",
   "metadata": {
    "editable": true,
    "slideshow": {
     "slide_type": ""
    },
    "tags": []
   },
   "source": [
    "## Get graph reference"
   ]
  },
  {
   "cell_type": "code",
   "execution_count": 19,
   "id": "30dfe983-ab71-42b0-a159-1ab1d6301fe8",
   "metadata": {
    "editable": true,
    "slideshow": {
     "slide_type": ""
    },
    "tags": []
   },
   "outputs": [],
   "source": [
    "from llmlib.database import Neo4j"
   ]
  },
  {
   "cell_type": "code",
   "execution_count": 20,
   "id": "5a08b693-a770-40fc-a0c2-0c2d78551488",
   "metadata": {
    "editable": true,
    "slideshow": {
     "slide_type": ""
    },
    "tags": []
   },
   "outputs": [],
   "source": [
    "graph = Neo4j().graph()"
   ]
  },
  {
   "cell_type": "markdown",
   "id": "5104d3a5-ff86-4dae-be7b-79d8f236a9ea",
   "metadata": {
    "editable": true,
    "slideshow": {
     "slide_type": ""
    },
    "tags": []
   },
   "source": [
    "### Show schema preview"
   ]
  },
  {
   "cell_type": "code",
   "execution_count": 21,
   "id": "fb795e6b-1ad9-44f7-9e1a-dce85bd18ac9",
   "metadata": {
    "editable": true,
    "raw_mimetype": "",
    "scrolled": true,
    "slideshow": {
     "slide_type": ""
    },
    "tags": []
   },
   "outputs": [
    {
     "name": "stdout",
     "output_type": "stream",
     "text": [
      "\n",
      "        Node properties are the following:\n",
      "        [{'properties': [{'property': 'eid', 'type': 'STRING'}, {'property': 'entry2_type', 'type': 'STRING'}, {'property': 'data_source', 'type': 'STRING'}, {'property': 'entry1_type', 'type': 'STRING'}, {'property': 'type', 'type': 'STRING'}, {'property': 'description', 'type': 'STRING'}, {'property': 'name', 'type': 'STRING'}, {'property': 'pmid', 'type': 'STRING'}, {'property': 'pub_year', 'type': 'INTEGER'}, {'property': 'title', 'type': 'STRING'}, {'property': 'journal', 'type': 'STRING'}, {'property': 'sentence', 'type': 'STRING'}], 'labels': 'db_Literature'}, {'properties': [{'property': 'eid', 'type': 'STRING'}, {'property': 'entry2_type', 'type': 'STRING'}, {'property': 'data_source', 'type': 'STRING'}, {'property': 'entry1_type', 'type': 'STRING'}, {'property': 'type', 'type': 'STRING'}, {'property': 'description', 'type': 'STRING'}], 'labels': 'Association'}, {'properties': [{'property': 'eid', 'type': 'STRING'}, {'property': 'data_source', 'type': 'STRING'}, {'property': 'description', 'type': 'STRING'}, {'property': 'name', 'type': 'STRING'}, {'property': 'alt_id', 'type': 'STRING'}], 'labels': 'BiologicalProcess'}, {'properties': [{'property': 'eid', 'type': 'STRING'}, {'property': 'data_source', 'type': 'STRING'}, {'property': 'description', 'type': 'STRING'}, {'property': 'name', 'type': 'STRING'}, {'property': 'alt_id', 'type': 'STRING'}], 'labels': 'db_GO'}, {'properties': [{'property': 'name', 'type': 'STRING'}, {'property': 'description', 'type': 'STRING'}, {'property': 'eid', 'type': 'STRING'}, {'property': 'data_source', 'type': 'STRING'}, {'property': 'alt_id', 'type': 'STRING'}], 'labels': 'CellularComponent'}, {'properties': [{'property': 'eid', 'type': 'STRING'}, {'property': 'data_source', 'type': 'STRING'}, {'property': 'description', 'type': 'STRING'}, {'property': 'name', 'type': 'STRING'}, {'property': 'alt_id', 'type': 'STRING'}], 'labels': 'MolecularFunction'}, {'properties': [{'property': 'entityType', 'type': 'STRING'}, {'property': 'eid', 'type': 'STRING'}, {'property': 'data_source', 'type': 'STRING'}, {'property': 'abbrev_name', 'type': 'STRING'}, {'property': 'inchi', 'type': 'STRING'}, {'property': 'displayName', 'type': 'STRING'}, {'property': 'inchi_key', 'type': 'STRING'}, {'property': 'biocyc_id', 'type': 'STRING'}, {'property': 'smiles', 'type': 'STRING'}, {'property': 'original_entity_types', 'type': 'LIST'}, {'property': 'name', 'type': 'STRING'}, {'property': 'description', 'type': 'STRING'}, {'property': 'genes', 'type': 'STRING'}, {'property': 'synonyms', 'type': 'STRING'}, {'property': 'pos_1', 'type': 'STRING'}, {'property': 'molecular_weight_kd', 'type': 'STRING'}, {'property': 'detail', 'type': 'STRING'}, {'property': 'direction', 'type': 'STRING'}, {'property': 'location', 'type': 'STRING'}, {'property': 'ec_number', 'type': 'STRING'}, {'property': 'type', 'type': 'STRING'}, {'property': 'mode', 'type': 'STRING'}, {'property': 'strand', 'type': 'STRING'}, {'property': 'pi', 'type': 'STRING'}, {'property': 'left_end_position', 'type': 'STRING'}, {'property': 'right_end_position', 'type': 'STRING'}, {'property': 'abs_center_pos', 'type': 'STRING'}, {'property': 'accession', 'type': 'STRING'}, {'property': 'pathways', 'type': 'LIST'}, {'property': 'mechanism', 'type': 'STRING'}, {'property': 'site_length', 'type': 'STRING'}, {'property': 'uniprot_id', 'type': 'STRING'}, {'property': 'tax_id', 'type': 'STRING'}], 'labels': 'db_BioCyc'}, {'properties': [{'property': 'entityType', 'type': 'STRING'}, {'property': 'inchi_key', 'type': 'STRING'}, {'property': 'abbrev_name', 'type': 'STRING'}, {'property': 'inchi', 'type': 'STRING'}, {'property': 'data_source', 'type': 'STRING'}, {'property': 'displayName', 'type': 'STRING'}, {'property': 'biocyc_id', 'type': 'STRING'}, {'property': 'original_entity_types', 'type': 'LIST'}, {'property': 'smiles', 'type': 'STRING'}, {'property': 'eid', 'type': 'STRING'}, {'property': 'name', 'type': 'STRING'}, {'property': 'description', 'type': 'STRING'}, {'property': 'genes', 'type': 'STRING'}, {'property': 'synonyms', 'type': 'STRING'}, {'property': 'pos_1', 'type': 'STRING'}, {'property': 'strand', 'type': 'STRING'}, {'property': 'molecular_weight_kd', 'type': 'STRING'}, {'property': 'detail', 'type': 'STRING'}, {'property': 'ec_number', 'type': 'STRING'}, {'property': 'direction', 'type': 'STRING'}, {'property': 'location', 'type': 'STRING'}, {'property': 'type', 'type': 'STRING'}, {'property': 'mode', 'type': 'STRING'}, {'property': 'mechanism', 'type': 'STRING'}, {'property': 'pi', 'type': 'STRING'}, {'property': 'left_end_position', 'type': 'STRING'}, {'property': 'right_end_position', 'type': 'STRING'}, {'property': 'abs_center_pos', 'type': 'STRING'}, {'property': 'site_length', 'type': 'STRING'}, {'property': 'accession', 'type': 'STRING'}, {'property': 'pathways', 'type': 'LIST'}], 'labels': 'db_EcoCyc'}, {'properties': [{'property': 'entityType', 'type': 'STRING'}, {'property': 'inchi_key', 'type': 'STRING'}, {'property': 'abbrev_name', 'type': 'STRING'}, {'property': 'inchi', 'type': 'STRING'}, {'property': 'data_source', 'type': 'STRING'}, {'property': 'eid', 'type': 'STRING'}, {'property': 'displayName', 'type': 'STRING'}, {'property': 'biocyc_id', 'type': 'STRING'}, {'property': 'original_entity_types', 'type': 'LIST'}, {'property': 'smiles', 'type': 'STRING'}, {'property': 'name', 'type': 'STRING'}, {'property': 'synonyms', 'type': 'STRING'}], 'labels': 'Compound'}, {'properties': [{'property': 'entityType', 'type': 'STRING'}, {'property': 'eid', 'type': 'STRING'}, {'property': 'data_source', 'type': 'STRING'}, {'property': 'abbrev_name', 'type': 'STRING'}, {'property': 'inchi', 'type': 'STRING'}, {'property': 'displayName', 'type': 'STRING'}, {'property': 'inchi_key', 'type': 'STRING'}, {'property': 'biocyc_id', 'type': 'STRING'}, {'property': 'smiles', 'type': 'STRING'}, {'property': 'original_entity_types', 'type': 'LIST'}, {'property': 'name', 'type': 'STRING'}, {'property': 'synonyms', 'type': 'STRING'}, {'property': 'description', 'type': 'STRING'}, {'property': 'detail', 'type': 'STRING'}, {'property': 'ec_number', 'type': 'STRING'}, {'property': 'direction', 'type': 'STRING'}, {'property': 'location', 'type': 'STRING'}, {'property': 'genes', 'type': 'STRING'}, {'property': 'strand', 'type': 'STRING'}, {'property': 'left_end_position', 'type': 'STRING'}, {'property': 'right_end_position', 'type': 'STRING'}, {'property': 'pathways', 'type': 'LIST'}, {'property': 'molecular_weight_kd', 'type': 'STRING'}, {'property': 'mode', 'type': 'STRING'}, {'property': 'mechanism', 'type': 'STRING'}], 'labels': 'db_HumanCyc'}, {'properties': [{'property': 'entityType', 'type': 'STRING'}, {'property': 'inchi_key', 'type': 'STRING'}, {'property': 'abbrev_name', 'type': 'STRING'}, {'property': 'inchi', 'type': 'STRING'}, {'property': 'data_source', 'type': 'STRING'}, {'property': 'displayName', 'type': 'STRING'}, {'property': 'biocyc_id', 'type': 'STRING'}, {'property': 'original_entity_types', 'type': 'LIST'}, {'property': 'smiles', 'type': 'STRING'}, {'property': 'eid', 'type': 'STRING'}, {'property': 'name', 'type': 'STRING'}, {'property': 'synonyms', 'type': 'STRING'}, {'property': 'detail', 'type': 'STRING'}, {'property': 'direction', 'type': 'STRING'}, {'property': 'location', 'type': 'STRING'}, {'property': 'description', 'type': 'STRING'}, {'property': 'ec_number', 'type': 'STRING'}, {'property': 'genes', 'type': 'STRING'}, {'property': 'accession', 'type': 'STRING'}, {'property': 'right_end_position', 'type': 'STRING'}, {'property': 'strand', 'type': 'STRING'}, {'property': 'left_end_position', 'type': 'STRING'}, {'property': 'pathways', 'type': 'LIST'}, {'property': 'molecular_weight_kd', 'type': 'STRING'}, {'property': 'mode', 'type': 'STRING'}, {'property': 'mechanism', 'type': 'STRING'}], 'labels': 'db_YeastCyc'}, {'properties': [{'property': 'inchi', 'type': 'STRING'}, {'property': 'entityType', 'type': 'STRING'}, {'property': 'data_source', 'type': 'STRING'}, {'property': 'eid', 'type': 'STRING'}, {'property': 'displayName', 'type': 'STRING'}, {'property': 'abbrev_name', 'type': 'STRING'}, {'property': 'biocyc_id', 'type': 'STRING'}, {'property': 'smiles', 'type': 'STRING'}, {'property': 'inchi_key', 'type': 'STRING'}, {'property': 'original_entity_types', 'type': 'LIST'}, {'property': 'name', 'type': 'STRING'}, {'property': 'synonyms', 'type': 'STRING'}, {'property': 'detail', 'type': 'STRING'}, {'property': 'direction', 'type': 'STRING'}, {'property': 'location', 'type': 'STRING'}, {'property': 'description', 'type': 'STRING'}, {'property': 'ec_number', 'type': 'STRING'}, {'property': 'genes', 'type': 'STRING'}, {'property': 'uniprot_id', 'type': 'STRING'}, {'property': 'right_end_position', 'type': 'STRING'}, {'property': 'strand', 'type': 'STRING'}, {'property': 'tax_id', 'type': 'STRING'}, {'property': 'accession', 'type': 'STRING'}, {'property': 'left_end_position', 'type': 'STRING'}, {'property': 'pathways', 'type': 'LIST'}, {'property': 'molecular_weight_kd', 'type': 'STRING'}], 'labels': 'db_PseudomonasCyc'}, {'properties': [{'property': 'entityType', 'type': 'STRING'}, {'property': 'inchi_key', 'type': 'STRING'}, {'property': 'abbrev_name', 'type': 'STRING'}, {'property': 'inchi', 'type': 'STRING'}, {'property': 'data_source', 'type': 'STRING'}, {'property': 'biocyc_id', 'type': 'STRING'}, {'property': 'name', 'type': 'STRING'}, {'property': 'displayName', 'type': 'STRING'}, {'property': 'eid', 'type': 'STRING'}, {'property': 'original_entity_types', 'type': 'LIST'}, {'property': 'smiles', 'type': 'STRING'}, {'property': 'synonyms', 'type': 'STRING'}], 'labels': 'BioCycClass'}, {'properties': [{'property': 'eid', 'type': 'STRING'}, {'property': 'displayName', 'type': 'STRING'}, {'property': 'biocyc_id', 'type': 'STRING'}, {'property': 'description', 'type': 'STRING'}, {'property': 'name', 'type': 'STRING'}, {'property': 'genes', 'type': 'STRING'}, {'property': 'data_source', 'type': 'STRING'}], 'labels': 'EnzReaction'}, {'properties': [{'property': 'displayName', 'type': 'STRING'}, {'property': 'description', 'type': 'STRING'}, {'property': 'biocyc_id', 'type': 'STRING'}, {'property': 'entityType', 'type': 'STRING'}, {'property': 'name', 'type': 'STRING'}, {'property': 'pos_1', 'type': 'STRING'}, {'property': 'strand', 'type': 'STRING'}, {'property': 'genes', 'type': 'STRING'}, {'property': 'eid', 'type': 'STRING'}, {'property': 'data_source', 'type': 'STRING'}, {'property': 'sequence', 'type': 'STRING'}, {'property': 'regulondb_id', 'type': 'STRING'}, {'property': 'sigma_factor', 'type': 'STRING'}], 'labels': 'Promoter'}, {'properties': [{'property': 'entityType', 'type': 'STRING'}, {'property': 'name', 'type': 'STRING'}, {'property': 'detail', 'type': 'STRING'}, {'property': 'eid', 'type': 'STRING'}, {'property': 'description', 'type': 'STRING'}, {'property': 'displayName', 'type': 'STRING'}, {'property': 'biocyc_id', 'type': 'STRING'}, {'property': 'ec_number', 'type': 'STRING'}, {'property': 'data_source', 'type': 'STRING'}, {'property': 'direction', 'type': 'STRING'}, {'property': 'location', 'type': 'STRING'}], 'labels': 'Reaction'}, {'properties': [{'property': 'entityType', 'type': 'STRING'}, {'property': 'eid', 'type': 'STRING'}, {'property': 'original_entity_types', 'type': 'LIST'}, {'property': 'biocyc_id', 'type': 'STRING'}, {'property': 'name', 'type': 'STRING'}, {'property': 'molecular_weight_kd', 'type': 'STRING'}, {'property': 'displayName', 'type': 'STRING'}, {'property': 'genes', 'type': 'STRING'}, {'property': 'description', 'type': 'STRING'}, {'property': 'abbrev_name', 'type': 'STRING'}, {'property': 'pi', 'type': 'STRING'}, {'property': 'uniprot_id', 'type': 'STRING'}, {'property': 'data_source', 'type': 'STRING'}, {'property': 'id', 'type': 'STRING'}, {'property': 'gene_name', 'type': 'STRING'}, {'property': 'pathway', 'type': 'STRING'}, {'property': 'function', 'type': 'STRING'}, {'property': 'tax_id', 'type': 'STRING'}, {'property': 'refseq', 'type': 'STRING'}, {'property': 'annotation', 'type': 'STRING'}, {'property': 'protein_size', 'type': 'STRING'}, {'property': 'string_id', 'type': 'STRING'}], 'labels': 'Protein'}, {'properties': [{'property': 'eid', 'type': 'STRING'}, {'property': 'displayName', 'type': 'STRING'}, {'property': 'type', 'type': 'STRING'}, {'property': 'biocyc_id', 'type': 'STRING'}, {'property': 'mode', 'type': 'STRING'}, {'property': 'mechanism', 'type': 'STRING'}, {'property': 'data_source', 'type': 'STRING'}], 'labels': 'Regulation'}, {'properties': [{'property': 'entityType', 'type': 'STRING'}, {'property': 'displayName', 'type': 'STRING'}, {'property': 'description', 'type': 'STRING'}, {'property': 'genes', 'type': 'STRING'}, {'property': 'biocyc_id', 'type': 'STRING'}, {'property': 'eid', 'type': 'STRING'}, {'property': 'name', 'type': 'STRING'}, {'property': 'data_source', 'type': 'STRING'}, {'property': 'comment', 'type': 'STRING'}, {'property': 'regulondb_id', 'type': 'STRING'}], 'labels': 'TranscriptionUnit'}, {'properties': [{'property': 'eid', 'type': 'STRING'}, {'property': 'description', 'type': 'STRING'}, {'property': 'biocyc_id', 'type': 'STRING'}, {'property': 'abs_center_pos', 'type': 'STRING'}, {'property': 'site_length', 'type': 'STRING'}, {'property': 'data_source', 'type': 'STRING'}], 'labels': 'DNABindingSite'}, {'properties': [{'property': 'data_source', 'type': 'STRING'}, {'property': 'pmid', 'type': 'STRING'}, {'property': 'pub_year', 'type': 'INTEGER'}, {'property': 'title', 'type': 'STRING'}, {'property': 'journal', 'type': 'STRING'}, {'property': 'name', 'type': 'STRING'}], 'labels': 'db_PubMed'}, {'properties': [{'property': 'data_source', 'type': 'STRING'}, {'property': 'pmid', 'type': 'STRING'}, {'property': 'pub_year', 'type': 'INTEGER'}, {'property': 'title', 'type': 'STRING'}, {'property': 'journal', 'type': 'STRING'}], 'labels': 'Publication'}, {'properties': [{'property': 'name', 'type': 'STRING'}, {'property': 'eid', 'type': 'STRING'}, {'property': 'entityType', 'type': 'STRING'}, {'property': 'description', 'type': 'STRING'}, {'property': 'biocyc_id', 'type': 'STRING'}, {'property': 'molecular_weight_kd', 'type': 'STRING'}, {'property': 'genes', 'type': 'STRING'}, {'property': 'original_entity_types', 'type': 'LIST'}, {'property': 'displayName', 'type': 'STRING'}, {'property': 'pi', 'type': 'STRING'}, {'property': 'abbrev_name', 'type': 'STRING'}], 'labels': 'Complex'}, {'properties': [{'property': 'eid', 'type': 'STRING'}, {'property': 'name', 'type': 'STRING'}, {'property': 'full_name', 'type': 'STRING'}, {'property': 'original_entity_types', 'type': 'LIST'}, {'property': 'locus_tag', 'type': 'STRING'}, {'property': 'data_source', 'type': 'STRING'}, {'property': 'tax_id', 'type': 'STRING'}, {'property': 'description', 'type': 'STRING'}, {'property': 'entityType', 'type': 'STRING'}, {'property': 'right_end_position', 'type': 'STRING'}, {'property': 'displayName', 'type': 'STRING'}, {'property': 'accession', 'type': 'STRING'}, {'property': 'left_end_position', 'type': 'STRING'}, {'property': 'biocyc_id', 'type': 'STRING'}, {'property': 'strand', 'type': 'STRING'}, {'property': 'genome', 'type': 'STRING'}], 'labels': 'Gene'}, {'properties': [{'property': 'genes', 'type': 'STRING'}, {'property': 'description', 'type': 'STRING'}, {'property': 'biocyc_id', 'type': 'STRING'}, {'property': 'left_end_position', 'type': 'STRING'}, {'property': 'right_end_position', 'type': 'STRING'}, {'property': 'eid', 'type': 'STRING'}, {'property': 'entityType', 'type': 'STRING'}, {'property': 'data_source', 'type': 'STRING'}, {'property': 'regulondb_id', 'type': 'STRING'}, {'property': 'sequence', 'type': 'STRING'}, {'property': 'terminator_class', 'type': 'STRING'}], 'labels': 'Terminator'}, {'properties': [{'property': 'id', 'type': 'STRING'}, {'property': 'name', 'type': 'STRING'}, {'property': 'data_source', 'type': 'STRING'}, {'property': 'obsolete', 'type': 'INTEGER'}, {'property': 'original_entity_types', 'type': 'LIST'}, {'property': 'mesh_id', 'type': 'STRING'}, {'property': 'eid', 'type': 'STRING'}, {'property': 'inchi_key', 'type': 'STRING'}, {'property': 'alt_id', 'type': 'STRING'}], 'labels': 'Chemical'}, {'properties': [{'property': 'eid', 'type': 'STRING'}, {'property': 'data_source', 'type': 'STRING'}, {'property': 'original_entity_types', 'type': 'LIST'}, {'property': 'name', 'type': 'STRING'}, {'property': 'obsolete', 'type': 'INTEGER'}, {'property': 'mesh_id', 'type': 'STRING'}], 'labels': 'db_MESH'}, {'properties': [{'property': 'entityType', 'type': 'STRING'}, {'property': 'genes', 'type': 'STRING'}, {'property': 'eid', 'type': 'STRING'}, {'property': 'displayName', 'type': 'STRING'}, {'property': 'biocyc_id', 'type': 'STRING'}, {'property': 'data_source', 'type': 'STRING'}, {'property': 'name', 'type': 'STRING'}, {'property': 'hyperlinks', 'type': 'LIST'}], 'labels': 'Pathway'}, {'properties': [{'property': 'eid', 'type': 'STRING'}, {'property': 'displayName', 'type': 'STRING'}, {'property': 'biocyc_id', 'type': 'STRING'}, {'property': 'name', 'type': 'STRING'}, {'property': 'entityType', 'type': 'STRING'}, {'property': 'genes', 'type': 'STRING'}, {'property': 'description', 'type': 'STRING'}, {'property': 'location', 'type': 'STRING'}, {'property': 'abbrev_name', 'type': 'STRING'}, {'property': 'data_source', 'type': 'STRING'}], 'labels': 'RNA'}, {'properties': [{'property': 'name', 'type': 'STRING'}], 'labels': 'Author'}, {'properties': [{'property': 'tax_id', 'type': 'STRING'}, {'property': 'uniprot_id', 'type': 'STRING'}, {'property': 'original_entity_types', 'type': 'LIST'}, {'property': 'data_source', 'type': 'STRING'}, {'property': 'id', 'type': 'STRING'}, {'property': 'name', 'type': 'STRING'}, {'property': 'gene_name', 'type': 'STRING'}, {'property': 'pathway', 'type': 'STRING'}, {'property': 'function', 'type': 'STRING'}, {'property': 'eid', 'type': 'STRING'}], 'labels': 'db_UniProt'}, {'properties': [{'property': 'eid', 'type': 'STRING'}, {'property': 'mesh_id', 'type': 'STRING'}, {'property': 'data_source', 'type': 'STRING'}, {'property': 'obsolete', 'type': 'INTEGER'}, {'property': 'original_entity_types', 'type': 'LIST'}, {'property': 'name', 'type': 'STRING'}, {'property': 'id', 'type': 'STRING'}], 'labels': 'Disease'}, {'properties': [{'property': 'eid', 'type': 'STRING'}, {'property': 'data_source', 'type': 'STRING'}, {'property': 'name', 'type': 'STRING'}, {'property': 'obsolete', 'type': 'INTEGER'}], 'labels': 'TreeNumber'}, {'properties': [{'property': 'data_source', 'type': 'STRING'}, {'property': 'name', 'type': 'STRING'}, {'property': 'original_entity_types', 'type': 'LIST'}, {'property': 'inchi_key', 'type': 'STRING'}, {'property': 'eid', 'type': 'STRING'}, {'property': 'alt_id', 'type': 'STRING'}], 'labels': 'db_CHEBI'}, {'properties': [{'property': 'eid', 'type': 'STRING'}, {'property': 'data_source', 'type': 'STRING'}, {'property': 'original_entity_types', 'type': 'LIST'}, {'property': 'name', 'type': 'STRING'}, {'property': 'rank', 'type': 'STRING'}, {'property': 'species_id', 'type': 'STRING'}, {'property': 'full_name', 'type': 'STRING'}, {'property': 'locus_tag', 'type': 'STRING'}, {'property': 'tax_id', 'type': 'STRING'}], 'labels': 'db_NCBI'}, {'properties': [{'property': 'data_source', 'type': 'STRING'}, {'property': 'name', 'type': 'STRING'}, {'property': 'rank', 'type': 'STRING'}, {'property': 'original_entity_types', 'type': 'LIST'}, {'property': 'species_id', 'type': 'STRING'}, {'property': 'eid', 'type': 'STRING'}], 'labels': 'Taxonomy'}, {'properties': [{'property': 'eid', 'type': 'STRING'}, {'property': 'sentence', 'type': 'STRING'}, {'property': 'pmid', 'type': 'STRING'}, {'property': 'data_source', 'type': 'STRING'}], 'labels': 'Snippet'}, {'properties': [{'property': 'eid', 'type': 'STRING'}, {'property': 'code', 'type': 'STRING'}, {'property': 'name', 'type': 'STRING'}, {'property': 'catalytical_activity', 'type': 'STRING'}, {'property': 'cofactor', 'type': 'STRING'}, {'property': 'data_source', 'type': 'STRING'}], 'labels': 'db_Enzyme'}, {'properties': [{'property': 'eid', 'type': 'STRING'}, {'property': 'data_source', 'type': 'STRING'}, {'property': 'code', 'type': 'STRING'}, {'property': 'name', 'type': 'STRING'}, {'property': 'catalytical_activity', 'type': 'STRING'}, {'property': 'cofactor', 'type': 'STRING'}], 'labels': 'EC_Number'}, {'properties': [{'property': 'lowercase_name', 'type': 'STRING'}, {'property': 'name', 'type': 'STRING'}], 'labels': 'Synonym'}, {'properties': [{'property': 'eid', 'type': 'STRING'}, {'property': 'data_source', 'type': 'STRING'}, {'property': 'description', 'type': 'STRING'}, {'property': 'strand', 'type': 'STRING'}, {'property': 'activated_by', 'type': 'LIST'}, {'property': 'original_entity_types', 'type': 'LIST'}, {'property': 'regulondb_id', 'type': 'STRING'}, {'property': 'right_end_position', 'type': 'FLOAT'}, {'property': 'name', 'type': 'STRING'}, {'property': 'left_end_position', 'type': 'FLOAT'}, {'property': 'repressed_by', 'type': 'LIST'}, {'property': 'regulator_family', 'type': 'STRING'}, {'property': 'location', 'type': 'STRING'}, {'property': 'molecular_weight', 'type': 'FLOAT'}, {'property': 'genes', 'type': 'STRING'}, {'property': 'entityType', 'type': 'STRING'}, {'property': 'pos_1', 'type': 'FLOAT'}, {'property': 'sequence', 'type': 'STRING'}, {'property': 'sigma_factor', 'type': 'STRING'}, {'property': 'connectivity_class', 'type': 'STRING'}, {'property': 'consensus_sequence', 'type': 'STRING'}, {'property': 'symmetry', 'type': 'STRING'}, {'property': 'site_length', 'type': 'STRING'}, {'property': 'sensing_class', 'type': 'STRING'}, {'property': 'num_tfs', 'type': 'INTEGER'}, {'property': 'displayName', 'type': 'STRING'}, {'property': 'comment', 'type': 'STRING'}, {'property': 'terminator_class', 'type': 'STRING'}], 'labels': 'db_RegulonDB'}, {'properties': [{'property': 'eid', 'type': 'STRING'}, {'property': 'name', 'type': 'STRING'}], 'labels': 'LiteratureChemical'}, {'properties': [{'property': 'eid', 'type': 'STRING'}, {'property': 'name', 'type': 'STRING'}], 'labels': 'LiteratureEntity'}, {'properties': [{'property': 'eid', 'type': 'STRING'}, {'property': 'name', 'type': 'STRING'}], 'labels': 'LiteratureGene'}, {'properties': [{'property': 'eid', 'type': 'STRING'}, {'property': 'name', 'type': 'STRING'}], 'labels': 'LiteratureDisease'}, {'properties': [{'property': 'eid', 'type': 'STRING'}, {'property': 'data_source', 'type': 'STRING'}, {'property': 'description', 'type': 'STRING'}, {'property': 'location', 'type': 'STRING'}, {'property': 'regulondb_id', 'type': 'STRING'}, {'property': 'name', 'type': 'STRING'}, {'property': 'molecular_weight', 'type': 'FLOAT'}, {'property': 'genes', 'type': 'STRING'}], 'labels': 'GeneProduct'}, {'properties': [{'property': 'data_source', 'type': 'STRING'}, {'property': 'description', 'type': 'STRING'}, {'property': 'genes', 'type': 'STRING'}, {'property': 'regulondb_id', 'type': 'STRING'}, {'property': 'strand', 'type': 'STRING'}, {'property': 'name', 'type': 'STRING'}, {'property': 'left_end_position', 'type': 'INTEGER'}, {'property': 'right_end_position', 'type': 'INTEGER'}, {'property': 'eid', 'type': 'STRING'}], 'labels': 'Operon'}, {'properties': [{'property': 'eid', 'type': 'STRING'}, {'property': 'data_source', 'type': 'STRING'}, {'property': 'genes', 'type': 'STRING'}, {'property': 'regulondb_id', 'type': 'STRING'}, {'property': 'name', 'type': 'STRING'}, {'property': 'num_tfs', 'type': 'INTEGER'}], 'labels': 'Regulon'}, {'properties': [{'property': 'eid', 'type': 'STRING'}, {'property': 'data_source', 'type': 'STRING'}, {'property': 'regulator_family', 'type': 'STRING'}, {'property': 'consensus_sequence', 'type': 'STRING'}, {'property': 'regulondb_id', 'type': 'STRING'}, {'property': 'genes', 'type': 'STRING'}, {'property': 'connectivity_class', 'type': 'STRING'}, {'property': 'sensing_class', 'type': 'STRING'}, {'property': 'name', 'type': 'STRING'}, {'property': 'symmetry', 'type': 'STRING'}, {'property': 'site_length', 'type': 'STRING'}], 'labels': 'TranscriptionFactor'}, {'properties': [{'property': 'mesh_id', 'type': 'STRING'}, {'property': 'eid', 'type': 'STRING'}, {'property': 'data_source', 'type': 'STRING'}, {'property': 'name', 'type': 'STRING'}, {'property': 'obsolete', 'type': 'INTEGER'}, {'property': 'original_entity_types', 'type': 'LIST'}], 'labels': 'TopicalDescriptor'}, {'properties': [{'property': 'data_source', 'type': 'STRING'}, {'property': 'obsolete', 'type': 'INTEGER'}, {'property': 'name', 'type': 'STRING'}, {'property': 'original_entity_types', 'type': 'LIST'}, {'property': 'mesh_id', 'type': 'STRING'}, {'property': 'eid', 'type': 'STRING'}, {'property': 'hyperlinks', 'type': 'LIST'}], 'labels': 'Phenomena'}, {'properties': [{'property': 'name', 'type': 'STRING'}, {'property': 'eid', 'type': 'STRING'}, {'property': 'mesh_id', 'type': 'STRING'}, {'property': 'data_source', 'type': 'STRING'}, {'property': 'original_entity_types', 'type': 'LIST'}, {'property': 'obsolete', 'type': 'INTEGER'}], 'labels': 'Anatomy'}, {'properties': [{'property': 'mesh_id', 'type': 'STRING'}, {'property': 'eid', 'type': 'STRING'}, {'property': 'data_source', 'type': 'STRING'}, {'property': 'original_entity_types', 'type': 'LIST'}, {'property': 'name', 'type': 'STRING'}, {'property': 'obsolete', 'type': 'INTEGER'}, {'property': 'hyperlinks', 'type': 'LIST'}], 'labels': 'Food'}, {'properties': [{'property': 'name', 'type': 'STRING'}, {'property': 'description', 'type': 'STRING'}, {'property': 'eid', 'type': 'STRING'}, {'property': 'direction', 'type': 'STRING'}, {'property': 'data_source', 'type': 'STRING'}], 'labels': 'AssociationType'}, {'properties': [{'property': 'refseq', 'type': 'STRING'}, {'property': 'eid', 'type': 'STRING'}, {'property': 'data_source', 'type': 'STRING'}, {'property': 'tax_id', 'type': 'STRING'}, {'property': 'annotation', 'type': 'STRING'}, {'property': 'name', 'type': 'STRING'}, {'property': 'protein_size', 'type': 'STRING'}, {'property': 'string_id', 'type': 'STRING'}, {'property': 'original_entity_types', 'type': 'LIST'}], 'labels': 'db_STRING'}, {'properties': [{'property': 'eid', 'type': 'STRING'}, {'property': 'data_source', 'type': 'STRING'}, {'property': 'genome', 'type': 'STRING'}, {'property': 'original_entity_types', 'type': 'LIST'}, {'property': 'definition', 'type': 'STRING'}, {'property': 'name', 'type': 'STRING'}], 'labels': 'db_KEGG'}, {'properties': [{'property': 'eid', 'type': 'STRING'}, {'property': 'definition', 'type': 'STRING'}, {'property': 'data_source', 'type': 'STRING'}, {'property': 'name', 'type': 'STRING'}], 'labels': 'KO'}, {'properties': [{'property': 'eid', 'type': 'STRING'}, {'property': 'data_source', 'type': 'STRING'}], 'labels': 'Genome'}, {'properties': [{'property': 'eid', 'type': 'STRING'}, {'property': 'name', 'type': 'STRING'}, {'property': 'data_source', 'type': 'STRING'}, {'property': 'hyperlinks', 'type': 'LIST'}, {'property': 'entityType', 'type': 'STRING'}], 'labels': 'db_Lifelike'}, {'properties': [{'property': 'eid', 'type': 'STRING'}, {'property': 'name', 'type': 'STRING'}, {'property': 'data_source', 'type': 'STRING'}, {'property': 'obsolete', 'type': 'INTEGER'}, {'property': 'original_entity_types', 'type': 'LIST'}, {'property': 'mesh_id', 'type': 'STRING'}, {'property': 'hyperlinks', 'type': 'LIST'}], 'labels': 'Phenotype'}, {'properties': [{'property': 'name', 'type': 'STRING'}, {'property': 'eid', 'type': 'STRING'}, {'property': 'data_source', 'type': 'STRING'}, {'property': 'hyperlinks', 'type': 'LIST'}], 'labels': 'Organism'}, {'properties': [{'property': 'name', 'type': 'STRING'}, {'property': 'eid', 'type': 'STRING'}, {'property': 'hyperlinks', 'type': 'LIST'}], 'labels': 'Entity'}, {'properties': [{'property': 'eid', 'type': 'STRING'}, {'property': 'name', 'type': 'STRING'}, {'property': 'original_entity_types', 'type': 'LIST'}, {'property': 'full_name', 'type': 'STRING'}, {'property': 'locus_tag', 'type': 'STRING'}, {'property': 'data_source', 'type': 'STRING'}, {'property': 'tax_id', 'type': 'STRING'}], 'labels': 'Master'}, {'properties': [{'property': 'eid', 'type': 'STRING'}, {'property': 'name', 'type': 'STRING'}, {'property': 'data_source', 'type': 'STRING'}, {'property': 'lowercase_name', 'type': 'STRING'}, {'property': 'hyperlinks', 'type': 'LIST'}, {'property': 'entityType', 'type': 'STRING'}], 'labels': 'GlobalInclusion'}, {'properties': [{'property': 'eid', 'type': 'STRING'}, {'property': 'name', 'type': 'STRING'}, {'property': 'hyperlinks', 'type': 'LIST'}], 'labels': 'Company'}, {'properties': [{'property': 'name', 'type': 'STRING'}, {'property': 'eid', 'type': 'STRING'}], 'labels': 'LabStrain'}, {'properties': [{'property': 'dateUpdated', 'type': 'DATE_TIME'}, {'property': 'dateCreated', 'type': 'DATE_TIME'}], 'labels': '__LiquibaseChangeLog'}, {'properties': [{'property': 'execType', 'type': 'STRING'}, {'property': 'checkSum', 'type': 'STRING'}, {'property': 'deploymentId', 'type': 'STRING'}, {'property': 'changeLog', 'type': 'STRING'}, {'property': 'comments', 'type': 'STRING'}, {'property': 'storedChangeLog', 'type': 'STRING'}, {'property': 'author', 'type': 'STRING'}, {'property': 'id', 'type': 'STRING'}, {'property': 'description', 'type': 'STRING'}, {'property': 'liquibaseVersion', 'type': 'STRING'}], 'labels': '__LiquibaseChangeSet'}, {'properties': [{'property': 'entityType', 'type': 'STRING'}, {'property': 'inchi_key', 'type': 'STRING'}, {'property': 'abbrev_name', 'type': 'STRING'}, {'property': 'inchi', 'type': 'STRING'}, {'property': 'eid', 'type': 'STRING'}, {'property': 'smiles', 'type': 'STRING'}, {'property': 'data_source', 'type': 'STRING'}, {'property': 'displayName', 'type': 'STRING'}, {'property': 'original_entity_types', 'type': 'LIST'}, {'property': 'biocyc_id', 'type': 'STRING'}, {'property': 'name', 'type': 'STRING'}, {'property': 'synonyms', 'type': 'STRING'}, {'property': 'detail', 'type': 'STRING'}, {'property': 'direction', 'type': 'STRING'}, {'property': 'location', 'type': 'STRING'}, {'property': 'description', 'type': 'STRING'}, {'property': 'ec_number', 'type': 'STRING'}, {'property': 'genes', 'type': 'STRING'}, {'property': 'abs_center_pos', 'type': 'STRING'}, {'property': 'site_length', 'type': 'STRING'}, {'property': 'right_end_position', 'type': 'STRING'}, {'property': 'accession', 'type': 'STRING'}, {'property': 'left_end_position', 'type': 'STRING'}, {'property': 'strand', 'type': 'STRING'}, {'property': 'pathways', 'type': 'LIST'}, {'property': 'pos_1', 'type': 'STRING'}, {'property': 'molecular_weight_kd', 'type': 'STRING'}, {'property': 'pi', 'type': 'STRING'}, {'property': 'mode', 'type': 'STRING'}, {'property': 'mechanism', 'type': 'STRING'}], 'labels': 'db_BsubCyc'}]\n",
      "        Relationship properties are the following:\n",
      "        [{'type': 'REGULATES', 'properties': [{'property': 'function', 'type': 'STRING'}, {'property': 'eveidence', 'type': 'STRING'}]}, {'type': 'GO_LINK', 'properties': [{'property': 'tax_id', 'type': 'STRING'}]}, {'type': 'ASSOCIATED', 'properties': [{'property': 'type', 'type': 'STRING'}, {'property': 'description', 'type': 'STRING'}]}, {'type': 'HAS_AUTHOR', 'properties': [{'property': 'order', 'type': 'STRING'}]}, {'type': 'HAS_SYNONYM', 'properties': [{'property': 'type', 'type': 'STRING'}, {'property': 'created_at', 'type': 'DATE_TIME'}, {'property': 'entity_type', 'type': 'STRING'}, {'property': 'inclusion_date', 'type': 'DATE_TIME'}, {'property': 'hyperlinks', 'type': 'LIST'}, {'property': 'user', 'type': 'STRING'}, {'property': 'global_inclusion', 'type': 'BOOLEAN'}, {'property': 'file_reference', 'type': 'STRING'}]}, {'type': 'MAPPED_TO_DESCRIPTOR', 'properties': [{'property': 'type', 'type': 'STRING'}]}, {'type': 'INDICATES', 'properties': [{'property': 'raw_score', 'type': 'FLOAT'}, {'property': 'normalized_score', 'type': 'FLOAT'}, {'property': 'entry2_text', 'type': 'STRING'}, {'property': 'path', 'type': 'STRING'}, {'property': 'entry1_text', 'type': 'STRING'}]}, {'type': 'IN_CHANGELOG', 'properties': [{'property': 'orderExecuted', 'type': 'INTEGER'}, {'property': 'dateExecuted', 'type': 'DATE_TIME'}]}]\n",
      "        The relationships are the following:\n",
      "        ['(:db_Literature)-[:HAS_TYPE]->(:db_Literature)', '(:db_Literature)-[:HAS_TYPE]->(:AssociationType)', '(:db_Literature)-[:HAS_ASSOCIATION]->(:db_Literature)', '(:db_Literature)-[:HAS_ASSOCIATION]->(:LiteratureEntity)', '(:db_Literature)-[:HAS_ASSOCIATION]->(:LiteratureDisease)', '(:db_Literature)-[:HAS_ASSOCIATION]->(:Association)', '(:db_Literature)-[:HAS_ASSOCIATION]->(:LiteratureGene)', '(:db_Literature)-[:MAPPED_TO]->(:db_MESH)', '(:db_Literature)-[:MAPPED_TO]->(:Disease)', '(:db_Literature)-[:MAPPED_TO]->(:Chemical)', '(:db_Literature)-[:MAPPED_TO]->(:Gene)', '(:db_Literature)-[:MAPPED_TO]->(:db_NCBI)', '(:db_Literature)-[:MAPPED_TO]->(:Master)', '(:db_Literature)-[:ASSOCIATED]->(:db_Literature)', '(:db_Literature)-[:ASSOCIATED]->(:LiteratureEntity)', '(:db_Literature)-[:ASSOCIATED]->(:LiteratureDisease)', '(:db_Literature)-[:ASSOCIATED]->(:LiteratureGene)', '(:db_Literature)-[:HAS_AUTHOR]->(:db_PubMed)', '(:db_Literature)-[:HAS_AUTHOR]->(:Author)', '(:db_Literature)-[:INDICATES]->(:db_Literature)', '(:db_Literature)-[:INDICATES]->(:Association)', '(:db_Literature)-[:IN_PUB]->(:db_Literature)', '(:db_Literature)-[:IN_PUB]->(:db_PubMed)', '(:db_Literature)-[:IN_PUB]->(:Publication)', '(:Association)-[:HAS_TYPE]->(:db_Literature)', '(:Association)-[:HAS_TYPE]->(:AssociationType)', '(:Association)-[:HAS_ASSOCIATION]->(:db_Literature)', '(:Association)-[:HAS_ASSOCIATION]->(:LiteratureEntity)', '(:Association)-[:HAS_ASSOCIATION]->(:LiteratureDisease)', '(:Association)-[:HAS_ASSOCIATION]->(:LiteratureGene)', '(:BiologicalProcess)-[:HAS_SYNONYM]->(:Synonym)', '(:BiologicalProcess)-[:IS_A]->(:BiologicalProcess)', '(:BiologicalProcess)-[:IS_A]->(:db_GO)', '(:BiologicalProcess)-[:PART_OF]->(:BiologicalProcess)', '(:BiologicalProcess)-[:PART_OF]->(:db_GO)', '(:BiologicalProcess)-[:NEGATIVELY_REGULATES]->(:BiologicalProcess)', '(:BiologicalProcess)-[:NEGATIVELY_REGULATES]->(:db_GO)', '(:BiologicalProcess)-[:NEGATIVELY_REGULATES]->(:MolecularFunction)', '(:BiologicalProcess)-[:REGULATES]->(:BiologicalProcess)', '(:BiologicalProcess)-[:REGULATES]->(:db_GO)', '(:BiologicalProcess)-[:REGULATES]->(:MolecularFunction)', '(:BiologicalProcess)-[:POSITIVELY_REGULATES]->(:BiologicalProcess)', '(:BiologicalProcess)-[:POSITIVELY_REGULATES]->(:db_GO)', '(:BiologicalProcess)-[:POSITIVELY_REGULATES]->(:MolecularFunction)', '(:BiologicalProcess)-[:HAS_PART]->(:db_GO)', '(:BiologicalProcess)-[:HAS_PART]->(:MolecularFunction)', '(:BiologicalProcess)-[:HAS_PART]->(:BiologicalProcess)', '(:BiologicalProcess)-[:REPLACED_BY]->(:BiologicalProcess)', '(:BiologicalProcess)-[:REPLACED_BY]->(:db_GO)', '(:BiologicalProcess)-[:REPLACED_BY]->(:MolecularFunction)', '(:BiologicalProcess)-[:OCCURS_IN]->(:db_GO)', '(:BiologicalProcess)-[:OCCURS_IN]->(:CellularComponent)', '(:db_GO)-[:HAS_SYNONYM]->(:Synonym)', '(:db_GO)-[:HAS_SYNONYM]->(:GlobalInclusion)', '(:db_GO)-[:IS_A]->(:BiologicalProcess)', '(:db_GO)-[:IS_A]->(:db_GO)', '(:db_GO)-[:IS_A]->(:CellularComponent)', '(:db_GO)-[:IS_A]->(:MolecularFunction)', '(:db_GO)-[:PART_OF]->(:BiologicalProcess)', '(:db_GO)-[:PART_OF]->(:db_GO)', '(:db_GO)-[:PART_OF]->(:CellularComponent)', '(:db_GO)-[:NEGATIVELY_REGULATES]->(:BiologicalProcess)', '(:db_GO)-[:NEGATIVELY_REGULATES]->(:db_GO)', '(:db_GO)-[:NEGATIVELY_REGULATES]->(:MolecularFunction)', '(:db_GO)-[:POSITIVELY_REGULATES]->(:BiologicalProcess)', '(:db_GO)-[:POSITIVELY_REGULATES]->(:db_GO)', '(:db_GO)-[:POSITIVELY_REGULATES]->(:MolecularFunction)', '(:db_GO)-[:REGULATES]->(:BiologicalProcess)', '(:db_GO)-[:REGULATES]->(:db_GO)', '(:db_GO)-[:REGULATES]->(:MolecularFunction)', '(:db_GO)-[:HAS_PART]->(:db_GO)', '(:db_GO)-[:HAS_PART]->(:MolecularFunction)', '(:db_GO)-[:HAS_PART]->(:CellularComponent)', '(:db_GO)-[:HAS_PART]->(:BiologicalProcess)', '(:db_GO)-[:REPLACED_BY]->(:db_GO)', '(:db_GO)-[:REPLACED_BY]->(:MolecularFunction)', '(:db_GO)-[:REPLACED_BY]->(:BiologicalProcess)', '(:db_GO)-[:OCCURS_IN]->(:db_GO)', '(:db_GO)-[:OCCURS_IN]->(:CellularComponent)', '(:CellularComponent)-[:IS_A]->(:db_GO)', '(:CellularComponent)-[:IS_A]->(:CellularComponent)', '(:CellularComponent)-[:PART_OF]->(:db_GO)', '(:CellularComponent)-[:PART_OF]->(:CellularComponent)', '(:CellularComponent)-[:HAS_SYNONYM]->(:Synonym)', '(:CellularComponent)-[:REPLACED_BY]->(:db_GO)', '(:CellularComponent)-[:REPLACED_BY]->(:CellularComponent)', '(:CellularComponent)-[:HAS_PART]->(:db_GO)', '(:CellularComponent)-[:HAS_PART]->(:CellularComponent)', '(:MolecularFunction)-[:IS_A]->(:db_GO)', '(:MolecularFunction)-[:IS_A]->(:MolecularFunction)', '(:MolecularFunction)-[:HAS_SYNONYM]->(:Synonym)', '(:MolecularFunction)-[:PART_OF]->(:BiologicalProcess)', '(:MolecularFunction)-[:PART_OF]->(:db_GO)', '(:MolecularFunction)-[:PART_OF]->(:MolecularFunction)', '(:MolecularFunction)-[:OCCURS_IN]->(:db_GO)', '(:MolecularFunction)-[:OCCURS_IN]->(:CellularComponent)', '(:MolecularFunction)-[:REPLACED_BY]->(:db_GO)', '(:MolecularFunction)-[:REPLACED_BY]->(:MolecularFunction)', '(:MolecularFunction)-[:REPLACED_BY]->(:CellularComponent)', '(:MolecularFunction)-[:REPLACED_BY]->(:BiologicalProcess)', '(:MolecularFunction)-[:HAS_PART]->(:db_GO)', '(:MolecularFunction)-[:HAS_PART]->(:MolecularFunction)', '(:MolecularFunction)-[:REGULATES]->(:db_GO)', '(:MolecularFunction)-[:REGULATES]->(:MolecularFunction)', '(:MolecularFunction)-[:POSITIVELY_REGULATES]->(:db_GO)', '(:MolecularFunction)-[:POSITIVELY_REGULATES]->(:MolecularFunction)', '(:db_BioCyc)-[:TYPE_OF]->(:db_BioCyc)', '(:db_BioCyc)-[:TYPE_OF]->(:db_EcoCyc)', '(:db_BioCyc)-[:TYPE_OF]->(:Compound)', '(:db_BioCyc)-[:TYPE_OF]->(:db_HumanCyc)', '(:db_BioCyc)-[:TYPE_OF]->(:db_YeastCyc)', '(:db_BioCyc)-[:TYPE_OF]->(:db_PseudomonasCyc)', '(:db_BioCyc)-[:TYPE_OF]->(:BioCycClass)', '(:db_BioCyc)-[:TYPE_OF]->(:db_BsubCyc)', '(:db_BioCyc)-[:CONSUMED_BY]->(:db_BioCyc)', '(:db_BioCyc)-[:CONSUMED_BY]->(:db_EcoCyc)', '(:db_BioCyc)-[:CONSUMED_BY]->(:Reaction)', '(:db_BioCyc)-[:CONSUMED_BY]->(:db_BsubCyc)', '(:db_BioCyc)-[:CONSUMED_BY]->(:db_PseudomonasCyc)', '(:db_BioCyc)-[:CONSUMED_BY]->(:db_HumanCyc)', '(:db_BioCyc)-[:CONSUMED_BY]->(:db_YeastCyc)', '(:db_BioCyc)-[:HAS_SYNONYM]->(:Synonym)', '(:db_BioCyc)-[:CHEBI_LINK]->(:Chemical)', '(:db_BioCyc)-[:CHEBI_LINK]->(:db_CHEBI)', '(:db_BioCyc)-[:CATALYZES]->(:db_BioCyc)', '(:db_BioCyc)-[:CATALYZES]->(:db_EcoCyc)', '(:db_BioCyc)-[:CATALYZES]->(:Reaction)', '(:db_BioCyc)-[:CATALYZES]->(:db_PseudomonasCyc)', '(:db_BioCyc)-[:CATALYZES]->(:db_BsubCyc)', '(:db_BioCyc)-[:CATALYZES]->(:db_HumanCyc)', '(:db_BioCyc)-[:CATALYZES]->(:db_YeastCyc)', '(:db_BioCyc)-[:CATALYZES]->(:EnzReaction)', '(:db_BioCyc)-[:ELEMENT_OF]->(:db_BioCyc)', '(:db_BioCyc)-[:ELEMENT_OF]->(:db_EcoCyc)', '(:db_BioCyc)-[:ELEMENT_OF]->(:TranscriptionUnit)', '(:db_BioCyc)-[:ELEMENT_OF]->(:db_BsubCyc)', '(:db_BioCyc)-[:ELEMENT_OF]->(:db_PseudomonasCyc)', '(:db_BioCyc)-[:GO_LINK]->(:db_GO)', '(:db_BioCyc)-[:GO_LINK]->(:MolecularFunction)', '(:db_BioCyc)-[:GO_LINK]->(:BiologicalProcess)', '(:db_BioCyc)-[:GO_LINK]->(:CellularComponent)', '(:db_BioCyc)-[:PRODUCES]->(:db_BioCyc)', '(:db_BioCyc)-[:PRODUCES]->(:db_EcoCyc)', '(:db_BioCyc)-[:PRODUCES]->(:Compound)', '(:db_BioCyc)-[:PRODUCES]->(:db_HumanCyc)', '(:db_BioCyc)-[:PRODUCES]->(:db_YeastCyc)', '(:db_BioCyc)-[:PRODUCES]->(:db_PseudomonasCyc)', '(:db_BioCyc)-[:PRODUCES]->(:db_BsubCyc)', '(:db_BioCyc)-[:PRODUCES]->(:BioCycClass)', '(:db_BioCyc)-[:PRODUCES]->(:Protein)', '(:db_BioCyc)-[:IN_PATHWAY]->(:db_BioCyc)', '(:db_BioCyc)-[:IN_PATHWAY]->(:db_EcoCyc)', '(:db_BioCyc)-[:IN_PATHWAY]->(:db_PseudomonasCyc)', '(:db_BioCyc)-[:IN_PATHWAY]->(:Pathway)', '(:db_BioCyc)-[:IN_PATHWAY]->(:db_BsubCyc)', '(:db_BioCyc)-[:IN_PATHWAY]->(:db_HumanCyc)', '(:db_BioCyc)-[:IN_PATHWAY]->(:db_YeastCyc)', '(:db_BioCyc)-[:ENZYME_LINK]->(:db_Enzyme)', '(:db_BioCyc)-[:ENZYME_LINK]->(:EC_Number)', '(:db_BioCyc)-[:REGULATES]->(:db_BioCyc)', '(:db_BioCyc)-[:REGULATES]->(:db_EcoCyc)', '(:db_BioCyc)-[:REGULATES]->(:EnzReaction)', '(:db_BioCyc)-[:REGULATES]->(:Promoter)', '(:db_BioCyc)-[:REGULATES]->(:TranscriptionUnit)', '(:db_BioCyc)-[:REGULATES]->(:Regulation)', '(:db_BioCyc)-[:REGULATES]->(:db_HumanCyc)', '(:db_BioCyc)-[:REGULATES]->(:Gene)', '(:db_BioCyc)-[:REGULATES]->(:db_BsubCyc)', '(:db_BioCyc)-[:REGULATES]->(:db_YeastCyc)', '(:db_BioCyc)-[:COMPONENT_OF]->(:db_BioCyc)', '(:db_BioCyc)-[:COMPONENT_OF]->(:db_EcoCyc)', '(:db_BioCyc)-[:COMPONENT_OF]->(:Protein)', '(:db_BioCyc)-[:COMPONENT_OF]->(:Complex)', '(:db_BioCyc)-[:COMPONENT_OF]->(:db_BsubCyc)', '(:db_BioCyc)-[:COMPONENT_OF]->(:db_HumanCyc)', '(:db_BioCyc)-[:COMPONENT_OF]->(:db_YeastCyc)', '(:db_BioCyc)-[:COMPONENT_OF]->(:db_PseudomonasCyc)', '(:db_BioCyc)-[:BINDS]->(:db_BioCyc)', '(:db_BioCyc)-[:BINDS]->(:db_EcoCyc)', '(:db_BioCyc)-[:BINDS]->(:DNABindingSite)', '(:db_BioCyc)-[:BINDS]->(:db_BsubCyc)', '(:db_BioCyc)-[:IS]->(:Gene)', '(:db_BioCyc)-[:IS]->(:db_NCBI)', '(:db_BioCyc)-[:IS]->(:Master)', '(:db_BioCyc)-[:ENCODES]->(:db_BioCyc)', '(:db_BioCyc)-[:ENCODES]->(:db_EcoCyc)', '(:db_BioCyc)-[:ENCODES]->(:Protein)', '(:db_BioCyc)-[:ENCODES]->(:RNA)', '(:db_BioCyc)-[:ENCODES]->(:db_BsubCyc)', '(:db_BioCyc)-[:ENCODES]->(:db_HumanCyc)', '(:db_BioCyc)-[:ENCODES]->(:db_YeastCyc)', '(:db_BioCyc)-[:ENCODES]->(:db_PseudomonasCyc)', '(:db_BioCyc)-[:MODIFIED_TO]->(:db_BioCyc)', '(:db_BioCyc)-[:MODIFIED_TO]->(:db_EcoCyc)', '(:db_BioCyc)-[:MODIFIED_TO]->(:RNA)', '(:db_BioCyc)-[:MODIFIED_TO]->(:Protein)', '(:db_BioCyc)-[:MODIFIED_TO]->(:db_BsubCyc)', '(:db_BioCyc)-[:HAS_TAXONOMY]->(:db_NCBI)', '(:db_BioCyc)-[:HAS_TAXONOMY]->(:Taxonomy)', '(:db_EcoCyc)-[:HAS_SYNONYM]->(:Synonym)', '(:db_EcoCyc)-[:TYPE_OF]->(:db_BioCyc)', '(:db_EcoCyc)-[:TYPE_OF]->(:db_EcoCyc)', '(:db_EcoCyc)-[:TYPE_OF]->(:Compound)', '(:db_EcoCyc)-[:TYPE_OF]->(:db_HumanCyc)', '(:db_EcoCyc)-[:TYPE_OF]->(:db_YeastCyc)', '(:db_EcoCyc)-[:TYPE_OF]->(:db_PseudomonasCyc)', '(:db_EcoCyc)-[:TYPE_OF]->(:BioCycClass)', '(:db_EcoCyc)-[:TYPE_OF]->(:db_BsubCyc)', '(:db_EcoCyc)-[:CHEBI_LINK]->(:Chemical)', '(:db_EcoCyc)-[:CHEBI_LINK]->(:db_CHEBI)', '(:db_EcoCyc)-[:CONSUMED_BY]->(:db_BioCyc)', '(:db_EcoCyc)-[:CONSUMED_BY]->(:db_HumanCyc)', '(:db_EcoCyc)-[:CONSUMED_BY]->(:db_YeastCyc)', '(:db_EcoCyc)-[:CONSUMED_BY]->(:Reaction)', '(:db_EcoCyc)-[:CONSUMED_BY]->(:db_PseudomonasCyc)', '(:db_EcoCyc)-[:CONSUMED_BY]->(:db_BsubCyc)', '(:db_EcoCyc)-[:CONSUMED_BY]->(:db_EcoCyc)', '(:db_EcoCyc)-[:REGULATES]->(:db_BioCyc)', '(:db_EcoCyc)-[:REGULATES]->(:db_EcoCyc)', '(:db_EcoCyc)-[:REGULATES]->(:Regulation)', '(:db_EcoCyc)-[:REGULATES]->(:EnzReaction)', '(:db_EcoCyc)-[:REGULATES]->(:Promoter)', '(:db_EcoCyc)-[:REGULATES]->(:db_YeastCyc)', '(:db_EcoCyc)-[:REGULATES]->(:db_HumanCyc)', '(:db_EcoCyc)-[:REGULATES]->(:TranscriptionUnit)', '(:db_EcoCyc)-[:REGULATES]->(:Gene)', '(:db_EcoCyc)-[:REGULATES]->(:db_BsubCyc)', '(:db_EcoCyc)-[:REGULATES]->(:Terminator)', '(:db_EcoCyc)-[:CATALYZES]->(:db_BioCyc)', '(:db_EcoCyc)-[:CATALYZES]->(:db_EcoCyc)', '(:db_EcoCyc)-[:CATALYZES]->(:db_HumanCyc)', '(:db_EcoCyc)-[:CATALYZES]->(:Reaction)', '(:db_EcoCyc)-[:CATALYZES]->(:db_YeastCyc)', '(:db_EcoCyc)-[:CATALYZES]->(:db_PseudomonasCyc)', '(:db_EcoCyc)-[:CATALYZES]->(:db_BsubCyc)', '(:db_EcoCyc)-[:CATALYZES]->(:EnzReaction)', '(:db_EcoCyc)-[:ELEMENT_OF]->(:db_BioCyc)', '(:db_EcoCyc)-[:ELEMENT_OF]->(:db_EcoCyc)', '(:db_EcoCyc)-[:ELEMENT_OF]->(:TranscriptionUnit)', '(:db_EcoCyc)-[:GO_LINK]->(:BiologicalProcess)', '(:db_EcoCyc)-[:GO_LINK]->(:db_GO)', '(:db_EcoCyc)-[:GO_LINK]->(:MolecularFunction)', '(:db_EcoCyc)-[:GO_LINK]->(:CellularComponent)', '(:db_EcoCyc)-[:COMPONENT_OF]->(:db_BioCyc)', '(:db_EcoCyc)-[:COMPONENT_OF]->(:db_EcoCyc)', '(:db_EcoCyc)-[:COMPONENT_OF]->(:Protein)', '(:db_EcoCyc)-[:COMPONENT_OF]->(:Complex)', '(:db_EcoCyc)-[:PRODUCES]->(:db_BioCyc)', '(:db_EcoCyc)-[:PRODUCES]->(:db_EcoCyc)', '(:db_EcoCyc)-[:PRODUCES]->(:Compound)', '(:db_EcoCyc)-[:PRODUCES]->(:db_HumanCyc)', '(:db_EcoCyc)-[:PRODUCES]->(:db_YeastCyc)', '(:db_EcoCyc)-[:PRODUCES]->(:db_PseudomonasCyc)', '(:db_EcoCyc)-[:PRODUCES]->(:db_BsubCyc)', '(:db_EcoCyc)-[:PRODUCES]->(:BioCycClass)', '(:db_EcoCyc)-[:PRODUCES]->(:Protein)', '(:db_EcoCyc)-[:PRODUCES]->(:Complex)', '(:db_EcoCyc)-[:ENZYME_LINK]->(:db_Enzyme)', '(:db_EcoCyc)-[:ENZYME_LINK]->(:EC_Number)', '(:db_EcoCyc)-[:IN_PATHWAY]->(:db_BioCyc)', '(:db_EcoCyc)-[:IN_PATHWAY]->(:db_EcoCyc)', '(:db_EcoCyc)-[:IN_PATHWAY]->(:Pathway)', '(:db_EcoCyc)-[:IN_PATHWAY]->(:db_BsubCyc)', '(:db_EcoCyc)-[:IN_PATHWAY]->(:db_PseudomonasCyc)', '(:db_EcoCyc)-[:IN_PATHWAY]->(:db_HumanCyc)', '(:db_EcoCyc)-[:IN_PATHWAY]->(:db_YeastCyc)', '(:db_EcoCyc)-[:BINDS]->(:db_BioCyc)', '(:db_EcoCyc)-[:BINDS]->(:db_EcoCyc)', '(:db_EcoCyc)-[:BINDS]->(:DNABindingSite)', '(:db_EcoCyc)-[:IS]->(:Gene)', '(:db_EcoCyc)-[:IS]->(:db_NCBI)', '(:db_EcoCyc)-[:IS]->(:Master)', '(:db_EcoCyc)-[:ENCODES]->(:db_BioCyc)', '(:db_EcoCyc)-[:ENCODES]->(:db_EcoCyc)', '(:db_EcoCyc)-[:ENCODES]->(:RNA)', '(:db_EcoCyc)-[:ENCODES]->(:Protein)', '(:db_EcoCyc)-[:MODIFIED_TO]->(:db_BioCyc)', '(:db_EcoCyc)-[:MODIFIED_TO]->(:db_EcoCyc)', '(:db_EcoCyc)-[:MODIFIED_TO]->(:Protein)', '(:db_EcoCyc)-[:MODIFIED_TO]->(:RNA)', '(:Compound)-[:HAS_SYNONYM]->(:Synonym)', '(:Compound)-[:HAS_SYNONYM]->(:GlobalInclusion)', '(:Compound)-[:TYPE_OF]->(:db_BioCyc)', '(:Compound)-[:TYPE_OF]->(:db_EcoCyc)', '(:Compound)-[:TYPE_OF]->(:Compound)', '(:Compound)-[:TYPE_OF]->(:db_HumanCyc)', '(:Compound)-[:TYPE_OF]->(:db_YeastCyc)', '(:Compound)-[:TYPE_OF]->(:db_PseudomonasCyc)', '(:Compound)-[:TYPE_OF]->(:BioCycClass)', '(:Compound)-[:TYPE_OF]->(:db_BsubCyc)', '(:Compound)-[:CHEBI_LINK]->(:Chemical)', '(:Compound)-[:CHEBI_LINK]->(:db_CHEBI)', '(:Compound)-[:CONSUMED_BY]->(:db_BioCyc)', '(:Compound)-[:CONSUMED_BY]->(:db_HumanCyc)', '(:Compound)-[:CONSUMED_BY]->(:Reaction)', '(:Compound)-[:CONSUMED_BY]->(:db_BsubCyc)', '(:Compound)-[:CONSUMED_BY]->(:db_PseudomonasCyc)', '(:Compound)-[:CONSUMED_BY]->(:db_EcoCyc)', '(:Compound)-[:CONSUMED_BY]->(:db_YeastCyc)', '(:Compound)-[:REGULATES]->(:db_BioCyc)', '(:Compound)-[:REGULATES]->(:db_EcoCyc)', '(:Compound)-[:REGULATES]->(:Regulation)', '(:Compound)-[:REGULATES]->(:db_YeastCyc)', '(:Compound)-[:REGULATES]->(:db_HumanCyc)', '(:Compound)-[:REGULATES]->(:db_BsubCyc)', '(:Compound)-[:COMPONENT_OF]->(:db_BioCyc)', '(:Compound)-[:COMPONENT_OF]->(:db_EcoCyc)', '(:Compound)-[:COMPONENT_OF]->(:Protein)', '(:Compound)-[:COMPONENT_OF]->(:Complex)', '(:Compound)-[:COMPONENT_OF]->(:db_BsubCyc)', '(:db_HumanCyc)-[:HAS_SYNONYM]->(:Synonym)', '(:db_HumanCyc)-[:TYPE_OF]->(:db_BioCyc)', '(:db_HumanCyc)-[:TYPE_OF]->(:db_EcoCyc)', '(:db_HumanCyc)-[:TYPE_OF]->(:Compound)', '(:db_HumanCyc)-[:TYPE_OF]->(:db_HumanCyc)', '(:db_HumanCyc)-[:TYPE_OF]->(:db_YeastCyc)', '(:db_HumanCyc)-[:TYPE_OF]->(:db_PseudomonasCyc)', '(:db_HumanCyc)-[:TYPE_OF]->(:BioCycClass)', '(:db_HumanCyc)-[:TYPE_OF]->(:db_BsubCyc)', '(:db_HumanCyc)-[:CHEBI_LINK]->(:Chemical)', '(:db_HumanCyc)-[:CHEBI_LINK]->(:db_CHEBI)', '(:db_HumanCyc)-[:CONSUMED_BY]->(:db_BioCyc)', '(:db_HumanCyc)-[:CONSUMED_BY]->(:db_HumanCyc)', '(:db_HumanCyc)-[:CONSUMED_BY]->(:Reaction)', '(:db_HumanCyc)-[:CONSUMED_BY]->(:db_EcoCyc)', '(:db_HumanCyc)-[:CONSUMED_BY]->(:db_YeastCyc)', '(:db_HumanCyc)-[:CONSUMED_BY]->(:db_PseudomonasCyc)', '(:db_HumanCyc)-[:CONSUMED_BY]->(:db_BsubCyc)', '(:db_HumanCyc)-[:IN_PATHWAY]->(:db_BioCyc)', '(:db_HumanCyc)-[:IN_PATHWAY]->(:db_EcoCyc)', '(:db_HumanCyc)-[:IN_PATHWAY]->(:db_PseudomonasCyc)', '(:db_HumanCyc)-[:IN_PATHWAY]->(:Pathway)', '(:db_HumanCyc)-[:IN_PATHWAY]->(:db_BsubCyc)', '(:db_HumanCyc)-[:IN_PATHWAY]->(:db_YeastCyc)', '(:db_HumanCyc)-[:IN_PATHWAY]->(:db_HumanCyc)', '(:db_HumanCyc)-[:PRODUCES]->(:db_BioCyc)', '(:db_HumanCyc)-[:PRODUCES]->(:db_EcoCyc)', '(:db_HumanCyc)-[:PRODUCES]->(:Compound)', '(:db_HumanCyc)-[:PRODUCES]->(:db_HumanCyc)', '(:db_HumanCyc)-[:PRODUCES]->(:db_YeastCyc)', '(:db_HumanCyc)-[:PRODUCES]->(:db_PseudomonasCyc)', '(:db_HumanCyc)-[:PRODUCES]->(:db_BsubCyc)', '(:db_HumanCyc)-[:PRODUCES]->(:BioCycClass)', '(:db_HumanCyc)-[:ENZYME_LINK]->(:db_Enzyme)', '(:db_HumanCyc)-[:ENZYME_LINK]->(:EC_Number)', '(:db_HumanCyc)-[:REGULATES]->(:db_BioCyc)', '(:db_HumanCyc)-[:REGULATES]->(:db_HumanCyc)', '(:db_HumanCyc)-[:REGULATES]->(:Regulation)', '(:db_HumanCyc)-[:REGULATES]->(:db_EcoCyc)', '(:db_HumanCyc)-[:REGULATES]->(:db_BsubCyc)', '(:db_HumanCyc)-[:REGULATES]->(:db_YeastCyc)', '(:db_HumanCyc)-[:REGULATES]->(:EnzReaction)', '(:db_HumanCyc)-[:GO_LINK]->(:db_GO)', '(:db_HumanCyc)-[:GO_LINK]->(:MolecularFunction)', '(:db_HumanCyc)-[:GO_LINK]->(:BiologicalProcess)', '(:db_HumanCyc)-[:GO_LINK]->(:CellularComponent)', '(:db_HumanCyc)-[:CATALYZES]->(:db_BioCyc)', '(:db_HumanCyc)-[:CATALYZES]->(:db_HumanCyc)', '(:db_HumanCyc)-[:CATALYZES]->(:EnzReaction)', '(:db_HumanCyc)-[:CATALYZES]->(:db_EcoCyc)', '(:db_HumanCyc)-[:CATALYZES]->(:db_PseudomonasCyc)', '(:db_HumanCyc)-[:CATALYZES]->(:Reaction)', '(:db_HumanCyc)-[:CATALYZES]->(:db_BsubCyc)', '(:db_HumanCyc)-[:CATALYZES]->(:db_YeastCyc)', '(:db_HumanCyc)-[:COMPONENT_OF]->(:db_BioCyc)', '(:db_HumanCyc)-[:COMPONENT_OF]->(:db_HumanCyc)', '(:db_HumanCyc)-[:COMPONENT_OF]->(:Protein)', '(:db_HumanCyc)-[:IS]->(:Gene)', '(:db_HumanCyc)-[:IS]->(:db_NCBI)', '(:db_HumanCyc)-[:IS]->(:Master)', '(:db_HumanCyc)-[:ENCODES]->(:db_BioCyc)', '(:db_HumanCyc)-[:ENCODES]->(:db_HumanCyc)', '(:db_HumanCyc)-[:ENCODES]->(:Protein)', '(:db_HumanCyc)-[:ENCODES]->(:RNA)', '(:db_HumanCyc)-[:MODIFIED_TO]->(:db_BioCyc)', '(:db_HumanCyc)-[:MODIFIED_TO]->(:db_HumanCyc)', '(:db_HumanCyc)-[:MODIFIED_TO]->(:RNA)', '(:db_YeastCyc)-[:HAS_SYNONYM]->(:Synonym)', '(:db_YeastCyc)-[:TYPE_OF]->(:db_BioCyc)', '(:db_YeastCyc)-[:TYPE_OF]->(:db_EcoCyc)', '(:db_YeastCyc)-[:TYPE_OF]->(:Compound)', '(:db_YeastCyc)-[:TYPE_OF]->(:db_HumanCyc)', '(:db_YeastCyc)-[:TYPE_OF]->(:db_YeastCyc)', '(:db_YeastCyc)-[:TYPE_OF]->(:db_PseudomonasCyc)', '(:db_YeastCyc)-[:TYPE_OF]->(:BioCycClass)', '(:db_YeastCyc)-[:TYPE_OF]->(:db_BsubCyc)', '(:db_YeastCyc)-[:CONSUMED_BY]->(:db_BioCyc)', '(:db_YeastCyc)-[:CONSUMED_BY]->(:Reaction)', '(:db_YeastCyc)-[:CONSUMED_BY]->(:db_BsubCyc)', '(:db_YeastCyc)-[:CONSUMED_BY]->(:db_EcoCyc)', '(:db_YeastCyc)-[:CONSUMED_BY]->(:db_YeastCyc)', '(:db_YeastCyc)-[:CONSUMED_BY]->(:db_HumanCyc)', '(:db_YeastCyc)-[:CONSUMED_BY]->(:db_PseudomonasCyc)', '(:db_YeastCyc)-[:CHEBI_LINK]->(:Chemical)', '(:db_YeastCyc)-[:CHEBI_LINK]->(:db_CHEBI)', '(:db_YeastCyc)-[:REGULATES]->(:db_BioCyc)', '(:db_YeastCyc)-[:REGULATES]->(:db_EcoCyc)', '(:db_YeastCyc)-[:REGULATES]->(:Regulation)', '(:db_YeastCyc)-[:REGULATES]->(:db_YeastCyc)', '(:db_YeastCyc)-[:REGULATES]->(:db_BsubCyc)', '(:db_YeastCyc)-[:REGULATES]->(:db_HumanCyc)', '(:db_YeastCyc)-[:REGULATES]->(:EnzReaction)', '(:db_YeastCyc)-[:IN_PATHWAY]->(:db_BioCyc)', '(:db_YeastCyc)-[:IN_PATHWAY]->(:db_EcoCyc)', '(:db_YeastCyc)-[:IN_PATHWAY]->(:db_HumanCyc)', '(:db_YeastCyc)-[:IN_PATHWAY]->(:db_YeastCyc)', '(:db_YeastCyc)-[:IN_PATHWAY]->(:db_PseudomonasCyc)', '(:db_YeastCyc)-[:IN_PATHWAY]->(:Pathway)', '(:db_YeastCyc)-[:IN_PATHWAY]->(:db_BsubCyc)', '(:db_YeastCyc)-[:PRODUCES]->(:db_BioCyc)', '(:db_YeastCyc)-[:PRODUCES]->(:db_EcoCyc)', '(:db_YeastCyc)-[:PRODUCES]->(:Compound)', '(:db_YeastCyc)-[:PRODUCES]->(:db_HumanCyc)', '(:db_YeastCyc)-[:PRODUCES]->(:db_YeastCyc)', '(:db_YeastCyc)-[:PRODUCES]->(:db_PseudomonasCyc)', '(:db_YeastCyc)-[:PRODUCES]->(:db_BsubCyc)', '(:db_YeastCyc)-[:PRODUCES]->(:BioCycClass)', '(:db_YeastCyc)-[:ENZYME_LINK]->(:db_Enzyme)', '(:db_YeastCyc)-[:ENZYME_LINK]->(:EC_Number)', '(:db_YeastCyc)-[:COMPONENT_OF]->(:db_BioCyc)', '(:db_YeastCyc)-[:COMPONENT_OF]->(:db_EcoCyc)', '(:db_YeastCyc)-[:COMPONENT_OF]->(:Protein)', '(:db_YeastCyc)-[:COMPONENT_OF]->(:Complex)', '(:db_YeastCyc)-[:COMPONENT_OF]->(:db_YeastCyc)', '(:db_YeastCyc)-[:IS]->(:Gene)', '(:db_YeastCyc)-[:IS]->(:db_NCBI)', '(:db_YeastCyc)-[:IS]->(:Master)', '(:db_YeastCyc)-[:ENCODES]->(:db_BioCyc)', '(:db_YeastCyc)-[:ENCODES]->(:db_YeastCyc)', '(:db_YeastCyc)-[:ENCODES]->(:Protein)', '(:db_YeastCyc)-[:ENCODES]->(:RNA)', '(:db_YeastCyc)-[:CATALYZES]->(:db_BioCyc)', '(:db_YeastCyc)-[:CATALYZES]->(:db_EcoCyc)', '(:db_YeastCyc)-[:CATALYZES]->(:db_HumanCyc)', '(:db_YeastCyc)-[:CATALYZES]->(:db_YeastCyc)', '(:db_YeastCyc)-[:CATALYZES]->(:db_PseudomonasCyc)', '(:db_YeastCyc)-[:CATALYZES]->(:Reaction)', '(:db_YeastCyc)-[:CATALYZES]->(:db_BsubCyc)', '(:db_YeastCyc)-[:CATALYZES]->(:EnzReaction)', '(:db_YeastCyc)-[:GO_LINK]->(:db_GO)', '(:db_YeastCyc)-[:GO_LINK]->(:MolecularFunction)', '(:db_YeastCyc)-[:GO_LINK]->(:CellularComponent)', '(:db_YeastCyc)-[:GO_LINK]->(:BiologicalProcess)', '(:db_PseudomonasCyc)-[:HAS_SYNONYM]->(:Synonym)', '(:db_PseudomonasCyc)-[:HAS_SYNONYM]->(:GlobalInclusion)', '(:db_PseudomonasCyc)-[:CONSUMED_BY]->(:db_BioCyc)', '(:db_PseudomonasCyc)-[:CONSUMED_BY]->(:db_HumanCyc)', '(:db_PseudomonasCyc)-[:CONSUMED_BY]->(:Reaction)', '(:db_PseudomonasCyc)-[:CONSUMED_BY]->(:db_EcoCyc)', '(:db_PseudomonasCyc)-[:CONSUMED_BY]->(:db_BsubCyc)', '(:db_PseudomonasCyc)-[:CONSUMED_BY]->(:db_YeastCyc)', '(:db_PseudomonasCyc)-[:CONSUMED_BY]->(:db_PseudomonasCyc)', '(:db_PseudomonasCyc)-[:TYPE_OF]->(:db_BioCyc)', '(:db_PseudomonasCyc)-[:TYPE_OF]->(:db_EcoCyc)', '(:db_PseudomonasCyc)-[:TYPE_OF]->(:Compound)', '(:db_PseudomonasCyc)-[:TYPE_OF]->(:db_HumanCyc)', '(:db_PseudomonasCyc)-[:TYPE_OF]->(:db_YeastCyc)', '(:db_PseudomonasCyc)-[:TYPE_OF]->(:db_PseudomonasCyc)', '(:db_PseudomonasCyc)-[:TYPE_OF]->(:BioCycClass)', '(:db_PseudomonasCyc)-[:TYPE_OF]->(:db_BsubCyc)', '(:db_PseudomonasCyc)-[:CHEBI_LINK]->(:Chemical)', '(:db_PseudomonasCyc)-[:CHEBI_LINK]->(:db_CHEBI)', '(:db_PseudomonasCyc)-[:REGULATES]->(:db_BioCyc)', '(:db_PseudomonasCyc)-[:REGULATES]->(:db_EcoCyc)', '(:db_PseudomonasCyc)-[:REGULATES]->(:Regulation)', '(:db_PseudomonasCyc)-[:REGULATES]->(:db_YeastCyc)', '(:db_PseudomonasCyc)-[:REGULATES]->(:db_BsubCyc)', '(:db_PseudomonasCyc)-[:REGULATES]->(:db_HumanCyc)', '(:db_PseudomonasCyc)-[:PRODUCES]->(:db_BioCyc)', '(:db_PseudomonasCyc)-[:PRODUCES]->(:db_EcoCyc)', '(:db_PseudomonasCyc)-[:PRODUCES]->(:Compound)', '(:db_PseudomonasCyc)-[:PRODUCES]->(:db_HumanCyc)', '(:db_PseudomonasCyc)-[:PRODUCES]->(:db_YeastCyc)', '(:db_PseudomonasCyc)-[:PRODUCES]->(:db_PseudomonasCyc)', '(:db_PseudomonasCyc)-[:PRODUCES]->(:db_BsubCyc)', '(:db_PseudomonasCyc)-[:PRODUCES]->(:BioCycClass)', '(:db_PseudomonasCyc)-[:ENZYME_LINK]->(:db_Enzyme)', '(:db_PseudomonasCyc)-[:ENZYME_LINK]->(:EC_Number)', '(:db_PseudomonasCyc)-[:IN_PATHWAY]->(:db_BioCyc)', '(:db_PseudomonasCyc)-[:IN_PATHWAY]->(:db_EcoCyc)', '(:db_PseudomonasCyc)-[:IN_PATHWAY]->(:Pathway)', '(:db_PseudomonasCyc)-[:IN_PATHWAY]->(:db_BsubCyc)', '(:db_PseudomonasCyc)-[:IN_PATHWAY]->(:db_PseudomonasCyc)', '(:db_PseudomonasCyc)-[:IN_PATHWAY]->(:db_YeastCyc)', '(:db_PseudomonasCyc)-[:IN_PATHWAY]->(:db_HumanCyc)', '(:db_PseudomonasCyc)-[:COMPONENT_OF]->(:db_BioCyc)', '(:db_PseudomonasCyc)-[:COMPONENT_OF]->(:db_EcoCyc)', '(:db_PseudomonasCyc)-[:COMPONENT_OF]->(:Protein)', '(:db_PseudomonasCyc)-[:COMPONENT_OF]->(:Complex)', '(:db_PseudomonasCyc)-[:COMPONENT_OF]->(:db_PseudomonasCyc)', '(:db_PseudomonasCyc)-[:CATALYZES]->(:db_BioCyc)', '(:db_PseudomonasCyc)-[:CATALYZES]->(:db_HumanCyc)', '(:db_PseudomonasCyc)-[:CATALYZES]->(:db_YeastCyc)', '(:db_PseudomonasCyc)-[:CATALYZES]->(:db_PseudomonasCyc)', '(:db_PseudomonasCyc)-[:CATALYZES]->(:Reaction)', '(:db_PseudomonasCyc)-[:CATALYZES]->(:db_EcoCyc)', '(:db_PseudomonasCyc)-[:CATALYZES]->(:db_BsubCyc)', '(:db_PseudomonasCyc)-[:CATALYZES]->(:EnzReaction)', '(:db_PseudomonasCyc)-[:HAS_TAXONOMY]->(:db_NCBI)', '(:db_PseudomonasCyc)-[:HAS_TAXONOMY]->(:Taxonomy)', '(:db_PseudomonasCyc)-[:ENCODES]->(:db_BioCyc)', '(:db_PseudomonasCyc)-[:ENCODES]->(:db_PseudomonasCyc)', '(:db_PseudomonasCyc)-[:ENCODES]->(:Protein)', '(:db_PseudomonasCyc)-[:ENCODES]->(:RNA)', '(:db_PseudomonasCyc)-[:GO_LINK]->(:db_GO)', '(:db_PseudomonasCyc)-[:GO_LINK]->(:MolecularFunction)', '(:db_PseudomonasCyc)-[:GO_LINK]->(:CellularComponent)', '(:db_PseudomonasCyc)-[:GO_LINK]->(:BiologicalProcess)', '(:db_PseudomonasCyc)-[:ELEMENT_OF]->(:db_BioCyc)', '(:db_PseudomonasCyc)-[:ELEMENT_OF]->(:db_PseudomonasCyc)', '(:db_PseudomonasCyc)-[:ELEMENT_OF]->(:TranscriptionUnit)', '(:db_PseudomonasCyc)-[:MODIFIED_TO]->(:db_BioCyc)', '(:db_PseudomonasCyc)-[:MODIFIED_TO]->(:db_PseudomonasCyc)', '(:db_PseudomonasCyc)-[:MODIFIED_TO]->(:RNA)', '(:BioCycClass)-[:HAS_SYNONYM]->(:Synonym)', '(:BioCycClass)-[:HAS_SYNONYM]->(:GlobalInclusion)', '(:BioCycClass)-[:TYPE_OF]->(:db_BioCyc)', '(:BioCycClass)-[:TYPE_OF]->(:db_EcoCyc)', '(:BioCycClass)-[:TYPE_OF]->(:Compound)', '(:BioCycClass)-[:TYPE_OF]->(:db_HumanCyc)', '(:BioCycClass)-[:TYPE_OF]->(:db_YeastCyc)', '(:BioCycClass)-[:TYPE_OF]->(:db_PseudomonasCyc)', '(:BioCycClass)-[:TYPE_OF]->(:BioCycClass)', '(:BioCycClass)-[:TYPE_OF]->(:db_BsubCyc)', '(:BioCycClass)-[:REGULATES]->(:db_BioCyc)', '(:BioCycClass)-[:REGULATES]->(:db_EcoCyc)', '(:BioCycClass)-[:REGULATES]->(:Regulation)', '(:BioCycClass)-[:REGULATES]->(:db_YeastCyc)', '(:BioCycClass)-[:REGULATES]->(:db_HumanCyc)', '(:BioCycClass)-[:REGULATES]->(:db_BsubCyc)', '(:BioCycClass)-[:CONSUMED_BY]->(:db_BioCyc)', '(:BioCycClass)-[:CONSUMED_BY]->(:db_HumanCyc)', '(:BioCycClass)-[:CONSUMED_BY]->(:Reaction)', '(:BioCycClass)-[:CONSUMED_BY]->(:db_PseudomonasCyc)', '(:BioCycClass)-[:CONSUMED_BY]->(:db_BsubCyc)', '(:BioCycClass)-[:CONSUMED_BY]->(:db_EcoCyc)', '(:BioCycClass)-[:CONSUMED_BY]->(:db_YeastCyc)', '(:BioCycClass)-[:CHEBI_LINK]->(:Chemical)', '(:BioCycClass)-[:CHEBI_LINK]->(:db_CHEBI)', '(:BioCycClass)-[:COMPONENT_OF]->(:db_BioCyc)', '(:BioCycClass)-[:COMPONENT_OF]->(:db_HumanCyc)', '(:BioCycClass)-[:COMPONENT_OF]->(:Protein)', '(:EnzReaction)-[:HAS_SYNONYM]->(:Synonym)', '(:EnzReaction)-[:CATALYZES]->(:db_BioCyc)', '(:EnzReaction)-[:CATALYZES]->(:db_EcoCyc)', '(:EnzReaction)-[:CATALYZES]->(:db_HumanCyc)', '(:EnzReaction)-[:CATALYZES]->(:db_PseudomonasCyc)', '(:EnzReaction)-[:CATALYZES]->(:Reaction)', '(:EnzReaction)-[:CATALYZES]->(:db_BsubCyc)', '(:EnzReaction)-[:CATALYZES]->(:db_YeastCyc)', '(:Promoter)-[:HAS_SYNONYM]->(:Synonym)', '(:Promoter)-[:ELEMENT_OF]->(:db_BioCyc)', '(:Promoter)-[:ELEMENT_OF]->(:db_EcoCyc)', '(:Promoter)-[:ELEMENT_OF]->(:TranscriptionUnit)', '(:Promoter)-[:ELEMENT_OF]->(:db_BsubCyc)', '(:Promoter)-[:ELEMENT_OF]->(:db_RegulonDB)', '(:Promoter)-[:ELEMENT_OF]->(:db_PseudomonasCyc)', '(:Reaction)-[:ENZYME_LINK]->(:db_Enzyme)', '(:Reaction)-[:ENZYME_LINK]->(:EC_Number)', '(:Reaction)-[:PRODUCES]->(:db_BioCyc)', '(:Reaction)-[:PRODUCES]->(:db_EcoCyc)', '(:Reaction)-[:PRODUCES]->(:Compound)', '(:Reaction)-[:PRODUCES]->(:db_HumanCyc)', '(:Reaction)-[:PRODUCES]->(:db_YeastCyc)', '(:Reaction)-[:PRODUCES]->(:db_PseudomonasCyc)', '(:Reaction)-[:PRODUCES]->(:BioCycClass)', '(:Reaction)-[:PRODUCES]->(:db_BsubCyc)', '(:Reaction)-[:PRODUCES]->(:Protein)', '(:Reaction)-[:PRODUCES]->(:Complex)', '(:Reaction)-[:IN_PATHWAY]->(:db_BioCyc)', '(:Reaction)-[:IN_PATHWAY]->(:db_EcoCyc)', '(:Reaction)-[:IN_PATHWAY]->(:Pathway)', '(:Reaction)-[:IN_PATHWAY]->(:db_PseudomonasCyc)', '(:Reaction)-[:IN_PATHWAY]->(:db_BsubCyc)', '(:Reaction)-[:IN_PATHWAY]->(:db_YeastCyc)', '(:Reaction)-[:IN_PATHWAY]->(:db_HumanCyc)', '(:Reaction)-[:HAS_SYNONYM]->(:Synonym)', '(:Reaction)-[:TYPE_OF]->(:db_BioCyc)', '(:Reaction)-[:TYPE_OF]->(:db_EcoCyc)', '(:Reaction)-[:TYPE_OF]->(:db_HumanCyc)', '(:Reaction)-[:TYPE_OF]->(:db_YeastCyc)', '(:Reaction)-[:TYPE_OF]->(:db_PseudomonasCyc)', '(:Reaction)-[:TYPE_OF]->(:BioCycClass)', '(:Reaction)-[:TYPE_OF]->(:db_BsubCyc)', '(:Protein)-[:HAS_SYNONYM]->(:Synonym)', '(:Protein)-[:CATALYZES]->(:db_BioCyc)', '(:Protein)-[:CATALYZES]->(:db_EcoCyc)', '(:Protein)-[:CATALYZES]->(:EnzReaction)', '(:Protein)-[:CATALYZES]->(:db_BsubCyc)', '(:Protein)-[:CATALYZES]->(:db_HumanCyc)', '(:Protein)-[:CATALYZES]->(:db_YeastCyc)', '(:Protein)-[:CATALYZES]->(:db_PseudomonasCyc)', '(:Protein)-[:GO_LINK]->(:db_GO)', '(:Protein)-[:GO_LINK]->(:MolecularFunction)', '(:Protein)-[:GO_LINK]->(:BiologicalProcess)', '(:Protein)-[:GO_LINK]->(:CellularComponent)', '(:Protein)-[:TYPE_OF]->(:db_BioCyc)', '(:Protein)-[:TYPE_OF]->(:db_EcoCyc)', '(:Protein)-[:TYPE_OF]->(:db_HumanCyc)', '(:Protein)-[:TYPE_OF]->(:db_YeastCyc)', '(:Protein)-[:TYPE_OF]->(:db_PseudomonasCyc)', '(:Protein)-[:TYPE_OF]->(:BioCycClass)', '(:Protein)-[:TYPE_OF]->(:db_BsubCyc)', '(:Protein)-[:COMPONENT_OF]->(:db_BioCyc)', '(:Protein)-[:COMPONENT_OF]->(:db_EcoCyc)', '(:Protein)-[:COMPONENT_OF]->(:Protein)', '(:Protein)-[:COMPONENT_OF]->(:Complex)', '(:Protein)-[:COMPONENT_OF]->(:db_PseudomonasCyc)', '(:Protein)-[:HAS_GENE]->(:Gene)', '(:Protein)-[:HAS_GENE]->(:db_NCBI)', '(:Protein)-[:HAS_GENE]->(:Master)', '(:Protein)-[:HAS_GENE]->(:db_BioCyc)', '(:Protein)-[:HAS_GENE]->(:db_PseudomonasCyc)', '(:Protein)-[:HAS_TAXONOMY]->(:db_NCBI)', '(:Protein)-[:HAS_TAXONOMY]->(:Taxonomy)', '(:Regulation)-[:REGULATES]->(:db_BioCyc)', '(:Regulation)-[:REGULATES]->(:db_EcoCyc)', '(:Regulation)-[:REGULATES]->(:EnzReaction)', '(:Regulation)-[:REGULATES]->(:Reaction)', '(:Regulation)-[:REGULATES]->(:Promoter)', '(:Regulation)-[:REGULATES]->(:TranscriptionUnit)', '(:Regulation)-[:REGULATES]->(:Gene)', '(:Regulation)-[:REGULATES]->(:Terminator)', '(:Regulation)-[:REGULATES]->(:db_BsubCyc)', '(:Regulation)-[:REGULATES]->(:db_YeastCyc)', '(:Regulation)-[:REGULATES]->(:db_HumanCyc)', '(:Regulation)-[:TYPE_OF]->(:db_BioCyc)', '(:Regulation)-[:TYPE_OF]->(:db_EcoCyc)', '(:Regulation)-[:TYPE_OF]->(:db_HumanCyc)', '(:Regulation)-[:TYPE_OF]->(:db_YeastCyc)', '(:Regulation)-[:TYPE_OF]->(:db_PseudomonasCyc)', '(:Regulation)-[:TYPE_OF]->(:BioCycClass)', '(:Regulation)-[:TYPE_OF]->(:db_BsubCyc)', '(:Regulation)-[:BINDS]->(:db_BioCyc)', '(:Regulation)-[:BINDS]->(:db_EcoCyc)', '(:Regulation)-[:BINDS]->(:DNABindingSite)', '(:Regulation)-[:BINDS]->(:db_BsubCyc)', '(:TranscriptionUnit)-[:HAS_SYNONYM]->(:Synonym)', '(:TranscriptionUnit)-[:ELEMENT_OF]->(:db_RegulonDB)', '(:TranscriptionUnit)-[:ELEMENT_OF]->(:Operon)', '(:DNABindingSite)-[:ELEMENT_OF]->(:db_BioCyc)', '(:DNABindingSite)-[:ELEMENT_OF]->(:db_EcoCyc)', '(:DNABindingSite)-[:ELEMENT_OF]->(:TranscriptionUnit)', '(:DNABindingSite)-[:ELEMENT_OF]->(:db_BsubCyc)', '(:db_PubMed)-[:HAS_AUTHOR]->(:db_PubMed)', '(:db_PubMed)-[:HAS_AUTHOR]->(:Author)', '(:Publication)-[:HAS_AUTHOR]->(:db_PubMed)', '(:Publication)-[:HAS_AUTHOR]->(:Author)', '(:Complex)-[:CATALYZES]->(:db_BioCyc)', '(:Complex)-[:CATALYZES]->(:db_EcoCyc)', '(:Complex)-[:CATALYZES]->(:EnzReaction)', '(:Complex)-[:CATALYZES]->(:db_HumanCyc)', '(:Complex)-[:HAS_SYNONYM]->(:Synonym)', '(:Complex)-[:HAS_SYNONYM]->(:GlobalInclusion)', '(:Complex)-[:COMPONENT_OF]->(:db_BioCyc)', '(:Complex)-[:COMPONENT_OF]->(:db_EcoCyc)', '(:Complex)-[:COMPONENT_OF]->(:Protein)', '(:Complex)-[:COMPONENT_OF]->(:Complex)', '(:Complex)-[:GO_LINK]->(:db_GO)', '(:Complex)-[:GO_LINK]->(:CellularComponent)', '(:Complex)-[:GO_LINK]->(:MolecularFunction)', '(:Complex)-[:GO_LINK]->(:BiologicalProcess)', '(:Complex)-[:CONSUMED_BY]->(:db_BioCyc)', '(:Complex)-[:CONSUMED_BY]->(:db_EcoCyc)', '(:Complex)-[:CONSUMED_BY]->(:Reaction)', '(:Complex)-[:REGULATES]->(:db_BioCyc)', '(:Complex)-[:REGULATES]->(:db_EcoCyc)', '(:Complex)-[:REGULATES]->(:Regulation)', '(:Complex)-[:TYPE_OF]->(:db_BioCyc)', '(:Complex)-[:TYPE_OF]->(:db_EcoCyc)', '(:Complex)-[:TYPE_OF]->(:db_HumanCyc)', '(:Complex)-[:TYPE_OF]->(:db_YeastCyc)', '(:Complex)-[:TYPE_OF]->(:db_PseudomonasCyc)', '(:Complex)-[:TYPE_OF]->(:BioCycClass)', '(:Complex)-[:TYPE_OF]->(:db_BsubCyc)', '(:Complex)-[:MODIFIED_TO]->(:db_BioCyc)', '(:Complex)-[:MODIFIED_TO]->(:db_EcoCyc)', '(:Complex)-[:MODIFIED_TO]->(:Protein)', '(:Complex)-[:MODIFIED_TO]->(:Complex)', '(:Gene)-[:HAS_SYNONYM]->(:Synonym)', '(:Gene)-[:HAS_TAXONOMY]->(:db_NCBI)', '(:Gene)-[:HAS_TAXONOMY]->(:Taxonomy)', '(:Gene)-[:GO_LINK]->(:BiologicalProcess)', '(:Gene)-[:GO_LINK]->(:db_GO)', '(:Gene)-[:GO_LINK]->(:MolecularFunction)', '(:Gene)-[:GO_LINK]->(:CellularComponent)', '(:Gene)-[:ENCODES]->(:db_BioCyc)', '(:Gene)-[:ENCODES]->(:db_HumanCyc)', '(:Gene)-[:ENCODES]->(:Protein)', '(:Gene)-[:IS]->(:Gene)', '(:Gene)-[:IS]->(:db_NCBI)', '(:Gene)-[:IS]->(:Master)', '(:Gene)-[:HAS_KO]->(:db_KEGG)', '(:Gene)-[:HAS_KO]->(:KO)', '(:Terminator)-[:ELEMENT_OF]->(:db_BioCyc)', '(:Terminator)-[:ELEMENT_OF]->(:db_EcoCyc)', '(:Terminator)-[:ELEMENT_OF]->(:TranscriptionUnit)', '(:Terminator)-[:ELEMENT_OF]->(:db_BsubCyc)', '(:Terminator)-[:ELEMENT_OF]->(:db_RegulonDB)', '(:Chemical)-[:MAPPED_TO_DESCRIPTOR]->(:db_MESH)', '(:Chemical)-[:MAPPED_TO_DESCRIPTOR]->(:TopicalDescriptor)', '(:Chemical)-[:MAPPED_TO_DESCRIPTOR]->(:Chemical)', '(:Chemical)-[:HAS_SYNONYM]->(:Synonym)', '(:Chemical)-[:IS_A]->(:Chemical)', '(:Chemical)-[:IS_A]->(:db_CHEBI)', '(:Chemical)-[:HAS_ROLE]->(:Chemical)', '(:Chemical)-[:HAS_ROLE]->(:db_CHEBI)', '(:Chemical)-[:HAS_PART]->(:Chemical)', '(:Chemical)-[:HAS_PART]->(:db_CHEBI)', '(:Chemical)-[:HAS_FUNCTIONAL_PARENT]->(:Chemical)', '(:Chemical)-[:HAS_FUNCTIONAL_PARENT]->(:db_CHEBI)', '(:Chemical)-[:IS_CONJUGATE_ACID_OF]->(:Chemical)', '(:Chemical)-[:IS_CONJUGATE_ACID_OF]->(:db_CHEBI)', '(:Chemical)-[:IS_CONJUGATE_BASE_OF]->(:Chemical)', '(:Chemical)-[:IS_CONJUGATE_BASE_OF]->(:db_CHEBI)', '(:Chemical)-[:IS_ENANTIOMER_OF]->(:Chemical)', '(:Chemical)-[:IS_ENANTIOMER_OF]->(:db_CHEBI)', '(:Chemical)-[:IS_SUBSTITUENT_GROUP_FROM]->(:Chemical)', '(:Chemical)-[:IS_SUBSTITUENT_GROUP_FROM]->(:db_CHEBI)', '(:Chemical)-[:HAS_PARENT_HYDRIDE]->(:Chemical)', '(:Chemical)-[:HAS_PARENT_HYDRIDE]->(:db_CHEBI)', '(:Chemical)-[:IS_TAUTOMER_OF]->(:Chemical)', '(:Chemical)-[:IS_TAUTOMER_OF]->(:db_CHEBI)', '(:Chemical)-[:HAS_TREENUMBER]->(:db_MESH)', '(:Chemical)-[:HAS_TREENUMBER]->(:TreeNumber)', '(:db_MESH)-[:MAPPED_TO_DESCRIPTOR]->(:Chemical)', '(:db_MESH)-[:MAPPED_TO_DESCRIPTOR]->(:db_MESH)', '(:db_MESH)-[:MAPPED_TO_DESCRIPTOR]->(:TopicalDescriptor)', '(:db_MESH)-[:MAPPED_TO_DESCRIPTOR]->(:Disease)', '(:db_MESH)-[:HAS_SYNONYM]->(:Synonym)', '(:db_MESH)-[:HAS_PARENT]->(:db_MESH)', '(:db_MESH)-[:HAS_PARENT]->(:TreeNumber)', '(:db_MESH)-[:HAS_TREENUMBER]->(:db_MESH)', '(:db_MESH)-[:HAS_TREENUMBER]->(:TreeNumber)', '(:Pathway)-[:TYPE_OF]->(:db_BioCyc)', '(:Pathway)-[:TYPE_OF]->(:db_EcoCyc)', '(:Pathway)-[:TYPE_OF]->(:db_HumanCyc)', '(:Pathway)-[:TYPE_OF]->(:db_YeastCyc)', '(:Pathway)-[:TYPE_OF]->(:db_PseudomonasCyc)', '(:Pathway)-[:TYPE_OF]->(:BioCycClass)', '(:Pathway)-[:TYPE_OF]->(:db_BsubCyc)', '(:Pathway)-[:HAS_SYNONYM]->(:Synonym)', '(:Pathway)-[:HAS_SYNONYM]->(:GlobalInclusion)', '(:Pathway)-[:IN_PATHWAY]->(:db_BioCyc)', '(:Pathway)-[:IN_PATHWAY]->(:Pathway)', '(:Pathway)-[:IN_PATHWAY]->(:db_BsubCyc)', '(:Pathway)-[:IN_PATHWAY]->(:db_EcoCyc)', '(:Pathway)-[:IN_PATHWAY]->(:db_YeastCyc)', '(:Pathway)-[:IN_PATHWAY]->(:db_PseudomonasCyc)', '(:Pathway)-[:IN_PATHWAY]->(:db_HumanCyc)', '(:RNA)-[:HAS_SYNONYM]->(:Synonym)', '(:RNA)-[:CONSUMED_BY]->(:db_BioCyc)', '(:RNA)-[:CONSUMED_BY]->(:db_EcoCyc)', '(:RNA)-[:CONSUMED_BY]->(:Reaction)', '(:RNA)-[:TYPE_OF]->(:db_BioCyc)', '(:RNA)-[:TYPE_OF]->(:db_EcoCyc)', '(:RNA)-[:TYPE_OF]->(:db_HumanCyc)', '(:RNA)-[:TYPE_OF]->(:db_YeastCyc)', '(:RNA)-[:TYPE_OF]->(:db_PseudomonasCyc)', '(:RNA)-[:TYPE_OF]->(:BioCycClass)', '(:RNA)-[:TYPE_OF]->(:db_BsubCyc)', '(:RNA)-[:COMPONENT_OF]->(:db_BioCyc)', '(:RNA)-[:COMPONENT_OF]->(:db_EcoCyc)', '(:RNA)-[:COMPONENT_OF]->(:Protein)', '(:RNA)-[:COMPONENT_OF]->(:Complex)', '(:RNA)-[:COMPONENT_OF]->(:db_BsubCyc)', '(:RNA)-[:COMPONENT_OF]->(:db_YeastCyc)', '(:RNA)-[:REGULATES]->(:db_BioCyc)', '(:RNA)-[:REGULATES]->(:db_EcoCyc)', '(:RNA)-[:REGULATES]->(:Regulation)', '(:RNA)-[:REGULATES]->(:db_BsubCyc)', '(:RNA)-[:MODIFIED_TO]->(:db_BioCyc)', '(:RNA)-[:MODIFIED_TO]->(:db_EcoCyc)', '(:RNA)-[:MODIFIED_TO]->(:RNA)', '(:RNA)-[:MODIFIED_TO]->(:db_BsubCyc)', '(:RNA)-[:MODIFIED_TO]->(:db_HumanCyc)', '(:RNA)-[:MODIFIED_TO]->(:db_PseudomonasCyc)', '(:db_UniProt)-[:HAS_SYNONYM]->(:Synonym)', '(:db_UniProt)-[:HAS_SYNONYM]->(:GlobalInclusion)', '(:db_UniProt)-[:HAS_GENE]->(:Gene)', '(:db_UniProt)-[:HAS_GENE]->(:db_NCBI)', '(:db_UniProt)-[:HAS_GENE]->(:Master)', '(:db_UniProt)-[:HAS_GENE]->(:db_BioCyc)', '(:db_UniProt)-[:HAS_GENE]->(:db_PseudomonasCyc)', '(:db_UniProt)-[:HAS_TAXONOMY]->(:db_NCBI)', '(:db_UniProt)-[:HAS_TAXONOMY]->(:Taxonomy)', '(:db_UniProt)-[:GO_LINK]->(:BiologicalProcess)', '(:db_UniProt)-[:GO_LINK]->(:db_GO)', '(:db_UniProt)-[:GO_LINK]->(:MolecularFunction)', '(:db_UniProt)-[:GO_LINK]->(:CellularComponent)', '(:Disease)-[:HAS_SYNONYM]->(:Synonym)', '(:Disease)-[:MAPPED_TO_DESCRIPTOR]->(:db_MESH)', '(:Disease)-[:MAPPED_TO_DESCRIPTOR]->(:Disease)', '(:Disease)-[:MAPPED_TO_DESCRIPTOR]->(:TopicalDescriptor)', '(:Disease)-[:MAPPED_TO_DESCRIPTOR]->(:Phenomena)', '(:Disease)-[:MAPPED_TO_DESCRIPTOR]->(:Anatomy)', '(:Disease)-[:HAS_TREENUMBER]->(:db_MESH)', '(:Disease)-[:HAS_TREENUMBER]->(:TreeNumber)', '(:TreeNumber)-[:HAS_PARENT]->(:db_MESH)', '(:TreeNumber)-[:HAS_PARENT]->(:TreeNumber)', '(:db_CHEBI)-[:HAS_SYNONYM]->(:Synonym)', '(:db_CHEBI)-[:IS_A]->(:Chemical)', '(:db_CHEBI)-[:IS_A]->(:db_CHEBI)', '(:db_CHEBI)-[:HAS_PART]->(:Chemical)', '(:db_CHEBI)-[:HAS_PART]->(:db_CHEBI)', '(:db_CHEBI)-[:HAS_ROLE]->(:Chemical)', '(:db_CHEBI)-[:HAS_ROLE]->(:db_CHEBI)', '(:db_CHEBI)-[:IS_CONJUGATE_BASE_OF]->(:Chemical)', '(:db_CHEBI)-[:IS_CONJUGATE_BASE_OF]->(:db_CHEBI)', '(:db_CHEBI)-[:HAS_FUNCTIONAL_PARENT]->(:Chemical)', '(:db_CHEBI)-[:HAS_FUNCTIONAL_PARENT]->(:db_CHEBI)', '(:db_CHEBI)-[:IS_ENANTIOMER_OF]->(:Chemical)', '(:db_CHEBI)-[:IS_ENANTIOMER_OF]->(:db_CHEBI)', '(:db_CHEBI)-[:IS_CONJUGATE_ACID_OF]->(:Chemical)', '(:db_CHEBI)-[:IS_CONJUGATE_ACID_OF]->(:db_CHEBI)', '(:db_CHEBI)-[:HAS_PARENT_HYDRIDE]->(:Chemical)', '(:db_CHEBI)-[:HAS_PARENT_HYDRIDE]->(:db_CHEBI)', '(:db_CHEBI)-[:IS_SUBSTITUENT_GROUP_FROM]->(:Chemical)', '(:db_CHEBI)-[:IS_SUBSTITUENT_GROUP_FROM]->(:db_CHEBI)', '(:db_CHEBI)-[:IS_TAUTOMER_OF]->(:Chemical)', '(:db_CHEBI)-[:IS_TAUTOMER_OF]->(:db_CHEBI)', '(:db_NCBI)-[:HAS_SYNONYM]->(:Synonym)', '(:db_NCBI)-[:HAS_PARENT]->(:db_NCBI)', '(:db_NCBI)-[:HAS_PARENT]->(:Taxonomy)', '(:db_NCBI)-[:HAS_TAXONOMY]->(:db_NCBI)', '(:db_NCBI)-[:HAS_TAXONOMY]->(:Taxonomy)', '(:db_NCBI)-[:GO_LINK]->(:db_GO)', '(:db_NCBI)-[:GO_LINK]->(:MolecularFunction)', '(:db_NCBI)-[:GO_LINK]->(:BiologicalProcess)', '(:db_NCBI)-[:GO_LINK]->(:CellularComponent)', '(:db_NCBI)-[:HAS_ORTHOLOG]->(:Gene)', '(:db_NCBI)-[:HAS_ORTHOLOG]->(:db_NCBI)', '(:db_NCBI)-[:HAS_ORTHOLOG]->(:Master)', '(:Taxonomy)-[:HAS_SYNONYM]->(:Synonym)', '(:Taxonomy)-[:HAS_PARENT]->(:db_NCBI)', '(:Taxonomy)-[:HAS_PARENT]->(:Taxonomy)', '(:Snippet)-[:INDICATES]->(:db_Literature)', '(:Snippet)-[:INDICATES]->(:Association)', '(:Snippet)-[:IN_PUB]->(:db_Literature)', '(:Snippet)-[:IN_PUB]->(:db_PubMed)', '(:Snippet)-[:IN_PUB]->(:Publication)', '(:db_Enzyme)-[:HAS_SYNONYM]->(:Synonym)', '(:db_Enzyme)-[:HAS_PARENT]->(:db_Enzyme)', '(:db_Enzyme)-[:HAS_PARENT]->(:EC_Number)', '(:EC_Number)-[:HAS_SYNONYM]->(:Synonym)', '(:EC_Number)-[:HAS_PARENT]->(:db_Enzyme)', '(:EC_Number)-[:HAS_PARENT]->(:EC_Number)', '(:db_RegulonDB)-[:IS]->(:Gene)', '(:db_RegulonDB)-[:IS]->(:db_NCBI)', '(:db_RegulonDB)-[:IS]->(:Master)', '(:db_RegulonDB)-[:ENCODES]->(:db_RegulonDB)', '(:db_RegulonDB)-[:ENCODES]->(:GeneProduct)', '(:db_RegulonDB)-[:ELEMENT_OF]->(:TranscriptionUnit)', '(:db_RegulonDB)-[:ELEMENT_OF]->(:db_RegulonDB)', '(:db_RegulonDB)-[:ELEMENT_OF]->(:Operon)', '(:db_RegulonDB)-[:HAS_SYNONYM]->(:Synonym)', '(:db_RegulonDB)-[:COMPONENT_OF]->(:db_RegulonDB)', '(:db_RegulonDB)-[:COMPONENT_OF]->(:TranscriptionFactor)', '(:db_RegulonDB)-[:COMPONENT_OF]->(:Regulon)', '(:db_RegulonDB)-[:REGULATES]->(:Gene)', '(:db_RegulonDB)-[:REGULATES]->(:db_RegulonDB)', '(:db_RegulonDB)-[:REGULATES]->(:Operon)', '(:db_RegulonDB)-[:REGULATES]->(:Promoter)', '(:db_RegulonDB)-[:REGULATES]->(:TranscriptionFactor)', '(:LiteratureChemical)-[:MAPPED_TO]->(:Chemical)', '(:LiteratureChemical)-[:MAPPED_TO]->(:db_MESH)', '(:LiteratureChemical)-[:MAPPED_TO]->(:TopicalDescriptor)', '(:LiteratureChemical)-[:MAPPED_TO]->(:db_CHEBI)', '(:LiteratureChemical)-[:HAS_ASSOCIATION]->(:db_Literature)', '(:LiteratureChemical)-[:HAS_ASSOCIATION]->(:Association)', '(:LiteratureChemical)-[:ASSOCIATED]->(:db_Literature)', '(:LiteratureChemical)-[:ASSOCIATED]->(:LiteratureEntity)', '(:LiteratureChemical)-[:ASSOCIATED]->(:LiteratureDisease)', '(:LiteratureChemical)-[:ASSOCIATED]->(:LiteratureGene)', '(:LiteratureEntity)-[:ASSOCIATED]->(:db_Literature)', '(:LiteratureEntity)-[:ASSOCIATED]->(:LiteratureEntity)', '(:LiteratureEntity)-[:ASSOCIATED]->(:LiteratureDisease)', '(:LiteratureEntity)-[:ASSOCIATED]->(:LiteratureGene)', '(:LiteratureEntity)-[:MAPPED_TO]->(:Chemical)', '(:LiteratureEntity)-[:MAPPED_TO]->(:db_MESH)', '(:LiteratureEntity)-[:MAPPED_TO]->(:Disease)', '(:LiteratureEntity)-[:MAPPED_TO]->(:TopicalDescriptor)', '(:LiteratureEntity)-[:MAPPED_TO]->(:db_CHEBI)', '(:LiteratureEntity)-[:MAPPED_TO]->(:Gene)', '(:LiteratureEntity)-[:MAPPED_TO]->(:db_NCBI)', '(:LiteratureEntity)-[:MAPPED_TO]->(:Master)', '(:LiteratureEntity)-[:HAS_ASSOCIATION]->(:db_Literature)', '(:LiteratureEntity)-[:HAS_ASSOCIATION]->(:Association)', '(:LiteratureGene)-[:ASSOCIATED]->(:db_Literature)', '(:LiteratureGene)-[:ASSOCIATED]->(:LiteratureEntity)', '(:LiteratureGene)-[:ASSOCIATED]->(:LiteratureDisease)', '(:LiteratureGene)-[:ASSOCIATED]->(:LiteratureGene)', '(:LiteratureGene)-[:MAPPED_TO]->(:Gene)', '(:LiteratureGene)-[:MAPPED_TO]->(:db_NCBI)', '(:LiteratureGene)-[:MAPPED_TO]->(:Master)', '(:LiteratureGene)-[:HAS_ASSOCIATION]->(:db_Literature)', '(:LiteratureGene)-[:HAS_ASSOCIATION]->(:Association)', '(:LiteratureDisease)-[:MAPPED_TO]->(:db_MESH)', '(:LiteratureDisease)-[:MAPPED_TO]->(:Disease)', '(:LiteratureDisease)-[:MAPPED_TO]->(:TopicalDescriptor)', '(:LiteratureDisease)-[:MAPPED_TO]->(:Phenomena)', '(:LiteratureDisease)-[:MAPPED_TO]->(:Anatomy)', '(:LiteratureDisease)-[:MAPPED_TO]->(:Chemical)', '(:GeneProduct)-[:HAS_SYNONYM]->(:Synonym)', '(:GeneProduct)-[:COMPONENT_OF]->(:db_RegulonDB)', '(:GeneProduct)-[:COMPONENT_OF]->(:TranscriptionFactor)', '(:Operon)-[:HAS_SYNONYM]->(:Synonym)', '(:Operon)-[:HAS_SYNONYM]->(:GlobalInclusion)', '(:Regulon)-[:HAS_SYNONYM]->(:Synonym)', '(:Regulon)-[:HAS_SYNONYM]->(:GlobalInclusion)', '(:Regulon)-[:REGULATES]->(:Promoter)', '(:Regulon)-[:REGULATES]->(:db_RegulonDB)', '(:TranscriptionFactor)-[:REGULATES]->(:Gene)', '(:TranscriptionFactor)-[:REGULATES]->(:db_RegulonDB)', '(:TranscriptionFactor)-[:REGULATES]->(:Operon)', '(:TranscriptionFactor)-[:REGULATES]->(:TranscriptionFactor)', '(:TranscriptionFactor)-[:COMPONENT_OF]->(:db_RegulonDB)', '(:TranscriptionFactor)-[:COMPONENT_OF]->(:Regulon)', '(:TranscriptionFactor)-[:HAS_SYNONYM]->(:Synonym)', '(:TranscriptionFactor)-[:HAS_SYNONYM]->(:GlobalInclusion)', '(:TopicalDescriptor)-[:HAS_TREENUMBER]->(:db_MESH)', '(:TopicalDescriptor)-[:HAS_TREENUMBER]->(:TreeNumber)', '(:TopicalDescriptor)-[:HAS_SYNONYM]->(:Synonym)', '(:Phenomena)-[:HAS_SYNONYM]->(:Synonym)', '(:Phenomena)-[:HAS_SYNONYM]->(:GlobalInclusion)', '(:Phenomena)-[:HAS_TREENUMBER]->(:db_MESH)', '(:Phenomena)-[:HAS_TREENUMBER]->(:TreeNumber)', '(:Anatomy)-[:HAS_SYNONYM]->(:Synonym)', '(:Anatomy)-[:HAS_SYNONYM]->(:GlobalInclusion)', '(:Anatomy)-[:HAS_TREENUMBER]->(:db_MESH)', '(:Anatomy)-[:HAS_TREENUMBER]->(:TreeNumber)', '(:Food)-[:HAS_SYNONYM]->(:Synonym)', '(:Food)-[:HAS_SYNONYM]->(:GlobalInclusion)', '(:Food)-[:HAS_TREENUMBER]->(:db_MESH)', '(:Food)-[:HAS_TREENUMBER]->(:TreeNumber)', '(:db_STRING)-[:HAS_GENE]->(:Gene)', '(:db_STRING)-[:HAS_GENE]->(:db_NCBI)', '(:db_STRING)-[:HAS_GENE]->(:Master)', '(:db_STRING)-[:HAS_GENE]->(:db_BioCyc)', '(:db_STRING)-[:HAS_GENE]->(:db_PseudomonasCyc)', '(:db_STRING)-[:HAS_SYNONYM]->(:Synonym)', '(:db_KEGG)-[:IN_PATHWAY]->(:Pathway)', '(:db_KEGG)-[:IN_PATHWAY]->(:db_KEGG)', '(:db_KEGG)-[:IS]->(:Gene)', '(:db_KEGG)-[:IS]->(:db_NCBI)', '(:db_KEGG)-[:IS]->(:Master)', '(:db_KEGG)-[:HAS_KO]->(:db_KEGG)', '(:db_KEGG)-[:HAS_KO]->(:KO)', '(:KO)-[:IN_PATHWAY]->(:Pathway)', '(:KO)-[:IN_PATHWAY]->(:db_KEGG)', '(:Genome)-[:HAS_PATHWAY]->(:Pathway)', '(:Genome)-[:HAS_PATHWAY]->(:db_KEGG)', '(:db_Lifelike)-[:HAS_SYNONYM]->(:Synonym)', '(:db_Lifelike)-[:HAS_SYNONYM]->(:GlobalInclusion)', '(:Phenotype)-[:HAS_SYNONYM]->(:Synonym)', '(:Phenotype)-[:HAS_SYNONYM]->(:GlobalInclusion)', '(:Phenotype)-[:HAS_TREENUMBER]->(:db_MESH)', '(:Phenotype)-[:HAS_TREENUMBER]->(:TreeNumber)', '(:Organism)-[:HAS_SYNONYM]->(:Synonym)', '(:Organism)-[:HAS_SYNONYM]->(:GlobalInclusion)', '(:Entity)-[:HAS_SYNONYM]->(:Synonym)', '(:Entity)-[:HAS_SYNONYM]->(:GlobalInclusion)', '(:Master)-[:HAS_SYNONYM]->(:Synonym)', '(:Master)-[:HAS_TAXONOMY]->(:db_NCBI)', '(:Master)-[:HAS_TAXONOMY]->(:Taxonomy)', '(:Master)-[:GO_LINK]->(:BiologicalProcess)', '(:Master)-[:GO_LINK]->(:db_GO)', '(:Master)-[:GO_LINK]->(:CellularComponent)', '(:Master)-[:GO_LINK]->(:MolecularFunction)', '(:Master)-[:HAS_ORTHOLOG]->(:Gene)', '(:Master)-[:HAS_ORTHOLOG]->(:db_NCBI)', '(:Master)-[:HAS_ORTHOLOG]->(:Master)', '(:GlobalInclusion)-[:HAS_SYNONYM]->(:Synonym)', '(:GlobalInclusion)-[:HAS_SYNONYM]->(:GlobalInclusion)', '(:Company)-[:HAS_SYNONYM]->(:Synonym)', '(:Company)-[:HAS_SYNONYM]->(:GlobalInclusion)', '(:LabStrain)-[:HAS_SYNONYM]->(:Synonym)', '(:LabStrain)-[:HAS_SYNONYM]->(:GlobalInclusion)', '(:__LiquibaseChangeSet)-[:IN_CHANGELOG]->(:__LiquibaseChangeLog)', '(:db_BsubCyc)-[:HAS_SYNONYM]->(:Synonym)', '(:db_BsubCyc)-[:HAS_SYNONYM]->(:GlobalInclusion)', '(:db_BsubCyc)-[:TYPE_OF]->(:db_BioCyc)', '(:db_BsubCyc)-[:TYPE_OF]->(:db_EcoCyc)', '(:db_BsubCyc)-[:TYPE_OF]->(:Compound)', '(:db_BsubCyc)-[:TYPE_OF]->(:db_HumanCyc)', '(:db_BsubCyc)-[:TYPE_OF]->(:db_YeastCyc)', '(:db_BsubCyc)-[:TYPE_OF]->(:db_PseudomonasCyc)', '(:db_BsubCyc)-[:TYPE_OF]->(:BioCycClass)', '(:db_BsubCyc)-[:TYPE_OF]->(:db_BsubCyc)', '(:db_BsubCyc)-[:CONSUMED_BY]->(:db_BioCyc)', '(:db_BsubCyc)-[:CONSUMED_BY]->(:Reaction)', '(:db_BsubCyc)-[:CONSUMED_BY]->(:db_BsubCyc)', '(:db_BsubCyc)-[:CONSUMED_BY]->(:db_EcoCyc)', '(:db_BsubCyc)-[:CONSUMED_BY]->(:db_HumanCyc)', '(:db_BsubCyc)-[:CONSUMED_BY]->(:db_YeastCyc)', '(:db_BsubCyc)-[:CONSUMED_BY]->(:db_PseudomonasCyc)', '(:db_BsubCyc)-[:CHEBI_LINK]->(:Chemical)', '(:db_BsubCyc)-[:CHEBI_LINK]->(:db_CHEBI)', '(:db_BsubCyc)-[:REGULATES]->(:db_BioCyc)', '(:db_BsubCyc)-[:REGULATES]->(:db_EcoCyc)', '(:db_BsubCyc)-[:REGULATES]->(:Regulation)', '(:db_BsubCyc)-[:REGULATES]->(:db_HumanCyc)', '(:db_BsubCyc)-[:REGULATES]->(:db_YeastCyc)', '(:db_BsubCyc)-[:REGULATES]->(:db_BsubCyc)', '(:db_BsubCyc)-[:REGULATES]->(:Promoter)', '(:db_BsubCyc)-[:REGULATES]->(:Terminator)', '(:db_BsubCyc)-[:REGULATES]->(:EnzReaction)', '(:db_BsubCyc)-[:PRODUCES]->(:db_BioCyc)', '(:db_BsubCyc)-[:PRODUCES]->(:db_EcoCyc)', '(:db_BsubCyc)-[:PRODUCES]->(:Compound)', '(:db_BsubCyc)-[:PRODUCES]->(:db_HumanCyc)', '(:db_BsubCyc)-[:PRODUCES]->(:db_YeastCyc)', '(:db_BsubCyc)-[:PRODUCES]->(:db_PseudomonasCyc)', '(:db_BsubCyc)-[:PRODUCES]->(:db_BsubCyc)', '(:db_BsubCyc)-[:PRODUCES]->(:BioCycClass)', '(:db_BsubCyc)-[:PRODUCES]->(:Protein)', '(:db_BsubCyc)-[:ENZYME_LINK]->(:db_Enzyme)', '(:db_BsubCyc)-[:ENZYME_LINK]->(:EC_Number)', '(:db_BsubCyc)-[:IN_PATHWAY]->(:db_BioCyc)', '(:db_BsubCyc)-[:IN_PATHWAY]->(:db_EcoCyc)', '(:db_BsubCyc)-[:IN_PATHWAY]->(:Pathway)', '(:db_BsubCyc)-[:IN_PATHWAY]->(:db_BsubCyc)', '(:db_BsubCyc)-[:IN_PATHWAY]->(:db_YeastCyc)', '(:db_BsubCyc)-[:IN_PATHWAY]->(:db_HumanCyc)', '(:db_BsubCyc)-[:IN_PATHWAY]->(:db_PseudomonasCyc)', '(:db_BsubCyc)-[:COMPONENT_OF]->(:db_BioCyc)', '(:db_BsubCyc)-[:COMPONENT_OF]->(:db_EcoCyc)', '(:db_BsubCyc)-[:COMPONENT_OF]->(:Protein)', '(:db_BsubCyc)-[:COMPONENT_OF]->(:Complex)', '(:db_BsubCyc)-[:COMPONENT_OF]->(:db_BsubCyc)', '(:db_BsubCyc)-[:ELEMENT_OF]->(:db_BioCyc)', '(:db_BsubCyc)-[:ELEMENT_OF]->(:TranscriptionUnit)', '(:db_BsubCyc)-[:ELEMENT_OF]->(:db_BsubCyc)', '(:db_BsubCyc)-[:IS]->(:Gene)', '(:db_BsubCyc)-[:IS]->(:db_NCBI)', '(:db_BsubCyc)-[:IS]->(:Master)', '(:db_BsubCyc)-[:ENCODES]->(:db_BioCyc)', '(:db_BsubCyc)-[:ENCODES]->(:Protein)', '(:db_BsubCyc)-[:ENCODES]->(:db_BsubCyc)', '(:db_BsubCyc)-[:ENCODES]->(:RNA)', '(:db_BsubCyc)-[:MODIFIED_TO]->(:db_BioCyc)', '(:db_BsubCyc)-[:MODIFIED_TO]->(:RNA)', '(:db_BsubCyc)-[:MODIFIED_TO]->(:db_BsubCyc)', '(:db_BsubCyc)-[:GO_LINK]->(:db_GO)', '(:db_BsubCyc)-[:GO_LINK]->(:CellularComponent)', '(:db_BsubCyc)-[:GO_LINK]->(:MolecularFunction)', '(:db_BsubCyc)-[:GO_LINK]->(:BiologicalProcess)', '(:db_BsubCyc)-[:CATALYZES]->(:db_BioCyc)', '(:db_BsubCyc)-[:CATALYZES]->(:EnzReaction)', '(:db_BsubCyc)-[:CATALYZES]->(:db_BsubCyc)', '(:db_BsubCyc)-[:CATALYZES]->(:db_PseudomonasCyc)', '(:db_BsubCyc)-[:CATALYZES]->(:Reaction)', '(:db_BsubCyc)-[:CATALYZES]->(:db_EcoCyc)', '(:db_BsubCyc)-[:CATALYZES]->(:db_HumanCyc)', '(:db_BsubCyc)-[:CATALYZES]->(:db_YeastCyc)', '(:db_BsubCyc)-[:BINDS]->(:db_BioCyc)', '(:db_BsubCyc)-[:BINDS]->(:DNABindingSite)', '(:db_BsubCyc)-[:BINDS]->(:db_BsubCyc)']\n",
      "        \n"
     ]
    }
   ],
   "source": [
    "show(graph.schema)"
   ]
  },
  {
   "cell_type": "markdown",
   "id": "64527b5b-82cb-415e-9bbb-63daedd2f0c6",
   "metadata": {
    "editable": true,
    "slideshow": {
     "slide_type": ""
    },
    "tags": []
   },
   "source": [
    "## Limit schema\n",
    "\n",
    "Whole schema is too big to fit into request context - limit it to required parts."
   ]
  },
  {
   "cell_type": "markdown",
   "id": "6ae59ca1-93d2-496b-aa54-554e4661a1ef",
   "metadata": {},
   "source": [
    "### Set utils"
   ]
  },
  {
   "cell_type": "code",
   "execution_count": 22,
   "id": "65d66ba9-b760-45fa-80aa-9d06f1d0dfc2",
   "metadata": {},
   "outputs": [],
   "source": [
    "result_parser_factory = lambda key: lambda result: list(map(lambda row: row[key], result))\n",
    "output_result_parser = result_parser_factory('output')"
   ]
  },
  {
   "cell_type": "markdown",
   "id": "81d6c3cf-1c02-491f-af31-b6dc7bb1db80",
   "metadata": {},
   "source": [
    "### Get preselected node properties"
   ]
  },
  {
   "cell_type": "code",
   "execution_count": 23,
   "id": "92112ba0-c2f3-4153-ab82-4e6e49c5dcec",
   "metadata": {
    "editable": true,
    "scrolled": true,
    "slideshow": {
     "slide_type": ""
    },
    "tags": []
   },
   "outputs": [
    {
     "name": "stdout",
     "output_type": "stream",
     "text": [
      "- labels: Compound\n",
      "  properties:\n",
      "  - property: displayName\n",
      "    type: STRING\n",
      "  - property: eid\n",
      "    type: STRING\n",
      "- labels: EnzReaction\n",
      "  properties:\n",
      "  - property: displayName\n",
      "    type: STRING\n",
      "  - property: eid\n",
      "    type: STRING\n",
      "- labels: Reaction\n",
      "  properties:\n",
      "  - property: eid\n",
      "    type: STRING\n",
      "  - property: displayName\n",
      "    type: STRING\n",
      "- labels: Regulation\n",
      "  properties:\n",
      "  - property: eid\n",
      "    type: STRING\n",
      "  - property: displayName\n",
      "    type: STRING\n",
      "\n"
     ]
    }
   ],
   "source": [
    "preselected_node_properties = [ \"displayName\", \"eid\" ]\n",
    "preselected_node_labels = [\"Compound\", \"Reaction\", \"EnzReaction\", \"Regulation\"]\n",
    "node_properties_query = \"\"\"\n",
    "CALL apoc.meta.data()\n",
    "YIELD label, other, elementType, type, property\n",
    "WHERE NOT type = \"RELATIONSHIP\" AND elementType = \"node\" AND label in $preselected_node_labels AND property in $preselected_node_properties\n",
    "WITH label AS nodeLabels, collect({property:property, type:type}) AS properties\n",
    "RETURN {labels: nodeLabels, properties: properties} AS output\n",
    "\"\"\"\n",
    "node_properties = output_result_parser(\n",
    "    graph.query(\n",
    "        node_properties_query,\n",
    "        dict(\n",
    "            preselected_node_properties=preselected_node_properties,\n",
    "            preselected_node_labels=preselected_node_labels\n",
    "        )\n",
    "    )\n",
    ")\n",
    "show(node_properties)"
   ]
  },
  {
   "cell_type": "markdown",
   "id": "576cdc57-aa35-44eb-80a9-7d8e190a94eb",
   "metadata": {},
   "source": [
    "### Get preselected relationship properties"
   ]
  },
  {
   "cell_type": "code",
   "execution_count": 24,
   "id": "f59f8403-3e8a-448d-a410-7d70bc835ee3",
   "metadata": {
    "editable": true,
    "slideshow": {
     "slide_type": ""
    },
    "tags": []
   },
   "outputs": [
    {
     "name": "stdout",
     "output_type": "stream",
     "text": [
      "[]\n",
      "\n"
     ]
    }
   ],
   "source": [
    "preselected_relationship_types = [\"CONSUMED_BY\", \"PRODUCES\", \"CATALYZES\", \"REGULATES\"]\n",
    "rel_properties_query = \"\"\"\n",
    "CALL apoc.meta.data()\n",
    "YIELD label, other, elementType, type, property\n",
    "WHERE NOT type = \"RELATIONSHIP\" AND elementType = \"relationship\" AND type in $preselected_relationship_types\n",
    "WITH label AS nodeLabels, collect({property:property, type:type}) AS properties\n",
    "RETURN {type: nodeLabels, properties: properties} AS output\n",
    "\"\"\"\n",
    "relationships_properties = output_result_parser(\n",
    "    graph.query(\n",
    "        rel_properties_query,\n",
    "        dict(\n",
    "            preselected_relationship_types=preselected_relationship_types,\n",
    "        )\n",
    "    )\n",
    ")\n",
    "show(relationships_properties)"
   ]
  },
  {
   "cell_type": "markdown",
   "id": "7dcccf1f-42f5-40c8-85e0-371a552302a2",
   "metadata": {},
   "source": [
    "### Get preselected relationships"
   ]
  },
  {
   "cell_type": "code",
   "execution_count": 25,
   "id": "4d0bba8c-c3d6-425e-94d2-e7afc5d059ad",
   "metadata": {
    "editable": true,
    "slideshow": {
     "slide_type": ""
    },
    "tags": []
   },
   "outputs": [
    {
     "name": "stdout",
     "output_type": "stream",
     "text": [
      "- end: Reaction\n",
      "  start: Compound\n",
      "  type: CONSUMED_BY\n",
      "- end: Regulation\n",
      "  start: Compound\n",
      "  type: REGULATES\n",
      "- end: Reaction\n",
      "  start: EnzReaction\n",
      "  type: CATALYZES\n",
      "- end: Compound\n",
      "  start: Reaction\n",
      "  type: PRODUCES\n",
      "- end: EnzReaction\n",
      "  start: Regulation\n",
      "  type: REGULATES\n",
      "- end: Reaction\n",
      "  start: Regulation\n",
      "  type: REGULATES\n",
      "\n"
     ]
    }
   ],
   "source": [
    "rel_query = \"\"\"\n",
    "CALL apoc.meta.data()\n",
    "YIELD label, other, elementType, type, property\n",
    "WHERE type = \"RELATIONSHIP\" AND elementType = \"node\" AND property in $preselected_relationship_types AND label in $preselected_node_labels\n",
    "UNWIND other AS other_node\n",
    "WITH label, property, toString(other_node) as other_node\n",
    "WHERE other_node in $preselected_node_labels\n",
    "RETURN {start: label, type: property, end: toString(other_node)} AS output\n",
    "\"\"\"\n",
    "relationships = output_result_parser(\n",
    "    graph.query(\n",
    "        rel_query,\n",
    "        dict(\n",
    "            preselected_relationship_types=preselected_relationship_types,\n",
    "            preselected_node_labels=preselected_node_labels\n",
    "        )\n",
    "    )\n",
    ")\n",
    "show(relationships)"
   ]
  },
  {
   "cell_type": "markdown",
   "id": "e6971ce7-21bd-4ec4-b231-ed805a8b334e",
   "metadata": {},
   "source": [
    "### Compose schema"
   ]
  },
  {
   "cell_type": "code",
   "execution_count": 26,
   "id": "ab33653c-75ba-4a31-a78f-7750d1194d24",
   "metadata": {
    "editable": true,
    "slideshow": {
     "slide_type": ""
    },
    "tags": []
   },
   "outputs": [
    {
     "name": "stdout",
     "output_type": "stream",
     "text": [
      "\n",
      "Node properties are the following:\n",
      "[{'properties': [{'property': 'displayName', 'type': 'STRING'}, {'property': 'eid', 'type': 'STRING'}], 'labels': 'Compound'}, {'properties': [{'property': 'displayName', 'type': 'STRING'}, {'property': 'eid', 'type': 'STRING'}], 'labels': 'EnzReaction'}, {'properties': [{'property': 'eid', 'type': 'STRING'}, {'property': 'displayName', 'type': 'STRING'}], 'labels': 'Reaction'}, {'properties': [{'property': 'eid', 'type': 'STRING'}, {'property': 'displayName', 'type': 'STRING'}], 'labels': 'Regulation'}]\n",
      "Relationship properties are the following:\n",
      "[]\n",
      "The relationships are the following:\n",
      "[{'start': 'Compound', 'end': 'Reaction', 'type': 'CONSUMED_BY'}, {'start': 'Compound', 'end': 'Regulation', 'type': 'REGULATES'}, {'start': 'EnzReaction', 'end': 'Reaction', 'type': 'CATALYZES'}, {'start': 'Reaction', 'end': 'Compound', 'type': 'PRODUCES'}, {'start': 'Regulation', 'end': 'EnzReaction', 'type': 'REGULATES'}, {'start': 'Regulation', 'end': 'Reaction', 'type': 'REGULATES'}]\n",
      "\n"
     ]
    }
   ],
   "source": [
    "limited_schema = f\"\"\"\n",
    "Node properties are the following:\n",
    "{node_properties}\n",
    "Relationship properties are the following:\n",
    "{relationships_properties}\n",
    "The relationships are the following:\n",
    "{relationships}\n",
    "\"\"\"\n",
    "show(limited_schema)"
   ]
  },
  {
   "cell_type": "markdown",
   "id": "1bd1da66-81cb-46d8-8148-71a8986046a3",
   "metadata": {},
   "source": [
    "### Set schema on the graph"
   ]
  },
  {
   "cell_type": "code",
   "execution_count": 27,
   "id": "c1a9644c-23ab-42bb-a0b8-6f2873929b22",
   "metadata": {
    "editable": true,
    "slideshow": {
     "slide_type": ""
    },
    "tags": []
   },
   "outputs": [
    {
     "name": "stdout",
     "output_type": "stream",
     "text": [
      "node_props:\n",
      "  Compound:\n",
      "  - property: displayName\n",
      "    type: STRING\n",
      "  - property: eid\n",
      "    type: STRING\n",
      "  EnzReaction:\n",
      "  - property: displayName\n",
      "    type: STRING\n",
      "  - property: eid\n",
      "    type: STRING\n",
      "  Reaction:\n",
      "  - property: eid\n",
      "    type: STRING\n",
      "  - property: displayName\n",
      "    type: STRING\n",
      "  Regulation:\n",
      "  - property: eid\n",
      "    type: STRING\n",
      "  - property: displayName\n",
      "    type: STRING\n",
      "rel_props: {}\n",
      "relationships:\n",
      "- end: Reaction\n",
      "  start: Compound\n",
      "  type: CONSUMED_BY\n",
      "- end: Regulation\n",
      "  start: Compound\n",
      "  type: REGULATES\n",
      "- end: Reaction\n",
      "  start: EnzReaction\n",
      "  type: CATALYZES\n",
      "- end: Compound\n",
      "  start: Reaction\n",
      "  type: PRODUCES\n",
      "- end: EnzReaction\n",
      "  start: Regulation\n",
      "  type: REGULATES\n",
      "- end: Reaction\n",
      "  start: Regulation\n",
      "  type: REGULATES\n",
      "\n"
     ]
    }
   ],
   "source": [
    "graph.schema = limited_schema\n",
    "graph.structured_schema = {\n",
    "    \"node_props\": {el[\"labels\"]: el[\"properties\"] for el in node_properties},\n",
    "    \"rel_props\": {el[\"type\"]: el[\"properties\"] for el in relationships_properties},\n",
    "    \"relationships\": relationships,\n",
    "}\n",
    "show(graph.structured_schema)"
   ]
  },
  {
   "cell_type": "markdown",
   "id": "1d0eadfb-2220-4085-bcbe-f00892d62560",
   "metadata": {},
   "source": [
    "## Prepare prompts"
   ]
  },
  {
   "cell_type": "code",
   "execution_count": 44,
   "id": "bcc8a296-950e-4d3a-bf13-5c2244c78137",
   "metadata": {
    "scrolled": true
   },
   "outputs": [
    {
     "name": "stdout",
     "output_type": "stream",
     "text": [
      "!!python/object:langchain.prompts.prompt.PromptTemplate\n",
      "__dict__:\n",
      "  input_variables:\n",
      "  - schema\n",
      "  - examples\n",
      "  - query\n",
      "  output_parser: null\n",
      "  partial_variables: {}\n",
      "  template: '\n",
      "\n",
      "    Task:Generate Cypher statements to query a graph database.\n",
      "\n",
      "    Instructions:\n",
      "\n",
      "    Use only the provided relationship types and properties in the schema.\n",
      "\n",
      "    Do not use any other relationship types or properties that are not provided.\n",
      "\n",
      "    If quering for relationship filter out following eids: [\"PROTON\"]\n",
      "\n",
      "    Schema:\n",
      "\n",
      "    {schema}\n",
      "\n",
      "    Examples:\n",
      "\n",
      "    {examples}\n",
      "\n",
      "    Note: Do not include any explanations or apologies in your responses.\n",
      "\n",
      "    Do not respond to any questions that might ask anything else than for you to construct\n",
      "    a Cypher statements.\n",
      "\n",
      "    Do not include any text except the generated Cypher statements.\n",
      "\n",
      "    Do not wrap statements in brackets.\n",
      "\n",
      "    Use example queries.\n",
      "\n",
      "\n",
      "    The question is:\n",
      "\n",
      "    {query}\n",
      "\n",
      "    '\n",
      "  template_format: f-string\n",
      "  validate_template: true\n",
      "__fields_set__: !!set\n",
      "  input_variables: null\n",
      "  template: null\n",
      "__private_attribute_values__:\n",
      "  _lc_kwargs:\n",
      "    input_variables:\n",
      "    - schema\n",
      "    - examples\n",
      "    - query\n",
      "    template: '\n",
      "\n",
      "      Task:Generate Cypher statements to query a graph database.\n",
      "\n",
      "      Instructions:\n",
      "\n",
      "      Use only the provided relationship types and properties in the schema.\n",
      "\n",
      "      Do not use any other relationship types or properties that are not provided.\n",
      "\n",
      "      If quering for relationship filter out following eids: [\"PROTON\"]\n",
      "\n",
      "      Schema:\n",
      "\n",
      "      {schema}\n",
      "\n",
      "      Examples:\n",
      "\n",
      "      {examples}\n",
      "\n",
      "      Note: Do not include any explanations or apologies in your responses.\n",
      "\n",
      "      Do not respond to any questions that might ask anything else than for you to\n",
      "      construct a Cypher statements.\n",
      "\n",
      "      Do not include any text except the generated Cypher statements.\n",
      "\n",
      "      Do not wrap statements in brackets.\n",
      "\n",
      "      Use example queries.\n",
      "\n",
      "\n",
      "      The question is:\n",
      "\n",
      "      {query}\n",
      "\n",
      "      '\n",
      "\n"
     ]
    }
   ],
   "source": [
    "from langchain import OpenAI, PromptTemplate\n",
    "\n",
    "SCHEMA_KEY = 'schema'\n",
    "EXAMPLES_KEY = 'examples'\n",
    "\n",
    "cypher_generation_template = f\"\"\"\n",
    "Task:Generate Cypher statements to query a graph database.\n",
    "Instructions:\n",
    "Use only the provided relationship types and properties in the schema.\n",
    "Do not use any other relationship types or properties that are not provided.\n",
    "If quering for relationship filter out following eids: [\"PROTON\"]\n",
    "Schema:\n",
    "{{{SCHEMA_KEY}}}\n",
    "Examples:\n",
    "{{{EXAMPLES_KEY}}}\n",
    "Note: Do not include any explanations or apologies in your responses.\n",
    "Do not respond to any questions that might ask anything else than for you to construct a Cypher statements.\n",
    "Do not include any text except the generated Cypher statements.\n",
    "Do not wrap statements in brackets.\n",
    "Use example queries.\n",
    "\n",
    "The question is:\n",
    "{{{QUERY_KEY}}}\n",
    "\"\"\"\n",
    "\n",
    "cypher_prompt = PromptTemplate(\n",
    "    input_variables=[SCHEMA_KEY, EXAMPLES_KEY, QUERY_KEY], template=cypher_generation_template\n",
    ")\n",
    "show(cypher_prompt)"
   ]
  },
  {
   "cell_type": "code",
   "execution_count": 45,
   "id": "e6dfb939-aab1-46a6-838f-c443b193d6a6",
   "metadata": {
    "scrolled": true
   },
   "outputs": [
    {
     "name": "stdout",
     "output_type": "stream",
     "text": [
      "!!python/object:langchain.prompts.chat.ChatPromptTemplate\n",
      "__dict__:\n",
      "  input_variables:\n",
      "  - eid_mapping\n",
      "  - examples\n",
      "  - query\n",
      "  - schema\n",
      "  messages:\n",
      "  - !!python/object:langchain.prompts.chat.SystemMessagePromptTemplate\n",
      "    __dict__: &id013\n",
      "      additional_kwargs: {}\n",
      "      prompt: !!python/object:langchain.prompts.prompt.PromptTemplate\n",
      "        __dict__: &id001\n",
      "          input_variables: []\n",
      "          output_parser: null\n",
      "          partial_variables: {}\n",
      "          template: You are an expert in field of biology and chemistry with access\n",
      "            to graph database.\n",
      "          template_format: f-string\n",
      "          validate_template: true\n",
      "        __fields_set__: &id002 !!set\n",
      "          input_variables: null\n",
      "          template: null\n",
      "        __private_attribute_values__:\n",
      "          _lc_kwargs: &id003\n",
      "            input_variables: []\n",
      "            template: You are an expert in field of biology and chemistry with access\n",
      "              to graph database.\n",
      "    __fields_set__: &id014 !!set\n",
      "      prompt: null\n",
      "    __private_attribute_values__:\n",
      "      _lc_kwargs: &id015\n",
      "        prompt: !!python/object:langchain.prompts.prompt.PromptTemplate\n",
      "          __dict__: *id001\n",
      "          __fields_set__: *id002\n",
      "          __private_attribute_values__:\n",
      "            _lc_kwargs: *id003\n",
      "  - !!python/object:langchain.prompts.chat.HumanMessagePromptTemplate\n",
      "    __dict__: &id016\n",
      "      additional_kwargs: {}\n",
      "      prompt: !!python/object:langchain.prompts.prompt.PromptTemplate\n",
      "        __dict__: &id004\n",
      "          input_variables:\n",
      "          - query\n",
      "          output_parser: null\n",
      "          partial_variables: {}\n",
      "          template: \"\\n                Step 1: For given inquiry identify core terms.\\n\\\n",
      "            \\                Step 2: Return mapping from core term to list of database\\\n",
      "            \\ 'eid' for related entities.\\n                Inqury: {query}\\n     \\\n",
      "            \\       \"\n",
      "          template_format: f-string\n",
      "          validate_template: true\n",
      "        __fields_set__: &id005 !!set\n",
      "          input_variables: null\n",
      "          template: null\n",
      "        __private_attribute_values__:\n",
      "          _lc_kwargs: &id006\n",
      "            input_variables:\n",
      "            - query\n",
      "            template: \"\\n                Step 1: For given inquiry identify core terms.\\n\\\n",
      "              \\                Step 2: Return mapping from core term to list of database\\\n",
      "              \\ 'eid' for related entities.\\n                Inqury: {query}\\n   \\\n",
      "              \\         \"\n",
      "    __fields_set__: &id017 !!set\n",
      "      prompt: null\n",
      "    __private_attribute_values__:\n",
      "      _lc_kwargs: &id018\n",
      "        prompt: !!python/object:langchain.prompts.prompt.PromptTemplate\n",
      "          __dict__: *id004\n",
      "          __fields_set__: *id005\n",
      "          __private_attribute_values__:\n",
      "            _lc_kwargs: *id006\n",
      "  - !!python/object:langchain.prompts.chat.AIMessagePromptTemplate\n",
      "    __dict__: &id019\n",
      "      additional_kwargs: {}\n",
      "      prompt: !!python/object:langchain.prompts.prompt.PromptTemplate\n",
      "        __dict__: &id007\n",
      "          input_variables:\n",
      "          - eid_mapping\n",
      "          output_parser: null\n",
      "          partial_variables: {}\n",
      "          template: '{eid_mapping}'\n",
      "          template_format: f-string\n",
      "          validate_template: true\n",
      "        __fields_set__: &id008 !!set\n",
      "          input_variables: null\n",
      "          template: null\n",
      "        __private_attribute_values__:\n",
      "          _lc_kwargs: &id009\n",
      "            input_variables:\n",
      "            - eid_mapping\n",
      "            template: '{eid_mapping}'\n",
      "    __fields_set__: &id020 !!set\n",
      "      prompt: null\n",
      "    __private_attribute_values__:\n",
      "      _lc_kwargs: &id021\n",
      "        prompt: !!python/object:langchain.prompts.prompt.PromptTemplate\n",
      "          __dict__: *id007\n",
      "          __fields_set__: *id008\n",
      "          __private_attribute_values__:\n",
      "            _lc_kwargs: *id009\n",
      "  - !!python/object:langchain.prompts.chat.HumanMessagePromptTemplate\n",
      "    __dict__: &id022\n",
      "      additional_kwargs: {}\n",
      "      prompt: !!python/object:langchain.prompts.prompt.PromptTemplate\n",
      "        __dict__: &id010\n",
      "          input_variables:\n",
      "          - schema\n",
      "          - examples\n",
      "          - query\n",
      "          output_parser: null\n",
      "          partial_variables: {}\n",
      "          template: '\n",
      "\n",
      "            Task:Generate Cypher statements to query a graph database.\n",
      "\n",
      "            Instructions:\n",
      "\n",
      "            Use only the provided relationship types and properties in the schema.\n",
      "\n",
      "            Do not use any other relationship types or properties that are not provided.\n",
      "\n",
      "            If quering for relationship filter out following eids: [\"PROTON\"]\n",
      "\n",
      "            Schema:\n",
      "\n",
      "            {schema}\n",
      "\n",
      "            Examples:\n",
      "\n",
      "            {examples}\n",
      "\n",
      "            Note: Do not include any explanations or apologies in your responses.\n",
      "\n",
      "            Do not respond to any questions that might ask anything else than for\n",
      "            you to construct a Cypher statements.\n",
      "\n",
      "            Do not include any text except the generated Cypher statements.\n",
      "\n",
      "            Do not wrap statements in brackets.\n",
      "\n",
      "            Use example queries.\n",
      "\n",
      "\n",
      "            The question is:\n",
      "\n",
      "            {query}\n",
      "\n",
      "            '\n",
      "          template_format: f-string\n",
      "          validate_template: true\n",
      "        __fields_set__: &id011 !!set\n",
      "          input_variables: null\n",
      "          template: null\n",
      "        __private_attribute_values__:\n",
      "          _lc_kwargs: &id012\n",
      "            input_variables:\n",
      "            - schema\n",
      "            - examples\n",
      "            - query\n",
      "            template: '\n",
      "\n",
      "              Task:Generate Cypher statements to query a graph database.\n",
      "\n",
      "              Instructions:\n",
      "\n",
      "              Use only the provided relationship types and properties in the schema.\n",
      "\n",
      "              Do not use any other relationship types or properties that are not provided.\n",
      "\n",
      "              If quering for relationship filter out following eids: [\"PROTON\"]\n",
      "\n",
      "              Schema:\n",
      "\n",
      "              {schema}\n",
      "\n",
      "              Examples:\n",
      "\n",
      "              {examples}\n",
      "\n",
      "              Note: Do not include any explanations or apologies in your responses.\n",
      "\n",
      "              Do not respond to any questions that might ask anything else than for\n",
      "              you to construct a Cypher statements.\n",
      "\n",
      "              Do not include any text except the generated Cypher statements.\n",
      "\n",
      "              Do not wrap statements in brackets.\n",
      "\n",
      "              Use example queries.\n",
      "\n",
      "\n",
      "              The question is:\n",
      "\n",
      "              {query}\n",
      "\n",
      "              '\n",
      "    __fields_set__: &id023 !!set\n",
      "      prompt: null\n",
      "    __private_attribute_values__:\n",
      "      _lc_kwargs: &id024\n",
      "        prompt: !!python/object:langchain.prompts.prompt.PromptTemplate\n",
      "          __dict__: *id010\n",
      "          __fields_set__: *id011\n",
      "          __private_attribute_values__:\n",
      "            _lc_kwargs: *id012\n",
      "  output_parser: null\n",
      "  partial_variables: {}\n",
      "__fields_set__: !!set\n",
      "  input_variables: null\n",
      "  messages: null\n",
      "__private_attribute_values__:\n",
      "  _lc_kwargs:\n",
      "    input_variables:\n",
      "    - eid_mapping\n",
      "    - examples\n",
      "    - query\n",
      "    - schema\n",
      "    messages:\n",
      "    - !!python/object:langchain.prompts.chat.SystemMessagePromptTemplate\n",
      "      __dict__: *id013\n",
      "      __fields_set__: *id014\n",
      "      __private_attribute_values__:\n",
      "        _lc_kwargs: *id015\n",
      "    - !!python/object:langchain.prompts.chat.HumanMessagePromptTemplate\n",
      "      __dict__: *id016\n",
      "      __fields_set__: *id017\n",
      "      __private_attribute_values__:\n",
      "        _lc_kwargs: *id018\n",
      "    - !!python/object:langchain.prompts.chat.AIMessagePromptTemplate\n",
      "      __dict__: *id019\n",
      "      __fields_set__: *id020\n",
      "      __private_attribute_values__:\n",
      "        _lc_kwargs: *id021\n",
      "    - !!python/object:langchain.prompts.chat.HumanMessagePromptTemplate\n",
      "      __dict__: *id022\n",
      "      __fields_set__: *id023\n",
      "      __private_attribute_values__:\n",
      "        _lc_kwargs: *id024\n",
      "\n"
     ]
    }
   ],
   "source": [
    "from langchain.prompts import PromptTemplate\n",
    "from langchain.chains import GraphCypherQAChain\n",
    "from langchain.prompts.chat import (\n",
    "    ChatPromptTemplate,\n",
    "    SystemMessagePromptTemplate,\n",
    "    HumanMessagePromptTemplate,\n",
    "    AIMessagePromptTemplate,\n",
    ")\n",
    "\n",
    "graph_qa_prompt_template = ChatPromptTemplate.from_messages([\n",
    "    SystemMessagePromptTemplate(\n",
    "        prompt=PromptTemplate(\n",
    "            template=\"You are an expert in field of biology and chemistry with access to graph database.\",\n",
    "            input_variables=[]\n",
    "        )\n",
    "    ),\n",
    "    HumanMessagePromptTemplate(\n",
    "        prompt=PromptTemplate(\n",
    "            template=f\"\"\"\n",
    "                Step 1: For given inquiry identify core terms.\n",
    "                Step 2: Return mapping from core term to list of database 'eid' for related entities.\n",
    "                Inqury: {{{QUERY_KEY}}}\n",
    "            \"\"\",\n",
    "            input_variables=[QUERY_KEY],\n",
    "        )\n",
    "    ),\n",
    "    AIMessagePromptTemplate(\n",
    "        prompt=PromptTemplate(\n",
    "            template=f\"{{{EID_MAPPING_KEY}}}\",\n",
    "            input_variables=[EID_MAPPING_KEY]\n",
    "        )\n",
    "    ),\n",
    "    HumanMessagePromptTemplate(prompt=cypher_prompt)\n",
    "])\n",
    "show(graph_qa_prompt_template)"
   ]
  },
  {
   "cell_type": "code",
   "execution_count": 46,
   "id": "b720d7b3-31cd-4ec8-afac-f37e76a6e96f",
   "metadata": {},
   "outputs": [],
   "source": [
    "qa_prompt_template = f\"\"\"You are an assistant that helps to form nice and human understandable answers.\n",
    "The information part contains the provided information that you can use to construct an answer.\n",
    "Make the answer sound as a response to the question. Do not mention that you based the result on the given information.\n",
    "Information:\n",
    "{{context}}\n",
    "\n",
    "Question:\n",
    "{{{QUERY_KEY}}}\n",
    "Helpful Answer:\"\"\"\n",
    "qa_prompt = PromptTemplate(\n",
    "    input_variables=[\"context\", QUERY_KEY], template=qa_prompt_template\n",
    ")"
   ]
  },
  {
   "cell_type": "markdown",
   "id": "8c8e15d2-07ca-48a4-8ea0-654387f0311d",
   "metadata": {},
   "source": [
    "## Create chain"
   ]
  },
  {
   "cell_type": "markdown",
   "id": "457c788b-7939-4348-be6b-fcda1815c821",
   "metadata": {},
   "source": [
    "#### Adapt GraphCypherQAChain to accept custom input keys"
   ]
  },
  {
   "cell_type": "code",
   "execution_count": 47,
   "id": "8e5eeaa8-8bcf-45bd-8ebf-d9dd50d54634",
   "metadata": {},
   "outputs": [],
   "source": [
    "\"\"\"Question answering over a graph.\"\"\"\n",
    "from __future__ import annotations\n",
    "\n",
    "import re\n",
    "from typing import Any, Dict, List, Optional\n",
    "\n",
    "from langchain.callbacks.manager import CallbackManagerForChainRun\n",
    "from langchain.chains.base import Chain\n",
    "from langchain.chains.graph_qa.prompts import CYPHER_GENERATION_PROMPT, CYPHER_QA_PROMPT\n",
    "from langchain.chains.llm import LLMChain\n",
    "from langchain.graphs.neo4j_graph import Neo4jGraph\n",
    "from langchain.pydantic_v1 import Field\n",
    "from langchain.schema import BasePromptTemplate\n",
    "from langchain.schema.language_model import BaseLanguageModel\n",
    "\n",
    "INTERMEDIATE_STEPS_KEY = \"intermediate_steps\"\n",
    "\n",
    "\n",
    "def extract_cypher(text: str) -> str:\n",
    "    \"\"\"Extract Cypher code from a text.\n",
    "\n",
    "    Args:\n",
    "        text: Text to extract Cypher code from.\n",
    "\n",
    "    Returns:\n",
    "        Cypher code extracted from the text.\n",
    "    \"\"\"\n",
    "    # The pattern to find Cypher code enclosed in triple backticks\n",
    "    pattern = r\"```(.*?)```\"\n",
    "\n",
    "    # Find all matches in the input text\n",
    "    matches = re.findall(pattern, text, re.DOTALL)\n",
    "\n",
    "    return matches[0] if matches else text\n",
    "\n",
    "\n",
    "def construct_schema(\n",
    "    structured_schema: Dict[str, Any],\n",
    "    include_types: List[str],\n",
    "    exclude_types: List[str],\n",
    ") -> str:\n",
    "    \"\"\"Filter the schema based on included or excluded types\"\"\"\n",
    "\n",
    "    def filter_func(x: str) -> bool:\n",
    "        return x in include_types if include_types else x not in exclude_types\n",
    "\n",
    "    filtered_schema = {\n",
    "        \"node_props\": {\n",
    "            k: v\n",
    "            for k, v in structured_schema.get(\"node_props\", {}).items()\n",
    "            if filter_func(k)\n",
    "        },\n",
    "        \"rel_props\": {\n",
    "            k: v\n",
    "            for k, v in structured_schema.get(\"rel_props\", {}).items()\n",
    "            if filter_func(k)\n",
    "        },\n",
    "        \"relationships\": [\n",
    "            r\n",
    "            for r in structured_schema.get(\"relationships\", [])\n",
    "            if all(filter_func(r[t]) for t in [\"start\", \"end\", \"type\"])\n",
    "        ],\n",
    "    }\n",
    "\n",
    "    return (\n",
    "        f\"Node properties are the following: \\n {filtered_schema['node_props']}\\n\"\n",
    "        f\"Relationships properties are the following: \\n {filtered_schema['rel_props']}\"\n",
    "        \"\\nRelationships are: \\n\"\n",
    "        + str(\n",
    "            [\n",
    "                f\"(:{el['start']})-[:{el['type']}]->(:{el['end']})\"\n",
    "                for el in filtered_schema[\"relationships\"]\n",
    "            ]\n",
    "        )\n",
    "    )\n",
    "\n",
    "\n",
    "class GraphCypherQAChain(Chain):\n",
    "    \"\"\"Chain for question-answering against a graph by generating Cypher statements.\"\"\"\n",
    "\n",
    "    graph: Neo4jGraph = Field(exclude=True)\n",
    "    cypher_generation_chain: LLMChain\n",
    "    qa_chain: LLMChain\n",
    "    graph_schema: str\n",
    "    input_key: str = \"query\"  #: :meta private:\n",
    "    output_key: str = \"result\"  #: :meta private:\n",
    "    top_k: int = 10\n",
    "    \"\"\"Number of results to return from the query\"\"\"\n",
    "    return_intermediate_steps: bool = False\n",
    "    \"\"\"Whether or not to return the intermediate steps along with the final answer.\"\"\"\n",
    "    return_direct: bool = False\n",
    "    \"\"\"Whether or not to return the result of querying the graph directly.\"\"\"\n",
    "\n",
    "    @property\n",
    "    def input_keys(self) -> List[str]:\n",
    "        \"\"\"Return the input keys.\n",
    "\n",
    "        :meta private:\n",
    "        \"\"\"\n",
    "        return [self.input_key]\n",
    "\n",
    "    @property\n",
    "    def output_keys(self) -> List[str]:\n",
    "        \"\"\"Return the output keys.\n",
    "\n",
    "        :meta private:\n",
    "        \"\"\"\n",
    "        _output_keys = [self.output_key]\n",
    "        return _output_keys\n",
    "\n",
    "    @property\n",
    "    def _chain_type(self) -> str:\n",
    "        return \"graph_cypher_chain\"\n",
    "\n",
    "    @classmethod\n",
    "    def from_llm(\n",
    "        cls,\n",
    "        llm: Optional[BaseLanguageModel] = None,\n",
    "        *,\n",
    "        qa_prompt: BasePromptTemplate = CYPHER_QA_PROMPT,\n",
    "        cypher_prompt: BasePromptTemplate = CYPHER_GENERATION_PROMPT,\n",
    "        cypher_llm: Optional[BaseLanguageModel] = None,\n",
    "        qa_llm: Optional[BaseLanguageModel] = None,\n",
    "        exclude_types: List[str] = [],\n",
    "        include_types: List[str] = [],\n",
    "        **kwargs: Any,\n",
    "    ) -> GraphCypherQAChain:\n",
    "        \"\"\"Initialize from LLM.\"\"\"\n",
    "\n",
    "        if not cypher_llm and not llm:\n",
    "            raise ValueError(\"Either `llm` or `cypher_llm` parameters must be provided\")\n",
    "        if not qa_llm and not llm:\n",
    "            raise ValueError(\"Either `llm` or `qa_llm` parameters must be provided\")\n",
    "        if cypher_llm and qa_llm and llm:\n",
    "            raise ValueError(\n",
    "                \"You can specify up to two of 'cypher_llm', 'qa_llm'\"\n",
    "                \", and 'llm', but not all three simultaneously.\"\n",
    "            )\n",
    "\n",
    "        qa_chain = LLMChain(llm=qa_llm or llm, prompt=qa_prompt)\n",
    "        cypher_generation_chain = LLMChain(llm=cypher_llm or llm, prompt=cypher_prompt)\n",
    "\n",
    "        if exclude_types and include_types:\n",
    "            raise ValueError(\n",
    "                \"Either `exclude_types` or `include_types` \"\n",
    "                \"can be provided, but not both\"\n",
    "            )\n",
    "\n",
    "        graph_schema = construct_schema(\n",
    "            kwargs[\"graph\"].structured_schema, include_types, exclude_types\n",
    "        )\n",
    "\n",
    "        return cls(\n",
    "            graph_schema=graph_schema,\n",
    "            qa_chain=qa_chain,\n",
    "            cypher_generation_chain=cypher_generation_chain,\n",
    "            **kwargs,\n",
    "        )\n",
    "\n",
    "    def _call(\n",
    "        self,\n",
    "        inputs: Dict[str, Any],\n",
    "        run_manager: Optional[CallbackManagerForChainRun] = None,\n",
    "    ) -> Dict[str, Any]:\n",
    "        \"\"\"Generate Cypher statement, use it to look up in db and answer question.\"\"\"\n",
    "        _run_manager = run_manager or CallbackManagerForChainRun.get_noop_manager()\n",
    "        callbacks = _run_manager.get_child()\n",
    "\n",
    "        intermediate_steps: List = []\n",
    "\n",
    "        generated_cypher = self.cypher_generation_chain.run(\n",
    "            {**inputs, \"schema\": self.graph_schema}, callbacks=callbacks\n",
    "        )\n",
    "\n",
    "        # Extract Cypher code if it is wrapped in backticks\n",
    "        generated_cypher = extract_cypher(generated_cypher)\n",
    "\n",
    "        _run_manager.on_text(\"Generated Cypher:\", end=\"\\n\", verbose=self.verbose)\n",
    "        _run_manager.on_text(\n",
    "            generated_cypher, color=\"green\", end=\"\\n\", verbose=self.verbose\n",
    "        )\n",
    "\n",
    "        intermediate_steps.append({\"query\": generated_cypher})\n",
    "\n",
    "        context = []\n",
    "        for statement in generated_cypher.split(';'):\n",
    "            if statement:\n",
    "                # Retrieve and limit the number of results\n",
    "                context += self.graph.query(statement)[: self.top_k]\n",
    "\n",
    "        if self.return_direct:\n",
    "            final_result = context\n",
    "        else:\n",
    "            _run_manager.on_text(\"Full Context:\", end=\"\\n\", verbose=self.verbose)\n",
    "            _run_manager.on_text(\n",
    "                str(context), color=\"green\", end=\"\\n\", verbose=self.verbose\n",
    "            )\n",
    "\n",
    "            intermediate_steps.append({\"context\": context})\n",
    "\n",
    "            result = self.qa_chain(\n",
    "                {**inputs, \"context\": context},\n",
    "                callbacks=callbacks,\n",
    "            )\n",
    "            final_result = result[self.qa_chain.output_key]\n",
    "\n",
    "        chain_result: Dict[str, Any] = {self.output_key: final_result}\n",
    "        if self.return_intermediate_steps:\n",
    "            chain_result[INTERMEDIATE_STEPS_KEY] = intermediate_steps\n",
    "\n",
    "        return chain_result"
   ]
  },
  {
   "cell_type": "code",
   "execution_count": 59,
   "id": "6b4b3b5c-ba8a-40cd-85f1-8de2cf50c959",
   "metadata": {
    "editable": true,
    "raw_mimetype": "",
    "scrolled": true,
    "slideshow": {
     "slide_type": ""
    },
    "tags": []
   },
   "outputs": [
    {
     "name": "stderr",
     "output_type": "stream",
     "text": [
      "WARNING:***ARANGO_USERNAME***:cannot pickle '_thread.RLock' object\n"
     ]
    },
    {
     "name": "stdout",
     "output_type": "stream",
     "text": [
      "memory=None callbacks=None callback_manager=None verbose=True tags=None metadata=None graph=<langchain.graphs.neo4j_graph.Neo4jGraph object at 0x7f4e46640250> cypher_generation_chain=LLMChain(memory=None, callbacks=None, callback_manager=None, verbose=False, tags=None, metadata=None, prompt=ChatPromptTemplate(input_variables=['eid_mapping', 'examples', 'query', 'schema'], output_parser=None, partial_variables={}, messages=[SystemMessagePromptTemplate(prompt=PromptTemplate(input_variables=[], output_parser=None, partial_variables={}, template='You are an expert in field of biology and chemistry with access to graph database.', template_format='f-string', validate_template=True), additional_kwargs={}), HumanMessagePromptTemplate(prompt=PromptTemplate(input_variables=['query'], output_parser=None, partial_variables={}, template=\"\\n                Step 1: For given inquiry identify core terms.\\n                Step 2: Return mapping from core term to list of database 'eid' for related entities.\\n                Inqury: {query}\\n            \", template_format='f-string', validate_template=True), additional_kwargs={}), AIMessagePromptTemplate(prompt=PromptTemplate(input_variables=['eid_mapping'], output_parser=None, partial_variables={}, template='{eid_mapping}', template_format='f-string', validate_template=True), additional_kwargs={}), HumanMessagePromptTemplate(prompt=PromptTemplate(input_variables=['schema', 'examples', 'query'], output_parser=None, partial_variables={}, template='\\nTask:Generate Cypher statements to query a graph database.\\nInstructions:\\nUse only the provided relationship types and properties in the schema.\\nDo not use any other relationship types or properties that are not provided.\\nIf quering for relationship filter out following eids: [\"PROTON\"]\\nSchema:\\n{schema}\\nExamples:\\n{examples}\\nNote: Do not include any explanations or apologies in your responses.\\nDo not respond to any questions that might ask anything else than for you to construct a Cypher statements.\\nDo not include any text except the generated Cypher statements.\\nDo not wrap statements in brackets.\\nUse example queries.\\n\\nThe question is:\\n{query}\\n', template_format='f-string', validate_template=True), additional_kwargs={})]), llm=ChatOpenAI(cache=None, verbose=False, callbacks=None, callback_manager=None, tags=None, metadata=None, client=<class 'openai.api_resources.chat_completion.ChatCompletion'>, model_name='gpt-3.5-turbo', temperature=0.0, model_kwargs={}, openai_api_key='***OPENAI_API_KEY***', openai_api_base='', openai_organization='', openai_proxy='', request_timeout=None, max_retries=6, streaming=False, n=1, max_tokens=None, tiktoken_model_name=None), output_key='text', output_parser=StrOutputParser(), return_final_only=True, llm_kwargs={}) qa_chain=LLMChain(memory=None, callbacks=None, callback_manager=None, verbose=False, tags=None, metadata=None, prompt=PromptTemplate(input_variables=['context', 'query'], output_parser=None, partial_variables={}, template='You are an assistant that helps to form nice and human understandable answers.\\nThe information part contains the provided information that you can use to construct an answer.\\nMake the answer sound as a response to the question. Do not mention that you based the result on the given information.\\nInformation:\\n{context}\\n\\nQuestion:\\n{query}\\nHelpful Answer:', template_format='f-string', validate_template=True), llm=ChatOpenAI(cache=None, verbose=False, callbacks=None, callback_manager=None, tags=None, metadata=None, client=<class 'openai.api_resources.chat_completion.ChatCompletion'>, model_name='gpt-3.5-turbo', temperature=0.0, model_kwargs={}, openai_api_key='***OPENAI_API_KEY***', openai_api_base='', openai_organization='', openai_proxy='', request_timeout=None, max_retries=6, streaming=False, n=1, max_tokens=None, tiktoken_model_name=None), output_key='text', output_parser=StrOutputParser(), return_final_only=True, llm_kwargs={}) graph_schema=\"Node properties are the following: \\n {'Compound': [{'property': 'displayName', 'type': 'STRING'}, {'property': 'eid', 'type': 'STRING'}], 'EnzReaction': [{'property': 'displayName', 'type': 'STRING'}, {'property': 'eid', 'type': 'STRING'}], 'Reaction': [{'property': 'eid', 'type': 'STRING'}, {'property': 'displayName', 'type': 'STRING'}], 'Regulation': [{'property': 'eid', 'type': 'STRING'}, {'property': 'displayName', 'type': 'STRING'}]}\\nRelationships properties are the following: \\n {}\\nRelationships are: \\n['(:Compound)-[:CONSUMED_BY]->(:Reaction)', '(:Compound)-[:REGULATES]->(:Regulation)', '(:EnzReaction)-[:CATALYZES]->(:Reaction)', '(:Reaction)-[:PRODUCES]->(:Compound)', '(:Regulation)-[:REGULATES]->(:EnzReaction)', '(:Regulation)-[:REGULATES]->(:Reaction)']\" input_key='query' output_key='response' top_k=10 return_intermediate_steps=True return_direct=False\n"
     ]
    }
   ],
   "source": [
    "RESPONSE_KEY = 'response'\n",
    "graph_qa_chain = GraphCypherQAChain.from_llm(\n",
    "    ChatOpenAI(temperature=0),\n",
    "    graph=graph,\n",
    "    verbose=True,\n",
    "    cypher_prompt=graph_qa_prompt_template,\n",
    "    qa_prompt=qa_prompt,\n",
    "    output_key=RESPONSE_KEY,\n",
    "    return_intermediate_steps=True\n",
    ")\n",
    "show(graph_qa_chain)"
   ]
  },
  {
   "cell_type": "markdown",
   "id": "1b682554-65d3-454d-b029-1dde12cbb25a",
   "metadata": {},
   "source": [
    "### Declare query examples"
   ]
  },
  {
   "cell_type": "code",
   "execution_count": 68,
   "id": "975185f8-ef84-4167-8493-de2ed929f263",
   "metadata": {
    "scrolled": true
   },
   "outputs": [
    {
     "name": "stdout",
     "output_type": "stream",
     "text": [
      "\n",
      "    // Get shortest path between nodes\n",
      "    MATCH (a), (b)\n",
      "    WHERE a.eid in <list_of_term_a_eids> AND b.eid in <list_of_term_b_eids>\n",
      "    MATCH path=allShortestPaths((a)-[:CONSUMED_BY|PRODUCES|CATALYZES|REGULATES*1..5]-(b))\n",
      "    RETURN [e in apoc.path.elements(path) | coalesce(e.eid, type(e))] as path LIMIT 1;\n",
      "    \n",
      "\n",
      "    // Get nodes information\n",
      "    UNWIND <list_of_eids> as eid\n",
      "    MATCH (node {{eid: eid}}\n",
      "    RETURN node;\n",
      "    \n"
     ]
    }
   ],
   "source": [
    "all_relation_type_str = \"|\".join(preselected_relationship_types)\n",
    "max_search_depth = 5\n",
    "examples=[\n",
    "    f\"\"\"\n",
    "    // Get shortest path between nodes\n",
    "    MATCH (a), (b)\n",
    "    WHERE a.eid in <list_of_term_a_eids> AND b.eid in <list_of_term_b_eids>\n",
    "    MATCH path=allShortestPaths((a)-[:{all_relation_type_str}*1..{max_search_depth}]-(b))\n",
    "    RETURN [e in apoc.path.elements(path) | coalesce(e.eid, type(e))] as path LIMIT 1;\n",
    "    \"\"\",\n",
    "    \"\"\"\n",
    "    // Get nodes information\n",
    "    UNWIND <list_of_eids> as eid\n",
    "    MATCH (node {{eid: eid}}\n",
    "    RETURN node;\n",
    "    \"\"\"\n",
    "]\n",
    "show(*examples)"
   ]
  },
  {
   "cell_type": "markdown",
   "id": "ee716f40-cb4a-4c24-8ccd-c428134b52a9",
   "metadata": {},
   "source": [
    "### Declare run parameters"
   ]
  },
  {
   "cell_type": "code",
   "execution_count": 61,
   "id": "068b52ac-bf35-44ab-a06a-e224a517018b",
   "metadata": {
    "editable": true,
    "slideshow": {
     "slide_type": ""
    },
    "tags": []
   },
   "outputs": [
    {
     "name": "stdout",
     "output_type": "stream",
     "text": [
      "eid_mapping: '{term: Zn2+, eid: [ZN+2,27363,29105]}\n",
      "\n",
      "  {term: glycolate, eid: [GLYCOLLATE,C031149,29805]}'\n",
      "examples:\n",
      "- \"\\n    // Get shortest path between nodes\\n    MATCH (a), (b)\\n    WHERE a.eid in\\\n",
      "  \\ <term_a_eids> AND b.eid in <term_b_eids>\\n    MATCH path=allShortestPaths((a)-[:CONSUMED_BY|PRODUCES|CATALYZES|REGULATES*1..5]-(b))\\n\\\n",
      "  \\    RETURN [e in apoc.path.elements(path) | coalesce(e.eid, type(e))] as path LIMIT\\\n",
      "  \\ 1\\n    \"\n",
      "- \"\\n    // Get nodes information\\n    UNWIND <list_of_eids> as eid\\n    MATCH (node\\\n",
      "  \\ {{eid: eid}}\\n    RETURN node;\\n    \"\n",
      "query: What is the relationship between Zn2+ and glycolate?\n",
      "\n"
     ]
    }
   ],
   "source": [
    "graph_qa_chain_inputs = {\n",
    "    QUERY_KEY: query,\n",
    "    EID_MAPPING_KEY: eid_mapping,\n",
    "    EXAMPLES_KEY: examples\n",
    "}\n",
    "show(graph_qa_chain_inputs)"
   ]
  },
  {
   "cell_type": "markdown",
   "id": "4706a36a-ee22-457f-9802-4ac160a70db8",
   "metadata": {},
   "source": [
    "### Run"
   ]
  },
  {
   "cell_type": "code",
   "execution_count": 51,
   "id": "01645dd2-b34c-4e75-a84b-03b44966619a",
   "metadata": {},
   "outputs": [
    {
     "name": "stdout",
     "output_type": "stream",
     "text": [
      "\n",
      "\n",
      "\u001b[1m> Entering new GraphCypherQAChain chain...\u001b[0m\n",
      "Generated Cypher:\n",
      "\u001b[32;1m\u001b[1;3m// Get relationship between Zn2+ and glycolate\n",
      "MATCH (a:Compound {eid: 'ZN+2'}), (b:Compound {eid: 'GLYCOLLATE'})\n",
      "MATCH path=(a)-[:CONSUMED_BY|REGULATES|PRODUCES|CATALYZES*1..5]-(b)\n",
      "RETURN [e in apoc.path.elements(path) | coalesce(e.eid, type(e))] as relationship\n",
      "LIMIT 1\u001b[0m\n",
      "Full Context:\n",
      "\u001b[32;1m\u001b[1;3m[{'relationship': ['ZN+2', 'PRODUCES', 'TRANS-RXN-346', 'CONSUMED_BY', 'PROTON', 'PRODUCES', 'RXN0-7173', 'PRODUCES', 'GLYCOLLATE']}]\u001b[0m\n",
      "\n",
      "\u001b[1m> Finished chain.\u001b[0m\n"
     ]
    },
    {
     "data": {
      "text/plain": [
       "'The relationship between Zn2+ and glycolate is that Zn2+ produces trans-RXN-346, which is consumed by proton. Proton then produces RXN0-7173, which in turn produces glycollate.'"
      ]
     },
     "execution_count": 51,
     "metadata": {},
     "output_type": "execute_result"
    }
   ],
   "source": [
    "graph_qa_chain.run(graph_qa_chain_inputs)"
   ]
  },
  {
   "cell_type": "markdown",
   "id": "764e609b-dec4-4189-8d8e-0b3b313b9f4c",
   "metadata": {},
   "source": [
    "### Combine chains"
   ]
  },
  {
   "cell_type": "code",
   "execution_count": 63,
   "id": "0255bbee-99d9-4345-aa9b-28bb55d23a3c",
   "metadata": {},
   "outputs": [],
   "source": [
    "from langchain.chains import SequentialChain\n",
    "chain = SequentialChain(\n",
    "    chains=[\n",
    "        core_terms_chain,\n",
    "        find_eids_chain,\n",
    "        graph_qa_chain\n",
    "    ],\n",
    "    input_variables=[QUERY_KEY, EXAMPLES_KEY],\n",
    "    output_variables=[RESPONSE_KEY],\n",
    "    verbose=True\n",
    ")"
   ]
  },
  {
   "cell_type": "markdown",
   "id": "32d92363-5fcb-4dfa-8b56-662335022013",
   "metadata": {},
   "source": [
    "### Test"
   ]
  },
  {
   "cell_type": "code",
   "execution_count": 66,
   "id": "f3536688-2b27-4f13-8bc5-971f8582e1c8",
   "metadata": {},
   "outputs": [
    {
     "name": "stdout",
     "output_type": "stream",
     "text": [
      "\n",
      "\n",
      "\u001b[1m> Entering new SequentialChain chain...\u001b[0m\n",
      "\n",
      "\n",
      "\u001b[1m> Entering new LLMChain chain...\u001b[0m\n",
      "Prompt after formatting:\n",
      "\u001b[32;1m\u001b[1;3mSystem: Always response with comma separated list of chemical or biological terms identified in prompt.\n",
      "Human: What is the relationship between Zn2+ and glycolate?\u001b[0m\n",
      "\n",
      "\u001b[1m> Finished chain.\u001b[0m\n",
      "\n",
      "\n",
      "\u001b[1m> Entering new GraphQueryChain chain...\u001b[0m\n",
      "Graph Result:\n",
      "\u001b[32;1m\u001b[1;3m[{'output': '{term: Zn2+, eid: [ZN+2,27363,29105]}'}, {'output': '{term: glycolate, eid: [GLYCOLLATE,C031149,29805]}'}]\u001b[0m\n",
      "\n",
      "\u001b[1m> Finished chain.\u001b[0m\n",
      "\n",
      "\n",
      "\u001b[1m> Entering new GraphCypherQAChain chain...\u001b[0m\n",
      "Generated Cypher:\n",
      "\u001b[32;1m\u001b[1;3m// Get relationship between Zn2+ and glycolate\n",
      "MATCH (a:Compound {eid: 'ZN+2'}), (b:Compound {eid: 'GLYCOLLATE'})\n",
      "MATCH path=(a)-[:CONSUMED_BY|REGULATES|PRODUCES|CATALYZES*1..5]-(b)\n",
      "RETURN [e in apoc.path.elements(path) | coalesce(e.eid, type(e))] as relationship\n",
      "LIMIT 1\u001b[0m\n",
      "Full Context:\n",
      "\u001b[32;1m\u001b[1;3m[{'relationship': ['ZN+2', 'PRODUCES', 'TRANS-RXN-346', 'CONSUMED_BY', 'PROTON', 'PRODUCES', 'RXN0-7173', 'PRODUCES', 'GLYCOLLATE']}]\u001b[0m\n",
      "\n",
      "\u001b[1m> Finished chain.\u001b[0m\n",
      "\n",
      "\u001b[1m> Finished chain.\u001b[0m\n",
      "The relationship between Zn2+ and glycolate is that Zn2+ produces trans-RXN-346, which is consumed by proton. Proton then produces RXN0-7173, which in turn produces glycollate.\n"
     ]
    }
   ],
   "source": [
    "output = chain.run({\n",
    "  QUERY_KEY: query,\n",
    "  EXAMPLES_KEY: examples\n",
    "})\n",
    "show(output)"
   ]
  },
  {
   "cell_type": "code",
   "execution_count": 69,
   "id": "151c5471-219c-4a70-a58f-269ea8ef9515",
   "metadata": {},
   "outputs": [
    {
     "name": "stdout",
     "output_type": "stream",
     "text": [
      "\n",
      "\n",
      "\u001b[1m> Entering new SequentialChain chain...\u001b[0m\n",
      "\n",
      "\n",
      "\u001b[1m> Entering new LLMChain chain...\u001b[0m\n",
      "Prompt after formatting:\n",
      "\u001b[32;1m\u001b[1;3mSystem: Always response with comma separated list of chemical or biological terms identified in prompt.\n",
      "Human: What is the relationship between Zn2+ and glcD?\u001b[0m\n",
      "\n",
      "\u001b[1m> Finished chain.\u001b[0m\n",
      "\n",
      "\n",
      "\u001b[1m> Entering new GraphQueryChain chain...\u001b[0m\n",
      "Graph Result:\n",
      "\u001b[32;1m\u001b[1;3m[{'output': '{term: Zn2+, eid: [ZN+2,27363,29105]}'}, {'output': '{term: glcD, eid: [61770694,BSU28680,60653535,64200025,59158410,45671443,60669845,61892028,60977289,61724801,36133371,64304595,60766668,64465218,61255578,61770240,61649829,61870746,64355206,61192184,62016165,61081605,61853209,60549819,5866097,61579555,1185220,61843635,60991766,64182690,61179740,61811463,56563334,64322265,61575427,49869220,49611795,64091855,61671506,64300941,61789144,64191852,61684291,61740845,64147591,61717603,61755497,29368954,64444342,64316758,64251095,64057122,58156916,56651156,56687568,58531620,58452692,51132898,56670057,57098351,57436939,23410862,57548127,46330880,56807692,45543232,56475004,24794407,58191697,57608694,45523571,56676446,57227541,57475323,29814960,56917330,58280117,57260481,47446200,160488.PP_3745,G1G01-3998,511145.b2979,ECK120004105,G7545,56416607,58147976,34217495,52087707,56442155,46869649,45726306,947353,46167887,45096423,57138414,48013244,58725209,44695532,57405709,56380148,3027290,50136672,45021303,52178795,1484027,937770,881631,56815584,57636466,1026620,42292346,905503,56498881,57224696,56431763,58494075,58477400,58155213,58544378,58455623,58768014,58364321,57457484,34043713,56490777,47300419,57559346,55647938,57390026,57004898,47765088,56317780,58204011,56425000,56924919,56925957,56458906,22935808,31668413,57729202,58460641,56383312,58359078,58428811,57514613,58378559,56665699,57382324,56971665]}'}, {'output': '{term: GlcD, eid: [BSU28680-MONOMER,G1G01-3998-MONOMER,P0AEP9,P0AEQ0,P94535,G7545-MONOMER]}'}]\u001b[0m\n",
      "\n",
      "\u001b[1m> Finished chain.\u001b[0m\n",
      "\n",
      "\n",
      "\u001b[1m> Entering new GraphCypherQAChain chain...\u001b[0m\n",
      "Generated Cypher:\n",
      "\u001b[32;1m\u001b[1;3m// Get relationship between Zn2+ and glcD\n",
      "MATCH (a {eid: 'ZN+2'}), (b {eid: 'BSU28680-MONOMER'})\n",
      "MATCH path=(a)-[:CONSUMED_BY|PRODUCES|CATALYZES|REGULATES*1..5]-(b)\n",
      "RETURN [e in apoc.path.elements(path) | coalesce(e.eid, type(e))] as relationship;\u001b[0m\n"
     ]
    },
    {
     "ename": "KeyboardInterrupt",
     "evalue": "",
     "output_type": "error",
     "traceback": [
      "\u001b[0;31m---------------------------------------------------------------------------\u001b[0m",
      "\u001b[0;31mKeyboardInterrupt\u001b[0m                         Traceback (most recent call last)",
      "File \u001b[0;32m/usr/local/lib/python3.11/site-packages/langchain/graphs/neo4j_graph.py:84\u001b[0m, in \u001b[0;36mNeo4jGraph.query\u001b[0;34m(self, query, params)\u001b[0m\n\u001b[1;32m     83\u001b[0m     data \u001b[38;5;241m=\u001b[39m session\u001b[38;5;241m.\u001b[39mrun(query, params)\n\u001b[0;32m---> 84\u001b[0m     \u001b[38;5;28;01mreturn\u001b[39;00m \u001b[43m[\u001b[49m\u001b[43mr\u001b[49m\u001b[38;5;241;43m.\u001b[39;49m\u001b[43mdata\u001b[49m\u001b[43m(\u001b[49m\u001b[43m)\u001b[49m\u001b[43m \u001b[49m\u001b[38;5;28;43;01mfor\u001b[39;49;00m\u001b[43m \u001b[49m\u001b[43mr\u001b[49m\u001b[43m \u001b[49m\u001b[38;5;129;43;01min\u001b[39;49;00m\u001b[43m \u001b[49m\u001b[43mdata\u001b[49m\u001b[43m]\u001b[49m\n\u001b[1;32m     85\u001b[0m \u001b[38;5;28;01mexcept\u001b[39;00m CypherSyntaxError \u001b[38;5;28;01mas\u001b[39;00m e:\n",
      "File \u001b[0;32m/usr/local/lib/python3.11/site-packages/langchain/graphs/neo4j_graph.py:84\u001b[0m, in \u001b[0;36m<listcomp>\u001b[0;34m(.0)\u001b[0m\n\u001b[1;32m     83\u001b[0m     data \u001b[38;5;241m=\u001b[39m session\u001b[38;5;241m.\u001b[39mrun(query, params)\n\u001b[0;32m---> 84\u001b[0m     \u001b[38;5;28;01mreturn\u001b[39;00m [r\u001b[38;5;241m.\u001b[39mdata() \u001b[38;5;28;01mfor\u001b[39;00m r \u001b[38;5;129;01min\u001b[39;00m data]\n\u001b[1;32m     85\u001b[0m \u001b[38;5;28;01mexcept\u001b[39;00m CypherSyntaxError \u001b[38;5;28;01mas\u001b[39;00m e:\n",
      "File \u001b[0;32m~/.local/lib/python3.11/site-packages/neo4j/_sync/work/result.py:251\u001b[0m, in \u001b[0;36mResult.__iter__\u001b[0;34m(self)\u001b[0m\n\u001b[1;32m    250\u001b[0m \u001b[38;5;28;01melif\u001b[39;00m \u001b[38;5;28mself\u001b[39m\u001b[38;5;241m.\u001b[39m_streaming:\n\u001b[0;32m--> 251\u001b[0m     \u001b[38;5;28;43mself\u001b[39;49m\u001b[38;5;241;43m.\u001b[39;49m\u001b[43m_connection\u001b[49m\u001b[38;5;241;43m.\u001b[39;49m\u001b[43mfetch_message\u001b[49m\u001b[43m(\u001b[49m\u001b[43m)\u001b[49m\n\u001b[1;32m    252\u001b[0m \u001b[38;5;28;01melif\u001b[39;00m \u001b[38;5;28mself\u001b[39m\u001b[38;5;241m.\u001b[39m_discarding:\n",
      "File \u001b[0;32m~/.local/lib/python3.11/site-packages/neo4j/_sync/io/_common.py:180\u001b[0m, in \u001b[0;36mConnectionErrorHandler.__getattr__.<locals>.outer.<locals>.inner\u001b[0;34m(*args, **kwargs)\u001b[0m\n\u001b[1;32m    179\u001b[0m \u001b[38;5;28;01mtry\u001b[39;00m:\n\u001b[0;32m--> 180\u001b[0m     \u001b[43mfunc\u001b[49m\u001b[43m(\u001b[49m\u001b[38;5;241;43m*\u001b[39;49m\u001b[43margs\u001b[49m\u001b[43m,\u001b[49m\u001b[43m \u001b[49m\u001b[38;5;241;43m*\u001b[39;49m\u001b[38;5;241;43m*\u001b[39;49m\u001b[43mkwargs\u001b[49m\u001b[43m)\u001b[49m\n\u001b[1;32m    181\u001b[0m \u001b[38;5;28;01mexcept\u001b[39;00m (Neo4jError, ServiceUnavailable, SessionExpired) \u001b[38;5;28;01mas\u001b[39;00m exc:\n",
      "File \u001b[0;32m~/.local/lib/python3.11/site-packages/neo4j/_sync/io/_bolt.py:823\u001b[0m, in \u001b[0;36mBolt.fetch_message\u001b[0;34m(self)\u001b[0m\n\u001b[1;32m    822\u001b[0m \u001b[38;5;66;03m# Receive exactly one message\u001b[39;00m\n\u001b[0;32m--> 823\u001b[0m tag, fields \u001b[38;5;241m=\u001b[39m \u001b[38;5;28;43mself\u001b[39;49m\u001b[38;5;241;43m.\u001b[39;49m\u001b[43minbox\u001b[49m\u001b[38;5;241;43m.\u001b[39;49m\u001b[43mpop\u001b[49m\u001b[43m(\u001b[49m\n\u001b[1;32m    824\u001b[0m \u001b[43m    \u001b[49m\u001b[43mhydration_hooks\u001b[49m\u001b[38;5;241;43m=\u001b[39;49m\u001b[38;5;28;43mself\u001b[39;49m\u001b[38;5;241;43m.\u001b[39;49m\u001b[43mresponses\u001b[49m\u001b[43m[\u001b[49m\u001b[38;5;241;43m0\u001b[39;49m\u001b[43m]\u001b[49m\u001b[38;5;241;43m.\u001b[39;49m\u001b[43mhydration_hooks\u001b[49m\n\u001b[1;32m    825\u001b[0m \u001b[43m\u001b[49m\u001b[43m)\u001b[49m\n\u001b[1;32m    826\u001b[0m res \u001b[38;5;241m=\u001b[39m \u001b[38;5;28mself\u001b[39m\u001b[38;5;241m.\u001b[39m_process_message(tag, fields)\n",
      "File \u001b[0;32m~/.local/lib/python3.11/site-packages/neo4j/_sync/io/_common.py:74\u001b[0m, in \u001b[0;36mInbox.pop\u001b[0;34m(self, hydration_hooks)\u001b[0m\n\u001b[1;32m     73\u001b[0m \u001b[38;5;28;01mdef\u001b[39;00m \u001b[38;5;21mpop\u001b[39m(\u001b[38;5;28mself\u001b[39m, hydration_hooks):\n\u001b[0;32m---> 74\u001b[0m     \u001b[38;5;28;43mself\u001b[39;49m\u001b[38;5;241;43m.\u001b[39;49m\u001b[43m_buffer_one_chunk\u001b[49m\u001b[43m(\u001b[49m\u001b[43m)\u001b[49m\n\u001b[1;32m     75\u001b[0m     \u001b[38;5;28;01mtry\u001b[39;00m:\n",
      "File \u001b[0;32m~/.local/lib/python3.11/site-packages/neo4j/_sync/io/_common.py:53\u001b[0m, in \u001b[0;36mInbox._buffer_one_chunk\u001b[0;34m(self)\u001b[0m\n\u001b[1;32m     51\u001b[0m \u001b[38;5;28;01mwhile\u001b[39;00m chunk_size \u001b[38;5;241m==\u001b[39m \u001b[38;5;241m0\u001b[39m:\n\u001b[1;32m     52\u001b[0m     \u001b[38;5;66;03m# Determine the chunk size and skip noop\u001b[39;00m\n\u001b[0;32m---> 53\u001b[0m     \u001b[43mreceive_into_buffer\u001b[49m\u001b[43m(\u001b[49m\u001b[38;5;28;43mself\u001b[39;49m\u001b[38;5;241;43m.\u001b[39;49m\u001b[43m_socket\u001b[49m\u001b[43m,\u001b[49m\u001b[43m \u001b[49m\u001b[38;5;28;43mself\u001b[39;49m\u001b[38;5;241;43m.\u001b[39;49m\u001b[43m_buffer\u001b[49m\u001b[43m,\u001b[49m\u001b[43m \u001b[49m\u001b[38;5;241;43m2\u001b[39;49m\u001b[43m)\u001b[49m\n\u001b[1;32m     54\u001b[0m     chunk_size \u001b[38;5;241m=\u001b[39m \u001b[38;5;28mself\u001b[39m\u001b[38;5;241m.\u001b[39m_buffer\u001b[38;5;241m.\u001b[39mpop_u16()\n",
      "File \u001b[0;32m~/.local/lib/python3.11/site-packages/neo4j/_sync/io/_common.py:308\u001b[0m, in \u001b[0;36mreceive_into_buffer\u001b[0;34m(sock, buffer, n_bytes)\u001b[0m\n\u001b[1;32m    307\u001b[0m \u001b[38;5;28;01mwhile\u001b[39;00m buffer\u001b[38;5;241m.\u001b[39mused \u001b[38;5;241m<\u001b[39m end:\n\u001b[0;32m--> 308\u001b[0m     n \u001b[38;5;241m=\u001b[39m \u001b[43msock\u001b[49m\u001b[38;5;241;43m.\u001b[39;49m\u001b[43mrecv_into\u001b[49m\u001b[43m(\u001b[49m\u001b[43mview\u001b[49m\u001b[43m[\u001b[49m\u001b[43mbuffer\u001b[49m\u001b[38;5;241;43m.\u001b[39;49m\u001b[43mused\u001b[49m\u001b[43m:\u001b[49m\u001b[43mend\u001b[49m\u001b[43m]\u001b[49m\u001b[43m,\u001b[49m\u001b[43m \u001b[49m\u001b[43mend\u001b[49m\u001b[43m \u001b[49m\u001b[38;5;241;43m-\u001b[39;49m\u001b[43m \u001b[49m\u001b[43mbuffer\u001b[49m\u001b[38;5;241;43m.\u001b[39;49m\u001b[43mused\u001b[49m\u001b[43m)\u001b[49m\n\u001b[1;32m    309\u001b[0m     \u001b[38;5;28;01mif\u001b[39;00m n \u001b[38;5;241m==\u001b[39m \u001b[38;5;241m0\u001b[39m:\n",
      "File \u001b[0;32m~/.local/lib/python3.11/site-packages/neo4j/_async_compat/network/_bolt_socket.py:488\u001b[0m, in \u001b[0;36mBoltSocket.recv_into\u001b[0;34m(self, buffer, nbytes)\u001b[0m\n\u001b[1;32m    487\u001b[0m \u001b[38;5;28;01mdef\u001b[39;00m \u001b[38;5;21mrecv_into\u001b[39m(\u001b[38;5;28mself\u001b[39m, buffer, nbytes):\n\u001b[0;32m--> 488\u001b[0m     \u001b[38;5;28;01mreturn\u001b[39;00m \u001b[38;5;28;43mself\u001b[39;49m\u001b[38;5;241;43m.\u001b[39;49m\u001b[43m_wait_for_io\u001b[49m\u001b[43m(\u001b[49m\u001b[38;5;28;43mself\u001b[39;49m\u001b[38;5;241;43m.\u001b[39;49m\u001b[43m_socket\u001b[49m\u001b[38;5;241;43m.\u001b[39;49m\u001b[43mrecv_into\u001b[49m\u001b[43m,\u001b[49m\u001b[43m \u001b[49m\u001b[43mbuffer\u001b[49m\u001b[43m,\u001b[49m\u001b[43m \u001b[49m\u001b[43mnbytes\u001b[49m\u001b[43m)\u001b[49m\n",
      "File \u001b[0;32m~/.local/lib/python3.11/site-packages/neo4j/_async_compat/network/_bolt_socket.py:463\u001b[0m, in \u001b[0;36mBoltSocket._wait_for_io\u001b[0;34m(self, func, *args, **kwargs)\u001b[0m\n\u001b[1;32m    462\u001b[0m \u001b[38;5;28;01mif\u001b[39;00m \u001b[38;5;28mself\u001b[39m\u001b[38;5;241m.\u001b[39m_deadline \u001b[38;5;129;01mis\u001b[39;00m \u001b[38;5;28;01mNone\u001b[39;00m:\n\u001b[0;32m--> 463\u001b[0m     \u001b[38;5;28;01mreturn\u001b[39;00m \u001b[43mfunc\u001b[49m\u001b[43m(\u001b[49m\u001b[38;5;241;43m*\u001b[39;49m\u001b[43margs\u001b[49m\u001b[43m,\u001b[49m\u001b[43m \u001b[49m\u001b[38;5;241;43m*\u001b[39;49m\u001b[38;5;241;43m*\u001b[39;49m\u001b[43mkwargs\u001b[49m\u001b[43m)\u001b[49m\n\u001b[1;32m    464\u001b[0m timeout \u001b[38;5;241m=\u001b[39m \u001b[38;5;28mself\u001b[39m\u001b[38;5;241m.\u001b[39m_socket\u001b[38;5;241m.\u001b[39mgettimeout()\n",
      "\u001b[0;31mKeyboardInterrupt\u001b[0m: ",
      "\nDuring handling of the above exception, another exception occurred:\n",
      "\u001b[0;31mKeyboardInterrupt\u001b[0m                         Traceback (most recent call last)",
      "File \u001b[0;32m~/.local/lib/python3.11/site-packages/neo4j/_sync/work/session.py:223\u001b[0m, in \u001b[0;36mSession.close\u001b[0;34m(self)\u001b[0m\n\u001b[1;32m    222\u001b[0m \u001b[38;5;28mself\u001b[39m\u001b[38;5;241m.\u001b[39m_connection\u001b[38;5;241m.\u001b[39msend_all()\n\u001b[0;32m--> 223\u001b[0m \u001b[38;5;28;43mself\u001b[39;49m\u001b[38;5;241;43m.\u001b[39;49m\u001b[43m_connection\u001b[49m\u001b[38;5;241;43m.\u001b[39;49m\u001b[43mfetch_all\u001b[49m\u001b[43m(\u001b[49m\u001b[43m)\u001b[49m\n\u001b[1;32m    224\u001b[0m \u001b[38;5;66;03m# TODO: Investigate potential non graceful close states\u001b[39;00m\n",
      "File \u001b[0;32m~/.local/lib/python3.11/site-packages/neo4j/_sync/io/_bolt.py:840\u001b[0m, in \u001b[0;36mBolt.fetch_all\u001b[0;34m(self)\u001b[0m\n\u001b[1;32m    839\u001b[0m \u001b[38;5;28;01mwhile\u001b[39;00m \u001b[38;5;129;01mnot\u001b[39;00m response\u001b[38;5;241m.\u001b[39mcomplete:\n\u001b[0;32m--> 840\u001b[0m     detail_delta, summary_delta \u001b[38;5;241m=\u001b[39m \u001b[38;5;28;43mself\u001b[39;49m\u001b[38;5;241;43m.\u001b[39;49m\u001b[43mfetch_message\u001b[49m\u001b[43m(\u001b[49m\u001b[43m)\u001b[49m\n\u001b[1;32m    841\u001b[0m     detail_count \u001b[38;5;241m+\u001b[39m\u001b[38;5;241m=\u001b[39m detail_delta\n",
      "File \u001b[0;32m~/.local/lib/python3.11/site-packages/neo4j/_sync/io/_bolt.py:823\u001b[0m, in \u001b[0;36mBolt.fetch_message\u001b[0;34m(self)\u001b[0m\n\u001b[1;32m    822\u001b[0m \u001b[38;5;66;03m# Receive exactly one message\u001b[39;00m\n\u001b[0;32m--> 823\u001b[0m tag, fields \u001b[38;5;241m=\u001b[39m \u001b[38;5;28;43mself\u001b[39;49m\u001b[38;5;241;43m.\u001b[39;49m\u001b[43minbox\u001b[49m\u001b[38;5;241;43m.\u001b[39;49m\u001b[43mpop\u001b[49m\u001b[43m(\u001b[49m\n\u001b[1;32m    824\u001b[0m \u001b[43m    \u001b[49m\u001b[43mhydration_hooks\u001b[49m\u001b[38;5;241;43m=\u001b[39;49m\u001b[38;5;28;43mself\u001b[39;49m\u001b[38;5;241;43m.\u001b[39;49m\u001b[43mresponses\u001b[49m\u001b[43m[\u001b[49m\u001b[38;5;241;43m0\u001b[39;49m\u001b[43m]\u001b[49m\u001b[38;5;241;43m.\u001b[39;49m\u001b[43mhydration_hooks\u001b[49m\n\u001b[1;32m    825\u001b[0m \u001b[43m\u001b[49m\u001b[43m)\u001b[49m\n\u001b[1;32m    826\u001b[0m res \u001b[38;5;241m=\u001b[39m \u001b[38;5;28mself\u001b[39m\u001b[38;5;241m.\u001b[39m_process_message(tag, fields)\n",
      "File \u001b[0;32m~/.local/lib/python3.11/site-packages/neo4j/_sync/io/_common.py:74\u001b[0m, in \u001b[0;36mInbox.pop\u001b[0;34m(self, hydration_hooks)\u001b[0m\n\u001b[1;32m     73\u001b[0m \u001b[38;5;28;01mdef\u001b[39;00m \u001b[38;5;21mpop\u001b[39m(\u001b[38;5;28mself\u001b[39m, hydration_hooks):\n\u001b[0;32m---> 74\u001b[0m     \u001b[38;5;28;43mself\u001b[39;49m\u001b[38;5;241;43m.\u001b[39;49m\u001b[43m_buffer_one_chunk\u001b[49m\u001b[43m(\u001b[49m\u001b[43m)\u001b[49m\n\u001b[1;32m     75\u001b[0m     \u001b[38;5;28;01mtry\u001b[39;00m:\n",
      "File \u001b[0;32m~/.local/lib/python3.11/site-packages/neo4j/_sync/io/_common.py:53\u001b[0m, in \u001b[0;36mInbox._buffer_one_chunk\u001b[0;34m(self)\u001b[0m\n\u001b[1;32m     51\u001b[0m \u001b[38;5;28;01mwhile\u001b[39;00m chunk_size \u001b[38;5;241m==\u001b[39m \u001b[38;5;241m0\u001b[39m:\n\u001b[1;32m     52\u001b[0m     \u001b[38;5;66;03m# Determine the chunk size and skip noop\u001b[39;00m\n\u001b[0;32m---> 53\u001b[0m     \u001b[43mreceive_into_buffer\u001b[49m\u001b[43m(\u001b[49m\u001b[38;5;28;43mself\u001b[39;49m\u001b[38;5;241;43m.\u001b[39;49m\u001b[43m_socket\u001b[49m\u001b[43m,\u001b[49m\u001b[43m \u001b[49m\u001b[38;5;28;43mself\u001b[39;49m\u001b[38;5;241;43m.\u001b[39;49m\u001b[43m_buffer\u001b[49m\u001b[43m,\u001b[49m\u001b[43m \u001b[49m\u001b[38;5;241;43m2\u001b[39;49m\u001b[43m)\u001b[49m\n\u001b[1;32m     54\u001b[0m     chunk_size \u001b[38;5;241m=\u001b[39m \u001b[38;5;28mself\u001b[39m\u001b[38;5;241m.\u001b[39m_buffer\u001b[38;5;241m.\u001b[39mpop_u16()\n",
      "File \u001b[0;32m~/.local/lib/python3.11/site-packages/neo4j/_sync/io/_common.py:308\u001b[0m, in \u001b[0;36mreceive_into_buffer\u001b[0;34m(sock, buffer, n_bytes)\u001b[0m\n\u001b[1;32m    307\u001b[0m \u001b[38;5;28;01mwhile\u001b[39;00m buffer\u001b[38;5;241m.\u001b[39mused \u001b[38;5;241m<\u001b[39m end:\n\u001b[0;32m--> 308\u001b[0m     n \u001b[38;5;241m=\u001b[39m \u001b[43msock\u001b[49m\u001b[38;5;241;43m.\u001b[39;49m\u001b[43mrecv_into\u001b[49m\u001b[43m(\u001b[49m\u001b[43mview\u001b[49m\u001b[43m[\u001b[49m\u001b[43mbuffer\u001b[49m\u001b[38;5;241;43m.\u001b[39;49m\u001b[43mused\u001b[49m\u001b[43m:\u001b[49m\u001b[43mend\u001b[49m\u001b[43m]\u001b[49m\u001b[43m,\u001b[49m\u001b[43m \u001b[49m\u001b[43mend\u001b[49m\u001b[43m \u001b[49m\u001b[38;5;241;43m-\u001b[39;49m\u001b[43m \u001b[49m\u001b[43mbuffer\u001b[49m\u001b[38;5;241;43m.\u001b[39;49m\u001b[43mused\u001b[49m\u001b[43m)\u001b[49m\n\u001b[1;32m    309\u001b[0m     \u001b[38;5;28;01mif\u001b[39;00m n \u001b[38;5;241m==\u001b[39m \u001b[38;5;241m0\u001b[39m:\n",
      "File \u001b[0;32m~/.local/lib/python3.11/site-packages/neo4j/_async_compat/network/_bolt_socket.py:488\u001b[0m, in \u001b[0;36mBoltSocket.recv_into\u001b[0;34m(self, buffer, nbytes)\u001b[0m\n\u001b[1;32m    487\u001b[0m \u001b[38;5;28;01mdef\u001b[39;00m \u001b[38;5;21mrecv_into\u001b[39m(\u001b[38;5;28mself\u001b[39m, buffer, nbytes):\n\u001b[0;32m--> 488\u001b[0m     \u001b[38;5;28;01mreturn\u001b[39;00m \u001b[38;5;28;43mself\u001b[39;49m\u001b[38;5;241;43m.\u001b[39;49m\u001b[43m_wait_for_io\u001b[49m\u001b[43m(\u001b[49m\u001b[38;5;28;43mself\u001b[39;49m\u001b[38;5;241;43m.\u001b[39;49m\u001b[43m_socket\u001b[49m\u001b[38;5;241;43m.\u001b[39;49m\u001b[43mrecv_into\u001b[49m\u001b[43m,\u001b[49m\u001b[43m \u001b[49m\u001b[43mbuffer\u001b[49m\u001b[43m,\u001b[49m\u001b[43m \u001b[49m\u001b[43mnbytes\u001b[49m\u001b[43m)\u001b[49m\n",
      "File \u001b[0;32m~/.local/lib/python3.11/site-packages/neo4j/_async_compat/network/_bolt_socket.py:463\u001b[0m, in \u001b[0;36mBoltSocket._wait_for_io\u001b[0;34m(self, func, *args, **kwargs)\u001b[0m\n\u001b[1;32m    462\u001b[0m \u001b[38;5;28;01mif\u001b[39;00m \u001b[38;5;28mself\u001b[39m\u001b[38;5;241m.\u001b[39m_deadline \u001b[38;5;129;01mis\u001b[39;00m \u001b[38;5;28;01mNone\u001b[39;00m:\n\u001b[0;32m--> 463\u001b[0m     \u001b[38;5;28;01mreturn\u001b[39;00m \u001b[43mfunc\u001b[49m\u001b[43m(\u001b[49m\u001b[38;5;241;43m*\u001b[39;49m\u001b[43margs\u001b[49m\u001b[43m,\u001b[49m\u001b[43m \u001b[49m\u001b[38;5;241;43m*\u001b[39;49m\u001b[38;5;241;43m*\u001b[39;49m\u001b[43mkwargs\u001b[49m\u001b[43m)\u001b[49m\n\u001b[1;32m    464\u001b[0m timeout \u001b[38;5;241m=\u001b[39m \u001b[38;5;28mself\u001b[39m\u001b[38;5;241m.\u001b[39m_socket\u001b[38;5;241m.\u001b[39mgettimeout()\n",
      "\u001b[0;31mKeyboardInterrupt\u001b[0m: ",
      "\nDuring handling of the above exception, another exception occurred:\n",
      "\u001b[0;31mKeyboardInterrupt\u001b[0m                         Traceback (most recent call last)",
      "Cell \u001b[0;32mIn[69], line 1\u001b[0m\n\u001b[0;32m----> 1\u001b[0m output \u001b[38;5;241m=\u001b[39m \u001b[43mchain\u001b[49m\u001b[38;5;241;43m.\u001b[39;49m\u001b[43mrun\u001b[49m\u001b[43m(\u001b[49m\u001b[43m{\u001b[49m\n\u001b[1;32m      2\u001b[0m \u001b[43m  \u001b[49m\u001b[43mQUERY_KEY\u001b[49m\u001b[43m:\u001b[49m\u001b[43m \u001b[49m\u001b[38;5;124;43m\"\u001b[39;49m\u001b[38;5;124;43mWhat is the relationship between Zn2+ and glcD?\u001b[39;49m\u001b[38;5;124;43m\"\u001b[39;49m\u001b[43m,\u001b[49m\n\u001b[1;32m      3\u001b[0m \u001b[43m  \u001b[49m\u001b[43mEXAMPLES_KEY\u001b[49m\u001b[43m:\u001b[49m\u001b[43m \u001b[49m\u001b[43mexamples\u001b[49m\n\u001b[1;32m      4\u001b[0m \u001b[43m}\u001b[49m\u001b[43m)\u001b[49m\n\u001b[1;32m      5\u001b[0m show(output)\n",
      "File \u001b[0;32m/usr/local/lib/python3.11/site-packages/langchain/chains/base.py:487\u001b[0m, in \u001b[0;36mChain.run\u001b[0;34m(self, callbacks, tags, metadata, *args, **kwargs)\u001b[0m\n\u001b[1;32m    485\u001b[0m     \u001b[38;5;28;01mif\u001b[39;00m \u001b[38;5;28mlen\u001b[39m(args) \u001b[38;5;241m!=\u001b[39m \u001b[38;5;241m1\u001b[39m:\n\u001b[1;32m    486\u001b[0m         \u001b[38;5;28;01mraise\u001b[39;00m \u001b[38;5;167;01mValueError\u001b[39;00m(\u001b[38;5;124m\"\u001b[39m\u001b[38;5;124m`run` supports only one positional argument.\u001b[39m\u001b[38;5;124m\"\u001b[39m)\n\u001b[0;32m--> 487\u001b[0m     \u001b[38;5;28;01mreturn\u001b[39;00m \u001b[38;5;28;43mself\u001b[39;49m\u001b[43m(\u001b[49m\u001b[43margs\u001b[49m\u001b[43m[\u001b[49m\u001b[38;5;241;43m0\u001b[39;49m\u001b[43m]\u001b[49m\u001b[43m,\u001b[49m\u001b[43m \u001b[49m\u001b[43mcallbacks\u001b[49m\u001b[38;5;241;43m=\u001b[39;49m\u001b[43mcallbacks\u001b[49m\u001b[43m,\u001b[49m\u001b[43m \u001b[49m\u001b[43mtags\u001b[49m\u001b[38;5;241;43m=\u001b[39;49m\u001b[43mtags\u001b[49m\u001b[43m,\u001b[49m\u001b[43m \u001b[49m\u001b[43mmetadata\u001b[49m\u001b[38;5;241;43m=\u001b[39;49m\u001b[43mmetadata\u001b[49m\u001b[43m)\u001b[49m[\n\u001b[1;32m    488\u001b[0m         _output_key\n\u001b[1;32m    489\u001b[0m     ]\n\u001b[1;32m    491\u001b[0m \u001b[38;5;28;01mif\u001b[39;00m kwargs \u001b[38;5;129;01mand\u001b[39;00m \u001b[38;5;129;01mnot\u001b[39;00m args:\n\u001b[1;32m    492\u001b[0m     \u001b[38;5;28;01mreturn\u001b[39;00m \u001b[38;5;28mself\u001b[39m(kwargs, callbacks\u001b[38;5;241m=\u001b[39mcallbacks, tags\u001b[38;5;241m=\u001b[39mtags, metadata\u001b[38;5;241m=\u001b[39mmetadata)[\n\u001b[1;32m    493\u001b[0m         _output_key\n\u001b[1;32m    494\u001b[0m     ]\n",
      "File \u001b[0;32m/usr/local/lib/python3.11/site-packages/langchain/chains/base.py:292\u001b[0m, in \u001b[0;36mChain.__call__\u001b[0;34m(self, inputs, return_only_outputs, callbacks, tags, metadata, run_name, include_run_info)\u001b[0m\n\u001b[1;32m    290\u001b[0m \u001b[38;5;28;01mexcept\u001b[39;00m \u001b[38;5;167;01mBaseException\u001b[39;00m \u001b[38;5;28;01mas\u001b[39;00m e:\n\u001b[1;32m    291\u001b[0m     run_manager\u001b[38;5;241m.\u001b[39mon_chain_error(e)\n\u001b[0;32m--> 292\u001b[0m     \u001b[38;5;28;01mraise\u001b[39;00m e\n\u001b[1;32m    293\u001b[0m run_manager\u001b[38;5;241m.\u001b[39mon_chain_end(outputs)\n\u001b[1;32m    294\u001b[0m final_outputs: Dict[\u001b[38;5;28mstr\u001b[39m, Any] \u001b[38;5;241m=\u001b[39m \u001b[38;5;28mself\u001b[39m\u001b[38;5;241m.\u001b[39mprep_outputs(\n\u001b[1;32m    295\u001b[0m     inputs, outputs, return_only_outputs\n\u001b[1;32m    296\u001b[0m )\n",
      "File \u001b[0;32m/usr/local/lib/python3.11/site-packages/langchain/chains/base.py:286\u001b[0m, in \u001b[0;36mChain.__call__\u001b[0;34m(self, inputs, return_only_outputs, callbacks, tags, metadata, run_name, include_run_info)\u001b[0m\n\u001b[1;32m    279\u001b[0m run_manager \u001b[38;5;241m=\u001b[39m callback_manager\u001b[38;5;241m.\u001b[39mon_chain_start(\n\u001b[1;32m    280\u001b[0m     dumpd(\u001b[38;5;28mself\u001b[39m),\n\u001b[1;32m    281\u001b[0m     inputs,\n\u001b[1;32m    282\u001b[0m     name\u001b[38;5;241m=\u001b[39mrun_name,\n\u001b[1;32m    283\u001b[0m )\n\u001b[1;32m    284\u001b[0m \u001b[38;5;28;01mtry\u001b[39;00m:\n\u001b[1;32m    285\u001b[0m     outputs \u001b[38;5;241m=\u001b[39m (\n\u001b[0;32m--> 286\u001b[0m         \u001b[38;5;28;43mself\u001b[39;49m\u001b[38;5;241;43m.\u001b[39;49m\u001b[43m_call\u001b[49m\u001b[43m(\u001b[49m\u001b[43minputs\u001b[49m\u001b[43m,\u001b[49m\u001b[43m \u001b[49m\u001b[43mrun_manager\u001b[49m\u001b[38;5;241;43m=\u001b[39;49m\u001b[43mrun_manager\u001b[49m\u001b[43m)\u001b[49m\n\u001b[1;32m    287\u001b[0m         \u001b[38;5;28;01mif\u001b[39;00m new_arg_supported\n\u001b[1;32m    288\u001b[0m         \u001b[38;5;28;01melse\u001b[39;00m \u001b[38;5;28mself\u001b[39m\u001b[38;5;241m.\u001b[39m_call(inputs)\n\u001b[1;32m    289\u001b[0m     )\n\u001b[1;32m    290\u001b[0m \u001b[38;5;28;01mexcept\u001b[39;00m \u001b[38;5;167;01mBaseException\u001b[39;00m \u001b[38;5;28;01mas\u001b[39;00m e:\n\u001b[1;32m    291\u001b[0m     run_manager\u001b[38;5;241m.\u001b[39mon_chain_error(e)\n",
      "File \u001b[0;32m/usr/local/lib/python3.11/site-packages/langchain/chains/sequential.py:104\u001b[0m, in \u001b[0;36mSequentialChain._call\u001b[0;34m(self, inputs, run_manager)\u001b[0m\n\u001b[1;32m    102\u001b[0m \u001b[38;5;28;01mfor\u001b[39;00m i, chain \u001b[38;5;129;01min\u001b[39;00m \u001b[38;5;28menumerate\u001b[39m(\u001b[38;5;28mself\u001b[39m\u001b[38;5;241m.\u001b[39mchains):\n\u001b[1;32m    103\u001b[0m     callbacks \u001b[38;5;241m=\u001b[39m _run_manager\u001b[38;5;241m.\u001b[39mget_child()\n\u001b[0;32m--> 104\u001b[0m     outputs \u001b[38;5;241m=\u001b[39m \u001b[43mchain\u001b[49m\u001b[43m(\u001b[49m\u001b[43mknown_values\u001b[49m\u001b[43m,\u001b[49m\u001b[43m \u001b[49m\u001b[43mreturn_only_outputs\u001b[49m\u001b[38;5;241;43m=\u001b[39;49m\u001b[38;5;28;43;01mTrue\u001b[39;49;00m\u001b[43m,\u001b[49m\u001b[43m \u001b[49m\u001b[43mcallbacks\u001b[49m\u001b[38;5;241;43m=\u001b[39;49m\u001b[43mcallbacks\u001b[49m\u001b[43m)\u001b[49m\n\u001b[1;32m    105\u001b[0m     known_values\u001b[38;5;241m.\u001b[39mupdate(outputs)\n\u001b[1;32m    106\u001b[0m \u001b[38;5;28;01mreturn\u001b[39;00m {k: known_values[k] \u001b[38;5;28;01mfor\u001b[39;00m k \u001b[38;5;129;01min\u001b[39;00m \u001b[38;5;28mself\u001b[39m\u001b[38;5;241m.\u001b[39moutput_variables}\n",
      "File \u001b[0;32m/usr/local/lib/python3.11/site-packages/langchain/chains/base.py:292\u001b[0m, in \u001b[0;36mChain.__call__\u001b[0;34m(self, inputs, return_only_outputs, callbacks, tags, metadata, run_name, include_run_info)\u001b[0m\n\u001b[1;32m    290\u001b[0m \u001b[38;5;28;01mexcept\u001b[39;00m \u001b[38;5;167;01mBaseException\u001b[39;00m \u001b[38;5;28;01mas\u001b[39;00m e:\n\u001b[1;32m    291\u001b[0m     run_manager\u001b[38;5;241m.\u001b[39mon_chain_error(e)\n\u001b[0;32m--> 292\u001b[0m     \u001b[38;5;28;01mraise\u001b[39;00m e\n\u001b[1;32m    293\u001b[0m run_manager\u001b[38;5;241m.\u001b[39mon_chain_end(outputs)\n\u001b[1;32m    294\u001b[0m final_outputs: Dict[\u001b[38;5;28mstr\u001b[39m, Any] \u001b[38;5;241m=\u001b[39m \u001b[38;5;28mself\u001b[39m\u001b[38;5;241m.\u001b[39mprep_outputs(\n\u001b[1;32m    295\u001b[0m     inputs, outputs, return_only_outputs\n\u001b[1;32m    296\u001b[0m )\n",
      "File \u001b[0;32m/usr/local/lib/python3.11/site-packages/langchain/chains/base.py:286\u001b[0m, in \u001b[0;36mChain.__call__\u001b[0;34m(self, inputs, return_only_outputs, callbacks, tags, metadata, run_name, include_run_info)\u001b[0m\n\u001b[1;32m    279\u001b[0m run_manager \u001b[38;5;241m=\u001b[39m callback_manager\u001b[38;5;241m.\u001b[39mon_chain_start(\n\u001b[1;32m    280\u001b[0m     dumpd(\u001b[38;5;28mself\u001b[39m),\n\u001b[1;32m    281\u001b[0m     inputs,\n\u001b[1;32m    282\u001b[0m     name\u001b[38;5;241m=\u001b[39mrun_name,\n\u001b[1;32m    283\u001b[0m )\n\u001b[1;32m    284\u001b[0m \u001b[38;5;28;01mtry\u001b[39;00m:\n\u001b[1;32m    285\u001b[0m     outputs \u001b[38;5;241m=\u001b[39m (\n\u001b[0;32m--> 286\u001b[0m         \u001b[38;5;28;43mself\u001b[39;49m\u001b[38;5;241;43m.\u001b[39;49m\u001b[43m_call\u001b[49m\u001b[43m(\u001b[49m\u001b[43minputs\u001b[49m\u001b[43m,\u001b[49m\u001b[43m \u001b[49m\u001b[43mrun_manager\u001b[49m\u001b[38;5;241;43m=\u001b[39;49m\u001b[43mrun_manager\u001b[49m\u001b[43m)\u001b[49m\n\u001b[1;32m    287\u001b[0m         \u001b[38;5;28;01mif\u001b[39;00m new_arg_supported\n\u001b[1;32m    288\u001b[0m         \u001b[38;5;28;01melse\u001b[39;00m \u001b[38;5;28mself\u001b[39m\u001b[38;5;241m.\u001b[39m_call(inputs)\n\u001b[1;32m    289\u001b[0m     )\n\u001b[1;32m    290\u001b[0m \u001b[38;5;28;01mexcept\u001b[39;00m \u001b[38;5;167;01mBaseException\u001b[39;00m \u001b[38;5;28;01mas\u001b[39;00m e:\n\u001b[1;32m    291\u001b[0m     run_manager\u001b[38;5;241m.\u001b[39mon_chain_error(e)\n",
      "Cell \u001b[0;32mIn[47], line 189\u001b[0m, in \u001b[0;36mGraphCypherQAChain._call\u001b[0;34m(self, inputs, run_manager)\u001b[0m\n\u001b[1;32m    186\u001b[0m \u001b[38;5;28;01mfor\u001b[39;00m statement \u001b[38;5;129;01min\u001b[39;00m generated_cypher\u001b[38;5;241m.\u001b[39msplit(\u001b[38;5;124m'\u001b[39m\u001b[38;5;124m;\u001b[39m\u001b[38;5;124m'\u001b[39m):\n\u001b[1;32m    187\u001b[0m     \u001b[38;5;28;01mif\u001b[39;00m statement:\n\u001b[1;32m    188\u001b[0m         \u001b[38;5;66;03m# Retrieve and limit the number of results\u001b[39;00m\n\u001b[0;32m--> 189\u001b[0m         context \u001b[38;5;241m+\u001b[39m\u001b[38;5;241m=\u001b[39m \u001b[38;5;28;43mself\u001b[39;49m\u001b[38;5;241;43m.\u001b[39;49m\u001b[43mgraph\u001b[49m\u001b[38;5;241;43m.\u001b[39;49m\u001b[43mquery\u001b[49m\u001b[43m(\u001b[49m\u001b[43mstatement\u001b[49m\u001b[43m)\u001b[49m[: \u001b[38;5;28mself\u001b[39m\u001b[38;5;241m.\u001b[39mtop_k]\n\u001b[1;32m    191\u001b[0m \u001b[38;5;28;01mif\u001b[39;00m \u001b[38;5;28mself\u001b[39m\u001b[38;5;241m.\u001b[39mreturn_direct:\n\u001b[1;32m    192\u001b[0m     final_result \u001b[38;5;241m=\u001b[39m context\n",
      "File \u001b[0;32m/usr/local/lib/python3.11/site-packages/langchain/graphs/neo4j_graph.py:81\u001b[0m, in \u001b[0;36mNeo4jGraph.query\u001b[0;34m(self, query, params)\u001b[0m\n\u001b[1;32m     78\u001b[0m \u001b[38;5;250m\u001b[39m\u001b[38;5;124;03m\"\"\"Query Neo4j database.\"\"\"\u001b[39;00m\n\u001b[1;32m     79\u001b[0m \u001b[38;5;28;01mfrom\u001b[39;00m \u001b[38;5;21;01mneo4j\u001b[39;00m\u001b[38;5;21;01m.\u001b[39;00m\u001b[38;5;21;01mexceptions\u001b[39;00m \u001b[38;5;28;01mimport\u001b[39;00m CypherSyntaxError\n\u001b[0;32m---> 81\u001b[0m \u001b[43m\u001b[49m\u001b[38;5;28;43;01mwith\u001b[39;49;00m\u001b[43m \u001b[49m\u001b[38;5;28;43mself\u001b[39;49m\u001b[38;5;241;43m.\u001b[39;49m\u001b[43m_driver\u001b[49m\u001b[38;5;241;43m.\u001b[39;49m\u001b[43msession\u001b[49m\u001b[43m(\u001b[49m\u001b[43mdatabase\u001b[49m\u001b[38;5;241;43m=\u001b[39;49m\u001b[38;5;28;43mself\u001b[39;49m\u001b[38;5;241;43m.\u001b[39;49m\u001b[43m_database\u001b[49m\u001b[43m)\u001b[49m\u001b[43m \u001b[49m\u001b[38;5;28;43;01mas\u001b[39;49;00m\u001b[43m \u001b[49m\u001b[43msession\u001b[49m\u001b[43m:\u001b[49m\n\u001b[1;32m     82\u001b[0m \u001b[43m    \u001b[49m\u001b[38;5;28;43;01mtry\u001b[39;49;00m\u001b[43m:\u001b[49m\n\u001b[1;32m     83\u001b[0m \u001b[43m        \u001b[49m\u001b[43mdata\u001b[49m\u001b[43m \u001b[49m\u001b[38;5;241;43m=\u001b[39;49m\u001b[43m \u001b[49m\u001b[43msession\u001b[49m\u001b[38;5;241;43m.\u001b[39;49m\u001b[43mrun\u001b[49m\u001b[43m(\u001b[49m\u001b[43mquery\u001b[49m\u001b[43m,\u001b[49m\u001b[43m \u001b[49m\u001b[43mparams\u001b[49m\u001b[43m)\u001b[49m\n",
      "File \u001b[0;32m~/.local/lib/python3.11/site-packages/neo4j/_sync/work/session.py:135\u001b[0m, in \u001b[0;36mSession.__exit__\u001b[0;34m(self, exception_type, exception_value, traceback)\u001b[0m\n\u001b[1;32m    133\u001b[0m         \u001b[38;5;28;01mreturn\u001b[39;00m\n\u001b[1;32m    134\u001b[0m     \u001b[38;5;28mself\u001b[39m\u001b[38;5;241m.\u001b[39m_state_failed \u001b[38;5;241m=\u001b[39m \u001b[38;5;28;01mTrue\u001b[39;00m\n\u001b[0;32m--> 135\u001b[0m \u001b[38;5;28;43mself\u001b[39;49m\u001b[38;5;241;43m.\u001b[39;49m\u001b[43mclose\u001b[49m\u001b[43m(\u001b[49m\u001b[43m)\u001b[49m\n",
      "File \u001b[0;32m~/.local/lib/python3.11/site-packages/neo4j/_sync/work/session.py:234\u001b[0m, in \u001b[0;36mSession.close\u001b[0;34m(self)\u001b[0m\n\u001b[1;32m    232\u001b[0m         \u001b[38;5;28;01mpass\u001b[39;00m\n\u001b[1;32m    233\u001b[0m     \u001b[38;5;28;01mfinally\u001b[39;00m:\n\u001b[0;32m--> 234\u001b[0m         \u001b[38;5;28;43mself\u001b[39;49m\u001b[38;5;241;43m.\u001b[39;49m\u001b[43m_disconnect\u001b[49m\u001b[43m(\u001b[49m\u001b[43m)\u001b[49m\n\u001b[1;32m    236\u001b[0m     \u001b[38;5;28mself\u001b[39m\u001b[38;5;241m.\u001b[39m_state_failed \u001b[38;5;241m=\u001b[39m \u001b[38;5;28;01mFalse\u001b[39;00m\n\u001b[1;32m    237\u001b[0m \u001b[38;5;28mself\u001b[39m\u001b[38;5;241m.\u001b[39m_closed \u001b[38;5;241m=\u001b[39m \u001b[38;5;28;01mTrue\u001b[39;00m\n",
      "File \u001b[0;32m~/.local/lib/python3.11/site-packages/neo4j/_sync/work/session.py:150\u001b[0m, in \u001b[0;36mSession._disconnect\u001b[0;34m(self, sync)\u001b[0m\n\u001b[1;32m    148\u001b[0m \u001b[38;5;28;01mdef\u001b[39;00m \u001b[38;5;21m_disconnect\u001b[39m(\u001b[38;5;28mself\u001b[39m, sync\u001b[38;5;241m=\u001b[39m\u001b[38;5;28;01mFalse\u001b[39;00m):\n\u001b[1;32m    149\u001b[0m     \u001b[38;5;28;01mtry\u001b[39;00m:\n\u001b[0;32m--> 150\u001b[0m         \u001b[38;5;28;01mreturn\u001b[39;00m \u001b[38;5;28;43msuper\u001b[39;49m\u001b[43m(\u001b[49m\u001b[43m)\u001b[49m\u001b[38;5;241;43m.\u001b[39;49m\u001b[43m_disconnect\u001b[49m\u001b[43m(\u001b[49m\u001b[43msync\u001b[49m\u001b[38;5;241;43m=\u001b[39;49m\u001b[43msync\u001b[49m\u001b[43m)\u001b[49m\n\u001b[1;32m    151\u001b[0m     \u001b[38;5;28;01mexcept\u001b[39;00m asyncio\u001b[38;5;241m.\u001b[39mCancelledError:\n\u001b[1;32m    152\u001b[0m         \u001b[38;5;28mself\u001b[39m\u001b[38;5;241m.\u001b[39m_handle_cancellation(message\u001b[38;5;241m=\u001b[39m\u001b[38;5;124m\"\u001b[39m\u001b[38;5;124m_disconnect\u001b[39m\u001b[38;5;124m\"\u001b[39m)\n",
      "File \u001b[0;32m~/.local/lib/python3.11/site-packages/neo4j/_sync/work/workspace.py:190\u001b[0m, in \u001b[0;36mWorkspace._disconnect\u001b[0;34m(self, sync)\u001b[0m\n\u001b[1;32m    188\u001b[0m         \u001b[38;5;28;01mpass\u001b[39;00m\n\u001b[1;32m    189\u001b[0m \u001b[38;5;28;01mif\u001b[39;00m \u001b[38;5;28mself\u001b[39m\u001b[38;5;241m.\u001b[39m_connection:\n\u001b[0;32m--> 190\u001b[0m     \u001b[38;5;28;43mself\u001b[39;49m\u001b[38;5;241;43m.\u001b[39;49m\u001b[43m_pool\u001b[49m\u001b[38;5;241;43m.\u001b[39;49m\u001b[43mrelease\u001b[49m\u001b[43m(\u001b[49m\u001b[38;5;28;43mself\u001b[39;49m\u001b[38;5;241;43m.\u001b[39;49m\u001b[43m_connection\u001b[49m\u001b[43m)\u001b[49m\n\u001b[1;32m    191\u001b[0m     \u001b[38;5;28mself\u001b[39m\u001b[38;5;241m.\u001b[39m_connection \u001b[38;5;241m=\u001b[39m \u001b[38;5;28;01mNone\u001b[39;00m\n\u001b[1;32m    192\u001b[0m \u001b[38;5;28mself\u001b[39m\u001b[38;5;241m.\u001b[39m_connection_access_mode \u001b[38;5;241m=\u001b[39m \u001b[38;5;28;01mNone\u001b[39;00m\n",
      "File \u001b[0;32m~/.local/lib/python3.11/site-packages/neo4j/_sync/io/_pool.py:374\u001b[0m, in \u001b[0;36mIOPool.release\u001b[0;34m(self, *connections)\u001b[0m\n\u001b[1;32m    369\u001b[0m \u001b[38;5;28;01mtry\u001b[39;00m:\n\u001b[1;32m    370\u001b[0m     log\u001b[38;5;241m.\u001b[39mdebug(\n\u001b[1;32m    371\u001b[0m         \u001b[38;5;124m\"\u001b[39m\u001b[38;5;124m[#\u001b[39m\u001b[38;5;132;01m%04X\u001b[39;00m\u001b[38;5;124m]  _: <POOL> release unclean connection \u001b[39m\u001b[38;5;132;01m%s\u001b[39;00m\u001b[38;5;124m\"\u001b[39m,\n\u001b[1;32m    372\u001b[0m         connection\u001b[38;5;241m.\u001b[39mlocal_port, connection\u001b[38;5;241m.\u001b[39mconnection_id\n\u001b[1;32m    373\u001b[0m     )\n\u001b[0;32m--> 374\u001b[0m     \u001b[43mconnection\u001b[49m\u001b[38;5;241;43m.\u001b[39;49m\u001b[43mreset\u001b[49m\u001b[43m(\u001b[49m\u001b[43m)\u001b[49m\n\u001b[1;32m    375\u001b[0m \u001b[38;5;28;01mexcept\u001b[39;00m (Neo4jError, DriverError, BoltError) \u001b[38;5;28;01mas\u001b[39;00m exc:\n\u001b[1;32m    376\u001b[0m     log\u001b[38;5;241m.\u001b[39mdebug(\u001b[38;5;124m\"\u001b[39m\u001b[38;5;124m[#\u001b[39m\u001b[38;5;132;01m%04X\u001b[39;00m\u001b[38;5;124m]  _: <POOL> failed to reset connection \u001b[39m\u001b[38;5;124m\"\u001b[39m\n\u001b[1;32m    377\u001b[0m               \u001b[38;5;124m\"\u001b[39m\u001b[38;5;124mon release: \u001b[39m\u001b[38;5;132;01m%r\u001b[39;00m\u001b[38;5;124m\"\u001b[39m, connection\u001b[38;5;241m.\u001b[39mlocal_port, exc)\n",
      "File \u001b[0;32m~/.local/lib/python3.11/site-packages/neo4j/_sync/io/_bolt4.py:323\u001b[0m, in \u001b[0;36mBolt4x0.reset\u001b[0;34m(self, dehydration_hooks, hydration_hooks)\u001b[0m\n\u001b[1;32m    318\u001b[0m \u001b[38;5;28mself\u001b[39m\u001b[38;5;241m.\u001b[39m_append(\u001b[38;5;124mb\u001b[39m\u001b[38;5;124m\"\u001b[39m\u001b[38;5;130;01m\\x0F\u001b[39;00m\u001b[38;5;124m\"\u001b[39m,\n\u001b[1;32m    319\u001b[0m              response\u001b[38;5;241m=\u001b[39mResponse(\u001b[38;5;28mself\u001b[39m, \u001b[38;5;124m\"\u001b[39m\u001b[38;5;124mreset\u001b[39m\u001b[38;5;124m\"\u001b[39m, hydration_hooks,\n\u001b[1;32m    320\u001b[0m                                on_failure\u001b[38;5;241m=\u001b[39mfail),\n\u001b[1;32m    321\u001b[0m              dehydration_hooks\u001b[38;5;241m=\u001b[39mdehydration_hooks)\n\u001b[1;32m    322\u001b[0m \u001b[38;5;28mself\u001b[39m\u001b[38;5;241m.\u001b[39msend_all()\n\u001b[0;32m--> 323\u001b[0m \u001b[38;5;28;43mself\u001b[39;49m\u001b[38;5;241;43m.\u001b[39;49m\u001b[43mfetch_all\u001b[49m\u001b[43m(\u001b[49m\u001b[43m)\u001b[49m\n",
      "File \u001b[0;32m~/.local/lib/python3.11/site-packages/neo4j/_sync/io/_bolt.py:840\u001b[0m, in \u001b[0;36mBolt.fetch_all\u001b[0;34m(self)\u001b[0m\n\u001b[1;32m    838\u001b[0m response \u001b[38;5;241m=\u001b[39m \u001b[38;5;28mself\u001b[39m\u001b[38;5;241m.\u001b[39mresponses[\u001b[38;5;241m0\u001b[39m]\n\u001b[1;32m    839\u001b[0m \u001b[38;5;28;01mwhile\u001b[39;00m \u001b[38;5;129;01mnot\u001b[39;00m response\u001b[38;5;241m.\u001b[39mcomplete:\n\u001b[0;32m--> 840\u001b[0m     detail_delta, summary_delta \u001b[38;5;241m=\u001b[39m \u001b[38;5;28;43mself\u001b[39;49m\u001b[38;5;241;43m.\u001b[39;49m\u001b[43mfetch_message\u001b[49m\u001b[43m(\u001b[49m\u001b[43m)\u001b[49m\n\u001b[1;32m    841\u001b[0m     detail_count \u001b[38;5;241m+\u001b[39m\u001b[38;5;241m=\u001b[39m detail_delta\n\u001b[1;32m    842\u001b[0m     summary_count \u001b[38;5;241m+\u001b[39m\u001b[38;5;241m=\u001b[39m summary_delta\n",
      "File \u001b[0;32m~/.local/lib/python3.11/site-packages/neo4j/_sync/io/_bolt.py:826\u001b[0m, in \u001b[0;36mBolt.fetch_message\u001b[0;34m(self)\u001b[0m\n\u001b[1;32m    822\u001b[0m \u001b[38;5;66;03m# Receive exactly one message\u001b[39;00m\n\u001b[1;32m    823\u001b[0m tag, fields \u001b[38;5;241m=\u001b[39m \u001b[38;5;28mself\u001b[39m\u001b[38;5;241m.\u001b[39minbox\u001b[38;5;241m.\u001b[39mpop(\n\u001b[1;32m    824\u001b[0m     hydration_hooks\u001b[38;5;241m=\u001b[39m\u001b[38;5;28mself\u001b[39m\u001b[38;5;241m.\u001b[39mresponses[\u001b[38;5;241m0\u001b[39m]\u001b[38;5;241m.\u001b[39mhydration_hooks\n\u001b[1;32m    825\u001b[0m )\n\u001b[0;32m--> 826\u001b[0m res \u001b[38;5;241m=\u001b[39m \u001b[38;5;28;43mself\u001b[39;49m\u001b[38;5;241;43m.\u001b[39;49m\u001b[43m_process_message\u001b[49m\u001b[43m(\u001b[49m\u001b[43mtag\u001b[49m\u001b[43m,\u001b[49m\u001b[43m \u001b[49m\u001b[43mfields\u001b[49m\u001b[43m)\u001b[49m\n\u001b[1;32m    827\u001b[0m \u001b[38;5;28mself\u001b[39m\u001b[38;5;241m.\u001b[39midle_since \u001b[38;5;241m=\u001b[39m perf_counter()\n\u001b[1;32m    828\u001b[0m \u001b[38;5;28;01mreturn\u001b[39;00m res\n",
      "File \u001b[0;32m~/.local/lib/python3.11/site-packages/neo4j/_sync/io/_bolt4.py:366\u001b[0m, in \u001b[0;36mBolt4x0._process_message\u001b[0;34m(self, tag, fields)\u001b[0m\n\u001b[1;32m    364\u001b[0m \u001b[38;5;28mself\u001b[39m\u001b[38;5;241m.\u001b[39m_server_state_manager\u001b[38;5;241m.\u001b[39mstate \u001b[38;5;241m=\u001b[39m BoltStates\u001b[38;5;241m.\u001b[39mFAILED\n\u001b[1;32m    365\u001b[0m \u001b[38;5;28;01mtry\u001b[39;00m:\n\u001b[0;32m--> 366\u001b[0m     \u001b[43mresponse\u001b[49m\u001b[38;5;241;43m.\u001b[39;49m\u001b[43mon_failure\u001b[49m\u001b[43m(\u001b[49m\u001b[43msummary_metadata\u001b[49m\u001b[43m \u001b[49m\u001b[38;5;129;43;01mor\u001b[39;49;00m\u001b[43m \u001b[49m\u001b[43m{\u001b[49m\u001b[43m}\u001b[49m\u001b[43m)\u001b[49m\n\u001b[1;32m    367\u001b[0m \u001b[38;5;28;01mexcept\u001b[39;00m (ServiceUnavailable, DatabaseUnavailable):\n\u001b[1;32m    368\u001b[0m     \u001b[38;5;28;01mif\u001b[39;00m \u001b[38;5;28mself\u001b[39m\u001b[38;5;241m.\u001b[39mpool:\n",
      "File \u001b[0;32m~/.local/lib/python3.11/site-packages/neo4j/_sync/io/_common.py:240\u001b[0m, in \u001b[0;36mResponse.on_failure\u001b[0;34m(self, metadata)\u001b[0m\n\u001b[1;32m    237\u001b[0m \u001b[38;5;250m\u001b[39m\u001b[38;5;124;03m\"\"\" Called when a FAILURE message has been received.\u001b[39;00m\n\u001b[1;32m    238\u001b[0m \u001b[38;5;124;03m\"\"\"\u001b[39;00m\n\u001b[1;32m    239\u001b[0m \u001b[38;5;28;01mtry\u001b[39;00m:\n\u001b[0;32m--> 240\u001b[0m     \u001b[38;5;28;43mself\u001b[39;49m\u001b[38;5;241;43m.\u001b[39;49m\u001b[43mconnection\u001b[49m\u001b[38;5;241;43m.\u001b[39;49m\u001b[43mreset\u001b[49m\u001b[43m(\u001b[49m\u001b[43m)\u001b[49m\n\u001b[1;32m    241\u001b[0m \u001b[38;5;28;01mexcept\u001b[39;00m (SessionExpired, ServiceUnavailable):\n\u001b[1;32m    242\u001b[0m     \u001b[38;5;28;01mpass\u001b[39;00m\n",
      "File \u001b[0;32m~/.local/lib/python3.11/site-packages/neo4j/_sync/io/_bolt4.py:323\u001b[0m, in \u001b[0;36mBolt4x0.reset\u001b[0;34m(self, dehydration_hooks, hydration_hooks)\u001b[0m\n\u001b[1;32m    318\u001b[0m \u001b[38;5;28mself\u001b[39m\u001b[38;5;241m.\u001b[39m_append(\u001b[38;5;124mb\u001b[39m\u001b[38;5;124m\"\u001b[39m\u001b[38;5;130;01m\\x0F\u001b[39;00m\u001b[38;5;124m\"\u001b[39m,\n\u001b[1;32m    319\u001b[0m              response\u001b[38;5;241m=\u001b[39mResponse(\u001b[38;5;28mself\u001b[39m, \u001b[38;5;124m\"\u001b[39m\u001b[38;5;124mreset\u001b[39m\u001b[38;5;124m\"\u001b[39m, hydration_hooks,\n\u001b[1;32m    320\u001b[0m                                on_failure\u001b[38;5;241m=\u001b[39mfail),\n\u001b[1;32m    321\u001b[0m              dehydration_hooks\u001b[38;5;241m=\u001b[39mdehydration_hooks)\n\u001b[1;32m    322\u001b[0m \u001b[38;5;28mself\u001b[39m\u001b[38;5;241m.\u001b[39msend_all()\n\u001b[0;32m--> 323\u001b[0m \u001b[38;5;28;43mself\u001b[39;49m\u001b[38;5;241;43m.\u001b[39;49m\u001b[43mfetch_all\u001b[49m\u001b[43m(\u001b[49m\u001b[43m)\u001b[49m\n",
      "File \u001b[0;32m~/.local/lib/python3.11/site-packages/neo4j/_sync/io/_bolt.py:840\u001b[0m, in \u001b[0;36mBolt.fetch_all\u001b[0;34m(self)\u001b[0m\n\u001b[1;32m    838\u001b[0m response \u001b[38;5;241m=\u001b[39m \u001b[38;5;28mself\u001b[39m\u001b[38;5;241m.\u001b[39mresponses[\u001b[38;5;241m0\u001b[39m]\n\u001b[1;32m    839\u001b[0m \u001b[38;5;28;01mwhile\u001b[39;00m \u001b[38;5;129;01mnot\u001b[39;00m response\u001b[38;5;241m.\u001b[39mcomplete:\n\u001b[0;32m--> 840\u001b[0m     detail_delta, summary_delta \u001b[38;5;241m=\u001b[39m \u001b[38;5;28;43mself\u001b[39;49m\u001b[38;5;241;43m.\u001b[39;49m\u001b[43mfetch_message\u001b[49m\u001b[43m(\u001b[49m\u001b[43m)\u001b[49m\n\u001b[1;32m    841\u001b[0m     detail_count \u001b[38;5;241m+\u001b[39m\u001b[38;5;241m=\u001b[39m detail_delta\n\u001b[1;32m    842\u001b[0m     summary_count \u001b[38;5;241m+\u001b[39m\u001b[38;5;241m=\u001b[39m summary_delta\n",
      "File \u001b[0;32m~/.local/lib/python3.11/site-packages/neo4j/_sync/io/_bolt.py:823\u001b[0m, in \u001b[0;36mBolt.fetch_message\u001b[0;34m(self)\u001b[0m\n\u001b[1;32m    820\u001b[0m     \u001b[38;5;28;01mreturn\u001b[39;00m \u001b[38;5;241m0\u001b[39m, \u001b[38;5;241m0\u001b[39m\n\u001b[1;32m    822\u001b[0m \u001b[38;5;66;03m# Receive exactly one message\u001b[39;00m\n\u001b[0;32m--> 823\u001b[0m tag, fields \u001b[38;5;241m=\u001b[39m \u001b[38;5;28;43mself\u001b[39;49m\u001b[38;5;241;43m.\u001b[39;49m\u001b[43minbox\u001b[49m\u001b[38;5;241;43m.\u001b[39;49m\u001b[43mpop\u001b[49m\u001b[43m(\u001b[49m\n\u001b[1;32m    824\u001b[0m \u001b[43m    \u001b[49m\u001b[43mhydration_hooks\u001b[49m\u001b[38;5;241;43m=\u001b[39;49m\u001b[38;5;28;43mself\u001b[39;49m\u001b[38;5;241;43m.\u001b[39;49m\u001b[43mresponses\u001b[49m\u001b[43m[\u001b[49m\u001b[38;5;241;43m0\u001b[39;49m\u001b[43m]\u001b[49m\u001b[38;5;241;43m.\u001b[39;49m\u001b[43mhydration_hooks\u001b[49m\n\u001b[1;32m    825\u001b[0m \u001b[43m\u001b[49m\u001b[43m)\u001b[49m\n\u001b[1;32m    826\u001b[0m res \u001b[38;5;241m=\u001b[39m \u001b[38;5;28mself\u001b[39m\u001b[38;5;241m.\u001b[39m_process_message(tag, fields)\n\u001b[1;32m    827\u001b[0m \u001b[38;5;28mself\u001b[39m\u001b[38;5;241m.\u001b[39midle_since \u001b[38;5;241m=\u001b[39m perf_counter()\n",
      "File \u001b[0;32m~/.local/lib/python3.11/site-packages/neo4j/_sync/io/_common.py:74\u001b[0m, in \u001b[0;36mInbox.pop\u001b[0;34m(self, hydration_hooks)\u001b[0m\n\u001b[1;32m     73\u001b[0m \u001b[38;5;28;01mdef\u001b[39;00m \u001b[38;5;21mpop\u001b[39m(\u001b[38;5;28mself\u001b[39m, hydration_hooks):\n\u001b[0;32m---> 74\u001b[0m     \u001b[38;5;28;43mself\u001b[39;49m\u001b[38;5;241;43m.\u001b[39;49m\u001b[43m_buffer_one_chunk\u001b[49m\u001b[43m(\u001b[49m\u001b[43m)\u001b[49m\n\u001b[1;32m     75\u001b[0m     \u001b[38;5;28;01mtry\u001b[39;00m:\n\u001b[1;32m     76\u001b[0m         size, tag \u001b[38;5;241m=\u001b[39m \u001b[38;5;28mself\u001b[39m\u001b[38;5;241m.\u001b[39m_unpacker\u001b[38;5;241m.\u001b[39munpack_structure_header()\n",
      "File \u001b[0;32m~/.local/lib/python3.11/site-packages/neo4j/_sync/io/_common.py:53\u001b[0m, in \u001b[0;36mInbox._buffer_one_chunk\u001b[0;34m(self)\u001b[0m\n\u001b[1;32m     50\u001b[0m \u001b[38;5;28;01mwhile\u001b[39;00m \u001b[38;5;28;01mTrue\u001b[39;00m:\n\u001b[1;32m     51\u001b[0m     \u001b[38;5;28;01mwhile\u001b[39;00m chunk_size \u001b[38;5;241m==\u001b[39m \u001b[38;5;241m0\u001b[39m:\n\u001b[1;32m     52\u001b[0m         \u001b[38;5;66;03m# Determine the chunk size and skip noop\u001b[39;00m\n\u001b[0;32m---> 53\u001b[0m         \u001b[43mreceive_into_buffer\u001b[49m\u001b[43m(\u001b[49m\u001b[38;5;28;43mself\u001b[39;49m\u001b[38;5;241;43m.\u001b[39;49m\u001b[43m_socket\u001b[49m\u001b[43m,\u001b[49m\u001b[43m \u001b[49m\u001b[38;5;28;43mself\u001b[39;49m\u001b[38;5;241;43m.\u001b[39;49m\u001b[43m_buffer\u001b[49m\u001b[43m,\u001b[49m\u001b[43m \u001b[49m\u001b[38;5;241;43m2\u001b[39;49m\u001b[43m)\u001b[49m\n\u001b[1;32m     54\u001b[0m         chunk_size \u001b[38;5;241m=\u001b[39m \u001b[38;5;28mself\u001b[39m\u001b[38;5;241m.\u001b[39m_buffer\u001b[38;5;241m.\u001b[39mpop_u16()\n\u001b[1;32m     55\u001b[0m         \u001b[38;5;28;01mif\u001b[39;00m chunk_size \u001b[38;5;241m==\u001b[39m \u001b[38;5;241m0\u001b[39m:\n",
      "File \u001b[0;32m~/.local/lib/python3.11/site-packages/neo4j/_sync/io/_common.py:308\u001b[0m, in \u001b[0;36mreceive_into_buffer\u001b[0;34m(sock, buffer, n_bytes)\u001b[0m\n\u001b[1;32m    306\u001b[0m \u001b[38;5;28;01mwith\u001b[39;00m \u001b[38;5;28mmemoryview\u001b[39m(buffer\u001b[38;5;241m.\u001b[39mdata) \u001b[38;5;28;01mas\u001b[39;00m view:\n\u001b[1;32m    307\u001b[0m     \u001b[38;5;28;01mwhile\u001b[39;00m buffer\u001b[38;5;241m.\u001b[39mused \u001b[38;5;241m<\u001b[39m end:\n\u001b[0;32m--> 308\u001b[0m         n \u001b[38;5;241m=\u001b[39m \u001b[43msock\u001b[49m\u001b[38;5;241;43m.\u001b[39;49m\u001b[43mrecv_into\u001b[49m\u001b[43m(\u001b[49m\u001b[43mview\u001b[49m\u001b[43m[\u001b[49m\u001b[43mbuffer\u001b[49m\u001b[38;5;241;43m.\u001b[39;49m\u001b[43mused\u001b[49m\u001b[43m:\u001b[49m\u001b[43mend\u001b[49m\u001b[43m]\u001b[49m\u001b[43m,\u001b[49m\u001b[43m \u001b[49m\u001b[43mend\u001b[49m\u001b[43m \u001b[49m\u001b[38;5;241;43m-\u001b[39;49m\u001b[43m \u001b[49m\u001b[43mbuffer\u001b[49m\u001b[38;5;241;43m.\u001b[39;49m\u001b[43mused\u001b[49m\u001b[43m)\u001b[49m\n\u001b[1;32m    309\u001b[0m         \u001b[38;5;28;01mif\u001b[39;00m n \u001b[38;5;241m==\u001b[39m \u001b[38;5;241m0\u001b[39m:\n\u001b[1;32m    310\u001b[0m             \u001b[38;5;28;01mraise\u001b[39;00m \u001b[38;5;167;01mOSError\u001b[39;00m(\u001b[38;5;124m\"\u001b[39m\u001b[38;5;124mNo data\u001b[39m\u001b[38;5;124m\"\u001b[39m)\n",
      "File \u001b[0;32m~/.local/lib/python3.11/site-packages/neo4j/_async_compat/network/_bolt_socket.py:488\u001b[0m, in \u001b[0;36mBoltSocket.recv_into\u001b[0;34m(self, buffer, nbytes)\u001b[0m\n\u001b[1;32m    487\u001b[0m \u001b[38;5;28;01mdef\u001b[39;00m \u001b[38;5;21mrecv_into\u001b[39m(\u001b[38;5;28mself\u001b[39m, buffer, nbytes):\n\u001b[0;32m--> 488\u001b[0m     \u001b[38;5;28;01mreturn\u001b[39;00m \u001b[38;5;28;43mself\u001b[39;49m\u001b[38;5;241;43m.\u001b[39;49m\u001b[43m_wait_for_io\u001b[49m\u001b[43m(\u001b[49m\u001b[38;5;28;43mself\u001b[39;49m\u001b[38;5;241;43m.\u001b[39;49m\u001b[43m_socket\u001b[49m\u001b[38;5;241;43m.\u001b[39;49m\u001b[43mrecv_into\u001b[49m\u001b[43m,\u001b[49m\u001b[43m \u001b[49m\u001b[43mbuffer\u001b[49m\u001b[43m,\u001b[49m\u001b[43m \u001b[49m\u001b[43mnbytes\u001b[49m\u001b[43m)\u001b[49m\n",
      "File \u001b[0;32m~/.local/lib/python3.11/site-packages/neo4j/_async_compat/network/_bolt_socket.py:463\u001b[0m, in \u001b[0;36mBoltSocket._wait_for_io\u001b[0;34m(self, func, *args, **kwargs)\u001b[0m\n\u001b[1;32m    461\u001b[0m \u001b[38;5;28;01mdef\u001b[39;00m \u001b[38;5;21m_wait_for_io\u001b[39m(\u001b[38;5;28mself\u001b[39m, func, \u001b[38;5;241m*\u001b[39margs, \u001b[38;5;241m*\u001b[39m\u001b[38;5;241m*\u001b[39mkwargs):\n\u001b[1;32m    462\u001b[0m     \u001b[38;5;28;01mif\u001b[39;00m \u001b[38;5;28mself\u001b[39m\u001b[38;5;241m.\u001b[39m_deadline \u001b[38;5;129;01mis\u001b[39;00m \u001b[38;5;28;01mNone\u001b[39;00m:\n\u001b[0;32m--> 463\u001b[0m         \u001b[38;5;28;01mreturn\u001b[39;00m \u001b[43mfunc\u001b[49m\u001b[43m(\u001b[49m\u001b[38;5;241;43m*\u001b[39;49m\u001b[43margs\u001b[49m\u001b[43m,\u001b[49m\u001b[43m \u001b[49m\u001b[38;5;241;43m*\u001b[39;49m\u001b[38;5;241;43m*\u001b[39;49m\u001b[43mkwargs\u001b[49m\u001b[43m)\u001b[49m\n\u001b[1;32m    464\u001b[0m     timeout \u001b[38;5;241m=\u001b[39m \u001b[38;5;28mself\u001b[39m\u001b[38;5;241m.\u001b[39m_socket\u001b[38;5;241m.\u001b[39mgettimeout()\n\u001b[1;32m    465\u001b[0m     deadline_timeout \u001b[38;5;241m=\u001b[39m \u001b[38;5;28mself\u001b[39m\u001b[38;5;241m.\u001b[39m_deadline\u001b[38;5;241m.\u001b[39mto_timeout()\n",
      "\u001b[0;31mKeyboardInterrupt\u001b[0m: "
     ]
    }
   ],
   "source": [
    "output = chain.run({\n",
    "  QUERY_KEY: \"What is the relationship between Zn2+ and glcD?\",\n",
    "  EXAMPLES_KEY: examples\n",
    "})\n",
    "show(output)"
   ]
  },
  {
   "cell_type": "code",
   "execution_count": 70,
   "id": "d2441ff0-e32a-4fe0-9076-93d87a9a34bc",
   "metadata": {},
   "outputs": [
    {
     "name": "stdout",
     "output_type": "stream",
     "text": [
      "\n",
      "\n",
      "\u001b[1m> Entering new SequentialChain chain...\u001b[0m\n",
      "\n",
      "\n",
      "\u001b[1m> Entering new LLMChain chain...\u001b[0m\n",
      "Prompt after formatting:\n",
      "\u001b[32;1m\u001b[1;3mSystem: Always response with comma separated list of chemical or biological terms identified in prompt.\n",
      "Human: What is the relationship between INHBA and MTMR4?\u001b[0m\n",
      "\n",
      "\u001b[1m> Finished chain.\u001b[0m\n",
      "\n",
      "\n",
      "\u001b[1m> Entering new GraphQueryChain chain...\u001b[0m\n",
      "Graph Result:\n",
      "\u001b[32;1m\u001b[1;3m[{'output': '{term: Inhba, eid: [119816394,118583887,103736752,104853030,114623192,102914541,114095202,101991500,117714043,109676338,101598630,101976959,116081930,102015383,101704279,100720616,101563494,29200,110333849,116883802,110308293,110556830,16323,114685392,101833064,100762446,107146199,105998333,113197979,120529526,105225678,108266640]}'}, {'output': '{term: INHBA, eid: [121028933,119698030,121333580,120398268,121353070,118989268,118929076,121087860,120591502,121145766,119147703,120235583,120305243,118684293,120878233,118714453,118665963,119241670,120754777,119850385,119534608,118620063,118901048,118522844,119058040,118831218,119940274,120505062,121065617,120940410,121001450,115608946,103267168,115644906,108292874,112391569,115470585,103197349,116441590,104688908,HS04583,9606.ENSP00000242208,113983152,111552300,103598931,104147054,102508772,113953153,111157070,106042896,105818510,102058179,105513583,103755387,103010892,108510533,112971765,110471387,116797042,107537262,112661379,104528153,102477638,117353846,104462656,102774060,115339734,116486276,106495279,106897222,115084545,104341464,104487204,113477574,102837743,104124842,109373347,102102648,103061666,114067161,104410225,104502225,111923669,107116048,101636807,105303215,104012416,108789567,103091071,113258079,104377737,104304044,113964057,102264223,116832643,110086671,107284935,104633822,109291873,104616681,104576399,117664864,117002407,107309865,114507844,113629511,102396373,115901206,103615750,116812520,117055929,116877905,102960884,102277358,114607494,108526586,100605335,104663128,115508724,103226169,117012120,101815189,102431332,100224820,103782350,104555045,104281226,103810881,104506879,104359283,104065942,104164450,104542939,117073235,104840669,104290338,102042981,102069343,104980396,116759323,101556969,114902072,110192964,102378042,104262777,105731647,115275010,116569222,104029744,106551535,116522838,114213684,112809766,106977744,100947496,117872607,113891310,104084251,105858102,102543839,104337151,112943746,114023286,110592632,103674587,103293947,101047801,102458046,100013637,100354786,108408145,100860960,101522112,443524,109557561,105088278,110148300,281867,397093,100034076,103557031,105062799,106846029,100657709,102975928,111184497,116648563,102740944,101316054,113911914,112866811,101379664,118024549,101273061,115860917,109268009,493853,101680095,483245,100463717,112925811,3624,100439592,463371,101152285,105550238,100985044,101025106,112621372,105494184,702734,102146142,105596936,116527412,112301689,107502403,100924883,100400417,103914781,102878960,101658362,101446254,103895262,100075415,104041505,103124402,103532505,106857408,107200440,103819353,100303662,116232787,118162296,396361,101914385,110394590,102091857,104323015,104392159,118250919,113437337,113416801,101795448,112996089,109312787,101933390,102938020,118092223,102567355,102354664,112113492,101354780,101395292,101872614,747334]}'}, {'output': '{term: inhba, eid: [116972386,109935890,100555669,114653578,100038114,102693027,103181541,111859533,115374954,116400362,114458993,114784897,102211947,114449815,104932675,113134645,115405067,114845186,110162701,109530279,108937530,101484858,107397118,111562489,113163079,115795922,109992497,116678167,106527680,106933353,106937089,109966030,108435494,108250630,115811505,108884958,115572720,116721252,113011379,103460774,105922368,106597443,100144359,109886275,109875887,115170185,105025163,108280196,110509121,105900534,30072]}'}, {'output': '{term: mtmr4, eid: [121191102,119420703,119133703,119215062,118774107,120471628,119775637,119475289,120821930,120531416,120723256,118814757,119895026,121283248,120802397,119031149,120544611,120043924,121308561,119974758,111663884,111854758,107654282,113634136,117812379,115371293,114475469,116388801,117955005,117381029,117516687,116989000,115432368,117269864,113531011,107734350,102212825,114792338,116058132,109917731,103395170,114445819,104928772,113142748,118121946,115395225,115054133,114868947,110165077,103363688,108921496,109531082,101478413,107387044,111567937,110961147,107563431,113169516,115791645,109996024,115018653,116700066,106528046,118300540,117458200,106918954,103133839,106947060,116316781,109960439,108444142,111222182,117468505,108233902,118331294,102786886,114152870,101074389,112142368,115828792,107090349,114655769,109628631,100151726,117774077,117557274,104949319,115594101,108893658,114566552,102308700,116728253,113031012,117742437,100698706,101168809,102232025,111981628,105916565,115547350,103476058,115105386,106567397,115153893,118391766,103039133,113577572,109067900,106023667,108260292,393584,102689349,105896074,118235777,103180496,379965,110537841]}'}, {'output': '{term: Mtmr4, eid: [119812256,118588999,103741780,104859576,114625113,102927841,114104286,102002831,117710586,109696559,101607786,101962649,116078953,102024296,101712041,100724742,287607,116908492,101575802,110331200,110304654,170749,110564170,114699265,101835253,107150401,100753422,105983490,113195726]}'}, {'output': '{term: MTMR4, eid: [121044716,119709734,121346864,120387235,121362956,119003726,121096376,118909410,120620810,121169671,119142349,120241936,120309236,118694141,118728028,120866464,118671717,119230663,120761221,119844536,119513943,118633941,118886943,118529791,119062583,118848301,120513436,119939172,120994810,121057642,120927539,112118739,115603117,103260041,115636439,112408068,108312053,115482351,103212023,116453861,104695802,HS03097,9606.ENSP00000325285,113992181,111537636,103589318,104146226,102518514,113959321,106041058,105813676,102060136,105520097,103759494,108501815,103003443,112965023,116796708,107535271,110475901,112655483,117349011,102476361,104470176,102772830,115346727,116497119,106484674,115097221,104341710,113487122,104484253,104131880,109379770,102819550,102101780,103061439,104413410,114063776,104502243,111937624,107112431,101625712,105302119,104012429,108790885,103084830,104300251,104371880,113268876,113978206,102241894,116818720,107288560,110084501,109290135,104619251,104575795,117667557,117005971,107322630,114503305,113609706,115911539,102396990,103618352,116474404,117060069,116876028,102953897,102268447,114585500,100579744,108521630,104668437,115500913,117013045,101815162,116809104,103242843,102434629,103774824,103800985,104558295,104279693,104356882,104506777,104060324,117067303,104547126,104843153,104289861,102037328,105004103,102066870,101553424,116745340,110212066,114889154,102372670,105712412,115282066,104027621,116577090,106554552,116507161,114213826,112808198,106989945,105871503,117867378,102543048,100967007,112956696,104334758,113877034,104076332,110593293,103667349,114049226,103291644,102870400,101043320,102443507,100012210,101519378,102186335,108397169,100340433,109574023,101105343,782743,100517493,105097809,110147023,105065865,103546347,106821929,102980130,100070938,100661164,111163628,116647307,101337947,101288574,101382219,118024701,115866336,112852923,113939790,102748549,101082607,109247197,101688623,100472144,480570,112917923,9110,100460579,455157,100988025,101137563,105539084,112609670,101015215,105476824,714621,116553280,102134403,112316312,105583317,100413559,107499161,102884551,100917511,103916599,101660693,103896527,104049996,100078009,103125348,101415910,103535848,106856270,100549025,103820040,107212904,116228217,417472,102097791,101911214,110407543,118254060,104315817,113441426,104390991,101802164,118176160,118096847,109317657,113414675,112987344,102934887,102573738,101951257,102364350,108909653,101360675,101407889,101450524]}'}]\u001b[0m\n",
      "\n",
      "\u001b[1m> Finished chain.\u001b[0m\n",
      "\n",
      "\n",
      "\u001b[1m> Entering new GraphCypherQAChain chain...\u001b[0m\n",
      "Generated Cypher:\n",
      "\u001b[32;1m\u001b[1;3m// Get relationship between INHBA and MTMR4\n",
      "MATCH (a {eid: 'INHBA'})-[:REGULATES|CONSUMED_BY|CATALYZES|PRODUCES*1..5]-(b {eid: 'MTMR4'})\n",
      "RETURN [r in relationships(path) | type(r)] as relationship;\u001b[0m\n"
     ]
    },
    {
     "ename": "ValueError",
     "evalue": "Generated Cypher Statement is not valid\n{code: Neo.ClientError.Statement.SyntaxError} {message: Variable `path` not defined (line 3, column 28 (offset: 164))\n\"RETURN [r in relationships(path) | type(r)] as relationship\"\n                            ^}",
     "output_type": "error",
     "traceback": [
      "\u001b[0;31m---------------------------------------------------------------------------\u001b[0m",
      "\u001b[0;31mCypherSyntaxError\u001b[0m                         Traceback (most recent call last)",
      "File \u001b[0;32m/usr/local/lib/python3.11/site-packages/langchain/graphs/neo4j_graph.py:83\u001b[0m, in \u001b[0;36mNeo4jGraph.query\u001b[0;34m(self, query, params)\u001b[0m\n\u001b[1;32m     82\u001b[0m \u001b[38;5;28;01mtry\u001b[39;00m:\n\u001b[0;32m---> 83\u001b[0m     data \u001b[38;5;241m=\u001b[39m \u001b[43msession\u001b[49m\u001b[38;5;241;43m.\u001b[39;49m\u001b[43mrun\u001b[49m\u001b[43m(\u001b[49m\u001b[43mquery\u001b[49m\u001b[43m,\u001b[49m\u001b[43m \u001b[49m\u001b[43mparams\u001b[49m\u001b[43m)\u001b[49m\n\u001b[1;32m     84\u001b[0m     \u001b[38;5;28;01mreturn\u001b[39;00m [r\u001b[38;5;241m.\u001b[39mdata() \u001b[38;5;28;01mfor\u001b[39;00m r \u001b[38;5;129;01min\u001b[39;00m data]\n",
      "File \u001b[0;32m~/.local/lib/python3.11/site-packages/neo4j/_sync/work/session.py:317\u001b[0m, in \u001b[0;36mSession.run\u001b[0;34m(self, query, parameters, **kwargs)\u001b[0m\n\u001b[1;32m    316\u001b[0m parameters \u001b[38;5;241m=\u001b[39m \u001b[38;5;28mdict\u001b[39m(parameters \u001b[38;5;129;01mor\u001b[39;00m {}, \u001b[38;5;241m*\u001b[39m\u001b[38;5;241m*\u001b[39mkwargs)\n\u001b[0;32m--> 317\u001b[0m \u001b[38;5;28;43mself\u001b[39;49m\u001b[38;5;241;43m.\u001b[39;49m\u001b[43m_auto_result\u001b[49m\u001b[38;5;241;43m.\u001b[39;49m\u001b[43m_run\u001b[49m\u001b[43m(\u001b[49m\n\u001b[1;32m    318\u001b[0m \u001b[43m    \u001b[49m\u001b[43mquery\u001b[49m\u001b[43m,\u001b[49m\u001b[43m \u001b[49m\u001b[43mparameters\u001b[49m\u001b[43m,\u001b[49m\u001b[43m \u001b[49m\u001b[38;5;28;43mself\u001b[39;49m\u001b[38;5;241;43m.\u001b[39;49m\u001b[43m_config\u001b[49m\u001b[38;5;241;43m.\u001b[39;49m\u001b[43mdatabase\u001b[49m\u001b[43m,\u001b[49m\n\u001b[1;32m    319\u001b[0m \u001b[43m    \u001b[49m\u001b[38;5;28;43mself\u001b[39;49m\u001b[38;5;241;43m.\u001b[39;49m\u001b[43m_config\u001b[49m\u001b[38;5;241;43m.\u001b[39;49m\u001b[43mimpersonated_user\u001b[49m\u001b[43m,\u001b[49m\u001b[43m \u001b[49m\u001b[38;5;28;43mself\u001b[39;49m\u001b[38;5;241;43m.\u001b[39;49m\u001b[43m_config\u001b[49m\u001b[38;5;241;43m.\u001b[39;49m\u001b[43mdefault_access_mode\u001b[49m\u001b[43m,\u001b[49m\n\u001b[1;32m    320\u001b[0m \u001b[43m    \u001b[49m\u001b[43mbookmarks\u001b[49m\u001b[43m,\u001b[49m\u001b[43m \u001b[49m\u001b[38;5;28;43mself\u001b[39;49m\u001b[38;5;241;43m.\u001b[39;49m\u001b[43m_config\u001b[49m\u001b[38;5;241;43m.\u001b[39;49m\u001b[43mnotifications_min_severity\u001b[49m\u001b[43m,\u001b[49m\n\u001b[1;32m    321\u001b[0m \u001b[43m    \u001b[49m\u001b[38;5;28;43mself\u001b[39;49m\u001b[38;5;241;43m.\u001b[39;49m\u001b[43m_config\u001b[49m\u001b[38;5;241;43m.\u001b[39;49m\u001b[43mnotifications_disabled_categories\u001b[49m\u001b[43m,\u001b[49m\n\u001b[1;32m    322\u001b[0m \u001b[43m\u001b[49m\u001b[43m)\u001b[49m\n\u001b[1;32m    324\u001b[0m \u001b[38;5;28;01mreturn\u001b[39;00m \u001b[38;5;28mself\u001b[39m\u001b[38;5;241m.\u001b[39m_auto_result\n",
      "File \u001b[0;32m~/.local/lib/python3.11/site-packages/neo4j/_sync/work/result.py:166\u001b[0m, in \u001b[0;36mResult._run\u001b[0;34m(self, query, parameters, db, imp_user, access_mode, bookmarks, notifications_min_severity, notifications_disabled_categories)\u001b[0m\n\u001b[1;32m    165\u001b[0m \u001b[38;5;28mself\u001b[39m\u001b[38;5;241m.\u001b[39m_connection\u001b[38;5;241m.\u001b[39msend_all()\n\u001b[0;32m--> 166\u001b[0m \u001b[38;5;28;43mself\u001b[39;49m\u001b[38;5;241;43m.\u001b[39;49m\u001b[43m_attach\u001b[49m\u001b[43m(\u001b[49m\u001b[43m)\u001b[49m\n",
      "File \u001b[0;32m~/.local/lib/python3.11/site-packages/neo4j/_sync/work/result.py:274\u001b[0m, in \u001b[0;36mResult._attach\u001b[0;34m(self)\u001b[0m\n\u001b[1;32m    273\u001b[0m \u001b[38;5;28;01mwhile\u001b[39;00m \u001b[38;5;28mself\u001b[39m\u001b[38;5;241m.\u001b[39m_attached \u001b[38;5;129;01mis\u001b[39;00m \u001b[38;5;28;01mFalse\u001b[39;00m:\n\u001b[0;32m--> 274\u001b[0m     \u001b[38;5;28;43mself\u001b[39;49m\u001b[38;5;241;43m.\u001b[39;49m\u001b[43m_connection\u001b[49m\u001b[38;5;241;43m.\u001b[39;49m\u001b[43mfetch_message\u001b[49m\u001b[43m(\u001b[49m\u001b[43m)\u001b[49m\n",
      "File \u001b[0;32m~/.local/lib/python3.11/site-packages/neo4j/_sync/io/_common.py:180\u001b[0m, in \u001b[0;36mConnectionErrorHandler.__getattr__.<locals>.outer.<locals>.inner\u001b[0;34m(*args, **kwargs)\u001b[0m\n\u001b[1;32m    179\u001b[0m \u001b[38;5;28;01mtry\u001b[39;00m:\n\u001b[0;32m--> 180\u001b[0m     \u001b[43mfunc\u001b[49m\u001b[43m(\u001b[49m\u001b[38;5;241;43m*\u001b[39;49m\u001b[43margs\u001b[49m\u001b[43m,\u001b[49m\u001b[43m \u001b[49m\u001b[38;5;241;43m*\u001b[39;49m\u001b[38;5;241;43m*\u001b[39;49m\u001b[43mkwargs\u001b[49m\u001b[43m)\u001b[49m\n\u001b[1;32m    181\u001b[0m \u001b[38;5;28;01mexcept\u001b[39;00m (Neo4jError, ServiceUnavailable, SessionExpired) \u001b[38;5;28;01mas\u001b[39;00m exc:\n",
      "File \u001b[0;32m~/.local/lib/python3.11/site-packages/neo4j/_sync/io/_bolt.py:826\u001b[0m, in \u001b[0;36mBolt.fetch_message\u001b[0;34m(self)\u001b[0m\n\u001b[1;32m    823\u001b[0m tag, fields \u001b[38;5;241m=\u001b[39m \u001b[38;5;28mself\u001b[39m\u001b[38;5;241m.\u001b[39minbox\u001b[38;5;241m.\u001b[39mpop(\n\u001b[1;32m    824\u001b[0m     hydration_hooks\u001b[38;5;241m=\u001b[39m\u001b[38;5;28mself\u001b[39m\u001b[38;5;241m.\u001b[39mresponses[\u001b[38;5;241m0\u001b[39m]\u001b[38;5;241m.\u001b[39mhydration_hooks\n\u001b[1;32m    825\u001b[0m )\n\u001b[0;32m--> 826\u001b[0m res \u001b[38;5;241m=\u001b[39m \u001b[38;5;28;43mself\u001b[39;49m\u001b[38;5;241;43m.\u001b[39;49m\u001b[43m_process_message\u001b[49m\u001b[43m(\u001b[49m\u001b[43mtag\u001b[49m\u001b[43m,\u001b[49m\u001b[43m \u001b[49m\u001b[43mfields\u001b[49m\u001b[43m)\u001b[49m\n\u001b[1;32m    827\u001b[0m \u001b[38;5;28mself\u001b[39m\u001b[38;5;241m.\u001b[39midle_since \u001b[38;5;241m=\u001b[39m perf_counter()\n",
      "File \u001b[0;32m~/.local/lib/python3.11/site-packages/neo4j/_sync/io/_bolt4.py:366\u001b[0m, in \u001b[0;36mBolt4x0._process_message\u001b[0;34m(self, tag, fields)\u001b[0m\n\u001b[1;32m    365\u001b[0m \u001b[38;5;28;01mtry\u001b[39;00m:\n\u001b[0;32m--> 366\u001b[0m     \u001b[43mresponse\u001b[49m\u001b[38;5;241;43m.\u001b[39;49m\u001b[43mon_failure\u001b[49m\u001b[43m(\u001b[49m\u001b[43msummary_metadata\u001b[49m\u001b[43m \u001b[49m\u001b[38;5;129;43;01mor\u001b[39;49;00m\u001b[43m \u001b[49m\u001b[43m{\u001b[49m\u001b[43m}\u001b[49m\u001b[43m)\u001b[49m\n\u001b[1;32m    367\u001b[0m \u001b[38;5;28;01mexcept\u001b[39;00m (ServiceUnavailable, DatabaseUnavailable):\n",
      "File \u001b[0;32m~/.local/lib/python3.11/site-packages/neo4j/_sync/io/_common.py:247\u001b[0m, in \u001b[0;36mResponse.on_failure\u001b[0;34m(self, metadata)\u001b[0m\n\u001b[1;32m    246\u001b[0m Util\u001b[38;5;241m.\u001b[39mcallback(handler)\n\u001b[0;32m--> 247\u001b[0m \u001b[38;5;28;01mraise\u001b[39;00m Neo4jError\u001b[38;5;241m.\u001b[39mhydrate(\u001b[38;5;241m*\u001b[39m\u001b[38;5;241m*\u001b[39mmetadata)\n",
      "\u001b[0;31mCypherSyntaxError\u001b[0m: {code: Neo.ClientError.Statement.SyntaxError} {message: Variable `path` not defined (line 3, column 28 (offset: 164))\n\"RETURN [r in relationships(path) | type(r)] as relationship\"\n                            ^}",
      "\nDuring handling of the above exception, another exception occurred:\n",
      "\u001b[0;31mValueError\u001b[0m                                Traceback (most recent call last)",
      "Cell \u001b[0;32mIn[70], line 1\u001b[0m\n\u001b[0;32m----> 1\u001b[0m output \u001b[38;5;241m=\u001b[39m \u001b[43mchain\u001b[49m\u001b[38;5;241;43m.\u001b[39;49m\u001b[43mrun\u001b[49m\u001b[43m(\u001b[49m\u001b[43m{\u001b[49m\n\u001b[1;32m      2\u001b[0m \u001b[43m  \u001b[49m\u001b[43mQUERY_KEY\u001b[49m\u001b[43m:\u001b[49m\u001b[43m \u001b[49m\u001b[38;5;124;43m\"\u001b[39;49m\u001b[38;5;124;43mWhat is the relationship between INHBA and MTMR4?\u001b[39;49m\u001b[38;5;124;43m\"\u001b[39;49m\u001b[43m,\u001b[49m\n\u001b[1;32m      3\u001b[0m \u001b[43m  \u001b[49m\u001b[43mEXAMPLES_KEY\u001b[49m\u001b[43m:\u001b[49m\u001b[43m \u001b[49m\u001b[43mexamples\u001b[49m\n\u001b[1;32m      4\u001b[0m \u001b[43m}\u001b[49m\u001b[43m)\u001b[49m\n\u001b[1;32m      5\u001b[0m show(output)\n",
      "File \u001b[0;32m/usr/local/lib/python3.11/site-packages/langchain/chains/base.py:487\u001b[0m, in \u001b[0;36mChain.run\u001b[0;34m(self, callbacks, tags, metadata, *args, **kwargs)\u001b[0m\n\u001b[1;32m    485\u001b[0m     \u001b[38;5;28;01mif\u001b[39;00m \u001b[38;5;28mlen\u001b[39m(args) \u001b[38;5;241m!=\u001b[39m \u001b[38;5;241m1\u001b[39m:\n\u001b[1;32m    486\u001b[0m         \u001b[38;5;28;01mraise\u001b[39;00m \u001b[38;5;167;01mValueError\u001b[39;00m(\u001b[38;5;124m\"\u001b[39m\u001b[38;5;124m`run` supports only one positional argument.\u001b[39m\u001b[38;5;124m\"\u001b[39m)\n\u001b[0;32m--> 487\u001b[0m     \u001b[38;5;28;01mreturn\u001b[39;00m \u001b[38;5;28;43mself\u001b[39;49m\u001b[43m(\u001b[49m\u001b[43margs\u001b[49m\u001b[43m[\u001b[49m\u001b[38;5;241;43m0\u001b[39;49m\u001b[43m]\u001b[49m\u001b[43m,\u001b[49m\u001b[43m \u001b[49m\u001b[43mcallbacks\u001b[49m\u001b[38;5;241;43m=\u001b[39;49m\u001b[43mcallbacks\u001b[49m\u001b[43m,\u001b[49m\u001b[43m \u001b[49m\u001b[43mtags\u001b[49m\u001b[38;5;241;43m=\u001b[39;49m\u001b[43mtags\u001b[49m\u001b[43m,\u001b[49m\u001b[43m \u001b[49m\u001b[43mmetadata\u001b[49m\u001b[38;5;241;43m=\u001b[39;49m\u001b[43mmetadata\u001b[49m\u001b[43m)\u001b[49m[\n\u001b[1;32m    488\u001b[0m         _output_key\n\u001b[1;32m    489\u001b[0m     ]\n\u001b[1;32m    491\u001b[0m \u001b[38;5;28;01mif\u001b[39;00m kwargs \u001b[38;5;129;01mand\u001b[39;00m \u001b[38;5;129;01mnot\u001b[39;00m args:\n\u001b[1;32m    492\u001b[0m     \u001b[38;5;28;01mreturn\u001b[39;00m \u001b[38;5;28mself\u001b[39m(kwargs, callbacks\u001b[38;5;241m=\u001b[39mcallbacks, tags\u001b[38;5;241m=\u001b[39mtags, metadata\u001b[38;5;241m=\u001b[39mmetadata)[\n\u001b[1;32m    493\u001b[0m         _output_key\n\u001b[1;32m    494\u001b[0m     ]\n",
      "File \u001b[0;32m/usr/local/lib/python3.11/site-packages/langchain/chains/base.py:292\u001b[0m, in \u001b[0;36mChain.__call__\u001b[0;34m(self, inputs, return_only_outputs, callbacks, tags, metadata, run_name, include_run_info)\u001b[0m\n\u001b[1;32m    290\u001b[0m \u001b[38;5;28;01mexcept\u001b[39;00m \u001b[38;5;167;01mBaseException\u001b[39;00m \u001b[38;5;28;01mas\u001b[39;00m e:\n\u001b[1;32m    291\u001b[0m     run_manager\u001b[38;5;241m.\u001b[39mon_chain_error(e)\n\u001b[0;32m--> 292\u001b[0m     \u001b[38;5;28;01mraise\u001b[39;00m e\n\u001b[1;32m    293\u001b[0m run_manager\u001b[38;5;241m.\u001b[39mon_chain_end(outputs)\n\u001b[1;32m    294\u001b[0m final_outputs: Dict[\u001b[38;5;28mstr\u001b[39m, Any] \u001b[38;5;241m=\u001b[39m \u001b[38;5;28mself\u001b[39m\u001b[38;5;241m.\u001b[39mprep_outputs(\n\u001b[1;32m    295\u001b[0m     inputs, outputs, return_only_outputs\n\u001b[1;32m    296\u001b[0m )\n",
      "File \u001b[0;32m/usr/local/lib/python3.11/site-packages/langchain/chains/base.py:286\u001b[0m, in \u001b[0;36mChain.__call__\u001b[0;34m(self, inputs, return_only_outputs, callbacks, tags, metadata, run_name, include_run_info)\u001b[0m\n\u001b[1;32m    279\u001b[0m run_manager \u001b[38;5;241m=\u001b[39m callback_manager\u001b[38;5;241m.\u001b[39mon_chain_start(\n\u001b[1;32m    280\u001b[0m     dumpd(\u001b[38;5;28mself\u001b[39m),\n\u001b[1;32m    281\u001b[0m     inputs,\n\u001b[1;32m    282\u001b[0m     name\u001b[38;5;241m=\u001b[39mrun_name,\n\u001b[1;32m    283\u001b[0m )\n\u001b[1;32m    284\u001b[0m \u001b[38;5;28;01mtry\u001b[39;00m:\n\u001b[1;32m    285\u001b[0m     outputs \u001b[38;5;241m=\u001b[39m (\n\u001b[0;32m--> 286\u001b[0m         \u001b[38;5;28;43mself\u001b[39;49m\u001b[38;5;241;43m.\u001b[39;49m\u001b[43m_call\u001b[49m\u001b[43m(\u001b[49m\u001b[43minputs\u001b[49m\u001b[43m,\u001b[49m\u001b[43m \u001b[49m\u001b[43mrun_manager\u001b[49m\u001b[38;5;241;43m=\u001b[39;49m\u001b[43mrun_manager\u001b[49m\u001b[43m)\u001b[49m\n\u001b[1;32m    287\u001b[0m         \u001b[38;5;28;01mif\u001b[39;00m new_arg_supported\n\u001b[1;32m    288\u001b[0m         \u001b[38;5;28;01melse\u001b[39;00m \u001b[38;5;28mself\u001b[39m\u001b[38;5;241m.\u001b[39m_call(inputs)\n\u001b[1;32m    289\u001b[0m     )\n\u001b[1;32m    290\u001b[0m \u001b[38;5;28;01mexcept\u001b[39;00m \u001b[38;5;167;01mBaseException\u001b[39;00m \u001b[38;5;28;01mas\u001b[39;00m e:\n\u001b[1;32m    291\u001b[0m     run_manager\u001b[38;5;241m.\u001b[39mon_chain_error(e)\n",
      "File \u001b[0;32m/usr/local/lib/python3.11/site-packages/langchain/chains/sequential.py:104\u001b[0m, in \u001b[0;36mSequentialChain._call\u001b[0;34m(self, inputs, run_manager)\u001b[0m\n\u001b[1;32m    102\u001b[0m \u001b[38;5;28;01mfor\u001b[39;00m i, chain \u001b[38;5;129;01min\u001b[39;00m \u001b[38;5;28menumerate\u001b[39m(\u001b[38;5;28mself\u001b[39m\u001b[38;5;241m.\u001b[39mchains):\n\u001b[1;32m    103\u001b[0m     callbacks \u001b[38;5;241m=\u001b[39m _run_manager\u001b[38;5;241m.\u001b[39mget_child()\n\u001b[0;32m--> 104\u001b[0m     outputs \u001b[38;5;241m=\u001b[39m \u001b[43mchain\u001b[49m\u001b[43m(\u001b[49m\u001b[43mknown_values\u001b[49m\u001b[43m,\u001b[49m\u001b[43m \u001b[49m\u001b[43mreturn_only_outputs\u001b[49m\u001b[38;5;241;43m=\u001b[39;49m\u001b[38;5;28;43;01mTrue\u001b[39;49;00m\u001b[43m,\u001b[49m\u001b[43m \u001b[49m\u001b[43mcallbacks\u001b[49m\u001b[38;5;241;43m=\u001b[39;49m\u001b[43mcallbacks\u001b[49m\u001b[43m)\u001b[49m\n\u001b[1;32m    105\u001b[0m     known_values\u001b[38;5;241m.\u001b[39mupdate(outputs)\n\u001b[1;32m    106\u001b[0m \u001b[38;5;28;01mreturn\u001b[39;00m {k: known_values[k] \u001b[38;5;28;01mfor\u001b[39;00m k \u001b[38;5;129;01min\u001b[39;00m \u001b[38;5;28mself\u001b[39m\u001b[38;5;241m.\u001b[39moutput_variables}\n",
      "File \u001b[0;32m/usr/local/lib/python3.11/site-packages/langchain/chains/base.py:292\u001b[0m, in \u001b[0;36mChain.__call__\u001b[0;34m(self, inputs, return_only_outputs, callbacks, tags, metadata, run_name, include_run_info)\u001b[0m\n\u001b[1;32m    290\u001b[0m \u001b[38;5;28;01mexcept\u001b[39;00m \u001b[38;5;167;01mBaseException\u001b[39;00m \u001b[38;5;28;01mas\u001b[39;00m e:\n\u001b[1;32m    291\u001b[0m     run_manager\u001b[38;5;241m.\u001b[39mon_chain_error(e)\n\u001b[0;32m--> 292\u001b[0m     \u001b[38;5;28;01mraise\u001b[39;00m e\n\u001b[1;32m    293\u001b[0m run_manager\u001b[38;5;241m.\u001b[39mon_chain_end(outputs)\n\u001b[1;32m    294\u001b[0m final_outputs: Dict[\u001b[38;5;28mstr\u001b[39m, Any] \u001b[38;5;241m=\u001b[39m \u001b[38;5;28mself\u001b[39m\u001b[38;5;241m.\u001b[39mprep_outputs(\n\u001b[1;32m    295\u001b[0m     inputs, outputs, return_only_outputs\n\u001b[1;32m    296\u001b[0m )\n",
      "File \u001b[0;32m/usr/local/lib/python3.11/site-packages/langchain/chains/base.py:286\u001b[0m, in \u001b[0;36mChain.__call__\u001b[0;34m(self, inputs, return_only_outputs, callbacks, tags, metadata, run_name, include_run_info)\u001b[0m\n\u001b[1;32m    279\u001b[0m run_manager \u001b[38;5;241m=\u001b[39m callback_manager\u001b[38;5;241m.\u001b[39mon_chain_start(\n\u001b[1;32m    280\u001b[0m     dumpd(\u001b[38;5;28mself\u001b[39m),\n\u001b[1;32m    281\u001b[0m     inputs,\n\u001b[1;32m    282\u001b[0m     name\u001b[38;5;241m=\u001b[39mrun_name,\n\u001b[1;32m    283\u001b[0m )\n\u001b[1;32m    284\u001b[0m \u001b[38;5;28;01mtry\u001b[39;00m:\n\u001b[1;32m    285\u001b[0m     outputs \u001b[38;5;241m=\u001b[39m (\n\u001b[0;32m--> 286\u001b[0m         \u001b[38;5;28;43mself\u001b[39;49m\u001b[38;5;241;43m.\u001b[39;49m\u001b[43m_call\u001b[49m\u001b[43m(\u001b[49m\u001b[43minputs\u001b[49m\u001b[43m,\u001b[49m\u001b[43m \u001b[49m\u001b[43mrun_manager\u001b[49m\u001b[38;5;241;43m=\u001b[39;49m\u001b[43mrun_manager\u001b[49m\u001b[43m)\u001b[49m\n\u001b[1;32m    287\u001b[0m         \u001b[38;5;28;01mif\u001b[39;00m new_arg_supported\n\u001b[1;32m    288\u001b[0m         \u001b[38;5;28;01melse\u001b[39;00m \u001b[38;5;28mself\u001b[39m\u001b[38;5;241m.\u001b[39m_call(inputs)\n\u001b[1;32m    289\u001b[0m     )\n\u001b[1;32m    290\u001b[0m \u001b[38;5;28;01mexcept\u001b[39;00m \u001b[38;5;167;01mBaseException\u001b[39;00m \u001b[38;5;28;01mas\u001b[39;00m e:\n\u001b[1;32m    291\u001b[0m     run_manager\u001b[38;5;241m.\u001b[39mon_chain_error(e)\n",
      "Cell \u001b[0;32mIn[47], line 189\u001b[0m, in \u001b[0;36mGraphCypherQAChain._call\u001b[0;34m(self, inputs, run_manager)\u001b[0m\n\u001b[1;32m    186\u001b[0m \u001b[38;5;28;01mfor\u001b[39;00m statement \u001b[38;5;129;01min\u001b[39;00m generated_cypher\u001b[38;5;241m.\u001b[39msplit(\u001b[38;5;124m'\u001b[39m\u001b[38;5;124m;\u001b[39m\u001b[38;5;124m'\u001b[39m):\n\u001b[1;32m    187\u001b[0m     \u001b[38;5;28;01mif\u001b[39;00m statement:\n\u001b[1;32m    188\u001b[0m         \u001b[38;5;66;03m# Retrieve and limit the number of results\u001b[39;00m\n\u001b[0;32m--> 189\u001b[0m         context \u001b[38;5;241m+\u001b[39m\u001b[38;5;241m=\u001b[39m \u001b[38;5;28;43mself\u001b[39;49m\u001b[38;5;241;43m.\u001b[39;49m\u001b[43mgraph\u001b[49m\u001b[38;5;241;43m.\u001b[39;49m\u001b[43mquery\u001b[49m\u001b[43m(\u001b[49m\u001b[43mstatement\u001b[49m\u001b[43m)\u001b[49m[: \u001b[38;5;28mself\u001b[39m\u001b[38;5;241m.\u001b[39mtop_k]\n\u001b[1;32m    191\u001b[0m \u001b[38;5;28;01mif\u001b[39;00m \u001b[38;5;28mself\u001b[39m\u001b[38;5;241m.\u001b[39mreturn_direct:\n\u001b[1;32m    192\u001b[0m     final_result \u001b[38;5;241m=\u001b[39m context\n",
      "File \u001b[0;32m/usr/local/lib/python3.11/site-packages/langchain/graphs/neo4j_graph.py:86\u001b[0m, in \u001b[0;36mNeo4jGraph.query\u001b[0;34m(self, query, params)\u001b[0m\n\u001b[1;32m     84\u001b[0m     \u001b[38;5;28;01mreturn\u001b[39;00m [r\u001b[38;5;241m.\u001b[39mdata() \u001b[38;5;28;01mfor\u001b[39;00m r \u001b[38;5;129;01min\u001b[39;00m data]\n\u001b[1;32m     85\u001b[0m \u001b[38;5;28;01mexcept\u001b[39;00m CypherSyntaxError \u001b[38;5;28;01mas\u001b[39;00m e:\n\u001b[0;32m---> 86\u001b[0m     \u001b[38;5;28;01mraise\u001b[39;00m \u001b[38;5;167;01mValueError\u001b[39;00m(\u001b[38;5;124mf\u001b[39m\u001b[38;5;124m\"\u001b[39m\u001b[38;5;124mGenerated Cypher Statement is not valid\u001b[39m\u001b[38;5;130;01m\\n\u001b[39;00m\u001b[38;5;132;01m{\u001b[39;00me\u001b[38;5;132;01m}\u001b[39;00m\u001b[38;5;124m\"\u001b[39m)\n",
      "\u001b[0;31mValueError\u001b[0m: Generated Cypher Statement is not valid\n{code: Neo.ClientError.Statement.SyntaxError} {message: Variable `path` not defined (line 3, column 28 (offset: 164))\n\"RETURN [r in relationships(path) | type(r)] as relationship\"\n                            ^}"
     ]
    }
   ],
   "source": [
    "output = chain.run({\n",
    "  QUERY_KEY: \"What is the relationship between INHBA and MTMR4?\",\n",
    "  EXAMPLES_KEY: examples\n",
    "})\n",
    "show(output)"
   ]
  },
  {
   "cell_type": "code",
   "execution_count": null,
   "id": "bd6579dd-9847-4fbe-97d9-9f13ea44e7ce",
   "metadata": {},
   "outputs": [],
   "source": []
  }
 ],
 "metadata": {
  "kernelspec": {
   "display_name": "Python 3 (ipykernel)",
   "language": "python",
   "name": "python3"
  },
  "language_info": {
   "codemirror_mode": {
    "name": "ipython",
    "version": 3
   },
   "file_extension": ".py",
   "mimetype": "text/x-python",
   "name": "python",
   "nbconvert_exporter": "python",
   "pygments_lexer": "ipython3",
   "version": "3.11.5"
  }
 },
 "nbformat": 4,
 "nbformat_minor": 5
}
