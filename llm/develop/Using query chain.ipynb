{
 "cells": [
  {
   "cell_type": "markdown",
   "id": "6fda1acd-9514-4db5-ba8e-68255beb4c51",
   "metadata": {},
   "source": [
    "# Init"
   ]
  },
  {
   "cell_type": "code",
   "execution_count": null,
   "id": "d349fffb-0042-4a5a-8984-d9c937be660e",
   "metadata": {
    "collapsed": false,
    "is_executing": true,
    "jupyter": {
     "outputs_hidden": false
    }
   },
   "outputs": [],
   "source": [
    "%load_ext autoreload"
   ]
  },
  {
   "cell_type": "code",
   "execution_count": null,
   "id": "98bb8a3a-1acb-4fab-a8dd-c7671b684fab",
   "metadata": {},
   "outputs": [],
   "source": [
    "from app import app\n",
    "context = app.app_context()\n",
    "context.push()"
   ]
  },
  {
   "cell_type": "markdown",
   "id": "77a6dda5-ebc3-4d0a-8c22-62295460d871",
   "metadata": {},
   "source": [
    "## Imports"
   ]
  },
  {
   "cell_type": "code",
   "execution_count": null,
   "id": "603eded2-cac8-4cf6-9a7f-9294369e96cd",
   "metadata": {},
   "outputs": [],
   "source": [
    "import yaml\n",
    "from utils import formatters # Provide jupyter output formating"
   ]
  },
  {
   "cell_type": "markdown",
   "id": "bd918ef6-ec05-420f-8dc4-3a84e50de805",
   "metadata": {},
   "source": [
    "## Inputs"
   ]
  },
  {
   "cell_type": "code",
   "execution_count": null,
   "id": "d0ad8eda-d372-4002-b609-42899582eb2a",
   "metadata": {},
   "outputs": [],
   "source": [
    "query=\"What is the relationship between Zn2+ and glycolate?\""
   ]
  },
  {
   "cell_type": "markdown",
   "id": "877af485-bd94-4352-a511-d25d3e561b87",
   "metadata": {},
   "source": [
    "## Initial check\n",
    "\n",
    "Current response:"
   ]
  },
  {
   "cell_type": "code",
   "execution_count": null,
   "id": "2f791641-1009-4fb6-b1ea-26521b8dddd2",
   "metadata": {},
   "outputs": [],
   "source": [
    "import openai\n",
    "response = openai.ChatCompletion.create(\n",
    "    messages=[\n",
    "        { \"role\": \"user\", \"content\": query }\n",
    "    ],\n",
    "    model=\"gpt-3.5-turbo\",\n",
    "    temperature=0\n",
    ")\n",
    "response"
   ]
  },
  {
   "cell_type": "markdown",
   "id": "2c0298d0-b147-4971-9606-d871307ebe56",
   "metadata": {},
   "source": [
    "# Extract core terms"
   ]
  },
  {
   "cell_type": "markdown",
   "id": "9ac517bb-5e7c-4562-9e49-25dbd2658122",
   "metadata": {},
   "source": [
    "## Init model"
   ]
  },
  {
   "cell_type": "code",
   "execution_count": null,
   "id": "a7c93291-a342-485f-950e-97d12e528bfc",
   "metadata": {
    "editable": true,
    "slideshow": {
     "slide_type": ""
    },
    "tags": []
   },
   "outputs": [],
   "source": [
    "from langchain.chat_models import ChatOpenAI\n",
    "llm = ChatOpenAI(temperature=0)\n",
    "llm"
   ]
  },
  {
   "cell_type": "markdown",
   "id": "b3d667ea-96aa-48e6-8d36-4da4e6157069",
   "metadata": {
    "editable": true,
    "slideshow": {
     "slide_type": ""
    },
    "tags": []
   },
   "source": [
    "## Pepare prompts"
   ]
  },
  {
   "cell_type": "code",
   "execution_count": null,
   "id": "aa15f752-9d1f-4f29-9b56-14d4e6224dcf",
   "metadata": {
    "editable": true,
    "slideshow": {
     "slide_type": ""
    },
    "tags": []
   },
   "outputs": [],
   "source": [
    "from langchain.prompts import PromptTemplate\n",
    "from langchain.prompts.chat import (\n",
    "    ChatPromptTemplate,\n",
    "    SystemMessagePromptTemplate,\n",
    "    HumanMessagePromptTemplate,\n",
    ")\n",
    "QUERY_KEY = 'query'\n",
    "\n",
    "core_terms_prompt_template = ChatPromptTemplate.from_messages([\n",
    "    SystemMessagePromptTemplate(\n",
    "        prompt=PromptTemplate(\n",
    "            template=\"Always response with comma separated list of chemical or biological terms identified in prompt.\",\n",
    "            input_variables=[]\n",
    "        )\n",
    "    ),\n",
    "    HumanMessagePromptTemplate(\n",
    "        prompt=PromptTemplate(\n",
    "            template=f\"{{{QUERY_KEY}}}\",\n",
    "            input_variables=[QUERY_KEY],\n",
    "        )\n",
    "    )\n",
    "])\n",
    "core_terms_prompt_template"
   ]
  },
  {
   "cell_type": "markdown",
   "id": "ee248fb0-b606-46e4-8989-948a41ca0be7",
   "metadata": {
    "editable": true,
    "slideshow": {
     "slide_type": ""
    },
    "tags": []
   },
   "source": [
    "## Create output parser"
   ]
  },
  {
   "cell_type": "code",
   "execution_count": null,
   "id": "08883978-6bf6-401d-a26f-29eca24e761d",
   "metadata": {
    "editable": true,
    "slideshow": {
     "slide_type": ""
    },
    "tags": []
   },
   "outputs": [],
   "source": [
    "from langchain.output_parsers import CommaSeparatedListOutputParser\n",
    "output_parser = CommaSeparatedListOutputParser()\n",
    "output_parser"
   ]
  },
  {
   "cell_type": "markdown",
   "id": "4204b681-7b63-4f06-8076-e1cde25a7261",
   "metadata": {
    "editable": true,
    "slideshow": {
     "slide_type": ""
    },
    "tags": []
   },
   "source": [
    "## Create chain"
   ]
  },
  {
   "cell_type": "code",
   "execution_count": null,
   "id": "3fe60f84-e54c-4903-84e3-05e2a9864cb8",
   "metadata": {
    "editable": true,
    "slideshow": {
     "slide_type": ""
    },
    "tags": []
   },
   "outputs": [],
   "source": [
    "from langchain import LLMChain\n",
    "CORE_TERMS_KEY = 'core_terms'\n",
    "core_terms_chain = LLMChain(\n",
    "    llm=llm,\n",
    "    prompt=core_terms_prompt_template,\n",
    "    output_parser=output_parser,\n",
    "    output_key=CORE_TERMS_KEY,\n",
    "    verbose=True\n",
    ")\n",
    "core_terms_chain"
   ]
  },
  {
   "cell_type": "markdown",
   "id": "e0179e2f-146a-4d28-97f3-abdfa79713b6",
   "metadata": {
    "editable": true,
    "slideshow": {
     "slide_type": ""
    },
    "tags": []
   },
   "source": [
    "## Run"
   ]
  },
  {
   "cell_type": "code",
   "execution_count": null,
   "id": "161651c8-d245-43a9-b8a7-18aa0e1a48d2",
   "metadata": {
    "editable": true,
    "slideshow": {
     "slide_type": ""
    },
    "tags": []
   },
   "outputs": [],
   "source": [
    "core_terms = core_terms_chain.run(query)\n",
    "core_terms"
   ]
  },
  {
   "cell_type": "markdown",
   "id": "24f4dca0-4c03-41bf-a916-817443a1850b",
   "metadata": {
    "editable": true,
    "slideshow": {
     "slide_type": ""
    },
    "tags": []
   },
   "source": [
    "# Find core terms eids"
   ]
  },
  {
   "cell_type": "markdown",
   "id": "5248bd24-f3ef-4316-95a1-dccb8a99862d",
   "metadata": {
    "editable": true,
    "slideshow": {
     "slide_type": ""
    },
    "tags": []
   },
   "source": [
    "## Create chain construct to query db"
   ]
  },
  {
   "cell_type": "markdown",
   "id": "ae4445d6-22a6-4178-a5f7-0dc4cc1f2674",
   "metadata": {
    "editable": true,
    "slideshow": {
     "slide_type": ""
    },
    "tags": []
   },
   "source": [
    "### Prepare graph results output parser\n",
    "Unwraps query output"
   ]
  },
  {
   "cell_type": "code",
   "execution_count": null,
   "id": "99d1e485-fa7d-456e-a66a-34433fa3ec9e",
   "metadata": {
    "editable": true,
    "slideshow": {
     "slide_type": ""
    },
    "tags": []
   },
   "outputs": [],
   "source": [
    "from llmlib.utils.output_parsers.graph_results import GraphResultsOutputParser"
   ]
  },
  {
   "cell_type": "markdown",
   "id": "66a53296-7b73-48bb-b02f-12e56d30000e",
   "metadata": {},
   "source": [
    "### Prepare chain construct with output parser"
   ]
  },
  {
   "cell_type": "code",
   "execution_count": null,
   "id": "1b3acd93-57da-4d93-8204-aeed3862cb25",
   "metadata": {
    "editable": true,
    "slideshow": {
     "slide_type": ""
    },
    "tags": []
   },
   "outputs": [],
   "source": [
    "from llmlib.utils.chains.graph_query import GraphQueryChain"
   ]
  },
  {
   "cell_type": "markdown",
   "id": "546e6ec9-4de6-4931-a1b2-690701c752bb",
   "metadata": {
    "editable": true,
    "slideshow": {
     "slide_type": ""
    },
    "tags": []
   },
   "source": [
    "## Get graph reference"
   ]
  },
  {
   "cell_type": "code",
   "execution_count": null,
   "id": "a4a43b53-a0df-4c5c-adf4-18a7e60d32e3",
   "metadata": {
    "editable": true,
    "slideshow": {
     "slide_type": ""
    },
    "tags": []
   },
   "outputs": [],
   "source": [
    "from llmlib.database import Neo4j"
   ]
  },
  {
   "cell_type": "code",
   "execution_count": null,
   "id": "f2bf3d50-25b5-42fd-88ae-4d6fe3aec03e",
   "metadata": {
    "editable": true,
    "slideshow": {
     "slide_type": ""
    },
    "tags": []
   },
   "outputs": [],
   "source": [
    "graph = Neo4j().graph()"
   ]
  },
  {
   "cell_type": "markdown",
   "id": "619cfbef-3d3a-4319-b515-bcddabd85655",
   "metadata": {
    "editable": true,
    "slideshow": {
     "slide_type": ""
    },
    "tags": []
   },
   "source": [
    "## Create chain"
   ]
  },
  {
   "cell_type": "code",
   "execution_count": null,
   "id": "0831a9c4-32d0-419a-af0e-ee740bf24011",
   "metadata": {
    "editable": true,
    "slideshow": {
     "slide_type": ""
    },
    "tags": []
   },
   "outputs": [],
   "source": [
    "query_output_key = 'output'\n",
    "EID_MAPPING_KEY = 'eid_mapping'\n",
    "find_eids_chain = GraphQueryChain(\n",
    "    query=f\"\"\"\n",
    "UNWIND ${CORE_TERMS_KEY} AS term\n",
    "MATCH (s:Synonym {{lowercase_name: toLower(term)}})<-[:HAS_SYNONYM]-(n)\n",
    "WHERE n.eid IS NOT NULL\n",
    "WITH DISTINCT s.name as term, collect(n.eid) as eids\n",
    "RETURN apoc.text.format(\n",
    "    \"{{term: %s, eid: [%s]}}\",\n",
    "    [term, apoc.text.join(eids, ',')]\n",
    ") as {query_output_key}\n",
    "\"\"\",\n",
    "    input_keys=[CORE_TERMS_KEY],\n",
    "    output_key=EID_MAPPING_KEY,\n",
    "    graph=graph,\n",
    "    output_parser=GraphResultsOutputParser(key=query_output_key),\n",
    "    verbose=True\n",
    ")\n",
    "find_eids_chain"
   ]
  },
  {
   "cell_type": "markdown",
   "id": "3917447a-cff1-48db-a935-bafbd16f866d",
   "metadata": {},
   "source": [
    "### Run"
   ]
  },
  {
   "cell_type": "code",
   "execution_count": null,
   "id": "589b9106-c144-48ec-b139-69a512151f1c",
   "metadata": {
    "editable": true,
    "slideshow": {
     "slide_type": ""
    },
    "tags": []
   },
   "outputs": [],
   "source": [
    "eid_mapping = find_eids_chain.run(core_terms)\n",
    "eid_mapping"
   ]
  },
  {
   "cell_type": "markdown",
   "id": "c9a04cf2-19a3-4bf6-b8c3-5a996820c9ac",
   "metadata": {},
   "source": [
    "## Combine chains test"
   ]
  },
  {
   "cell_type": "markdown",
   "id": "b3d3e753-dd60-4d11-9be5-4ae546e51994",
   "metadata": {},
   "source": [
    "### Combine chains"
   ]
  },
  {
   "cell_type": "code",
   "execution_count": null,
   "id": "762a5ba9-8e42-4867-ad76-3e82eabb6d50",
   "metadata": {},
   "outputs": [],
   "source": [
    "from langchain.chains import SimpleSequentialChain\n",
    "chain = SimpleSequentialChain(\n",
    "    chains=[\n",
    "        core_terms_chain,\n",
    "        find_eids_chain\n",
    "    ],\n",
    "    verbose=True\n",
    ")\n",
    "chain"
   ]
  },
  {
   "cell_type": "markdown",
   "id": "d72f2714-571a-4747-b9b4-3ec8db36a9be",
   "metadata": {},
   "source": [
    "### Test"
   ]
  },
  {
   "cell_type": "code",
   "execution_count": null,
   "id": "6f78e535-790b-42c2-aba7-57490e49257f",
   "metadata": {},
   "outputs": [],
   "source": [
    "output = chain.run(query)\n",
    "output"
   ]
  },
  {
   "cell_type": "markdown",
   "id": "e6214fa0-f74d-40b6-9c7f-2519568db3fe",
   "metadata": {},
   "source": [
    "# Respond to inquiry given database context"
   ]
  },
  {
   "cell_type": "markdown",
   "id": "da63ae13-c0b2-4ef6-8b5b-a3842b9e80c3",
   "metadata": {
    "editable": true,
    "slideshow": {
     "slide_type": ""
    },
    "tags": []
   },
   "source": [
    "## Get graph reference"
   ]
  },
  {
   "cell_type": "code",
   "execution_count": null,
   "id": "30dfe983-ab71-42b0-a159-1ab1d6301fe8",
   "metadata": {
    "editable": true,
    "slideshow": {
     "slide_type": ""
    },
    "tags": []
   },
   "outputs": [],
   "source": [
    "from llmlib.database import Neo4j"
   ]
  },
  {
   "cell_type": "code",
   "execution_count": null,
   "id": "5a08b693-a770-40fc-a0c2-0c2d78551488",
   "metadata": {
    "editable": true,
    "slideshow": {
     "slide_type": ""
    },
    "tags": []
   },
   "outputs": [],
   "source": [
    "graph = Neo4j().graph()"
   ]
  },
  {
   "cell_type": "markdown",
   "id": "5104d3a5-ff86-4dae-be7b-79d8f236a9ea",
   "metadata": {
    "editable": true,
    "slideshow": {
     "slide_type": ""
    },
    "tags": []
   },
   "source": [
    "### Show schema preview"
   ]
  },
  {
   "cell_type": "code",
   "execution_count": null,
   "id": "fb795e6b-1ad9-44f7-9e1a-dce85bd18ac9",
   "metadata": {
    "editable": true,
    "raw_mimetype": "",
    "scrolled": true,
    "slideshow": {
     "slide_type": ""
    },
    "tags": []
   },
   "outputs": [],
   "source": [
    "graph.schema"
   ]
  },
  {
   "cell_type": "markdown",
   "id": "64527b5b-82cb-415e-9bbb-63daedd2f0c6",
   "metadata": {
    "editable": true,
    "slideshow": {
     "slide_type": ""
    },
    "tags": []
   },
   "source": [
    "## Limit schema\n",
    "\n",
    "Whole schema is too big to fit into request context - limit it to required parts."
   ]
  },
  {
   "cell_type": "markdown",
   "id": "6ae59ca1-93d2-496b-aa54-554e4661a1ef",
   "metadata": {},
   "source": [
    "### Set utils"
   ]
  },
  {
   "cell_type": "code",
   "execution_count": null,
   "id": "65d66ba9-b760-45fa-80aa-9d06f1d0dfc2",
   "metadata": {},
   "outputs": [],
   "source": [
    "result_parser_factory = lambda key: lambda result: list(map(lambda row: row[key], result))\n",
    "output_result_parser = result_parser_factory('output')"
   ]
  },
  {
   "cell_type": "markdown",
   "id": "81d6c3cf-1c02-491f-af31-b6dc7bb1db80",
   "metadata": {},
   "source": [
    "### Get preselected node properties"
   ]
  },
  {
   "cell_type": "code",
   "execution_count": null,
   "id": "92112ba0-c2f3-4153-ab82-4e6e49c5dcec",
   "metadata": {
    "editable": true,
    "scrolled": true,
    "slideshow": {
     "slide_type": ""
    },
    "tags": []
   },
   "outputs": [],
   "source": [
    "preselected_node_properties = [ \"displayName\", \"eid\" ]\n",
    "preselected_node_labels = [\"Compound\", \"Reaction\", \"EnzReaction\", \"Regulation\"]\n",
    "node_properties_query = \"\"\"\n",
    "CALL apoc.meta.data()\n",
    "YIELD label, other, elementType, type, property\n",
    "WHERE NOT type = \"RELATIONSHIP\" AND elementType = \"node\" AND label in $preselected_node_labels AND property in $preselected_node_properties\n",
    "WITH label AS nodeLabels, collect({property:property, type:type}) AS properties\n",
    "RETURN {labels: nodeLabels, properties: properties} AS output\n",
    "\"\"\"\n",
    "node_properties = output_result_parser(\n",
    "    graph.query(\n",
    "        node_properties_query,\n",
    "        dict(\n",
    "            preselected_node_properties=preselected_node_properties,\n",
    "            preselected_node_labels=preselected_node_labels\n",
    "        )\n",
    "    )\n",
    ")\n",
    "node_properties"
   ]
  },
  {
   "cell_type": "markdown",
   "id": "576cdc57-aa35-44eb-80a9-7d8e190a94eb",
   "metadata": {},
   "source": [
    "### Get preselected relationship properties"
   ]
  },
  {
   "cell_type": "code",
   "execution_count": null,
   "id": "f59f8403-3e8a-448d-a410-7d70bc835ee3",
   "metadata": {
    "editable": true,
    "slideshow": {
     "slide_type": ""
    },
    "tags": []
   },
   "outputs": [],
   "source": [
    "preselected_relationship_types = [\"CONSUMED_BY\", \"PRODUCES\", \"CATALYZES\", \"REGULATES\"]\n",
    "rel_properties_query = \"\"\"\n",
    "CALL apoc.meta.data()\n",
    "YIELD label, other, elementType, type, property\n",
    "WHERE NOT type = \"RELATIONSHIP\" AND elementType = \"relationship\" AND type in $preselected_relationship_types\n",
    "WITH label AS nodeLabels, collect({property:property, type:type}) AS properties\n",
    "RETURN {type: nodeLabels, properties: properties} AS output\n",
    "\"\"\"\n",
    "relationships_properties = output_result_parser(\n",
    "    graph.query(\n",
    "        rel_properties_query,\n",
    "        dict(\n",
    "            preselected_relationship_types=preselected_relationship_types,\n",
    "        )\n",
    "    )\n",
    ")\n",
    "relationships_properties"
   ]
  },
  {
   "cell_type": "markdown",
   "id": "7dcccf1f-42f5-40c8-85e0-371a552302a2",
   "metadata": {},
   "source": [
    "### Get preselected relationships"
   ]
  },
  {
   "cell_type": "code",
   "execution_count": null,
   "id": "4d0bba8c-c3d6-425e-94d2-e7afc5d059ad",
   "metadata": {
    "editable": true,
    "slideshow": {
     "slide_type": ""
    },
    "tags": []
   },
   "outputs": [],
   "source": [
    "rel_query = \"\"\"\n",
    "CALL apoc.meta.data()\n",
    "YIELD label, other, elementType, type, property\n",
    "WHERE type = \"RELATIONSHIP\" AND elementType = \"node\" AND property in $preselected_relationship_types AND label in $preselected_node_labels\n",
    "UNWIND other AS other_node\n",
    "WITH label, property, toString(other_node) as other_node\n",
    "WHERE other_node in $preselected_node_labels\n",
    "RETURN {start: label, type: property, end: toString(other_node)} AS output\n",
    "\"\"\"\n",
    "relationships = output_result_parser(\n",
    "    graph.query(\n",
    "        rel_query,\n",
    "        dict(\n",
    "            preselected_relationship_types=preselected_relationship_types,\n",
    "            preselected_node_labels=preselected_node_labels\n",
    "        )\n",
    "    )\n",
    ")\n",
    "relationships"
   ]
  },
  {
   "cell_type": "markdown",
   "id": "e6971ce7-21bd-4ec4-b231-ed805a8b334e",
   "metadata": {},
   "source": [
    "### Compose schema"
   ]
  },
  {
   "cell_type": "code",
   "execution_count": null,
   "id": "ab33653c-75ba-4a31-a78f-7750d1194d24",
   "metadata": {
    "editable": true,
    "slideshow": {
     "slide_type": ""
    },
    "tags": []
   },
   "outputs": [],
   "source": [
    "limited_schema = f\"\"\"\n",
    "Node properties are the following:\n",
    "{node_properties}\n",
    "Relationship properties are the following:\n",
    "{relationships_properties}\n",
    "The relationships are the following:\n",
    "{relationships}\n",
    "\"\"\"\n",
    "limited_schema"
   ]
  },
  {
   "cell_type": "markdown",
   "id": "1bd1da66-81cb-46d8-8148-71a8986046a3",
   "metadata": {},
   "source": [
    "### Set schema on the graph"
   ]
  },
  {
   "cell_type": "code",
   "execution_count": null,
   "id": "c1a9644c-23ab-42bb-a0b8-6f2873929b22",
   "metadata": {
    "editable": true,
    "slideshow": {
     "slide_type": ""
    },
    "tags": []
   },
   "outputs": [],
   "source": [
    "graph.schema = limited_schema\n",
    "graph.structured_schema = {\n",
    "    \"node_props\": {el[\"labels\"]: el[\"properties\"] for el in node_properties},\n",
    "    \"rel_props\": {el[\"type\"]: el[\"properties\"] for el in relationships_properties},\n",
    "    \"relationships\": relationships,\n",
    "}\n",
    "graph.structured_schema"
   ]
  },
  {
   "cell_type": "markdown",
   "id": "1d0eadfb-2220-4085-bcbe-f00892d62560",
   "metadata": {},
   "source": [
    "## Prepare prompts"
   ]
  },
  {
   "cell_type": "code",
   "execution_count": null,
   "id": "bcc8a296-950e-4d3a-bf13-5c2244c78137",
   "metadata": {
    "scrolled": true
   },
   "outputs": [],
   "source": [
    "from langchain import OpenAI, PromptTemplate\n",
    "\n",
    "SCHEMA_KEY = 'schema'\n",
    "EXAMPLES_KEY = 'examples'\n",
    "\n",
    "cypher_generation_template = f\"\"\"\n",
    "Task:Generate Cypher statements to query a graph database.\n",
    "Instructions:\n",
    "Use only the provided relationship types and properties in the schema.\n",
    "Do not use any other relationship types or properties that are not provided.\n",
    "If quering for relationship filter out following eids: [\"PROTON\"]\n",
    "Schema:\n",
    "{{{SCHEMA_KEY}}}\n",
    "Examples:\n",
    "{{{EXAMPLES_KEY}}}\n",
    "Note: Do not include any explanations or apologies in your responses.\n",
    "Do not respond to any questions that might ask anything else than for you to construct a Cypher statements.\n",
    "Do not include any text except the generated Cypher statements.\n",
    "Do not wrap statements in brackets.\n",
    "Use example queries.\n",
    "\n",
    "The question is:\n",
    "{{{QUERY_KEY}}}\n",
    "\"\"\"\n",
    "\n",
    "cypher_prompt = PromptTemplate(\n",
    "    input_variables=[SCHEMA_KEY, EXAMPLES_KEY, QUERY_KEY], template=cypher_generation_template\n",
    ")\n",
    "cypher_prompt"
   ]
  },
  {
   "cell_type": "code",
   "execution_count": null,
   "id": "e6dfb939-aab1-46a6-838f-c443b193d6a6",
   "metadata": {
    "scrolled": true
   },
   "outputs": [],
   "source": [
    "from langchain.prompts import PromptTemplate\n",
    "from langchain.chains import GraphCypherQAChain\n",
    "from langchain.prompts.chat import (\n",
    "    ChatPromptTemplate,\n",
    "    SystemMessagePromptTemplate,\n",
    "    HumanMessagePromptTemplate,\n",
    "    AIMessagePromptTemplate,\n",
    ")\n",
    "\n",
    "graph_qa_prompt_template = ChatPromptTemplate.from_messages([\n",
    "    SystemMessagePromptTemplate(\n",
    "        prompt=PromptTemplate(\n",
    "            template=\"You are an expert in field of biology and chemistry with access to graph database.\",\n",
    "            input_variables=[]\n",
    "        )\n",
    "    ),\n",
    "    HumanMessagePromptTemplate(\n",
    "        prompt=PromptTemplate(\n",
    "            template=f\"\"\"\n",
    "                Step 1: For given inquiry identify core terms.\n",
    "                Step 2: Return mapping from core term to list of database 'eid' for related entities.\n",
    "                Inqury: {{{QUERY_KEY}}}\n",
    "            \"\"\",\n",
    "            input_variables=[QUERY_KEY],\n",
    "        )\n",
    "    ),\n",
    "    AIMessagePromptTemplate(\n",
    "        prompt=PromptTemplate(\n",
    "            template=f\"{{{EID_MAPPING_KEY}}}\",\n",
    "            input_variables=[EID_MAPPING_KEY]\n",
    "        )\n",
    "    ),\n",
    "    HumanMessagePromptTemplate(prompt=cypher_prompt)\n",
    "])\n",
    "graph_qa_prompt_template"
   ]
  },
  {
   "cell_type": "code",
   "execution_count": null,
   "id": "b720d7b3-31cd-4ec8-afac-f37e76a6e96f",
   "metadata": {},
   "outputs": [],
   "source": [
    "qa_prompt_template = f\"\"\"You are an assistant that helps to form nice and human understandable answers.\n",
    "The information part contains the provided information that you can use to construct an answer.\n",
    "Make the answer sound as a response to the question. Do not mention that you based the result on the given information.\n",
    "Information:\n",
    "{{context}}\n",
    "\n",
    "Question:\n",
    "{{{QUERY_KEY}}}\n",
    "Helpful Answer:\"\"\"\n",
    "qa_prompt = PromptTemplate(\n",
    "    input_variables=[\"context\", QUERY_KEY], template=qa_prompt_template\n",
    ")\n",
    "qa_prompt"
   ]
  },
  {
   "cell_type": "markdown",
   "id": "8c8e15d2-07ca-48a4-8ea0-654387f0311d",
   "metadata": {},
   "source": [
    "## Create chain"
   ]
  },
  {
   "cell_type": "markdown",
   "id": "457c788b-7939-4348-be6b-fcda1815c821",
   "metadata": {},
   "source": [
    "#### Adapt GraphCypherQAChain to accept custom input keys"
   ]
  },
  {
   "cell_type": "code",
   "execution_count": null,
   "id": "8e5eeaa8-8bcf-45bd-8ebf-d9dd50d54634",
   "metadata": {},
   "outputs": [],
   "source": [
    "from llmlib.utils.chains.graph_cypher_qa_chain import GraphCypherQAChain"
   ]
  },
  {
   "cell_type": "code",
   "execution_count": null,
   "id": "6b4b3b5c-ba8a-40cd-85f1-8de2cf50c959",
   "metadata": {
    "editable": true,
    "raw_mimetype": "",
    "slideshow": {
     "slide_type": ""
    },
    "tags": []
   },
   "outputs": [],
   "source": [
    "RESPONSE_KEY = 'response'\n",
    "graph_qa_chain = GraphCypherQAChain.from_llm(\n",
    "    ChatOpenAI(temperature=0),\n",
    "    graph=graph,\n",
    "    verbose=True,\n",
    "    cypher_prompt=graph_qa_prompt_template,\n",
    "    qa_prompt=qa_prompt,\n",
    "    output_key=RESPONSE_KEY,\n",
    "    return_intermediate_steps=True\n",
    ")\n",
    "graph_qa_chain"
   ]
  },
  {
   "cell_type": "markdown",
   "id": "1b682554-65d3-454d-b029-1dde12cbb25a",
   "metadata": {},
   "source": [
    "### Declare query examples"
   ]
  },
  {
   "cell_type": "code",
   "execution_count": null,
   "id": "975185f8-ef84-4167-8493-de2ed929f263",
   "metadata": {},
   "outputs": [],
   "source": [
    "all_relation_type_str = \"|\".join(preselected_relationship_types)\n",
    "max_search_depth = 5\n",
    "examples=[\n",
    "    f\"\"\"\n",
    "    // Get shortest path between nodes\n",
    "    MATCH (a), (b)\n",
    "    WHERE a.eid in <list_of_term_a_eids> AND b.eid in <list_of_term_b_eids>\n",
    "    MATCH path=allShortestPaths((a)-[:{all_relation_type_str}*1..{max_search_depth}]-(b))\n",
    "    RETURN [e in apoc.path.elements(path) | coalesce(e.eid, type(e))] as path LIMIT 1;\n",
    "    \"\"\",\n",
    "    \"\"\"\n",
    "    // Get nodes information\n",
    "    UNWIND <list_of_eids> as eid\n",
    "    MATCH (node {{eid: eid}}\n",
    "    RETURN node;\n",
    "    \"\"\"\n",
    "]\n",
    "examples"
   ]
  },
  {
   "cell_type": "markdown",
   "id": "ee716f40-cb4a-4c24-8ccd-c428134b52a9",
   "metadata": {},
   "source": [
    "### Declare run parameters"
   ]
  },
  {
   "cell_type": "code",
   "execution_count": null,
   "id": "068b52ac-bf35-44ab-a06a-e224a517018b",
   "metadata": {
    "editable": true,
    "slideshow": {
     "slide_type": ""
    },
    "tags": []
   },
   "outputs": [],
   "source": [
    "graph_qa_chain_inputs = {\n",
    "    QUERY_KEY: query,\n",
    "    EID_MAPPING_KEY: eid_mapping,\n",
    "    EXAMPLES_KEY: examples\n",
    "}\n",
    "graph_qa_chain_inputs"
   ]
  },
  {
   "cell_type": "markdown",
   "id": "4706a36a-ee22-457f-9802-4ac160a70db8",
   "metadata": {},
   "source": [
    "### Run"
   ]
  },
  {
   "cell_type": "code",
   "execution_count": null,
   "id": "01645dd2-b34c-4e75-a84b-03b44966619a",
   "metadata": {},
   "outputs": [],
   "source": [
    "graph_qa_chain.run(graph_qa_chain_inputs)"
   ]
  },
  {
   "cell_type": "markdown",
   "id": "764e609b-dec4-4189-8d8e-0b3b313b9f4c",
   "metadata": {},
   "source": [
    "### Combine chains"
   ]
  },
  {
   "cell_type": "code",
   "execution_count": null,
   "id": "0255bbee-99d9-4345-aa9b-28bb55d23a3c",
   "metadata": {},
   "outputs": [],
   "source": [
    "from langchain.chains import SequentialChain\n",
    "chain = SequentialChain(\n",
    "    chains=[\n",
    "        core_terms_chain,\n",
    "        find_eids_chain,\n",
    "        graph_qa_chain\n",
    "    ],\n",
    "    input_variables=[QUERY_KEY, EXAMPLES_KEY],\n",
    "    output_variables=[RESPONSE_KEY],\n",
    "    verbose=True\n",
    ")\n",
    "chain"
   ]
  },
  {
   "cell_type": "markdown",
   "id": "32d92363-5fcb-4dfa-8b56-662335022013",
   "metadata": {},
   "source": [
    "### Test"
   ]
  },
  {
   "cell_type": "code",
   "execution_count": null,
   "id": "f3536688-2b27-4f13-8bc5-971f8582e1c8",
   "metadata": {},
   "outputs": [],
   "source": [
    "output = chain.run({\n",
    "  QUERY_KEY: query,\n",
    "  EXAMPLES_KEY: examples\n",
    "})\n",
    "output"
   ]
  },
  {
   "cell_type": "code",
   "execution_count": null,
   "id": "151c5471-219c-4a70-a58f-269ea8ef9515",
   "metadata": {},
   "outputs": [],
   "source": [
    "output = chain.run({\n",
    "  QUERY_KEY: \"What is the relationship between Zn2+ and glcD?\",\n",
    "  EXAMPLES_KEY: examples\n",
    "})\n",
    "output"
   ]
  },
  {
   "cell_type": "code",
   "execution_count": null,
   "id": "d2441ff0-e32a-4fe0-9076-93d87a9a34bc",
   "metadata": {},
   "outputs": [],
   "source": [
    "output = chain.run({\n",
    "  QUERY_KEY: \"What is the relationship between INHBA and MTMR4?\",\n",
    "  EXAMPLES_KEY: examples\n",
    "})\n",
    "output"
   ]
  }
 ],
 "metadata": {
  "kernelspec": {
   "display_name": "Python 3 (ipykernel)",
   "language": "python",
   "name": "python3"
  },
  "language_info": {
   "codemirror_mode": {
    "name": "ipython",
    "version": 3
   },
   "file_extension": ".py",
   "mimetype": "text/x-python",
   "name": "python",
   "nbconvert_exporter": "python",
   "pygments_lexer": "ipython3",
   "version": "3.11.6"
  }
 },
 "nbformat": 4,
 "nbformat_minor": 5
}
