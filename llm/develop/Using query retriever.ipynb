{
 "cells": [
  {
   "cell_type": "markdown",
   "id": "6fda1acd-9514-4db5-ba8e-68255beb4c51",
   "metadata": {},
   "source": [
    "# Init"
   ]
  },
  {
   "cell_type": "code",
   "execution_count": 1,
   "id": "feb21004",
   "metadata": {
    "collapsed": false,
    "is_executing": true,
    "jupyter": {
     "outputs_hidden": false
    }
   },
   "outputs": [],
   "source": [
    "%load_ext autoreload"
   ]
  },
  {
   "cell_type": "code",
   "execution_count": 2,
   "id": "98bb8a3a-1acb-4fab-a8dd-c7671b684fab",
   "metadata": {
    "is_executing": true
   },
   "outputs": [
    {
     "ename": "ModuleNotFoundError",
     "evalue": "No module named 'app'",
     "output_type": "error",
     "traceback": [
      "\u001b[0;31m---------------------------------------------------------------------------\u001b[0m",
      "\u001b[0;31mModuleNotFoundError\u001b[0m                       Traceback (most recent call last)",
      "Cell \u001b[0;32mIn[2], line 1\u001b[0m\n\u001b[0;32m----> 1\u001b[0m \u001b[38;5;28;01mfrom\u001b[39;00m \u001b[38;5;21;01mapp\u001b[39;00m \u001b[38;5;28;01mimport\u001b[39;00m app\n\u001b[1;32m      2\u001b[0m context \u001b[38;5;241m=\u001b[39m app\u001b[38;5;241m.\u001b[39mapp_context()\n\u001b[1;32m      3\u001b[0m context\u001b[38;5;241m.\u001b[39mpush()\n",
      "\u001b[0;31mModuleNotFoundError\u001b[0m: No module named 'app'"
     ]
    }
   ],
   "source": [
    "from app import app\n",
    "context = app.app_context()\n",
    "context.push()"
   ]
  },
  {
   "cell_type": "markdown",
   "id": "77a6dda5-ebc3-4d0a-8c22-62295460d871",
   "metadata": {},
   "source": [
    "## Imports"
   ]
  },
  {
   "cell_type": "code",
   "execution_count": null,
   "id": "fbb6602c",
   "metadata": {
    "collapsed": false,
    "is_executing": true,
    "jupyter": {
     "outputs_hidden": false
    }
   },
   "outputs": [],
   "source": [
    "from develop.utils import formatters"
   ]
  },
  {
   "cell_type": "markdown",
   "id": "bd918ef6-ec05-420f-8dc4-3a84e50de805",
   "metadata": {},
   "source": [
    "## Inputs"
   ]
  },
  {
   "cell_type": "code",
   "execution_count": null,
   "id": "d0ad8eda-d372-4002-b609-42899582eb2a",
   "metadata": {
    "is_executing": true
   },
   "outputs": [],
   "source": [
    "query=\"What is the relationship between Zn2+ and glycolate?\""
   ]
  },
  {
   "cell_type": "markdown",
   "id": "877af485-bd94-4352-a511-d25d3e561b87",
   "metadata": {},
   "source": [
    "## Initial check\n",
    "\n",
    "Current response:"
   ]
  },
  {
   "cell_type": "code",
   "execution_count": null,
   "id": "2f791641-1009-4fb6-b1ea-26521b8dddd2",
   "metadata": {
    "is_executing": true
   },
   "outputs": [],
   "source": [
    "import openai\n",
    "response = openai.ChatCompletion.create(\n",
    "    messages=[\n",
    "        { \"role\": \"user\", \"content\": query }\n",
    "    ],\n",
    "    model=\"gpt-3.5-turbo\",\n",
    "    temperature=0\n",
    ")\n",
    "response"
   ]
  },
  {
   "cell_type": "markdown",
   "id": "2c0298d0-b147-4971-9606-d871307ebe56",
   "metadata": {},
   "source": [
    "# Compose chain"
   ]
  },
  {
   "cell_type": "markdown",
   "id": "9ac517bb-5e7c-4562-9e49-25dbd2658122",
   "metadata": {},
   "source": [
    "## Init llm model"
   ]
  },
  {
   "cell_type": "code",
   "execution_count": null,
   "id": "a7c93291-a342-485f-950e-97d12e528bfc",
   "metadata": {
    "editable": true,
    "is_executing": true,
    "slideshow": {
     "slide_type": ""
    },
    "tags": []
   },
   "outputs": [],
   "source": [
    "from langchain.chat_models import ChatOpenAI\n",
    "llm = ChatOpenAI(temperature=0, verbose=True)\n",
    "llm"
   ]
  },
  {
   "cell_type": "markdown",
   "id": "b3d667ea-96aa-48e6-8d36-4da4e6157069",
   "metadata": {
    "editable": true,
    "slideshow": {
     "slide_type": ""
    },
    "tags": []
   },
   "source": [
    "## Pepare prompts for core term extraction"
   ]
  },
  {
   "cell_type": "code",
   "execution_count": null,
   "id": "aa15f752-9d1f-4f29-9b56-14d4e6224dcf",
   "metadata": {
    "editable": true,
    "is_executing": true,
    "slideshow": {
     "slide_type": ""
    },
    "tags": []
   },
   "outputs": [],
   "source": [
    "from langchain.prompts import PromptTemplate\n",
    "from langchain.prompts.chat import (\n",
    "    ChatPromptTemplate,\n",
    "    SystemMessagePromptTemplate,\n",
    "    HumanMessagePromptTemplate,\n",
    ")\n",
    "QUERY_KEY = 'query'\n",
    "\n",
    "core_terms_prompt_template = ChatPromptTemplate.from_messages([\n",
    "    SystemMessagePromptTemplate(\n",
    "        prompt=PromptTemplate(\n",
    "            template=\"Always response with comma separated list of chemical or biological terms identified in prompt.\",\n",
    "            input_variables=[]\n",
    "        )\n",
    "    ),\n",
    "    HumanMessagePromptTemplate(\n",
    "        prompt=PromptTemplate(\n",
    "            template=f\"{{{QUERY_KEY}}}\",\n",
    "            input_variables=[QUERY_KEY],\n",
    "        )\n",
    "    )\n",
    "])\n",
    "core_terms_prompt_template"
   ]
  },
  {
   "cell_type": "markdown",
   "id": "27fbf490-99f0-431e-ac65-7c3870ed3ce3",
   "metadata": {},
   "source": [
    "## Define embedding model"
   ]
  },
  {
   "cell_type": "code",
   "execution_count": null,
   "id": "26df7344-3bd5-41c4-9522-0ef5270a20c6",
   "metadata": {
    "is_executing": true
   },
   "outputs": [],
   "source": [
    "from langchain.embeddings import OpenAIEmbeddings\n",
    "embeddings = OpenAIEmbeddings()\n",
    "embeddings"
   ]
  },
  {
   "cell_type": "markdown",
   "id": "a09da740-e364-487f-899a-ea83c6dd448b",
   "metadata": {},
   "source": [
    "## Define vectorstore"
   ]
  },
  {
   "cell_type": "code",
   "execution_count": null,
   "id": "d9301443-d21d-463e-bf69-a0a83fb633bb",
   "metadata": {
    "is_executing": true
   },
   "outputs": [],
   "source": [
    "from langchain.vectorstores import Chroma"
   ]
  },
  {
   "cell_type": "code",
   "execution_count": null,
   "id": "f2a5b1d9-1f22-4afb-8886-2914f24abd4c",
   "metadata": {
    "is_executing": true
   },
   "outputs": [],
   "source": [
    "# Vectorstore\n",
    "vectorstore = Chroma(embedding_function=embeddings, persist_directory=\"./chroma_db_oai\")\n",
    "vectorstore"
   ]
  },
  {
   "cell_type": "markdown",
   "id": "546e6ec9-4de6-4931-a1b2-690701c752bb",
   "metadata": {
    "editable": true,
    "slideshow": {
     "slide_type": ""
    },
    "tags": []
   },
   "source": [
    "## Get graph reference"
   ]
  },
  {
   "cell_type": "markdown",
   "id": "9649640e-0d07-4978-8840-2229c3cee419",
   "metadata": {},
   "source": [
    "### Define neo4j connector"
   ]
  },
  {
   "cell_type": "code",
   "execution_count": null,
   "id": "a4a43b53-a0df-4c5c-adf4-18a7e60d32e3",
   "metadata": {
    "editable": true,
    "is_executing": true,
    "slideshow": {
     "slide_type": ""
    },
    "tags": []
   },
   "outputs": [],
   "source": [
    "from llmlib.database import Neo4j"
   ]
  },
  {
   "cell_type": "code",
   "execution_count": null,
   "id": "f2bf3d50-25b5-42fd-88ae-4d6fe3aec03e",
   "metadata": {
    "editable": true,
    "is_executing": true,
    "slideshow": {
     "slide_type": ""
    },
    "tags": []
   },
   "outputs": [],
   "source": [
    "graph = Neo4j().graph()\n",
    "graph.schema = ''  # Overwrite schema to avoid it to be loaded from db (lengthy process not ussed in here)\n",
    "graph"
   ]
  },
  {
   "cell_type": "markdown",
   "id": "55ba2794-7262-4008-977d-141a26b00ef9",
   "metadata": {},
   "source": [
    "#### Init graph search API wrapper"
   ]
  },
  {
   "cell_type": "code",
   "execution_count": null,
   "id": "07435c6b-cf54-492d-95e0-692e23a88768",
   "metadata": {
    "is_executing": true
   },
   "outputs": [],
   "source": [
    "from llmlib.utils.search.cypher_search_api_wrapper import CypherSearchAPIWrapper"
   ]
  },
  {
   "cell_type": "code",
   "execution_count": null,
   "id": "a80ffecb-7d05-4ac6-b4c8-607eeecfaa3d",
   "metadata": {
    "is_executing": true
   },
   "outputs": [],
   "source": [
    "search = CypherSearchAPIWrapper(\n",
    "    graph=graph,\n",
    "    verbose=True,\n",
    "    return_intermediate_steps=True\n",
    ")\n",
    "search"
   ]
  },
  {
   "cell_type": "markdown",
   "id": "40d4403a-d125-4074-9cac-6ea152e3004f",
   "metadata": {},
   "source": [
    "## Compose QA chain with graph retriever"
   ]
  },
  {
   "cell_type": "markdown",
   "id": "4653c28a-f701-4c7a-abae-0ac19f7ba79c",
   "metadata": {},
   "source": [
    "### Init graph retriever"
   ]
  },
  {
   "cell_type": "code",
   "execution_count": null,
   "id": "12c53834-4d0f-488c-8609-6d6ab76f11e0",
   "metadata": {
    "is_executing": true
   },
   "outputs": [],
   "source": [
    "from llmlib.utils.retrievers.graph_search_retriever import GraphSearchRetriever"
   ]
  },
  {
   "cell_type": "code",
   "execution_count": null,
   "id": "a0d27a79-56ec-4203-bae3-23a0767fc0c6",
   "metadata": {
    "is_executing": true
   },
   "outputs": [],
   "source": [
    "retriever = GraphSearchRetriever.from_llm(\n",
    "    vectorstore=vectorstore,\n",
    "    llm=llm,\n",
    "    graph_search=search,\n",
    "    prompt=core_terms_prompt_template,\n",
    "    verbose=True,\n",
    "    return_intermediate_steps=True\n",
    ")\n",
    "retriever"
   ]
  },
  {
   "cell_type": "markdown",
   "id": "ea067678-3976-4e77-beef-3fbb67a51d37",
   "metadata": {},
   "source": [
    "### Define callback handler"
   ]
  },
  {
   "cell_type": "code",
   "execution_count": null,
   "id": "2fa0358c-5636-46cc-a596-46feb7a56fb0",
   "metadata": {},
   "outputs": [],
   "source": [
    "from langchain.callbacks.stdout import StdOutCallbackHandler\n",
    "handler = StdOutCallbackHandler()\n",
    "handler"
   ]
  },
  {
   "cell_type": "markdown",
   "id": "fb42705c-7ee1-4020-9808-c02fd7a909bf",
   "metadata": {},
   "source": [
    "### Init QA chain"
   ]
  },
  {
   "cell_type": "code",
   "execution_count": null,
   "id": "301da357-d958-4915-92b7-643dc33e0d55",
   "metadata": {
    "is_executing": true
   },
   "outputs": [],
   "source": [
    "from langchain.chains import RetrievalQA"
   ]
  },
  {
   "cell_type": "code",
   "execution_count": null,
   "id": "d6c9335f-c2dd-458d-bbf8-6d1de5c59d10",
   "metadata": {
    "is_executing": true
   },
   "outputs": [],
   "source": [
    "qa = RetrievalQA.from_chain_type(\n",
    "    llm=llm,\n",
    "    chain_type=\"stuff\",\n",
    "    retriever=retriever,\n",
    "    verbose=True,\n",
    "    callbacks=[handler]\n",
    ")\n",
    "qa"
   ]
  },
  {
   "cell_type": "markdown",
   "id": "9ba40ea3-5937-460c-a6f1-8ee83b3357d4",
   "metadata": {},
   "source": [
    "# Test"
   ]
  },
  {
   "cell_type": "markdown",
   "id": "99bd213f-349c-4966-9259-c6714bcc9c94",
   "metadata": {},
   "source": [
    "## Initial query"
   ]
  },
  {
   "cell_type": "code",
   "execution_count": null,
   "id": "275c8dc5-980e-4adf-8973-561c10914c0b",
   "metadata": {
    "is_executing": true
   },
   "outputs": [],
   "source": [
    "qa.run(query, callbacks=[handler])"
   ]
  },
  {
   "cell_type": "markdown",
   "id": "7b2c4008-081b-44cf-b71b-4b26e75f43d5",
   "metadata": {},
   "source": [
    "## Check background noise"
   ]
  },
  {
   "cell_type": "code",
   "execution_count": null,
   "id": "d2441ff0-e32a-4fe0-9076-93d87a9a34bc",
   "metadata": {
    "is_executing": true
   },
   "outputs": [],
   "source": [
    "qa.run(\"What is the relationship between INHBA and MTMR4?\", callbacks=[handler])"
   ]
  },
  {
   "cell_type": "markdown",
   "id": "1909e2f9-de55-46b9-a13c-8e911366f954",
   "metadata": {},
   "source": [
    "## Check different qa stuffing techniques"
   ]
  },
  {
   "cell_type": "code",
   "execution_count": null,
   "id": "9676eb1f-ca4f-4df3-a0f5-9490e3451196",
   "metadata": {
    "is_executing": true
   },
   "outputs": [],
   "source": [
    "from langchain.chains import RetrievalQA"
   ]
  },
  {
   "cell_type": "code",
   "execution_count": null,
   "id": "a52e9184-4868-4bfc-ba3f-f3d3d3c02246",
   "metadata": {
    "is_executing": true
   },
   "outputs": [],
   "source": [
    "qa = RetrievalQA.from_chain_type(\n",
    "    llm=llm,\n",
    "    chain_type=\"map_reduce\",\n",
    "    retriever=retriever,\n",
    "    verbose=True,\n",
    "    callbacks=[handler]\n",
    ")\n",
    "qa"
   ]
  },
  {
   "cell_type": "code",
   "execution_count": null,
   "id": "47f68be0-571b-4425-abde-d945aa647612",
   "metadata": {
    "is_executing": true
   },
   "outputs": [],
   "source": [
    "qa.run(query, callbacks=[handler])"
   ]
  },
  {
   "cell_type": "code",
   "execution_count": null,
   "id": "e81092f0-ca74-4c22-9d57-a296beeed009",
   "metadata": {
    "is_executing": true
   },
   "outputs": [],
   "source": [
    "qa.run(\"What is the relationship between INHBA and MTMR4?\", callbacks=[handler])"
   ]
  }
 ],
 "metadata": {
  "kernelspec": {
   "display_name": "Python 3 (ipykernel)",
   "language": "python",
   "name": "python3"
  },
  "language_info": {
   "codemirror_mode": {
    "name": "ipython",
    "version": 3
   },
   "file_extension": ".py",
   "mimetype": "text/x-python",
   "name": "python",
   "nbconvert_exporter": "python",
   "pygments_lexer": "ipython3",
   "version": "3.11.6"
  }
 },
 "nbformat": 4,
 "nbformat_minor": 5
}
