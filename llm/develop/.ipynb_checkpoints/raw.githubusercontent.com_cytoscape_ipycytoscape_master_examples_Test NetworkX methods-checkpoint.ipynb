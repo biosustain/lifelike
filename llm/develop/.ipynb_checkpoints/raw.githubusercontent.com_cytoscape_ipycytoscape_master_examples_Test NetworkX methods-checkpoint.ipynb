{
 "cells": [
  {
   "cell_type": "markdown",
   "metadata": {},
   "source": [
    "# Test NetworkX methods"
   ]
  },
  {
   "cell_type": "code",
   "execution_count": 1,
   "metadata": {},
   "outputs": [],
   "source": [
    "import ipycytoscape\n",
    "import ipywidgets as widgets\n",
    "import networkx as nx"
   ]
  },
  {
   "cell_type": "code",
   "execution_count": 2,
   "metadata": {},
   "outputs": [],
   "source": [
    "cytoscapeobj = ipycytoscape.CytoscapeWidget()"
   ]
  },
  {
   "cell_type": "code",
   "execution_count": 3,
   "metadata": {},
   "outputs": [
    {
     "data": {
      "application/vnd.jupyter.widget-view+json": {
       "model_id": "ce9262678e3f409e83c8346ce50064df",
       "version_major": 2,
       "version_minor": 0
      },
      "text/plain": [
       "HBox(children=(Button(description='nx graph', style=ButtonStyle()), CytoscapeWidget(cytoscape_layout={'name': …"
      ]
     },
     "metadata": {},
     "output_type": "display_data"
    }
   ],
   "source": [
    "button = widgets.Button(description=\"nx graph\")\n",
    "output = widgets.Output()\n",
    "\n",
    "# Generates a NX graph every time you click the button\n",
    "def on_button_clicked(b):\n",
    "    with output:\n",
    "        cytoscapeobj.graph.add_graph_from_networkx(nx.complete_graph(5))\n",
    "\n",
    "button.on_click(on_button_clicked)\n",
    "widgets.HBox([button, cytoscapeobj])\n"
   ]
  },
  {
   "cell_type": "code",
   "execution_count": 4,
   "metadata": {},
   "outputs": [
    {
     "data": {
      "text/plain": [
       "[1, 5]"
      ]
     },
     "execution_count": 4,
     "metadata": {},
     "output_type": "execute_result"
    }
   ],
   "source": [
    "# Manipulate a graph using NetworkX\n",
    "\n",
    "nx_graph = nx.complete_graph(7)\n",
    "\n",
    "# Using its algorithms\n",
    "nx.shortest_path(nx_graph, 1, 5)"
   ]
  },
  {
   "cell_type": "code",
   "execution_count": 5,
   "metadata": {},
   "outputs": [],
   "source": [
    "# Create a new NX graph without using a button\n",
    "\n",
    "cytoscapeobj.graph.add_graph_from_networkx(nx_graph)"
   ]
  },
  {
   "cell_type": "code",
   "execution_count": 6,
   "metadata": {},
   "outputs": [],
   "source": [
    "# Manipulate the NX graph using cytoscape\n",
    "\n",
    "cytoscapeobj.set_layout(name='grid', nodeSpacing=10, edgeLengthVal=10)"
   ]
  },
  {
   "cell_type": "code",
   "execution_count": 7,
   "metadata": {},
   "outputs": [],
   "source": [
    "cytoscapeobj.graph.add_graph_from_networkx(nx.complete_graph(5))"
   ]
  },
  {
   "cell_type": "code",
   "execution_count": 8,
   "metadata": {},
   "outputs": [
    {
     "data": {
      "application/vnd.jupyter.widget-view+json": {
       "model_id": "be62fe5cfccd4dc4b53e1700c7363095",
       "version_major": 2,
       "version_minor": 0
      },
      "text/plain": [
       "CytoscapeWidget(cytoscape_layout={'name': 'grid', 'nodeSpacing': 10, 'edgeLengthVal': 10}, cytoscape_style=[{'…"
      ]
     },
     "metadata": {},
     "output_type": "display_data"
    }
   ],
   "source": [
    "cytoscapeobj"
   ]
  },
  {
   "cell_type": "code",
   "execution_count": 9,
   "metadata": {},
   "outputs": [
    {
     "data": {
      "text/plain": [
       "Graph(edges=[Edge(data={'source': '0', 'target': '1'}), Edge(data={'source': '0', 'target': '2'}), Edge(data={…"
      ]
     },
     "metadata": {},
     "output_type": "display_data"
    }
   ],
   "source": [
    "cytoscapeobj.graph"
   ]
  },
  {
   "cell_type": "code",
   "execution_count": null,
   "metadata": {},
   "outputs": [],
   "source": []
  }
 ],
 "metadata": {
  "kernelspec": {
   "display_name": "Python 3",
   "language": "python",
   "name": "python3"
  },
  "language_info": {
   "codemirror_mode": {
    "name": "ipython",
    "version": 3
   },
   "file_extension": ".py",
   "mimetype": "text/x-python",
   "name": "python",
   "nbconvert_exporter": "python",
   "pygments_lexer": "ipython3",
   "version": "3.9.2"
  }
 },
 "nbformat": 4,
 "nbformat_minor": 4
}
