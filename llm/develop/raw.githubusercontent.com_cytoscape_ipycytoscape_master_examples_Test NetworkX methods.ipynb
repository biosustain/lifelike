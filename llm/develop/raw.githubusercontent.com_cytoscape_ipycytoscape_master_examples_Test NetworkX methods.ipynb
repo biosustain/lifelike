{
 "cells": [
  {
   "cell_type": "markdown",
   "metadata": {},
   "source": [
    "# Test NetworkX methods"
   ]
  },
  {
   "cell_type": "markdown",
   "metadata": {},
   "source": [
    "Ensure we have needed dependencies"
   ]
  },
  {
   "cell_type": "code",
   "execution_count": 16,
   "metadata": {},
   "outputs": [
    {
     "name": "stdout",
     "output_type": "stream",
     "text": [
      "\u001b[1;32mInstalling ipycytoscape\u001b[0m\u001b[1;33m...\u001b[0m\n",
      "\u001b[?25lResolving ipycytoscape\u001b[33m...\u001b[0m\n",
      "\u001b[2K✔ Installation Succeeded\n",
      "\u001b[2K\u001b[32m⠋\u001b[0m Installing ipycytoscape...\n",
      "\u001b[1A\u001b[2K\u001b[1;32mInstalling ipywidgets\u001b[0m\u001b[1;33m...\u001b[0m\n",
      "\u001b[?25lResolving ipywidgets\u001b[33m...\u001b[0m\n",
      "\u001b[2K✔ Installation Succeeded\n",
      "\u001b[2K\u001b[32m⠋\u001b[0m Installing ipywidgets...\n",
      "\u001b[1A\u001b[2K\u001b[1;32mInstalling networkx\u001b[0m\u001b[1;33m...\u001b[0m\n",
      "\u001b[?25lResolving networkx\u001b[33m...\u001b[0m\n",
      "\u001b[2K✔ Installation Succeeded\n",
      "\u001b[2K\u001b[32m⠋\u001b[0m Installing networkx...\n",
      "\u001b[1A\u001b[2K\u001b[1;32mInstalling adbnx-adapter\u001b[0m\u001b[1;33m...\u001b[0m\n",
      "\u001b[?25lResolving adbnx-adapter\u001b[33m...\u001b[0m\n",
      "\u001b[2K\u001b[1mAdded \u001b[0m\u001b[1;32madbnx-adapter\u001b[0m to Pipfile's \u001b[1;33m[\u001b[0m\u001b[33mdev-packages\u001b[0m\u001b[1;33m]\u001b[0m \u001b[33m...\u001b[0m\n",
      "\u001b[2K✔ Installation Succeededadapter...\n",
      "\u001b[2K\u001b[32m⠋\u001b[0m Installing adbnx-adapter...\n",
      "\u001b[1A\u001b[2K\u001b[1;33mPipfile.lock \u001b[0m\u001b[1;33m(\u001b[0m\u001b[1;33m69cd14\u001b[0m\u001b[1;33m)\u001b[0m\u001b[1;33m out of date, updating to \u001b[0m\u001b[1;33m(\u001b[0m\u001b[1;36m616657\u001b[0m\u001b[1;33m)\u001b[0m\u001b[1;33m...\u001b[0m\n",
      "Locking\u001b[0m \u001b[33m[packages]\u001b[0m dependencies...\u001b[0m\n",
      "\u001b[?25lBuilding requirements\u001b[33m...\u001b[0m\n",
      "\u001b[2KResolving dependencies\u001b[33m...\u001b[0m\n",
      "\u001b[2K✔ Success! Locking...\n",
      "\u001b[2K\u001b[32m⠇\u001b[0m Locking...\n",
      "\u001b[1A\u001b[2KLocking\u001b[0m \u001b[33m[dev-packages]\u001b[0m dependencies...\u001b[0m\n",
      "\u001b[?25lBuilding requirements\u001b[33m...\u001b[0m\n",
      "\u001b[2KResolving dependencies\u001b[33m...\u001b[0m\n",
      "\u001b[2K✔ Success! Locking...\n",
      "\u001b[2K\u001b[32m⠋\u001b[0m Locking...\n",
      "\u001b[1A\u001b[2K\u001b[1mUpdated Pipfile.lock (387b56e1958d3abc1def0fc4d9fd2eaac59e642b06e415f7ab32ffe838616657)!\u001b[0m\n",
      "\u001b[1mInstalling dependencies from Pipfile.lock \u001b[0m\u001b[1m(\u001b[0m\u001b[1;36m616657\u001b[0m\u001b[1m)\u001b[0m\u001b[1;33m...\u001b[0m\n",
      "\u001b[1mInstalling dependencies from Pipfile.lock \u001b[0m\u001b[1m(\u001b[0m\u001b[1;36m616657\u001b[0m\u001b[1m)\u001b[0m\u001b[1;33m...\u001b[0m\n",
      "To activate this project's virtualenv, run \u001b[33mpipenv shell\u001b[0m.\n",
      "Alternatively, run a command inside the virtualenv with \u001b[33mpipenv run\u001b[0m.\n"
     ]
    }
   ],
   "source": [
    "!pipenv install --dev ipycytoscape ipywidgets networkx adbnx-adapter"
   ]
  },
  {
   "cell_type": "code",
   "execution_count": 2,
   "metadata": {},
   "outputs": [],
   "source": [
    "import ipycytoscape\n",
    "import ipywidgets as widgets\n",
    "import networkx as nx"
   ]
  },
  {
   "cell_type": "code",
   "execution_count": 3,
   "metadata": {},
   "outputs": [],
   "source": [
    "cytoscapeobj = ipycytoscape.CytoscapeWidget()"
   ]
  },
  {
   "cell_type": "code",
   "execution_count": 4,
   "metadata": {},
   "outputs": [
    {
     "data": {
      "application/vnd.jupyter.widget-view+json": {
       "model_id": "fed0d102ef0d4df7b4539aa5357e46c1",
       "version_major": 2,
       "version_minor": 0
      },
      "text/plain": [
       "HBox(children=(Button(description='nx graph', style=ButtonStyle()), CytoscapeWidget(cytoscape_layout={'name': …"
      ]
     },
     "execution_count": 4,
     "metadata": {},
     "output_type": "execute_result"
    }
   ],
   "source": [
    "button = widgets.Button(description=\"nx graph\")\n",
    "output = widgets.Output()\n",
    "\n",
    "# Generates a NX graph every time you click the button\n",
    "def on_button_clicked(b):\n",
    "    with output:\n",
    "        cytoscapeobj.graph.add_graph_from_networkx(nx.complete_graph(5))\n",
    "\n",
    "button.on_click(on_button_clicked)\n",
    "widgets.HBox([button, cytoscapeobj])"
   ]
  },
  {
   "cell_type": "code",
   "execution_count": 11,
   "metadata": {},
   "outputs": [
    {
     "data": {
      "text/plain": [
       "[1, 5]"
      ]
     },
     "execution_count": 11,
     "metadata": {},
     "output_type": "execute_result"
    }
   ],
   "source": [
    "# Manipulate a graph using NetworkX\n",
    "\n",
    "nx_graph = nx.complete_graph(7)\n",
    "\n",
    "# Using its algorithms\n",
    "nx.shortest_path(nx_graph, 1, 5)"
   ]
  },
  {
   "cell_type": "code",
   "execution_count": 12,
   "metadata": {},
   "outputs": [],
   "source": [
    "# Create a new NX graph without using a button\n",
    "\n",
    "cytoscapeobj.graph.add_graph_from_networkx(nx_graph)"
   ]
  },
  {
   "cell_type": "code",
   "execution_count": 13,
   "metadata": {},
   "outputs": [],
   "source": [
    "# Manipulate the NX graph using cytoscape\n",
    "\n",
    "cytoscapeobj.set_layout(name='grid', nodeSpacing=10, edgeLengthVal=10)"
   ]
  },
  {
   "cell_type": "code",
   "execution_count": 14,
   "metadata": {},
   "outputs": [],
   "source": [
    "cytoscapeobj.graph.add_graph_from_networkx(nx.complete_graph(5))"
   ]
  },
  {
   "cell_type": "code",
   "execution_count": 15,
   "metadata": {},
   "outputs": [
    {
     "data": {
      "application/vnd.jupyter.widget-view+json": {
       "model_id": "04aecfe1f83d4aad80073b5723ae80ba",
       "version_major": 2,
       "version_minor": 0
      },
      "text/plain": [
       "CytoscapeWidget(cytoscape_layout={'name': 'grid', 'nodeSpacing': 10, 'edgeLengthVal': 10}, cytoscape_style=[{'…"
      ]
     },
     "execution_count": 15,
     "metadata": {},
     "output_type": "execute_result"
    }
   ],
   "source": [
    "cytoscapeobj"
   ]
  },
  {
   "cell_type": "code",
   "execution_count": 10,
   "metadata": {},
   "outputs": [
    {
     "data": {
      "text/plain": [
       "Graph(edges=[Edge(data={'source': '0', 'target': '1'}), Edge(data={'source': '0', 'target': '2'}), Edge(data={'source': '0', 'target': '3'}), Edge(data={'source': '0', 'target': '4'}), Edge(data={'source': '0', 'target': '5'}), Edge(data={'source': '0', 'target': '6'}), Edge(data={'source': '1', 'target': '2'}), Edge(data={'source': '1', 'target': '3'}), Edge(data={'source': '1', 'target': '4'}), Edge(data={'source': '1', 'target': '5'}), Edge(data={'source': '1', 'target': '6'}), Edge(data={'source': '2', 'target': '3'}), Edge(data={'source': '2', 'target': '4'}), Edge(data={'source': '2', 'target': '5'}), Edge(data={'source': '2', 'target': '6'}), Edge(data={'source': '3', 'target': '4'}), Edge(data={'source': '3', 'target': '5'}), Edge(data={'source': '3', 'target': '6'}), Edge(data={'source': '4', 'target': '5'}), Edge(data={'source': '4', 'target': '6'}), Edge(data={'source': '5', 'target': '6'})], nodes=[Node(data={'id': '0'}, position={}), Node(data={'id': '1'}, position={}), Node(data={'id': '2'}, position={}), Node(data={'id': '3'}, position={}), Node(data={'id': '4'}, position={}), Node(data={'id': '5'}, position={}), Node(data={'id': '6'}, position={})])"
      ]
     },
     "execution_count": 10,
     "metadata": {},
     "output_type": "execute_result"
    }
   ],
   "source": [
    "cytoscapeobj.graph"
   ]
  }
 ],
 "metadata": {
  "kernelspec": {
   "display_name": "Python 3 (ipykernel)",
   "language": "python",
   "name": "python3"
  },
  "language_info": {
   "codemirror_mode": {
    "name": "ipython",
    "version": 3
   },
   "file_extension": ".py",
   "mimetype": "text/x-python",
   "name": "python",
   "nbconvert_exporter": "python",
   "pygments_lexer": "ipython3",
   "version": "3.11.6"
  }
 },
 "nbformat": 4,
 "nbformat_minor": 4
}
