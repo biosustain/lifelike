{
 "cells": [
  {
   "cell_type": "markdown",
   "id": "6fda1acd-9514-4db5-ba8e-68255beb4c51",
   "metadata": {},
   "source": [
    "# Init"
   ]
  },
  {
   "cell_type": "code",
   "execution_count": 1,
   "id": "d349fffb-0042-4a5a-8984-d9c937be660e",
   "metadata": {
    "collapsed": false,
    "is_executing": true,
    "jupyter": {
     "outputs_hidden": false
    }
   },
   "outputs": [],
   "source": [
    "%load_ext autoreload"
   ]
  },
  {
   "cell_type": "code",
   "execution_count": 2,
   "id": "06089391-b8be-4e90-91b2-cfa9600d39d7",
   "metadata": {},
   "outputs": [
    {
     "name": "stdout",
     "output_type": "stream",
     "text": [
      "\u001b[1;32mInstalling \u001b[0m\u001b[1;33mlangchain\u001b[0m\u001b[1;32m==\u001b[0m\u001b[1;36m0.0\u001b[0m\u001b[1;32m.\u001b[0m\u001b[1;36m335\u001b[0m\u001b[1;33m...\u001b[0m\n",
      "\u001b[?25lResolving \u001b[33mlangchain\u001b[0m==\u001b[1;36m0.0\u001b[0m.\u001b[1;36m335\u001b[0m\u001b[33m...\u001b[0m\n",
      "\u001b[2K✔ Installation Succeeded\n",
      "\u001b[2K\u001b[32m⠋\u001b[0m Installing langchain...\n",
      "\u001b[1A\u001b[2K\u001b[1mInstalling dependencies from Pipfile.lock \u001b[0m\u001b[1m(\u001b[0m\u001b[1mb2f8d6\u001b[0m\u001b[1m)\u001b[0m\u001b[1;33m...\u001b[0m\n",
      "To activate this project's virtualenv, run \u001b[33mpipenv shell\u001b[0m.\n",
      "Alternatively, run a command inside the virtualenv with \u001b[33mpipenv run\u001b[0m.\n"
     ]
    }
   ],
   "source": [
    "!pipenv install \"langchain==0.0.335\""
   ]
  },
  {
   "cell_type": "code",
   "execution_count": 3,
   "id": "8b7220fe-9929-44f5-8b4d-a4a9b1a9ccf9",
   "metadata": {},
   "outputs": [
    {
     "name": "stdout",
     "output_type": "stream",
     "text": [
      "\u001b[1mInstalling dependencies from Pipfile.lock \u001b[0m\u001b[1m(\u001b[0m\u001b[1mb2f8d6\u001b[0m\u001b[1m)\u001b[0m\u001b[1;33m...\u001b[0m\n"
     ]
    }
   ],
   "source": [
    "!pipenv install --deploy --system"
   ]
  },
  {
   "cell_type": "code",
   "execution_count": 4,
   "id": "316f5fd3-1e9a-4156-a5f2-1a24a314541c",
   "metadata": {},
   "outputs": [
    {
     "data": {
      "text/plain": [
       "'0.0.335'"
      ]
     },
     "execution_count": 4,
     "metadata": {},
     "output_type": "execute_result"
    }
   ],
   "source": [
    "import langchain\n",
    "langchain.__version__"
   ]
  },
  {
   "cell_type": "code",
   "execution_count": 190,
   "id": "2f7d983a-f931-4d25-8c44-8e9b3749f56b",
   "metadata": {},
   "outputs": [],
   "source": [
    "from develop.utils import formatters"
   ]
  },
  {
   "cell_type": "code",
   "execution_count": 191,
   "id": "98bb8a3a-1acb-4fab-a8dd-c7671b684fab",
   "metadata": {},
   "outputs": [],
   "source": [
    "from llmlib.app import app\n",
    "context = app.app_context()\n",
    "context.push()"
   ]
  },
  {
   "cell_type": "code",
   "execution_count": 192,
   "id": "03db00a8-1154-41e3-9bed-b172e58be317",
   "metadata": {},
   "outputs": [],
   "source": [
    "from langchain.agents import initialize_agent, AgentType, Tool\n",
    "from langchain.chains import LLMMathChain\n",
    "from langchain.chat_models import ChatOpenAI\n",
    "from langchain.llms import OpenAI\n",
    "from langchain.utilities import SerpAPIWrapper, SQLDatabase"
   ]
  },
  {
   "cell_type": "code",
   "execution_count": 193,
   "id": "d98cd977-0bfd-4638-937a-f51309208cd5",
   "metadata": {
    "editable": true,
    "is_executing": true,
    "slideshow": {
     "slide_type": ""
    },
    "tags": []
   },
   "outputs": [],
   "source": [
    "from llmlib.database import Neo4j"
   ]
  },
  {
   "cell_type": "code",
   "execution_count": 194,
   "id": "7ae772bb-5138-4520-8592-e06f9a138426",
   "metadata": {
    "editable": true,
    "is_executing": true,
    "slideshow": {
     "slide_type": ""
    },
    "tags": []
   },
   "outputs": [],
   "source": [
    "graph = Neo4j().graph(name='neo4j')\n",
    "graph.schema = ''  # Overwrite schema to avoid it to be loaded from db (lengthy process not ussed in here)"
   ]
  },
  {
   "cell_type": "markdown",
   "id": "4e237603-f7fe-493f-8b69-9fa79b8b420e",
   "metadata": {},
   "source": [
    "#### Init graph search API wrapper"
   ]
  },
  {
   "cell_type": "code",
   "execution_count": 195,
   "id": "6f8bdb3b-2f5b-4f02-86d6-04b56456621f",
   "metadata": {
    "is_executing": true
   },
   "outputs": [],
   "source": [
    "from llmlib.utils.search.cypher_search_api_wrapper import CypherSearchAPIWrapper"
   ]
  },
  {
   "cell_type": "code",
   "execution_count": 196,
   "id": "38d0d176-6b2c-47f7-a86c-362653585473",
   "metadata": {
    "is_executing": true
   },
   "outputs": [
    {
     "data": {
      "text/html": [
       "    <dl>\n",
       "        <details>\n",
       "            <summary>CypherSearchAPIWrapper</summary>\n",
       "                    <dt>graph</dt>\n",
       "                    <dd><details>\n",
       "    <summary>Neo4jGraph</summary>\n",
       "    <dl>\n",
       "        <dt>graph</dt>\n",
       "        <dd><pre style=\"white-space: pre-wrap; display: inline;\" title=\"string\">''</pre></dd>\n",
       "    </dl>\n",
       "</details></dd>\n",
       "                    <dt>related nodes query</dt>\n",
       "                    <dd><pre style=\"white-space: pre-wrap; display: inline;\" title=\"string\">\n",
       "UNWIND $terms AS term\n",
       "MATCH (s:Synonym {lowercase_name: toLower(term)})&lt;-[:HAS_SYNONYM]-(n)\n",
       "WHERE n.eid IS NOT NULL AND NOT n.eid IN $exclude_eids\n",
       "WITH apoc.text.levenshteinSimilarity(term, n.name) as similarity, s, n, term\n",
       "ORDER BY similarity DESC\n",
       "WHERE similarity &gt; 0.5\n",
       "WITH DISTINCT term, collect({node: n, node_id: id(n), similarity: similarity})[0..$top_k_matches] as matches\n",
       "RETURN term, matches\n",
       "</pre></dd>\n",
       "                    <dt>related nodes query params</dt>\n",
       "                    <dd><dl>\n",
       "            <dt>top k matches</dt>\n",
       "            <dd>5&nbsp;</dd>\n",
       "            <dt>exclude eids</dt>\n",
       "            <dd>    <ul>\n",
       "            <li><pre style=\"white-space: pre-wrap; display: inline;\" title=\"string\">NAD-P-OR-NOP</pre></li>\n",
       "            <li><pre style=\"white-space: pre-wrap; display: inline;\" title=\"string\">NADH-P-OR-NOP</pre></li>\n",
       "            <li><pre style=\"white-space: pre-wrap; display: inline;\" title=\"string\">Donor-H2</pre></li>\n",
       "            <li><pre style=\"white-space: pre-wrap; display: inline;\" title=\"string\">Acceptor</pre></li>\n",
       "            <li><pre style=\"white-space: pre-wrap; display: inline;\" title=\"string\">HYDROGEN-PEROXIDE</pre></li>\n",
       "            <li><pre style=\"white-space: pre-wrap; display: inline;\" title=\"string\">OXYGEN-MOLECULE</pre></li>\n",
       "            <li><pre style=\"white-space: pre-wrap; display: inline;\" title=\"string\">NAD</pre></li>\n",
       "            <li><pre style=\"white-space: pre-wrap; display: inline;\" title=\"string\">NADP</pre></li>\n",
       "            <li><pre style=\"white-space: pre-wrap; display: inline;\" title=\"string\">NADH</pre></li>\n",
       "            <li><pre style=\"white-space: pre-wrap; display: inline;\" title=\"string\">NADPH</pre></li>\n",
       "            <li><pre style=\"white-space: pre-wrap; display: inline;\" title=\"string\">WATER</pre></li>\n",
       "            <li><pre style=\"white-space: pre-wrap; display: inline;\" title=\"string\">CARBON-DIOXIDE</pre></li>\n",
       "            <li><pre style=\"white-space: pre-wrap; display: inline;\" title=\"string\">FAD</pre></li>\n",
       "            <li><pre style=\"white-space: pre-wrap; display: inline;\" title=\"string\">CO-A</pre></li>\n",
       "            <li><pre style=\"white-space: pre-wrap; display: inline;\" title=\"string\">UDP</pre></li>\n",
       "            <li><pre style=\"white-space: pre-wrap; display: inline;\" title=\"string\">AMMONIA</pre></li>\n",
       "            <li><pre style=\"white-space: pre-wrap; display: inline;\" title=\"string\">NA+</pre></li>\n",
       "            <li><pre style=\"white-space: pre-wrap; display: inline;\" title=\"string\">AMMONIUM</pre></li>\n",
       "            <li><pre style=\"white-space: pre-wrap; display: inline;\" title=\"string\">PROTON</pre></li>\n",
       "            <li><pre style=\"white-space: pre-wrap; display: inline;\" title=\"string\">CARBON-MONOXIDE</pre></li>\n",
       "            <li><pre style=\"white-space: pre-wrap; display: inline;\" title=\"string\">GTP</pre></li>\n",
       "            <li><pre style=\"white-space: pre-wrap; display: inline;\" title=\"string\">ADP</pre></li>\n",
       "            <li><pre style=\"white-space: pre-wrap; display: inline;\" title=\"string\">GDP</pre></li>\n",
       "            <li><pre style=\"white-space: pre-wrap; display: inline;\" title=\"string\">AMP</pre></li>\n",
       "            <li><pre style=\"white-space: pre-wrap; display: inline;\" title=\"string\">ATP</pre></li>\n",
       "            <li><pre style=\"white-space: pre-wrap; display: inline;\" title=\"string\">3-5-ADP</pre></li>\n",
       "            <li><pre style=\"white-space: pre-wrap; display: inline;\" title=\"string\">PPI</pre></li>\n",
       "            <li><pre style=\"white-space: pre-wrap; display: inline;\" title=\"string\">Pi</pre></li>\n",
       "    </ul>\n",
       "&nbsp;</dd>\n",
       "</dl>\n",
       "</dd>\n",
       "                    <dt>relationships query</dt>\n",
       "                    <dd><pre style=\"white-space: pre-wrap; display: inline;\" title=\"string\">\n",
       "UNWIND apoc.coll.combinations($term_match, 2) AS termPair\n",
       "UNWIND termPair[0][&#39;matches&#39;] as matchA\n",
       "UNWIND termPair[1][&#39;matches&#39;] as matchB\n",
       "WITH matchA, matchB, matchA[&#39;similarity&#39;] * matchB[&#39;similarity&#39;] AS similarity\n",
       "ORDER BY similarity DESC\n",
       "WHERE similarity &gt; 0.5\n",
       "MATCH (a), (b)\n",
       "WHERE id(a) = matchA[&#39;id&#39;] AND id(b) = matchB[&#39;id&#39;]\n",
       "MATCH path=allShortestPaths((a)-[*1..]-(b))\n",
       "WHERE\n",
       " all(r in relationships(path) where type(r) in $include_rels)\n",
       " and all(n in nodes(path) where not n.eid in $exclude_eids)\n",
       "RETURN path LIMIT $top_k\n",
       "</pre></dd>\n",
       "                    <dt>relationships query params</dt>\n",
       "                    <dd><dl>\n",
       "            <dt>top k</dt>\n",
       "            <dd>3&nbsp;</dd>\n",
       "            <dt>include rels</dt>\n",
       "            <dd>    <ul>\n",
       "            <li><pre style=\"white-space: pre-wrap; display: inline;\" title=\"string\">CONSUMED_BY</pre></li>\n",
       "            <li><pre style=\"white-space: pre-wrap; display: inline;\" title=\"string\">PRODUCES</pre></li>\n",
       "            <li><pre style=\"white-space: pre-wrap; display: inline;\" title=\"string\">CATALYZES</pre></li>\n",
       "            <li><pre style=\"white-space: pre-wrap; display: inline;\" title=\"string\">REGULATES</pre></li>\n",
       "            <li><pre style=\"white-space: pre-wrap; display: inline;\" title=\"string\">HAS_TXONOMY</pre></li>\n",
       "            <li><pre style=\"white-space: pre-wrap; display: inline;\" title=\"string\">IS</pre></li>\n",
       "            <li><pre style=\"white-space: pre-wrap; display: inline;\" title=\"string\">HAS_KO</pre></li>\n",
       "            <li><pre style=\"white-space: pre-wrap; display: inline;\" title=\"string\">ELEMENT_OF</pre></li>\n",
       "            <li><pre style=\"white-space: pre-wrap; display: inline;\" title=\"string\">ENCODES</pre></li>\n",
       "    </ul>\n",
       "&nbsp;</dd>\n",
       "            <dt>exclude eids</dt>\n",
       "            <dd>    <ul>\n",
       "            <li><pre style=\"white-space: pre-wrap; display: inline;\" title=\"string\">NAD-P-OR-NOP</pre></li>\n",
       "            <li><pre style=\"white-space: pre-wrap; display: inline;\" title=\"string\">NADH-P-OR-NOP</pre></li>\n",
       "            <li><pre style=\"white-space: pre-wrap; display: inline;\" title=\"string\">Donor-H2</pre></li>\n",
       "            <li><pre style=\"white-space: pre-wrap; display: inline;\" title=\"string\">Acceptor</pre></li>\n",
       "            <li><pre style=\"white-space: pre-wrap; display: inline;\" title=\"string\">HYDROGEN-PEROXIDE</pre></li>\n",
       "            <li><pre style=\"white-space: pre-wrap; display: inline;\" title=\"string\">OXYGEN-MOLECULE</pre></li>\n",
       "            <li><pre style=\"white-space: pre-wrap; display: inline;\" title=\"string\">NAD</pre></li>\n",
       "            <li><pre style=\"white-space: pre-wrap; display: inline;\" title=\"string\">NADP</pre></li>\n",
       "            <li><pre style=\"white-space: pre-wrap; display: inline;\" title=\"string\">NADH</pre></li>\n",
       "            <li><pre style=\"white-space: pre-wrap; display: inline;\" title=\"string\">NADPH</pre></li>\n",
       "            <li><pre style=\"white-space: pre-wrap; display: inline;\" title=\"string\">WATER</pre></li>\n",
       "            <li><pre style=\"white-space: pre-wrap; display: inline;\" title=\"string\">CARBON-DIOXIDE</pre></li>\n",
       "            <li><pre style=\"white-space: pre-wrap; display: inline;\" title=\"string\">FAD</pre></li>\n",
       "            <li><pre style=\"white-space: pre-wrap; display: inline;\" title=\"string\">CO-A</pre></li>\n",
       "            <li><pre style=\"white-space: pre-wrap; display: inline;\" title=\"string\">UDP</pre></li>\n",
       "            <li><pre style=\"white-space: pre-wrap; display: inline;\" title=\"string\">AMMONIA</pre></li>\n",
       "            <li><pre style=\"white-space: pre-wrap; display: inline;\" title=\"string\">NA+</pre></li>\n",
       "            <li><pre style=\"white-space: pre-wrap; display: inline;\" title=\"string\">AMMONIUM</pre></li>\n",
       "            <li><pre style=\"white-space: pre-wrap; display: inline;\" title=\"string\">PROTON</pre></li>\n",
       "            <li><pre style=\"white-space: pre-wrap; display: inline;\" title=\"string\">CARBON-MONOXIDE</pre></li>\n",
       "            <li><pre style=\"white-space: pre-wrap; display: inline;\" title=\"string\">GTP</pre></li>\n",
       "            <li><pre style=\"white-space: pre-wrap; display: inline;\" title=\"string\">ADP</pre></li>\n",
       "            <li><pre style=\"white-space: pre-wrap; display: inline;\" title=\"string\">GDP</pre></li>\n",
       "            <li><pre style=\"white-space: pre-wrap; display: inline;\" title=\"string\">AMP</pre></li>\n",
       "            <li><pre style=\"white-space: pre-wrap; display: inline;\" title=\"string\">ATP</pre></li>\n",
       "            <li><pre style=\"white-space: pre-wrap; display: inline;\" title=\"string\">3-5-ADP</pre></li>\n",
       "            <li><pre style=\"white-space: pre-wrap; display: inline;\" title=\"string\">PPI</pre></li>\n",
       "            <li><pre style=\"white-space: pre-wrap; display: inline;\" title=\"string\">Pi</pre></li>\n",
       "    </ul>\n",
       "&nbsp;</dd>\n",
       "</dl>\n",
       "</dd>\n",
       "            \n",
       "        </details>\n",
       "            <dt>related nodes query</dt>\n",
       "    <dd><style>pre { line-height: 125%; }\n",
       "td.linenos .normal { color: inherit; background-color: transparent; padding-left: 5px; padding-right: 5px; }\n",
       "span.linenos { color: inherit; background-color: transparent; padding-left: 5px; padding-right: 5px; }\n",
       "td.linenos .special { color: #000000; background-color: #ffffc0; padding-left: 5px; padding-right: 5px; }\n",
       "span.linenos.special { color: #000000; background-color: #ffffc0; padding-left: 5px; padding-right: 5px; }\n",
       ".output_html .hll { background-color: #ffffcc }\n",
       ".output_html { background: #f8f8f8; }\n",
       ".output_html .c { color: #3D7B7B; font-style: italic } /* Comment */\n",
       ".output_html .err { border: 1px solid #FF0000 } /* Error */\n",
       ".output_html .k { color: #008000; font-weight: bold } /* Keyword */\n",
       ".output_html .o { color: #666666 } /* Operator */\n",
       ".output_html .ch { color: #3D7B7B; font-style: italic } /* Comment.Hashbang */\n",
       ".output_html .cm { color: #3D7B7B; font-style: italic } /* Comment.Multiline */\n",
       ".output_html .cp { color: #9C6500 } /* Comment.Preproc */\n",
       ".output_html .cpf { color: #3D7B7B; font-style: italic } /* Comment.PreprocFile */\n",
       ".output_html .c1 { color: #3D7B7B; font-style: italic } /* Comment.Single */\n",
       ".output_html .cs { color: #3D7B7B; font-style: italic } /* Comment.Special */\n",
       ".output_html .gd { color: #A00000 } /* Generic.Deleted */\n",
       ".output_html .ge { font-style: italic } /* Generic.Emph */\n",
       ".output_html .ges { font-weight: bold; font-style: italic } /* Generic.EmphStrong */\n",
       ".output_html .gr { color: #E40000 } /* Generic.Error */\n",
       ".output_html .gh { color: #000080; font-weight: bold } /* Generic.Heading */\n",
       ".output_html .gi { color: #008400 } /* Generic.Inserted */\n",
       ".output_html .go { color: #717171 } /* Generic.Output */\n",
       ".output_html .gp { color: #000080; font-weight: bold } /* Generic.Prompt */\n",
       ".output_html .gs { font-weight: bold } /* Generic.Strong */\n",
       ".output_html .gu { color: #800080; font-weight: bold } /* Generic.Subheading */\n",
       ".output_html .gt { color: #0044DD } /* Generic.Traceback */\n",
       ".output_html .kc { color: #008000; font-weight: bold } /* Keyword.Constant */\n",
       ".output_html .kd { color: #008000; font-weight: bold } /* Keyword.Declaration */\n",
       ".output_html .kn { color: #008000; font-weight: bold } /* Keyword.Namespace */\n",
       ".output_html .kp { color: #008000 } /* Keyword.Pseudo */\n",
       ".output_html .kr { color: #008000; font-weight: bold } /* Keyword.Reserved */\n",
       ".output_html .kt { color: #B00040 } /* Keyword.Type */\n",
       ".output_html .m { color: #666666 } /* Literal.Number */\n",
       ".output_html .s { color: #BA2121 } /* Literal.String */\n",
       ".output_html .na { color: #687822 } /* Name.Attribute */\n",
       ".output_html .nb { color: #008000 } /* Name.Builtin */\n",
       ".output_html .nc { color: #0000FF; font-weight: bold } /* Name.Class */\n",
       ".output_html .no { color: #880000 } /* Name.Constant */\n",
       ".output_html .nd { color: #AA22FF } /* Name.Decorator */\n",
       ".output_html .ni { color: #717171; font-weight: bold } /* Name.Entity */\n",
       ".output_html .ne { color: #CB3F38; font-weight: bold } /* Name.Exception */\n",
       ".output_html .nf { color: #0000FF } /* Name.Function */\n",
       ".output_html .nl { color: #767600 } /* Name.Label */\n",
       ".output_html .nn { color: #0000FF; font-weight: bold } /* Name.Namespace */\n",
       ".output_html .nt { color: #008000; font-weight: bold } /* Name.Tag */\n",
       ".output_html .nv { color: #19177C } /* Name.Variable */\n",
       ".output_html .ow { color: #AA22FF; font-weight: bold } /* Operator.Word */\n",
       ".output_html .w { color: #bbbbbb } /* Text.Whitespace */\n",
       ".output_html .mb { color: #666666 } /* Literal.Number.Bin */\n",
       ".output_html .mf { color: #666666 } /* Literal.Number.Float */\n",
       ".output_html .mh { color: #666666 } /* Literal.Number.Hex */\n",
       ".output_html .mi { color: #666666 } /* Literal.Number.Integer */\n",
       ".output_html .mo { color: #666666 } /* Literal.Number.Oct */\n",
       ".output_html .sa { color: #BA2121 } /* Literal.String.Affix */\n",
       ".output_html .sb { color: #BA2121 } /* Literal.String.Backtick */\n",
       ".output_html .sc { color: #BA2121 } /* Literal.String.Char */\n",
       ".output_html .dl { color: #BA2121 } /* Literal.String.Delimiter */\n",
       ".output_html .sd { color: #BA2121; font-style: italic } /* Literal.String.Doc */\n",
       ".output_html .s2 { color: #BA2121 } /* Literal.String.Double */\n",
       ".output_html .se { color: #AA5D1F; font-weight: bold } /* Literal.String.Escape */\n",
       ".output_html .sh { color: #BA2121 } /* Literal.String.Heredoc */\n",
       ".output_html .si { color: #A45A77; font-weight: bold } /* Literal.String.Interpol */\n",
       ".output_html .sx { color: #008000 } /* Literal.String.Other */\n",
       ".output_html .sr { color: #A45A77 } /* Literal.String.Regex */\n",
       ".output_html .s1 { color: #BA2121 } /* Literal.String.Single */\n",
       ".output_html .ss { color: #19177C } /* Literal.String.Symbol */\n",
       ".output_html .bp { color: #008000 } /* Name.Builtin.Pseudo */\n",
       ".output_html .fm { color: #0000FF } /* Name.Function.Magic */\n",
       ".output_html .vc { color: #19177C } /* Name.Variable.Class */\n",
       ".output_html .vg { color: #19177C } /* Name.Variable.Global */\n",
       ".output_html .vi { color: #19177C } /* Name.Variable.Instance */\n",
       ".output_html .vm { color: #19177C } /* Name.Variable.Magic */\n",
       ".output_html .il { color: #666666 } /* Literal.Number.Integer.Long */</style><div class=\"highlight\"><pre><span></span><span class=\"k\">UNWIND</span><span class=\"w\"> </span><span class=\"err\">$</span><span class=\"n\">terms</span><span class=\"w\"> </span><span class=\"k\">AS</span><span class=\"w\"> </span><span class=\"n\">term</span>\n",
       "<span class=\"k\">MATCH</span><span class=\"w\"> </span><span class=\"p\">(</span><span class=\"n\">s</span><span class=\"p\">:</span><span class=\"n\">Synonym</span><span class=\"w\"> </span><span class=\"p\">{</span><span class=\"n\">lowercase_name</span><span class=\"p\">:</span><span class=\"w\"> </span><span class=\"n\">toLower</span><span class=\"p\">(</span><span class=\"n\">term</span><span class=\"p\">)})</span><span class=\"o\">&lt;-[</span><span class=\"p\">:</span><span class=\"n\">HAS_SYNONYM</span><span class=\"o\">]-</span><span class=\"p\">(</span><span class=\"n\">n</span><span class=\"p\">)</span>\n",
       "<span class=\"k\">WHERE</span><span class=\"w\"> </span><span class=\"n\">n</span><span class=\"p\">.</span><span class=\"n\">eid</span><span class=\"w\"> </span><span class=\"n\">IS</span><span class=\"w\"> </span><span class=\"k\">NOT</span><span class=\"w\"> </span><span class=\"k\">NULL</span><span class=\"w\"> </span><span class=\"n\">AND</span><span class=\"w\"> </span><span class=\"k\">NOT</span><span class=\"w\"> </span><span class=\"n\">n</span><span class=\"p\">.</span><span class=\"n\">eid</span><span class=\"w\"> </span><span class=\"k\">IN</span><span class=\"w\"> </span><span class=\"o\">[</span><span class=\"err\">&#39;</span><span class=\"n\">NAD</span><span class=\"err\">-</span><span class=\"n\">P</span><span class=\"err\">-</span><span class=\"n\">OR</span><span class=\"err\">-</span><span class=\"n\">NOP</span><span class=\"err\">&#39;</span><span class=\"p\">,</span><span class=\"w\"> </span><span class=\"err\">&#39;</span><span class=\"n\">NADH</span><span class=\"err\">-</span><span class=\"n\">P</span><span class=\"err\">-</span><span class=\"n\">OR</span><span class=\"err\">-</span><span class=\"n\">NOP</span><span class=\"err\">&#39;</span><span class=\"p\">,</span><span class=\"w\"> </span><span class=\"err\">&#39;</span><span class=\"n\">Donor</span><span class=\"err\">-</span><span class=\"n\">H2</span><span class=\"err\">&#39;</span><span class=\"p\">,</span><span class=\"w\"> </span><span class=\"err\">&#39;</span><span class=\"n\">Acceptor</span><span class=\"err\">&#39;</span><span class=\"p\">,</span><span class=\"w\"> </span><span class=\"err\">&#39;</span><span class=\"n\">HYDROGEN</span><span class=\"err\">-</span><span class=\"n\">PEROXIDE</span><span class=\"err\">&#39;</span><span class=\"p\">,</span><span class=\"w\"> </span><span class=\"err\">&#39;</span><span class=\"n\">OXYGEN</span><span class=\"err\">-</span><span class=\"n\">MOLECULE</span><span class=\"err\">&#39;</span><span class=\"p\">,</span><span class=\"w\"> </span><span class=\"err\">&#39;</span><span class=\"n\">NAD</span><span class=\"err\">&#39;</span><span class=\"p\">,</span><span class=\"w\"> </span><span class=\"err\">&#39;</span><span class=\"n\">NADP</span><span class=\"err\">&#39;</span><span class=\"p\">,</span><span class=\"w\"> </span><span class=\"err\">&#39;</span><span class=\"n\">NADH</span><span class=\"err\">&#39;</span><span class=\"p\">,</span><span class=\"w\"> </span><span class=\"err\">&#39;</span><span class=\"n\">NADPH</span><span class=\"err\">&#39;</span><span class=\"p\">,</span><span class=\"w\"> </span><span class=\"err\">&#39;</span><span class=\"n\">WATER</span><span class=\"err\">&#39;</span><span class=\"p\">,</span><span class=\"w\"> </span><span class=\"err\">&#39;</span><span class=\"n\">CARBON</span><span class=\"err\">-</span><span class=\"n\">DIOXIDE</span><span class=\"err\">&#39;</span><span class=\"p\">,</span><span class=\"w\"> </span><span class=\"err\">&#39;</span><span class=\"n\">FAD</span><span class=\"err\">&#39;</span><span class=\"p\">,</span><span class=\"w\"> </span><span class=\"err\">&#39;</span><span class=\"n\">CO</span><span class=\"err\">-</span><span class=\"n\">A</span><span class=\"err\">&#39;</span><span class=\"p\">,</span><span class=\"w\"> </span><span class=\"err\">&#39;</span><span class=\"n\">UDP</span><span class=\"err\">&#39;</span><span class=\"p\">,</span><span class=\"w\"> </span><span class=\"err\">&#39;</span><span class=\"n\">AMMONIA</span><span class=\"err\">&#39;</span><span class=\"p\">,</span><span class=\"w\"> </span><span class=\"err\">&#39;</span><span class=\"n\">NA</span><span class=\"err\">+&#39;</span><span class=\"p\">,</span><span class=\"w\"> </span><span class=\"err\">&#39;</span><span class=\"n\">AMMONIUM</span><span class=\"err\">&#39;</span><span class=\"p\">,</span><span class=\"w\"> </span><span class=\"err\">&#39;</span><span class=\"n\">PROTON</span><span class=\"err\">&#39;</span><span class=\"p\">,</span><span class=\"w\"> </span><span class=\"err\">&#39;</span><span class=\"n\">CARBON</span><span class=\"err\">-</span><span class=\"n\">MONOXIDE</span><span class=\"err\">&#39;</span><span class=\"p\">,</span><span class=\"w\"> </span><span class=\"err\">&#39;</span><span class=\"n\">GTP</span><span class=\"err\">&#39;</span><span class=\"p\">,</span><span class=\"w\"> </span><span class=\"err\">&#39;</span><span class=\"n\">ADP</span><span class=\"err\">&#39;</span><span class=\"p\">,</span><span class=\"w\"> </span><span class=\"err\">&#39;</span><span class=\"n\">GDP</span><span class=\"err\">&#39;</span><span class=\"p\">,</span><span class=\"w\"> </span><span class=\"err\">&#39;</span><span class=\"n\">AMP</span><span class=\"err\">&#39;</span><span class=\"p\">,</span><span class=\"w\"> </span><span class=\"err\">&#39;</span><span class=\"n\">ATP</span><span class=\"err\">&#39;</span><span class=\"p\">,</span><span class=\"w\"> </span><span class=\"err\">&#39;</span><span class=\"m\">3</span><span class=\"err\">-</span><span class=\"m\">5</span><span class=\"err\">-</span><span class=\"n\">ADP</span><span class=\"err\">&#39;</span><span class=\"p\">,</span><span class=\"w\"> </span><span class=\"err\">&#39;</span><span class=\"n\">PPI</span><span class=\"err\">&#39;</span><span class=\"p\">,</span><span class=\"w\"> </span><span class=\"err\">&#39;</span><span class=\"n\">Pi</span><span class=\"err\">&#39;</span><span class=\"o\">]</span>\n",
       "<span class=\"k\">WITH</span><span class=\"w\"> </span><span class=\"n\">apoc</span><span class=\"p\">.</span><span class=\"n\">text</span><span class=\"p\">.</span><span class=\"n\">levenshteinSimilarity</span><span class=\"p\">(</span><span class=\"n\">term</span><span class=\"p\">,</span><span class=\"w\"> </span><span class=\"n\">n</span><span class=\"p\">.</span><span class=\"n\">name</span><span class=\"p\">)</span><span class=\"w\"> </span><span class=\"k\">as</span><span class=\"w\"> </span><span class=\"n\">similarity</span><span class=\"p\">,</span><span class=\"w\"> </span><span class=\"n\">s</span><span class=\"p\">,</span><span class=\"w\"> </span><span class=\"n\">n</span><span class=\"p\">,</span><span class=\"w\"> </span><span class=\"n\">term</span>\n",
       "<span class=\"k\">ORDER</span><span class=\"w\"> </span><span class=\"k\">BY</span><span class=\"w\"> </span><span class=\"n\">similarity</span><span class=\"w\"> </span><span class=\"k\">DESC</span>\n",
       "<span class=\"k\">WHERE</span><span class=\"w\"> </span><span class=\"n\">similarity</span><span class=\"w\"> </span><span class=\"p\">&gt;</span><span class=\"w\"> </span><span class=\"m\">0</span><span class=\"p\">.</span><span class=\"m\">5</span>\n",
       "<span class=\"k\">WITH</span><span class=\"w\"> </span><span class=\"k\">DISTINCT</span><span class=\"w\"> </span><span class=\"n\">term</span><span class=\"p\">,</span><span class=\"w\"> </span><span class=\"n\">collect</span><span class=\"p\">({</span><span class=\"n\">node</span><span class=\"p\">:</span><span class=\"w\"> </span><span class=\"n\">n</span><span class=\"p\">,</span><span class=\"w\"> </span><span class=\"n\">node_id</span><span class=\"p\">:</span><span class=\"w\"> </span><span class=\"n\">id</span><span class=\"p\">(</span><span class=\"n\">n</span><span class=\"p\">),</span><span class=\"w\"> </span><span class=\"n\">similarity</span><span class=\"p\">:</span><span class=\"w\"> </span><span class=\"n\">similarity</span><span class=\"p\">})</span><span class=\"o\">[</span><span class=\"m\">0</span><span class=\"p\">..</span><span class=\"m\">5</span><span class=\"o\">]</span><span class=\"w\"> </span><span class=\"k\">as</span><span class=\"w\"> </span><span class=\"n\">matches</span>\n",
       "<span class=\"k\">RETURN</span><span class=\"w\"> </span><span class=\"n\">term</span><span class=\"p\">,</span><span class=\"w\"> </span><span class=\"n\">matches</span>\n",
       "</pre></div>\n",
       "</dd>\n",
       "    <dt>relationships query</dt>\n",
       "    <dd><style>pre { line-height: 125%; }\n",
       "td.linenos .normal { color: inherit; background-color: transparent; padding-left: 5px; padding-right: 5px; }\n",
       "span.linenos { color: inherit; background-color: transparent; padding-left: 5px; padding-right: 5px; }\n",
       "td.linenos .special { color: #000000; background-color: #ffffc0; padding-left: 5px; padding-right: 5px; }\n",
       "span.linenos.special { color: #000000; background-color: #ffffc0; padding-left: 5px; padding-right: 5px; }\n",
       ".output_html .hll { background-color: #ffffcc }\n",
       ".output_html { background: #f8f8f8; }\n",
       ".output_html .c { color: #3D7B7B; font-style: italic } /* Comment */\n",
       ".output_html .err { border: 1px solid #FF0000 } /* Error */\n",
       ".output_html .k { color: #008000; font-weight: bold } /* Keyword */\n",
       ".output_html .o { color: #666666 } /* Operator */\n",
       ".output_html .ch { color: #3D7B7B; font-style: italic } /* Comment.Hashbang */\n",
       ".output_html .cm { color: #3D7B7B; font-style: italic } /* Comment.Multiline */\n",
       ".output_html .cp { color: #9C6500 } /* Comment.Preproc */\n",
       ".output_html .cpf { color: #3D7B7B; font-style: italic } /* Comment.PreprocFile */\n",
       ".output_html .c1 { color: #3D7B7B; font-style: italic } /* Comment.Single */\n",
       ".output_html .cs { color: #3D7B7B; font-style: italic } /* Comment.Special */\n",
       ".output_html .gd { color: #A00000 } /* Generic.Deleted */\n",
       ".output_html .ge { font-style: italic } /* Generic.Emph */\n",
       ".output_html .ges { font-weight: bold; font-style: italic } /* Generic.EmphStrong */\n",
       ".output_html .gr { color: #E40000 } /* Generic.Error */\n",
       ".output_html .gh { color: #000080; font-weight: bold } /* Generic.Heading */\n",
       ".output_html .gi { color: #008400 } /* Generic.Inserted */\n",
       ".output_html .go { color: #717171 } /* Generic.Output */\n",
       ".output_html .gp { color: #000080; font-weight: bold } /* Generic.Prompt */\n",
       ".output_html .gs { font-weight: bold } /* Generic.Strong */\n",
       ".output_html .gu { color: #800080; font-weight: bold } /* Generic.Subheading */\n",
       ".output_html .gt { color: #0044DD } /* Generic.Traceback */\n",
       ".output_html .kc { color: #008000; font-weight: bold } /* Keyword.Constant */\n",
       ".output_html .kd { color: #008000; font-weight: bold } /* Keyword.Declaration */\n",
       ".output_html .kn { color: #008000; font-weight: bold } /* Keyword.Namespace */\n",
       ".output_html .kp { color: #008000 } /* Keyword.Pseudo */\n",
       ".output_html .kr { color: #008000; font-weight: bold } /* Keyword.Reserved */\n",
       ".output_html .kt { color: #B00040 } /* Keyword.Type */\n",
       ".output_html .m { color: #666666 } /* Literal.Number */\n",
       ".output_html .s { color: #BA2121 } /* Literal.String */\n",
       ".output_html .na { color: #687822 } /* Name.Attribute */\n",
       ".output_html .nb { color: #008000 } /* Name.Builtin */\n",
       ".output_html .nc { color: #0000FF; font-weight: bold } /* Name.Class */\n",
       ".output_html .no { color: #880000 } /* Name.Constant */\n",
       ".output_html .nd { color: #AA22FF } /* Name.Decorator */\n",
       ".output_html .ni { color: #717171; font-weight: bold } /* Name.Entity */\n",
       ".output_html .ne { color: #CB3F38; font-weight: bold } /* Name.Exception */\n",
       ".output_html .nf { color: #0000FF } /* Name.Function */\n",
       ".output_html .nl { color: #767600 } /* Name.Label */\n",
       ".output_html .nn { color: #0000FF; font-weight: bold } /* Name.Namespace */\n",
       ".output_html .nt { color: #008000; font-weight: bold } /* Name.Tag */\n",
       ".output_html .nv { color: #19177C } /* Name.Variable */\n",
       ".output_html .ow { color: #AA22FF; font-weight: bold } /* Operator.Word */\n",
       ".output_html .w { color: #bbbbbb } /* Text.Whitespace */\n",
       ".output_html .mb { color: #666666 } /* Literal.Number.Bin */\n",
       ".output_html .mf { color: #666666 } /* Literal.Number.Float */\n",
       ".output_html .mh { color: #666666 } /* Literal.Number.Hex */\n",
       ".output_html .mi { color: #666666 } /* Literal.Number.Integer */\n",
       ".output_html .mo { color: #666666 } /* Literal.Number.Oct */\n",
       ".output_html .sa { color: #BA2121 } /* Literal.String.Affix */\n",
       ".output_html .sb { color: #BA2121 } /* Literal.String.Backtick */\n",
       ".output_html .sc { color: #BA2121 } /* Literal.String.Char */\n",
       ".output_html .dl { color: #BA2121 } /* Literal.String.Delimiter */\n",
       ".output_html .sd { color: #BA2121; font-style: italic } /* Literal.String.Doc */\n",
       ".output_html .s2 { color: #BA2121 } /* Literal.String.Double */\n",
       ".output_html .se { color: #AA5D1F; font-weight: bold } /* Literal.String.Escape */\n",
       ".output_html .sh { color: #BA2121 } /* Literal.String.Heredoc */\n",
       ".output_html .si { color: #A45A77; font-weight: bold } /* Literal.String.Interpol */\n",
       ".output_html .sx { color: #008000 } /* Literal.String.Other */\n",
       ".output_html .sr { color: #A45A77 } /* Literal.String.Regex */\n",
       ".output_html .s1 { color: #BA2121 } /* Literal.String.Single */\n",
       ".output_html .ss { color: #19177C } /* Literal.String.Symbol */\n",
       ".output_html .bp { color: #008000 } /* Name.Builtin.Pseudo */\n",
       ".output_html .fm { color: #0000FF } /* Name.Function.Magic */\n",
       ".output_html .vc { color: #19177C } /* Name.Variable.Class */\n",
       ".output_html .vg { color: #19177C } /* Name.Variable.Global */\n",
       ".output_html .vi { color: #19177C } /* Name.Variable.Instance */\n",
       ".output_html .vm { color: #19177C } /* Name.Variable.Magic */\n",
       ".output_html .il { color: #666666 } /* Literal.Number.Integer.Long */</style><div class=\"highlight\"><pre><span></span><span class=\"k\">UNWIND</span><span class=\"w\"> </span><span class=\"n\">apoc</span><span class=\"p\">.</span><span class=\"n\">coll</span><span class=\"p\">.</span><span class=\"n\">combinations</span><span class=\"p\">(</span><span class=\"err\">$</span><span class=\"n\">term_match</span><span class=\"p\">,</span><span class=\"w\"> </span><span class=\"m\">2</span><span class=\"p\">)</span><span class=\"w\"> </span><span class=\"k\">AS</span><span class=\"w\"> </span><span class=\"n\">termPair</span>\n",
       "<span class=\"k\">UNWIND</span><span class=\"w\"> </span><span class=\"n\">termPair</span><span class=\"o\">[</span><span class=\"m\">0</span><span class=\"o\">][</span><span class=\"err\">&#39;</span><span class=\"n\">matches</span><span class=\"err\">&#39;</span><span class=\"o\">]</span><span class=\"w\"> </span><span class=\"k\">as</span><span class=\"w\"> </span><span class=\"n\">matchA</span>\n",
       "<span class=\"k\">UNWIND</span><span class=\"w\"> </span><span class=\"n\">termPair</span><span class=\"o\">[</span><span class=\"m\">1</span><span class=\"o\">][</span><span class=\"err\">&#39;</span><span class=\"n\">matches</span><span class=\"err\">&#39;</span><span class=\"o\">]</span><span class=\"w\"> </span><span class=\"k\">as</span><span class=\"w\"> </span><span class=\"n\">matchB</span>\n",
       "<span class=\"k\">WITH</span><span class=\"w\"> </span><span class=\"n\">matchA</span><span class=\"p\">,</span><span class=\"w\"> </span><span class=\"n\">matchB</span><span class=\"p\">,</span><span class=\"w\"> </span><span class=\"n\">matchA</span><span class=\"o\">[</span><span class=\"err\">&#39;</span><span class=\"n\">similarity</span><span class=\"err\">&#39;</span><span class=\"o\">]</span><span class=\"w\"> </span><span class=\"p\">*</span><span class=\"w\"> </span><span class=\"n\">matchB</span><span class=\"o\">[</span><span class=\"err\">&#39;</span><span class=\"n\">similarity</span><span class=\"err\">&#39;</span><span class=\"o\">]</span><span class=\"w\"> </span><span class=\"k\">AS</span><span class=\"w\"> </span><span class=\"n\">similarity</span>\n",
       "<span class=\"k\">ORDER</span><span class=\"w\"> </span><span class=\"k\">BY</span><span class=\"w\"> </span><span class=\"n\">similarity</span><span class=\"w\"> </span><span class=\"k\">DESC</span>\n",
       "<span class=\"k\">WHERE</span><span class=\"w\"> </span><span class=\"n\">similarity</span><span class=\"w\"> </span><span class=\"p\">&gt;</span><span class=\"w\"> </span><span class=\"m\">0</span><span class=\"p\">.</span><span class=\"m\">5</span>\n",
       "<span class=\"k\">MATCH</span><span class=\"w\"> </span><span class=\"p\">(</span><span class=\"n\">a</span><span class=\"p\">),</span><span class=\"w\"> </span><span class=\"p\">(</span><span class=\"n\">b</span><span class=\"p\">)</span>\n",
       "<span class=\"k\">WHERE</span><span class=\"w\"> </span><span class=\"n\">id</span><span class=\"p\">(</span><span class=\"n\">a</span><span class=\"p\">)</span><span class=\"w\"> </span><span class=\"p\">=</span><span class=\"w\"> </span><span class=\"n\">matchA</span><span class=\"o\">[</span><span class=\"err\">&#39;</span><span class=\"n\">id</span><span class=\"err\">&#39;</span><span class=\"o\">]</span><span class=\"w\"> </span><span class=\"n\">AND</span><span class=\"w\"> </span><span class=\"n\">id</span><span class=\"p\">(</span><span class=\"n\">b</span><span class=\"p\">)</span><span class=\"w\"> </span><span class=\"p\">=</span><span class=\"w\"> </span><span class=\"n\">matchB</span><span class=\"o\">[</span><span class=\"err\">&#39;</span><span class=\"n\">id</span><span class=\"err\">&#39;</span><span class=\"o\">]</span>\n",
       "<span class=\"k\">MATCH</span><span class=\"w\"> </span><span class=\"n\">path</span><span class=\"p\">=</span><span class=\"n\">allShortestPaths</span><span class=\"p\">((</span><span class=\"n\">a</span><span class=\"p\">)</span><span class=\"o\">-[</span><span class=\"p\">*</span><span class=\"m\">1</span><span class=\"p\">..</span><span class=\"o\">]-</span><span class=\"p\">(</span><span class=\"n\">b</span><span class=\"p\">))</span>\n",
       "<span class=\"k\">WHERE</span>\n",
       "<span class=\"w\"> </span><span class=\"k\">all</span><span class=\"p\">(</span><span class=\"n\">r</span><span class=\"w\"> </span><span class=\"k\">in</span><span class=\"w\"> </span><span class=\"n\">relationships</span><span class=\"p\">(</span><span class=\"n\">path</span><span class=\"p\">)</span><span class=\"w\"> </span><span class=\"k\">where</span><span class=\"w\"> </span><span class=\"n\">type</span><span class=\"p\">(</span><span class=\"n\">r</span><span class=\"p\">)</span><span class=\"w\"> </span><span class=\"k\">in</span><span class=\"w\"> </span><span class=\"o\">[</span><span class=\"err\">&#39;</span><span class=\"n\">CONSUMED_BY</span><span class=\"err\">&#39;</span><span class=\"p\">,</span><span class=\"w\"> </span><span class=\"err\">&#39;</span><span class=\"n\">PRODUCES</span><span class=\"err\">&#39;</span><span class=\"p\">,</span><span class=\"w\"> </span><span class=\"err\">&#39;</span><span class=\"n\">CATALYZES</span><span class=\"err\">&#39;</span><span class=\"p\">,</span><span class=\"w\"> </span><span class=\"err\">&#39;</span><span class=\"n\">REGULATES</span><span class=\"err\">&#39;</span><span class=\"p\">,</span><span class=\"w\"> </span><span class=\"err\">&#39;</span><span class=\"n\">HAS_TXONOMY</span><span class=\"err\">&#39;</span><span class=\"p\">,</span><span class=\"w\"> </span><span class=\"err\">&#39;</span><span class=\"n\">IS</span><span class=\"err\">&#39;</span><span class=\"p\">,</span><span class=\"w\"> </span><span class=\"err\">&#39;</span><span class=\"n\">HAS_KO</span><span class=\"err\">&#39;</span><span class=\"p\">,</span><span class=\"w\"> </span><span class=\"err\">&#39;</span><span class=\"n\">ELEMENT_OF</span><span class=\"err\">&#39;</span><span class=\"p\">,</span><span class=\"w\"> </span><span class=\"err\">&#39;</span><span class=\"n\">ENCODES</span><span class=\"err\">&#39;</span><span class=\"o\">]</span><span class=\"p\">)</span>\n",
       "<span class=\"w\"> </span><span class=\"n\">and</span><span class=\"w\"> </span><span class=\"k\">all</span><span class=\"p\">(</span><span class=\"n\">n</span><span class=\"w\"> </span><span class=\"k\">in</span><span class=\"w\"> </span><span class=\"n\">nodes</span><span class=\"p\">(</span><span class=\"n\">path</span><span class=\"p\">)</span><span class=\"w\"> </span><span class=\"k\">where</span><span class=\"w\"> </span><span class=\"k\">not</span><span class=\"w\"> </span><span class=\"n\">n</span><span class=\"p\">.</span><span class=\"n\">eid</span><span class=\"w\"> </span><span class=\"k\">in</span><span class=\"w\"> </span><span class=\"o\">[</span><span class=\"err\">&#39;</span><span class=\"n\">NAD</span><span class=\"err\">-</span><span class=\"n\">P</span><span class=\"err\">-</span><span class=\"n\">OR</span><span class=\"err\">-</span><span class=\"n\">NOP</span><span class=\"err\">&#39;</span><span class=\"p\">,</span><span class=\"w\"> </span><span class=\"err\">&#39;</span><span class=\"n\">NADH</span><span class=\"err\">-</span><span class=\"n\">P</span><span class=\"err\">-</span><span class=\"n\">OR</span><span class=\"err\">-</span><span class=\"n\">NOP</span><span class=\"err\">&#39;</span><span class=\"p\">,</span><span class=\"w\"> </span><span class=\"err\">&#39;</span><span class=\"n\">Donor</span><span class=\"err\">-</span><span class=\"n\">H2</span><span class=\"err\">&#39;</span><span class=\"p\">,</span><span class=\"w\"> </span><span class=\"err\">&#39;</span><span class=\"n\">Acceptor</span><span class=\"err\">&#39;</span><span class=\"p\">,</span><span class=\"w\"> </span><span class=\"err\">&#39;</span><span class=\"n\">HYDROGEN</span><span class=\"err\">-</span><span class=\"n\">PEROXIDE</span><span class=\"err\">&#39;</span><span class=\"p\">,</span><span class=\"w\"> </span><span class=\"err\">&#39;</span><span class=\"n\">OXYGEN</span><span class=\"err\">-</span><span class=\"n\">MOLECULE</span><span class=\"err\">&#39;</span><span class=\"p\">,</span><span class=\"w\"> </span><span class=\"err\">&#39;</span><span class=\"n\">NAD</span><span class=\"err\">&#39;</span><span class=\"p\">,</span><span class=\"w\"> </span><span class=\"err\">&#39;</span><span class=\"n\">NADP</span><span class=\"err\">&#39;</span><span class=\"p\">,</span><span class=\"w\"> </span><span class=\"err\">&#39;</span><span class=\"n\">NADH</span><span class=\"err\">&#39;</span><span class=\"p\">,</span><span class=\"w\"> </span><span class=\"err\">&#39;</span><span class=\"n\">NADPH</span><span class=\"err\">&#39;</span><span class=\"p\">,</span><span class=\"w\"> </span><span class=\"err\">&#39;</span><span class=\"n\">WATER</span><span class=\"err\">&#39;</span><span class=\"p\">,</span><span class=\"w\"> </span><span class=\"err\">&#39;</span><span class=\"n\">CARBON</span><span class=\"err\">-</span><span class=\"n\">DIOXIDE</span><span class=\"err\">&#39;</span><span class=\"p\">,</span><span class=\"w\"> </span><span class=\"err\">&#39;</span><span class=\"n\">FAD</span><span class=\"err\">&#39;</span><span class=\"p\">,</span><span class=\"w\"> </span><span class=\"err\">&#39;</span><span class=\"n\">CO</span><span class=\"err\">-</span><span class=\"n\">A</span><span class=\"err\">&#39;</span><span class=\"p\">,</span><span class=\"w\"> </span><span class=\"err\">&#39;</span><span class=\"n\">UDP</span><span class=\"err\">&#39;</span><span class=\"p\">,</span><span class=\"w\"> </span><span class=\"err\">&#39;</span><span class=\"n\">AMMONIA</span><span class=\"err\">&#39;</span><span class=\"p\">,</span><span class=\"w\"> </span><span class=\"err\">&#39;</span><span class=\"n\">NA</span><span class=\"err\">+&#39;</span><span class=\"p\">,</span><span class=\"w\"> </span><span class=\"err\">&#39;</span><span class=\"n\">AMMONIUM</span><span class=\"err\">&#39;</span><span class=\"p\">,</span><span class=\"w\"> </span><span class=\"err\">&#39;</span><span class=\"n\">PROTON</span><span class=\"err\">&#39;</span><span class=\"p\">,</span><span class=\"w\"> </span><span class=\"err\">&#39;</span><span class=\"n\">CARBON</span><span class=\"err\">-</span><span class=\"n\">MONOXIDE</span><span class=\"err\">&#39;</span><span class=\"p\">,</span><span class=\"w\"> </span><span class=\"err\">&#39;</span><span class=\"n\">GTP</span><span class=\"err\">&#39;</span><span class=\"p\">,</span><span class=\"w\"> </span><span class=\"err\">&#39;</span><span class=\"n\">ADP</span><span class=\"err\">&#39;</span><span class=\"p\">,</span><span class=\"w\"> </span><span class=\"err\">&#39;</span><span class=\"n\">GDP</span><span class=\"err\">&#39;</span><span class=\"p\">,</span><span class=\"w\"> </span><span class=\"err\">&#39;</span><span class=\"n\">AMP</span><span class=\"err\">&#39;</span><span class=\"p\">,</span><span class=\"w\"> </span><span class=\"err\">&#39;</span><span class=\"n\">ATP</span><span class=\"err\">&#39;</span><span class=\"p\">,</span><span class=\"w\"> </span><span class=\"err\">&#39;</span><span class=\"m\">3</span><span class=\"err\">-</span><span class=\"m\">5</span><span class=\"err\">-</span><span class=\"n\">ADP</span><span class=\"err\">&#39;</span><span class=\"p\">,</span><span class=\"w\"> </span><span class=\"err\">&#39;</span><span class=\"n\">PPI</span><span class=\"err\">&#39;</span><span class=\"p\">,</span><span class=\"w\"> </span><span class=\"err\">&#39;</span><span class=\"n\">Pi</span><span class=\"err\">&#39;</span><span class=\"o\">]</span><span class=\"p\">)</span>\n",
       "<span class=\"k\">RETURN</span><span class=\"w\"> </span><span class=\"n\">path</span><span class=\"w\"> </span><span class=\"k\">LIMIT</span><span class=\"w\"> </span><span class=\"m\">3</span>\n",
       "</pre></div>\n",
       "</dd>\n",
       "     </dl>\n"
      ],
      "text/plain": [
       "CypherSearchAPIWrapper(graph=<llmlib.utils.lazy_neo4j_graph.LazyNeo4jGraph object at 0x7ffa8cd55a10>, related_nodes_query='\\nUNWIND $terms AS term\\nMATCH (s:Synonym {lowercase_name: toLower(term)})<-[:HAS_SYNONYM]-(n)\\nWHERE n.eid IS NOT NULL AND NOT n.eid IN $exclude_eids\\nWITH apoc.text.levenshteinSimilarity(term, n.name) as similarity, s, n, term\\nORDER BY similarity DESC\\nWHERE similarity > 0.5\\nWITH DISTINCT term, collect({node: n, node_id: id(n), similarity: similarity})[0..$top_k_matches] as matches\\nRETURN term, matches\\n', related_nodes_query_params={'top_k_matches': 5, 'exclude_eids': ['NAD-P-OR-NOP', 'NADH-P-OR-NOP', 'Donor-H2', 'Acceptor', 'HYDROGEN-PEROXIDE', 'OXYGEN-MOLECULE', 'NAD', 'NADP', 'NADH', 'NADPH', 'WATER', 'CARBON-DIOXIDE', 'FAD', 'CO-A', 'UDP', 'AMMONIA', 'NA+', 'AMMONIUM', 'PROTON', 'CARBON-MONOXIDE', 'GTP', 'ADP', 'GDP', 'AMP', 'ATP', '3-5-ADP', 'PPI', 'Pi']}, relationships_query=\"\\nUNWIND apoc.coll.combinations($term_match, 2) AS termPair\\nUNWIND termPair[0]['matches'] as matchA\\nUNWIND termPair[1]['matches'] as matchB\\nWITH matchA, matchB, matchA['similarity'] * matchB['similarity'] AS similarity\\nORDER BY similarity DESC\\nWHERE similarity > 0.5\\nMATCH (a), (b)\\nWHERE id(a) = matchA['id'] AND id(b) = matchB['id']\\nMATCH path=allShortestPaths((a)-[*1..]-(b))\\nWHERE\\n all(r in relationships(path) where type(r) in $include_rels)\\n and all(n in nodes(path) where not n.eid in $exclude_eids)\\nRETURN path LIMIT $top_k\\n\", relationships_query_params={'top_k': 3, 'include_rels': ['CONSUMED_BY', 'PRODUCES', 'CATALYZES', 'REGULATES', 'HAS_TXONOMY', 'IS', 'HAS_KO', 'ELEMENT_OF', 'ENCODES'], 'exclude_eids': ['NAD-P-OR-NOP', 'NADH-P-OR-NOP', 'Donor-H2', 'Acceptor', 'HYDROGEN-PEROXIDE', 'OXYGEN-MOLECULE', 'NAD', 'NADP', 'NADH', 'NADPH', 'WATER', 'CARBON-DIOXIDE', 'FAD', 'CO-A', 'UDP', 'AMMONIA', 'NA+', 'AMMONIUM', 'PROTON', 'CARBON-MONOXIDE', 'GTP', 'ADP', 'GDP', 'AMP', 'ATP', '3-5-ADP', 'PPI', 'Pi']})"
      ]
     },
     "execution_count": 196,
     "metadata": {},
     "output_type": "execute_result"
    }
   ],
   "source": [
    "search = CypherSearchAPIWrapper(\n",
    "    graph=graph,\n",
    "    verbose=True,\n",
    "    return_intermediate_steps=True\n",
    ")\n",
    "search"
   ]
  },
  {
   "cell_type": "code",
   "execution_count": 197,
   "id": "d398a8ef-86ff-4fdc-b706-9109a42aa541",
   "metadata": {},
   "outputs": [],
   "source": [
    "llm = ChatOpenAI(temperature=0, model=\"gpt-3.5-turbo-0613\")\n",
    "llm_math_chain = LLMMathChain.from_llm(llm=llm, verbose=True)\n",
    "def tap(func):\n",
    "    def wrap(arg):\n",
    "        print(f\"tap:{arg}\")\n",
    "        return func(arg)\n",
    "    return wrap\n",
    "    \n",
    "tools = [\n",
    "    Tool(\n",
    "        name=\"Relationship_search\",\n",
    "        func=lambda _: \"Zn2+ produces glycolate\",\n",
    "        description=\"Usefull to get information about relationship between two nodes ids\"\n",
    "    ),\n",
    "    Tool(\n",
    "        name=\"Node_finder\",\n",
    "        func=tap(search.get_related_nodes),\n",
    "        description=\"Usefull to determine node id and properties\"\n",
    "    )\n",
    "]"
   ]
  },
  {
   "cell_type": "code",
   "execution_count": 198,
   "id": "786b38d9-187b-4e7a-bd2a-e5102e23f3ba",
   "metadata": {},
   "outputs": [],
   "source": [
    "from langchain.prompts import ChatPromptTemplate, MessagesPlaceholder"
   ]
  },
  {
   "cell_type": "code",
   "execution_count": 199,
   "id": "4c55520f-e32f-4eac-a289-dafa2ab5d54f",
   "metadata": {},
   "outputs": [],
   "source": [
    "prompt = ChatPromptTemplate.from_messages(\n",
    "    [\n",
    "        (\"system\", \"You are a helpful assistant\"),\n",
    "        (\"user\", \"{input}\"),\n",
    "        MessagesPlaceholder(variable_name=\"agent_scratchpad\"),\n",
    "    ]\n",
    ")"
   ]
  },
  {
   "cell_type": "code",
   "execution_count": 200,
   "id": "f4795f4d-ff84-4c82-b349-28b17cfbeddc",
   "metadata": {},
   "outputs": [],
   "source": [
    "from langchain.tools.render import format_tool_to_openai_function"
   ]
  },
  {
   "cell_type": "code",
   "execution_count": 201,
   "id": "68c7ba9c-37fb-4c6a-80d9-079e3514a077",
   "metadata": {},
   "outputs": [],
   "source": [
    "llm_with_tools = llm.bind(functions=[format_tool_to_openai_function(t) for t in tools])"
   ]
  },
  {
   "cell_type": "code",
   "execution_count": 202,
   "id": "eec1fc6e-ef3f-43f8-83d8-f09e992c9474",
   "metadata": {},
   "outputs": [],
   "source": [
    "from langchain.agents.format_scratchpad import format_to_openai_function_messages\n",
    "from langchain.agents.output_parsers import OpenAIFunctionsAgentOutputParser"
   ]
  },
  {
   "cell_type": "code",
   "execution_count": 203,
   "id": "51ff44d4-3cc2-4967-83d8-35e7303d336a",
   "metadata": {},
   "outputs": [],
   "source": [
    "from langchain.agents import AgentExecutor"
   ]
  },
  {
   "cell_type": "code",
   "execution_count": 204,
   "id": "7c707393-46a8-47a8-a847-cbc85e00f828",
   "metadata": {},
   "outputs": [],
   "source": [
    "agent_executor = initialize_agent(\n",
    "    agent=AgentType.OPENAI_MULTI_FUNCTIONS,\n",
    "    tools=tools,\n",
    "    llm=llm,\n",
    "    verbose=True,\n",
    "    max_iterations=len(tools) + 1\n",
    ")"
   ]
  },
  {
   "cell_type": "code",
   "execution_count": 205,
   "id": "33309ca2-40f2-4827-a21f-e346f395118f",
   "metadata": {},
   "outputs": [],
   "source": [
    "# Do this so we can see exactly what's going on under the hood\n",
    "from langchain.globals import set_debug\n",
    "\n",
    "set_debug(True)"
   ]
  },
  {
   "cell_type": "code",
   "execution_count": 206,
   "id": "2b844214-0bdb-48ad-80c3-3f36705704da",
   "metadata": {},
   "outputs": [
    {
     "name": "stdout",
     "output_type": "stream",
     "text": [
      "\u001b[32;1m\u001b[1;3m[chain/start]\u001b[0m \u001b[1m[1:chain:AgentExecutor] Entering Chain run with input:\n",
      "\u001b[0m{\n",
      "  \"input\": \"What is the relationship between term zn2+ and glycolate? What properties does zn2+ have?\"\n",
      "}\n",
      "\u001b[32;1m\u001b[1;3m[llm/start]\u001b[0m \u001b[1m[1:chain:AgentExecutor > 2:llm:ChatOpenAI] Entering LLM run with input:\n",
      "\u001b[0m{\n",
      "  \"prompts\": [\n",
      "    \"System: You are a helpful AI assistant.\\nHuman: What is the relationship between term zn2+ and glycolate? What properties does zn2+ have?\"\n",
      "  ]\n",
      "}\n",
      "\u001b[36;1m\u001b[1;3m[llm/end]\u001b[0m \u001b[1m[1:chain:AgentExecutor > 2:llm:ChatOpenAI] [3.45s] Exiting LLM run with output:\n",
      "\u001b[0m{\n",
      "  \"generations\": [\n",
      "    [\n",
      "      {\n",
      "        \"text\": \"\",\n",
      "        \"generation_info\": {\n",
      "          \"finish_reason\": \"function_call\"\n",
      "        },\n",
      "        \"type\": \"ChatGeneration\",\n",
      "        \"message\": {\n",
      "          \"lc\": 1,\n",
      "          \"type\": \"constructor\",\n",
      "          \"id\": [\n",
      "            \"langchain\",\n",
      "            \"schema\",\n",
      "            \"messages\",\n",
      "            \"AIMessage\"\n",
      "          ],\n",
      "          \"kwargs\": {\n",
      "            \"content\": \"\",\n",
      "            \"additional_kwargs\": {\n",
      "              \"function_call\": {\n",
      "                \"name\": \"tool_selection\",\n",
      "                \"arguments\": \"{\\n  \\\"actions\\\": [\\n    {\\n      \\\"action_name\\\": \\\"Relationship_search\\\",\\n      \\\"action\\\": {\\n        \\\"tool_input\\\": \\\"zn2+ and glycolate\\\"\\n      }\\n    },\\n    {\\n      \\\"action_name\\\": \\\"Node_finder\\\",\\n      \\\"action\\\": {\\n        \\\"tool_input\\\": \\\"zn2+\\\"\\n      }\\n    }\\n  ]\\n}\"\n",
      "              }\n",
      "            }\n",
      "          }\n",
      "        }\n",
      "      }\n",
      "    ]\n",
      "  ],\n",
      "  \"llm_output\": {\n",
      "    \"token_usage\": {\n",
      "      \"prompt_tokens\": 122,\n",
      "      \"completion_tokens\": 79,\n",
      "      \"total_tokens\": 201\n",
      "    },\n",
      "    \"model_name\": \"gpt-3.5-turbo-0613\",\n",
      "    \"system_fingerprint\": \"\"\n",
      "  },\n",
      "  \"run\": null\n",
      "}\n",
      "\u001b[32;1m\u001b[1;3m[tool/start]\u001b[0m \u001b[1m[1:chain:AgentExecutor > 3:tool:Relationship_search] Entering Tool run with input:\n",
      "\u001b[0m\"{'tool_input': 'zn2+ and glycolate'}\"\n",
      "\u001b[36;1m\u001b[1;3m[tool/end]\u001b[0m \u001b[1m[1:chain:AgentExecutor > 3:tool:Relationship_search] [0ms] Exiting Tool run with output:\n",
      "\u001b[0m\"Zn2+ produces glycolate\"\n",
      "\u001b[32;1m\u001b[1;3m[tool/start]\u001b[0m \u001b[1m[1:chain:AgentExecutor > 4:tool:Node_finder] Entering Tool run with input:\n",
      "\u001b[0m\"{'tool_input': 'zn2+'}\"\n",
      "tap:zn2+\n",
      "\u001b[36;1m\u001b[1;3m[tool/end]\u001b[0m \u001b[1m[1:chain:AgentExecutor > 4:tool:Node_finder] [12ms] Exiting Tool run with output:\n",
      "\u001b[0m\"[]\"\n",
      "\u001b[32;1m\u001b[1;3m[llm/start]\u001b[0m \u001b[1m[1:chain:AgentExecutor > 5:llm:ChatOpenAI] Entering LLM run with input:\n",
      "\u001b[0m{\n",
      "  \"prompts\": [\n",
      "    \"System: You are a helpful AI assistant.\\nHuman: What is the relationship between term zn2+ and glycolate? What properties does zn2+ have?\\nAI: {'name': 'tool_selection', 'arguments': '{\\\\n  \\\"actions\\\": [\\\\n    {\\\\n      \\\"action_name\\\": \\\"Relationship_search\\\",\\\\n      \\\"action\\\": {\\\\n        \\\"tool_input\\\": \\\"zn2+ and glycolate\\\"\\\\n      }\\\\n    },\\\\n    {\\\\n      \\\"action_name\\\": \\\"Node_finder\\\",\\\\n      \\\"action\\\": {\\\\n        \\\"tool_input\\\": \\\"zn2+\\\"\\\\n      }\\\\n    }\\\\n  ]\\\\n}'}\\nFunction: Zn2+ produces glycolate\\nAI: {'name': 'tool_selection', 'arguments': '{\\\\n  \\\"actions\\\": [\\\\n    {\\\\n      \\\"action_name\\\": \\\"Relationship_search\\\",\\\\n      \\\"action\\\": {\\\\n        \\\"tool_input\\\": \\\"zn2+ and glycolate\\\"\\\\n      }\\\\n    },\\\\n    {\\\\n      \\\"action_name\\\": \\\"Node_finder\\\",\\\\n      \\\"action\\\": {\\\\n        \\\"tool_input\\\": \\\"zn2+\\\"\\\\n      }\\\\n    }\\\\n  ]\\\\n}'}\\nFunction: []\"\n",
      "  ]\n",
      "}\n",
      "\u001b[36;1m\u001b[1;3m[llm/end]\u001b[0m \u001b[1m[1:chain:AgentExecutor > 5:llm:ChatOpenAI] [5.73s] Exiting LLM run with output:\n",
      "\u001b[0m{\n",
      "  \"generations\": [\n",
      "    [\n",
      "      {\n",
      "        \"text\": \"The relationship between Zn2+ and glycolate is not found. \\n\\nZn2+ is the ion of zinc with a charge of +2. It is a transition metal ion and has several properties, including:\\n\\n1. Atomic number: 30\\n2. Atomic mass: 65.38 g/mol\\n3. Electron configuration: [Ar] 3d10 4s2\\n4. Oxidation state: +2\\n5. Physical state: Solid\\n6. Color: Bluish-white\\n7. Melting point: 419.53°C\\n8. Boiling point: 907°C\\n9. Density: 7.14 g/cm3\\n10. Solubility: Soluble in water and acids\\n\\nZn2+ is commonly found in various biological systems and plays important roles in enzyme catalysis, DNA synthesis, and immune function.\",\n",
      "        \"generation_info\": {\n",
      "          \"finish_reason\": \"stop\"\n",
      "        },\n",
      "        \"type\": \"ChatGeneration\",\n",
      "        \"message\": {\n",
      "          \"lc\": 1,\n",
      "          \"type\": \"constructor\",\n",
      "          \"id\": [\n",
      "            \"langchain\",\n",
      "            \"schema\",\n",
      "            \"messages\",\n",
      "            \"AIMessage\"\n",
      "          ],\n",
      "          \"kwargs\": {\n",
      "            \"content\": \"The relationship between Zn2+ and glycolate is not found. \\n\\nZn2+ is the ion of zinc with a charge of +2. It is a transition metal ion and has several properties, including:\\n\\n1. Atomic number: 30\\n2. Atomic mass: 65.38 g/mol\\n3. Electron configuration: [Ar] 3d10 4s2\\n4. Oxidation state: +2\\n5. Physical state: Solid\\n6. Color: Bluish-white\\n7. Melting point: 419.53°C\\n8. Boiling point: 907°C\\n9. Density: 7.14 g/cm3\\n10. Solubility: Soluble in water and acids\\n\\nZn2+ is commonly found in various biological systems and plays important roles in enzyme catalysis, DNA synthesis, and immune function.\",\n",
      "            \"additional_kwargs\": {}\n",
      "          }\n",
      "        }\n",
      "      }\n",
      "    ]\n",
      "  ],\n",
      "  \"llm_output\": {\n",
      "    \"token_usage\": {\n",
      "      \"prompt_tokens\": 305,\n",
      "      \"completion_tokens\": 182,\n",
      "      \"total_tokens\": 487\n",
      "    },\n",
      "    \"model_name\": \"gpt-3.5-turbo-0613\",\n",
      "    \"system_fingerprint\": \"\"\n",
      "  },\n",
      "  \"run\": null\n",
      "}\n",
      "\u001b[36;1m\u001b[1;3m[chain/end]\u001b[0m \u001b[1m[1:chain:AgentExecutor] [9.20s] Exiting Chain run with output:\n",
      "\u001b[0m{\n",
      "  \"output\": \"The relationship between Zn2+ and glycolate is not found. \\n\\nZn2+ is the ion of zinc with a charge of +2. It is a transition metal ion and has several properties, including:\\n\\n1. Atomic number: 30\\n2. Atomic mass: 65.38 g/mol\\n3. Electron configuration: [Ar] 3d10 4s2\\n4. Oxidation state: +2\\n5. Physical state: Solid\\n6. Color: Bluish-white\\n7. Melting point: 419.53°C\\n8. Boiling point: 907°C\\n9. Density: 7.14 g/cm3\\n10. Solubility: Soluble in water and acids\\n\\nZn2+ is commonly found in various biological systems and plays important roles in enzyme catalysis, DNA synthesis, and immune function.\"\n",
      "}\n"
     ]
    },
    {
     "data": {
      "text/html": [
       "<dl>\n",
       "            <dt>input</dt>\n",
       "            <dd><pre style=\"white-space: pre-wrap; display: inline;\" title=\"string\">What is the relationship between term zn2+ and glycolate? What properties does zn2+ have?</pre>&nbsp;</dd>\n",
       "            <dt>output</dt>\n",
       "            <dd><pre style=\"white-space: pre-wrap; display: inline;\" title=\"string\">The relationship between Zn2+ and glycolate is not found. \n",
       "\n",
       "Zn2+ is the ion of zinc with a charge of +2. It is a transition metal ion and has several properties, including:\n",
       "\n",
       "1. Atomic number: 30\n",
       "2. Atomic mass: 65.38 g/mol\n",
       "3. Electron configuration: [Ar] 3d10 4s2\n",
       "4. Oxidation state: +2\n",
       "5. Physical state: Solid\n",
       "6. Color: Bluish-white\n",
       "7. Melting point: 419.53°C\n",
       "8. Boiling point: 907°C\n",
       "9. Density: 7.14 g/cm3\n",
       "10. Solubility: Soluble in water and acids\n",
       "\n",
       "Zn2+ is commonly found in various biological systems and plays important roles in enzyme catalysis, DNA synthesis, and immune function.</pre>&nbsp;</dd>\n",
       "</dl>\n"
      ],
      "text/plain": [
       "{'input': 'What is the relationship between term zn2+ and glycolate? What properties does zn2+ have?',\n",
       " 'output': 'The relationship between Zn2+ and glycolate is not found. \\n\\nZn2+ is the ion of zinc with a charge of +2. It is a transition metal ion and has several properties, including:\\n\\n1. Atomic number: 30\\n2. Atomic mass: 65.38 g/mol\\n3. Electron configuration: [Ar] 3d10 4s2\\n4. Oxidation state: +2\\n5. Physical state: Solid\\n6. Color: Bluish-white\\n7. Melting point: 419.53°C\\n8. Boiling point: 907°C\\n9. Density: 7.14 g/cm3\\n10. Solubility: Soluble in water and acids\\n\\nZn2+ is commonly found in various biological systems and plays important roles in enzyme catalysis, DNA synthesis, and immune function.'}"
      ]
     },
     "execution_count": 206,
     "metadata": {},
     "output_type": "execute_result"
    }
   ],
   "source": [
    "agent_executor.invoke(\n",
    "    {\n",
    "        \"input\": \"What is the relationship between term zn2+ and glycolate? What properties does zn2+ have?\"\n",
    "    }\n",
    ")"
   ]
  },
  {
   "cell_type": "code",
   "execution_count": null,
   "id": "d6da4c83-7430-462e-a16b-5a29e165441a",
   "metadata": {},
   "outputs": [],
   "source": []
  },
  {
   "cell_type": "code",
   "execution_count": null,
   "id": "3dbbc045-70cb-40a4-9b9f-a93ca4be77b5",
   "metadata": {},
   "outputs": [],
   "source": []
  }
 ],
 "metadata": {
  "kernelspec": {
   "display_name": "Python 3 (ipykernel)",
   "language": "python",
   "name": "python3"
  },
  "language_info": {
   "codemirror_mode": {
    "name": "ipython",
    "version": 3
   },
   "file_extension": ".py",
   "mimetype": "text/x-python",
   "name": "python",
   "nbconvert_exporter": "python",
   "pygments_lexer": "ipython3",
   "version": "3.11.6"
  }
 },
 "nbformat": 4,
 "nbformat_minor": 5
}
