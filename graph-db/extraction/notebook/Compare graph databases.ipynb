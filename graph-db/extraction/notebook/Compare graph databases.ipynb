{
 "cells": [
  {
   "cell_type": "code",
   "execution_count": 1,
   "metadata": {},
   "outputs": [],
   "source": [
    "from neo4j import GraphDatabase\n",
    "import pandas as pd\n",
    "from datetime import datetime\n",
    "import csv\n"
   ]
  },
  {
   "cell_type": "code",
   "execution_count": 2,
   "metadata": {},
   "outputs": [],
   "source": [
    "driver = GraphDatabase.driver('bolt://localhost/:7687', auth=('neo4j', 'rcai'))"
   ]
  },
  {
   "cell_type": "code",
   "execution_count": 3,
   "metadata": {},
   "outputs": [],
   "source": [
    "def get_labels(dbname, dbdriver)->[]:\n",
    "    query = \"CALL db.labels()\"\n",
    "    with dbdriver.session(database=dbname) as session:\n",
    "        results = session.run(query)\n",
    "        df = pd.DataFrame(results.values())\n",
    "    labels = df[0].values.tolist()\n",
    "    labels.sort()\n",
    "    return labels\n",
    "\n",
    "def get_label_counts(dbname, dbdriver)->dict:\n",
    "    result = {\"Label\": [], \"Count\": []}\n",
    "    labels = get_labels(dbname, dbdriver)\n",
    "    with dbdriver.session(database=dbname) as session:\n",
    "        for label in labels:\n",
    "            query = f\"MATCH (:`{label}`) RETURN count(*) as count\"\n",
    "            results = session.run(query)\n",
    "            count = pd.DataFrame(results.values()).iloc[0][0]\n",
    "            result['Label'].append(label)\n",
    "            result['Count'].append(count)\n",
    "    return pd.DataFrame(data=result).sort_values(\"Label\")\n",
    "\n",
    "def compare_node_counts(dbnames:[], dbdriver)->pd.DataFrame:\n",
    "    df_combo = pd.DataFrame()\n",
    "    for dbname in dbnames:\n",
    "        df = get_label_counts(dbname, dbdriver)\n",
    "        df.set_index('Label', inplace=True)\n",
    "        df = df.rename(columns={'Count':dbname})\n",
    "        df_combo = df_combo.join(df, how='outer')\n",
    "    df_combo.reset_index(inplace=True)\n",
    "    return df_combo"
   ]
  },
  {
   "cell_type": "code",
   "execution_count": 4,
   "metadata": {},
   "outputs": [],
   "source": [
    "def get_relationship_counts(dbname, dbdriver):\n",
    "    result = {\"RelationshipType\": [], \"Count\": []}\n",
    "    with dbdriver.session(database=dbname) as session:\n",
    "        results = session.run(\"CALL db.relationshipTypes()\")\n",
    "        rels = pd.DataFrame(results.values())[0]\n",
    "        for rel in rels.values:\n",
    "            query = f\"MATCH ()-[:`{rel}`]->() RETURN count(*) as count\"\n",
    "            count = pd.DataFrame(session.run(query).values())[0][0]\n",
    "            result[\"RelationshipType\"].append(rel)\n",
    "            result[\"Count\"].append(count)\n",
    "    rels_df = pd.DataFrame(data=result).sort_values(\"Count\", ascending=False)\n",
    "    return rels_df\n",
    "\n",
    "def compare_relationship_counts(dbnames:[], dbdriver):\n",
    "    df_combo = pd.DataFrame()\n",
    "    for dbname in dbnames:\n",
    "        rels_df = get_relationship_counts(dbname, dbdriver)\n",
    "        rels_df.set_index('RelationshipType', inplace=True)\n",
    "        rels_df = rels_df.rename(columns={'Count': dbname})\n",
    "        df_combo = df_combo.join(rels_df, how='outer')\n",
    "    df_combo.reset_index(inplace=True)\n",
    "    return df_combo"
   ]
  },
  {
   "cell_type": "code",
   "execution_count": 7,
   "metadata": {},
   "outputs": [],
   "source": [
    "def compare_databases(dbnames:[], driver, outfile):\n",
    "    df1 = compare_node_counts(dbnames, driver)\n",
    "    df2 = compare_relationship_counts(dbnames, driver)\n",
    "    print('writing', outfile)\n",
    "    with pd.ExcelWriter(outfile, engine='xlsxwriter') as writer:\n",
    "        df1.to_excel(writer, sheet_name='nodes')\n",
    "        df2.to_excel(writer, sheet_name='edges')\n",
    "    "
   ]
  },
  {
   "cell_type": "code",
   "execution_count": 8,
   "metadata": {},
   "outputs": [
    {
     "name": "stdout",
     "output_type": "stream",
     "text": [
      "writing /Users/rcai/data/notebook/general/ecocyc_db_compare_062222.xlsx\n"
     ]
    }
   ],
   "source": [
    "date_tag = datetime.today().strftime('%m%d%y')\n",
    "outfile = f'/Users/rcai/data/notebook/general/ecocyc_db_compare_{date_tag}.xlsx'\n",
    "dbnames = [\n",
    "    'ecocyc', 'ecotest',\n",
    "    'ecocyc-gds-nocollapse', 'ecotest-no-collapse',\n",
    "    'ecocyc-reg-collapse', 'ecotest-reg-collapse',\n",
    "    'ecocyc-25.5-gds', 'ecotest-gds'\n",
    "]\n",
    "compare_databases(dbnames, driver, outfile)"
   ]
  },
  {
   "cell_type": "code",
   "execution_count": null,
   "metadata": {},
   "outputs": [],
   "source": []
  }
 ],
 "metadata": {
  "kernelspec": {
   "display_name": "Python 3",
   "language": "python",
   "name": "python3"
  },
  "language_info": {
   "codemirror_mode": {
    "name": "ipython",
    "version": 3
   },
   "file_extension": ".py",
   "mimetype": "text/x-python",
   "name": "python",
   "nbconvert_exporter": "python",
   "pygments_lexer": "ipython3",
   "version": "3.8.5"
  }
 },
 "nbformat": 4,
 "nbformat_minor": 2
}
